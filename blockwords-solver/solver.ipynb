{
 "cells": [
  {
   "cell_type": "code",
   "execution_count": 3,
   "metadata": {},
   "outputs": [],
   "source": [
    "import math\n",
    "from itertools import permutations, combinations\n",
    "import enchant"
   ]
  },
  {
   "cell_type": "code",
   "execution_count": 105,
   "metadata": {},
   "outputs": [],
   "source": [
    "letters = ['b', 'e', 'n', 'd',\n",
    "           'm', 'o', 'r', 'e',\n",
    "           'g', 'r', 'a', 'y',\n",
    "           't', 'i', 'p', 's']\n",
    "\n",
    "# letters = ['b', 'o', 'w', 'y',\n",
    "#            'e', 's', 'c', 'a',\n",
    "#            'r']"
   ]
  },
  {
   "cell_type": "code",
   "execution_count": null,
   "metadata": {},
   "outputs": [
    {
     "name": "stdout",
     "output_type": "stream",
     "text": [
      "Number of verified words is 657\n",
      "Verifying 7692668460.0 number of combinations. This may take some time...\n"
     ]
    }
   ],
   "source": [
    "webster = enchant.Dict(\"en_US\")\n",
    "\n",
    "def combination_calculator(n, r): \n",
    "    # Number of combinations : n! / (r! * (n-r)!)\n",
    "    numerator = math.factorial(n) \n",
    "    denominator = math.factorial(r) * math.factorial(n-r)\n",
    "    num_combinations = numerator / denominator \n",
    "    return num_combinations\n",
    "\n",
    "def word_builder(letters):\n",
    "    \"\"\" Permute all letters and identify whether which are words or not using a PyEnchant\"\"\"\n",
    "    num_letters = len(letters)\n",
    "    letter_sqrt = math.sqrt(num_letters)\n",
    "    if not letter_sqrt.is_integer() or letter_sqrt < 2:\n",
    "        error('number of letters must be square and greater than 1.')\n",
    "    else:\n",
    "        permutation_list = list(permutations(letters, int(letter_sqrt)))\n",
    "        permutation_list = [''.join(word) for word in permutation_list]\n",
    "        \n",
    "        word_or_not = list(map(webster.check, permutation_list))\n",
    "        \n",
    "        word_list = [word for word, verify in zip(permutation_list, word_or_not)\n",
    "                     if verify == True]\n",
    "        word_list = list(set(word_list))\n",
    "        \n",
    "        print('Number of verified words is ' + str(len(word_list)))\n",
    "        return word_list\n",
    "\n",
    "def verify_combinations(word_list, letters):\n",
    "    \"\"\"Check that word combinations use the letters inputted\"\"\"\n",
    "    word_combos = combinations(word_list, len(word_list[0]))\n",
    "    \n",
    "    num_combinations = combination_calculator(len(word_list), len(word_list[0]))\n",
    "    print('Verifying ' + str(num_combinations) + ' number of combinations. This may take some time...')\n",
    "    \n",
    "    verified_combos = []\n",
    "    for combo in word_combos:\n",
    "        blocks = ''.join(combo)\n",
    "        if sorted(blocks) == sorted(''.join(letters)):\n",
    "            verified_combos.append(combo)\n",
    "        \n",
    "    print('Number of possible ' + str(len(word_list[0])) + ' word combinations is ' + str(len(verified)))\n",
    "    return verified_combos\n",
    "\n",
    "def verify_vertical_solution(word_combo):\n",
    "    \"\"\" Helper function to verify that the vertically generated words are indeed words.\"\"\"\n",
    "    vertical_words = []\n",
    "    for n in range(0, len(word_combo)):\n",
    "        vertical_words.append(''.join(word[n] for word in word_combo))\n",
    "    is_solution = all(list(map(webster.check, v_words)))\n",
    "    if is_solution:\n",
    "        return True\n",
    "    else:\n",
    "        return False\n",
    "\n",
    "def verify_solution(combo_list):\n",
    "    \"\"\" Loop through permutations of each combination and verify the vertical solutions of each\"\"\"\n",
    "    for combo in combo_list:\n",
    "        combo_perms = permutations(combo)\n",
    "        is_solution = list(map(verify_vertical_solution,combo_perms))\n",
    "        if any(is_solution):\n",
    "            solution = [combo for combo,verify in zip(combo_perms, is_solution) if verify == True]\n",
    "            print('yay')\n",
    "            return solution\n",
    "    print('no solution')\n",
    "            \n",
    "            \n",
    "    \n",
    "word_list = word_builder(letters)\n",
    "combo_list = verify_combinations(word_list, letters)\n",
    "cp,c = verify_solution(combo_list)"
   ]
  },
  {
   "cell_type": "code",
   "execution_count": 104,
   "metadata": {},
   "outputs": [
    {
     "data": {
      "text/plain": [
       "4"
      ]
     },
     "execution_count": 104,
     "metadata": {},
     "output_type": "execute_result"
    }
   ],
   "source": [
    "len(word_list[0])"
   ]
  },
  {
   "cell_type": "code",
   "execution_count": 77,
   "metadata": {},
   "outputs": [
    {
     "data": {
      "text/plain": [
       "[False,\n",
       " False,\n",
       " False,\n",
       " False,\n",
       " False,\n",
       " False,\n",
       " False,\n",
       " False,\n",
       " False,\n",
       " False,\n",
       " False,\n",
       " False,\n",
       " False,\n",
       " False,\n",
       " False,\n",
       " False,\n",
       " False,\n",
       " False,\n",
       " False,\n",
       " False,\n",
       " False,\n",
       " False,\n",
       " False,\n",
       " False,\n",
       " False,\n",
       " False]"
      ]
     },
     "execution_count": 77,
     "metadata": {},
     "output_type": "execute_result"
    }
   ],
   "source": [
    "list(map(verify_vertical_solution,combo_list))"
   ]
  },
  {
   "cell_type": "code",
   "execution_count": 72,
   "metadata": {},
   "outputs": [
    {
     "data": {
      "text/plain": [
       "False"
      ]
     },
     "execution_count": 72,
     "metadata": {},
     "output_type": "execute_result"
    }
   ],
   "source": [
    "v_words = verify_solution(tmp)\n",
    "\n",
    "all(list(map(webster.check, v_words)))\n"
   ]
  },
  {
   "cell_type": "code",
   "execution_count": 63,
   "metadata": {},
   "outputs": [
    {
     "name": "stdout",
     "output_type": "stream",
     "text": [
      "abm\n",
      "naa\n",
      "ddc\n"
     ]
    }
   ],
   "source": [
    "tmp = combo_list[0]\n",
    "for k in range(0,len(word_list[0])):\n",
    "    print(''.join([word[k] for word in tmp]))"
   ]
  },
  {
   "cell_type": "code",
   "execution_count": 35,
   "metadata": {},
   "outputs": [
    {
     "data": {
      "text/plain": [
       "26"
      ]
     },
     "execution_count": 35,
     "metadata": {},
     "output_type": "execute_result"
    }
   ],
   "source": [
    "word_combos = combinations(word_list, len(word_list[0]))\n",
    "verified = []\n",
    "for combo in word_combos:\n",
    "    blocks = ''.join(combo)\n",
    "    if sorted(blocks) == sorted(''.join(letters)):\n",
    "        verified.append(combo)\n",
    "\n",
    "len(verified)"
   ]
  },
  {
   "cell_type": "code",
   "execution_count": 27,
   "metadata": {},
   "outputs": [
    {
     "data": {
      "text/plain": [
       "[('and', 'bad', 'mac'),\n",
       " ('and', 'bad', 'cam'),\n",
       " ('and', 'mad', 'cab'),\n",
       " ('and', 'dab', 'mac'),\n",
       " ('and', 'dab', 'cam'),\n",
       " ('and', 'dam', 'cab'),\n",
       " ('ban', 'add', 'mac'),\n",
       " ('ban', 'add', 'cam'),\n",
       " ('ban', 'dad', 'mac'),\n",
       " ('ban', 'dad', 'cam'),\n",
       " ('ban', 'mad', 'cad'),\n",
       " ('ban', 'cad', 'dam'),\n",
       " ('add', 'man', 'cab'),\n",
       " ('add', 'mac', 'nab'),\n",
       " ('add', 'nab', 'cam'),\n",
       " ('man', 'bad', 'cad'),\n",
       " ('man', 'dad', 'cab'),\n",
       " ('man', 'cad', 'dab'),\n",
       " ('bad', 'mad', 'can'),\n",
       " ('bad', 'dam', 'can'),\n",
       " ('dad', 'mac', 'nab'),\n",
       " ('dad', 'nab', 'cam'),\n",
       " ('mad', 'cad', 'nab'),\n",
       " ('mad', 'dab', 'can'),\n",
       " ('cad', 'nab', 'dam'),\n",
       " ('dab', 'dam', 'can')]"
      ]
     },
     "execution_count": 27,
     "metadata": {},
     "output_type": "execute_result"
    }
   ],
   "source": [
    "verified"
   ]
  },
  {
   "cell_type": "code",
   "execution_count": null,
   "metadata": {},
   "outputs": [],
   "source": []
  }
 ],
 "metadata": {
  "kernelspec": {
   "display_name": "Python 3",
   "language": "python",
   "name": "python3"
  },
  "language_info": {
   "codemirror_mode": {
    "name": "ipython",
    "version": 3
   },
   "file_extension": ".py",
   "mimetype": "text/x-python",
   "name": "python",
   "nbconvert_exporter": "python",
   "pygments_lexer": "ipython3",
   "version": "3.7.6"
  }
 },
 "nbformat": 4,
 "nbformat_minor": 4
}
