{
 "cells": [
  {
   "cell_type": "code",
   "execution_count": 3,
   "metadata": {},
   "outputs": [],
   "source": [
    "import math\n",
    "from itertools import permutations, combinations\n",
    "import enchant"
   ]
  },
  {
   "cell_type": "code",
   "execution_count": 13,
   "metadata": {},
   "outputs": [],
   "source": [
    "# letters = ['a', 'b', 'c', 'd',\n",
    "#            'e', 'g', 'e', 'a',\n",
    "#            'k', 'f', 'c', 'y',\n",
    "#            't', 's', 't', 'k']\n",
    "\n",
    "letters = ['m', 'a', 'n', 'd',\n",
    "           'a', 'd', 'c', 'a',\n",
    "           'b']"
   ]
  },
  {
   "cell_type": "code",
   "execution_count": 55,
   "metadata": {},
   "outputs": [
    {
     "ename": "SyntaxError",
     "evalue": "invalid syntax (<ipython-input-55-c2e19bc063df>, line 45)",
     "output_type": "error",
     "traceback": [
      "\u001b[0;36m  File \u001b[0;32m\"<ipython-input-55-c2e19bc063df>\"\u001b[0;36m, line \u001b[0;32m45\u001b[0m\n\u001b[0;31m    words =\u001b[0m\n\u001b[0m            ^\u001b[0m\n\u001b[0;31mSyntaxError\u001b[0m\u001b[0;31m:\u001b[0m invalid syntax\n"
     ]
    }
   ],
   "source": [
    "webster = enchant.Dict(\"en_US\")\n",
    "\n",
    "def combination_calculator(n, r): \n",
    "    # Number of combinations : n! / (r! * (n-r)!)\n",
    "    numerator = math.factorial(n) \n",
    "    denominator = math.factorial(r) * math.factorial(n-r)\n",
    "    num_combinations = numerator / denominator \n",
    "    return num_combinations\n",
    "\n",
    "def word_builder(letters):\n",
    "    num_letters = len(letters)\n",
    "    letter_sqrt = math.sqrt(num_letters)\n",
    "    if not letter_sqrt.is_integer() or letter_sqrt < 2:\n",
    "        error('number of letters must be square and greater than 1.')\n",
    "    else:\n",
    "        permutation_list = list(permutations(letters, int(letter_sqrt)))\n",
    "        permutation_list = [''.join(word) for word in permutation_list]\n",
    "        \n",
    "        word_or_not = list(map(webster.check, permutation_list))\n",
    "        \n",
    "        word_list = [word for word, verify in zip(permutation_list, word_or_not)\n",
    "                     if verify == True]\n",
    "        word_list = list(set(word_list))\n",
    "        \n",
    "        print('Number of verified words is ' + str(len(word_list)))\n",
    "        return word_list\n",
    "\n",
    "    \n",
    "def verify_combinations(word_list, letters):\n",
    "    word_combos = combinations(word_list, len(word_list[0]))\n",
    "    verified_combos = []\n",
    "    for combo in word_combos:\n",
    "        blocks = ''.join(combo)\n",
    "        if sorted(blocks) == sorted(''.join(letters)):\n",
    "            verified_combos.append(combo)\n",
    "        \n",
    "    print('Number of possible ' + str(len(word_list[0])) + ' word combinations is ' + str(len(verified)))\n",
    "    return verified_combos\n",
    "\n",
    "def verify_solution(combo_list, word_list):\n",
    "    word_length = len(word_list[0])\n",
    "    for combo in combo_list:\n",
    "        combo_perms = permutations(combo)\n",
    "        for perms in combo_perms:\n",
    "            \n",
    "    \n",
    "\n",
    "word_list = word_builder(letters)\n",
    "combo_list = verify_combinations(word_list, letters)"
   ]
  },
  {
   "cell_type": "code",
   "execution_count": 54,
   "metadata": {},
   "outputs": [
    {
     "data": {
      "text/plain": [
       "'abm'"
      ]
     },
     "execution_count": 54,
     "metadata": {},
     "output_type": "execute_result"
    }
   ],
   "source": [
    "tmp = combo_list[0]\n",
    "''.join([word[0] for word in tmp])"
   ]
  },
  {
   "cell_type": "code",
   "execution_count": 35,
   "metadata": {},
   "outputs": [
    {
     "data": {
      "text/plain": [
       "26"
      ]
     },
     "execution_count": 35,
     "metadata": {},
     "output_type": "execute_result"
    }
   ],
   "source": [
    "word_combos = combinations(word_list, len(word_list[0]))\n",
    "verified = []\n",
    "for combo in word_combos:\n",
    "    blocks = ''.join(combo)\n",
    "    if sorted(blocks) == sorted(''.join(letters)):\n",
    "        verified.append(combo)\n",
    "\n",
    "len(verified)"
   ]
  },
  {
   "cell_type": "code",
   "execution_count": 27,
   "metadata": {},
   "outputs": [
    {
     "data": {
      "text/plain": [
       "[('and', 'bad', 'mac'),\n",
       " ('and', 'bad', 'cam'),\n",
       " ('and', 'mad', 'cab'),\n",
       " ('and', 'dab', 'mac'),\n",
       " ('and', 'dab', 'cam'),\n",
       " ('and', 'dam', 'cab'),\n",
       " ('ban', 'add', 'mac'),\n",
       " ('ban', 'add', 'cam'),\n",
       " ('ban', 'dad', 'mac'),\n",
       " ('ban', 'dad', 'cam'),\n",
       " ('ban', 'mad', 'cad'),\n",
       " ('ban', 'cad', 'dam'),\n",
       " ('add', 'man', 'cab'),\n",
       " ('add', 'mac', 'nab'),\n",
       " ('add', 'nab', 'cam'),\n",
       " ('man', 'bad', 'cad'),\n",
       " ('man', 'dad', 'cab'),\n",
       " ('man', 'cad', 'dab'),\n",
       " ('bad', 'mad', 'can'),\n",
       " ('bad', 'dam', 'can'),\n",
       " ('dad', 'mac', 'nab'),\n",
       " ('dad', 'nab', 'cam'),\n",
       " ('mad', 'cad', 'nab'),\n",
       " ('mad', 'dab', 'can'),\n",
       " ('cad', 'nab', 'dam'),\n",
       " ('dab', 'dam', 'can')]"
      ]
     },
     "execution_count": 27,
     "metadata": {},
     "output_type": "execute_result"
    }
   ],
   "source": [
    "verified"
   ]
  },
  {
   "cell_type": "code",
   "execution_count": null,
   "metadata": {},
   "outputs": [],
   "source": []
  }
 ],
 "metadata": {
  "kernelspec": {
   "display_name": "Python 3",
   "language": "python",
   "name": "python3"
  },
  "language_info": {
   "codemirror_mode": {
    "name": "ipython",
    "version": 3
   },
   "file_extension": ".py",
   "mimetype": "text/x-python",
   "name": "python",
   "nbconvert_exporter": "python",
   "pygments_lexer": "ipython3",
   "version": "3.7.6"
  }
 },
 "nbformat": 4,
 "nbformat_minor": 4
}
