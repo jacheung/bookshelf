{
 "cells": [
  {
   "cell_type": "code",
   "execution_count": 1,
   "metadata": {},
   "outputs": [],
   "source": [
    "import math\n",
    "from itertools import permutations, combinations\n",
    "import enchant\n",
    "import time"
   ]
  },
  {
   "cell_type": "markdown",
   "metadata": {},
   "source": [
    "# backtracking \n",
    "\n",
    "def word_builder(letters):\n",
    "1. build corpus of words. \n",
    "\n",
    "2. start with a random word\n",
    "\n",
    "3. add a word under it \n",
    "\n",
    "def verify_letter_requirements(words, letters):\n",
    "4. verify that word fits letter requirements \n",
    "- if no, try next word\n",
    "\n",
    "def verify_vertical_fittings:?\n",
    "5. see if verticals have possibility to generate words\n",
    "- if no, try next word \n",
    "\n",
    "6. if yes, repeat 3. \n"
   ]
  },
  {
   "cell_type": "code",
   "execution_count": 2,
   "metadata": {},
   "outputs": [],
   "source": [
    "letters = ['s', 'p', 'u', 'r',\n",
    "           'w', 'i', 'p', 'e',\n",
    "           'a', 'l', 'o', 'e',\n",
    "           'b', 'e', 'n', 'd']"
   ]
  },
  {
   "cell_type": "code",
   "execution_count": 54,
   "metadata": {},
   "outputs": [],
   "source": [
    "webster = enchant.Dict(\"en_US\")\n",
    "\n",
    "def word_builder(letters):\n",
    "    \"\"\" Permute all letters and identify whether which are words or not using a PyEnchant\"\"\"\n",
    "    num_letters = len(letters)\n",
    "    letter_sqrt = math.sqrt(num_letters)\n",
    "    if not letter_sqrt.is_integer() or letter_sqrt < 2:\n",
    "        error('number of letters must be square and greater than 1.')\n",
    "    else:\n",
    "        permutation_list = list(permutations(letters, int(letter_sqrt)))\n",
    "        permutation_list = [''.join(word) for word in permutation_list]\n",
    "        \n",
    "        word_or_not = list(map(webster.check, permutation_list))\n",
    "        \n",
    "        word_list = [word for word, verify in zip(permutation_list, word_or_not)\n",
    "                     if verify == True]\n",
    "        word_list = list(set(word_list))\n",
    "        \n",
    "        print('Number of verified words is ' + str(len(word_list)))\n",
    "        return word_list\n",
    "\n",
    "def word_trie(word_list):\n",
    "    root = dict()\n",
    "    for word in word_list:\n",
    "        level = root\n",
    "        for letter in word:\n",
    "            if letter not in level:\n",
    "                level[letter] = dict()\n",
    "            level = level[letter]\n",
    "    return root\n",
    "\n",
    "def traverse_trie(trie,letters):\n",
    "    try: \n",
    "        trie_step = trie[letters[0]]\n",
    "        if len(letters) == 1:\n",
    "            return True\n",
    "        return traverse_trie(trie_step, letters[1:])\n",
    "    except KeyError:\n",
    "        return False\n",
    "    \n",
    "def verify_letter_requirement(words, letters):\n",
    "    if ''.join(words) in ''.join(letters):\n",
    "        return True\n",
    "\n",
    "def verify_vertical_possibilities(word_combo):\n",
    "    for n in range(0, len(word_combo)):\n",
    "        word = ''.join(word[n] for word in word_combo)\n",
    "        chars = [char for char in word] \n",
    "        print(traverse_trie(trie, chars))"
   ]
  },
  {
   "cell_type": "code",
   "execution_count": 61,
   "metadata": {},
   "outputs": [
    {
     "name": "stdout",
     "output_type": "stream",
     "text": [
      "True\n",
      "True\n"
     ]
    }
   ],
   "source": [
    "word_combo = ['spur','wipe']\n",
    "def verify_vertical_possibilities(word_combo):\n",
    "    for n in range(0, len(word_combo)):\n",
    "        word = ''.join(word[n] for word in word_combo)\n",
    "        chars = [char for char in word] \n",
    "        print(traverse_trie(trie, chars))\n",
    "        \n",
    "verify_vertical_possibilities(word_combo)\n",
    "# is_solution = all(list(map(webster.check, vertical_words)))\n",
    "# if is_solution:\n",
    "#     return True"
   ]
  },
  {
   "cell_type": "code",
   "execution_count": 21,
   "metadata": {},
   "outputs": [
    {
     "name": "stdout",
     "output_type": "stream",
     "text": [
      "Number of verified words is 508\n"
     ]
    }
   ],
   "source": [
    "word_list = word_builder(letters)\n",
    "trie = word_trie(word_list)"
   ]
  },
  {
   "cell_type": "code",
   "execution_count": 31,
   "metadata": {},
   "outputs": [
    {
     "name": "stdout",
     "output_type": "stream",
     "text": [
      "['s', 'w']\n",
      "['w']\n",
      "yay\n"
     ]
    }
   ],
   "source": [
    "traverse_trie(trie,['s','w'])"
   ]
  },
  {
   "cell_type": "code",
   "execution_count": 26,
   "metadata": {},
   "outputs": [
    {
     "data": {
      "text/plain": [
       "{'a': {'n': {}, 'p': {}, 'b': {}}}"
      ]
     },
     "execution_count": 26,
     "metadata": {},
     "output_type": "execute_result"
    }
   ],
   "source": [
    "trie['s']['w']"
   ]
  },
  {
   "cell_type": "code",
   "execution_count": null,
   "metadata": {},
   "outputs": [],
   "source": []
  }
 ],
 "metadata": {
  "kernelspec": {
   "display_name": "Python 3",
   "language": "python",
   "name": "python3"
  },
  "language_info": {
   "codemirror_mode": {
    "name": "ipython",
    "version": 3
   },
   "file_extension": ".py",
   "mimetype": "text/x-python",
   "name": "python",
   "nbconvert_exporter": "python",
   "pygments_lexer": "ipython3",
   "version": "3.7.6"
  }
 },
 "nbformat": 4,
 "nbformat_minor": 4
}
