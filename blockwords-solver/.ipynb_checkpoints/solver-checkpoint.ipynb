{
 "cells": [
  {
   "cell_type": "code",
   "execution_count": null,
   "metadata": {},
   "outputs": [],
   "source": [
    "import math\n",
    "from itertools import permutations, combinations\n",
    "import enchant\n",
    "import time"
   ]
  },
  {
   "cell_type": "code",
   "execution_count": 73,
   "metadata": {},
   "outputs": [],
   "source": [
    "letters = ['b', 'e', 'n', 'd',\n",
    "           'm', 'o', 'r', 'e',\n",
    "           'g', 'r', 'a', 'y',\n",
    "           't', 'i', 'p', 's']\n",
    "\n",
    "# letters = ['b', 'a', 'a', \n",
    "#              'y', 's', 'e',\n",
    "#             'r', 'g','s']\n"
   ]
  },
  {
   "cell_type": "code",
   "execution_count": 102,
   "metadata": {},
   "outputs": [],
   "source": [
    "webster = enchant.Dict(\"en_US\")\n",
    "\n",
    "def combination_calculator(n, r): \n",
    "    # Number of combinations : n! / (r! * (n-r)!)\n",
    "    numerator = math.factorial(n) \n",
    "    denominator = math.factorial(r) * math.factorial(n-r)\n",
    "    num_combinations = numerator / denominator \n",
    "    return num_combinations\n",
    "\n",
    "def word_builder(letters):\n",
    "    \"\"\" Permute all letters and identify whether which are words or not using a PyEnchant\"\"\"\n",
    "    num_letters = len(letters)\n",
    "    letter_sqrt = math.sqrt(num_letters)\n",
    "    if not letter_sqrt.is_integer() or letter_sqrt < 2:\n",
    "        error('number of letters must be square and greater than 1.')\n",
    "    else:\n",
    "        permutation_list = list(permutations(letters, int(letter_sqrt)))\n",
    "        permutation_list = [''.join(word) for word in permutation_list]\n",
    "        \n",
    "        word_or_not = list(map(webster.check, permutation_list))\n",
    "        \n",
    "        word_list = [word for word, verify in zip(permutation_list, word_or_not)\n",
    "                     if verify == True]\n",
    "        word_list = list(set(word_list))\n",
    "        \n",
    "        print('Number of verified words is ' + str(len(word_list)))\n",
    "        return word_list\n",
    "\n",
    "def verify_combinations(word_list, letters):\n",
    "    \"\"\"Check that word combinations uses the letters inputted\"\"\"\n",
    "    word_combos = combinations(word_list, len(word_list[0]))\n",
    "    \n",
    "    num_combinations = combination_calculator(len(word_list), len(word_list[0]))\n",
    "    print('Verifying ' + str(num_combinations) + ' number of combinations. This may take some time...')\n",
    "    \n",
    "    verified_combos = []\n",
    "    current = 0\n",
    "    for idx, combo in enumerate(word_combos):\n",
    "        if len(verified_combos) > current and len(verified_combos) % 10 == 0 :\n",
    "            print('Found ' + str(len(verified_combos)) + ' out of ' + str(idx+1) + ' searches.') \n",
    "        current = len(verified_combos) \n",
    "        if len(verified_combos) == 1000:\n",
    "            print('exiting verified combos since 1000 combo limit reached')\n",
    "            break\n",
    "        if permutation_hash(combo,letters):\n",
    "            verified_combos.append(combo)\n",
    "#         blocks = ''.join(combo)\n",
    "#         if sorted(blocks) == sorted(''.join(letters)):\n",
    "#             verified_combos.append(combo)\n",
    "        \n",
    "    print('Number of possible ' + str(len(word_list[0])) + ' word combinations is ' + str(len(verified_combos)))\n",
    "    return verified_combos\n",
    "\n",
    "def verify_vertical_solution(word_combo):\n",
    "    \"\"\" Helper function to verify that the vertically generated words are indeed words.\"\"\"\n",
    "    vertical_words = []\n",
    "    for n in range(0, len(word_combo)):\n",
    "        vertical_words.append(''.join(word[n] for word in word_combo))\n",
    "    is_solution = all(list(map(webster.check, vertical_words)))\n",
    "    if is_solution:\n",
    "        return True\n",
    "    else:\n",
    "        return False\n",
    "\n",
    "def verify_solution(combo_list):\n",
    "    \"\"\" Loop through permutations of each combination and verify the vertical solutions of each\"\"\"\n",
    "    for combo in combo_list:\n",
    "        combo_perms = permutations(combo)\n",
    "        is_solution = list(map(verify_vertical_solution,combo_perms))\n",
    "        if any(is_solution):\n",
    "            solution = [combo for combo,verify in zip(combo_perms, is_solution) if verify == True]\n",
    "            print('yay')\n",
    "            return solution\n",
    "    print('no solution')\n"
   ]
  },
  {
   "cell_type": "code",
   "execution_count": 93,
   "metadata": {},
   "outputs": [],
   "source": [
    "# Python3 program to find one \n",
    "# array is permutation of other array\n",
    "from collections import defaultdict\n",
    " \n",
    "# Returns true if arr1[] and \n",
    "# arr2[] are permutations of \n",
    "# each other\n",
    "def permutation_hash(arr1, arr2):\n",
    "    arr1 = \"\".join(arr1)\n",
    "    arr2 = ''.join(arr2)\n",
    "    # Arrays cannot be permutations of one another\n",
    "    # unless they are of the same length\n",
    "    if (len(arr1) != len(arr2)):\n",
    "        return False\n",
    "       \n",
    "    # Creates an empty hashMap hM\n",
    "    hM = defaultdict (int)\n",
    " \n",
    "    # Traverse through the first \n",
    "    # array and add elements to \n",
    "    # hash map\n",
    "    for i in range (len(arr1)):\n",
    "         \n",
    "        x = arr1[i]\n",
    "        hM[x] += 1\n",
    "         \n",
    "    # Traverse through second array \n",
    "    # and check if every element is\n",
    "    # present in hash map\n",
    "    for i in range (len(arr2)):\n",
    "        x = arr2[i]\n",
    " \n",
    "        # If element is not present \n",
    "        # in hash map or element\n",
    "        # is not present less number \n",
    "        # of times\n",
    "        if x not in hM or hM[x] == 0:\n",
    "             return False\n",
    " \n",
    "        hM[x] -= 1\n",
    "        \n",
    "    return True"
   ]
  },
  {
   "cell_type": "code",
   "execution_count": 94,
   "metadata": {},
   "outputs": [
    {
     "name": "stdout",
     "output_type": "stream",
     "text": [
      "Number of verified words is 657\n",
      "0.8327889442443848\n"
     ]
    }
   ],
   "source": [
    "start = time.time()\n",
    "word_list = word_builder(letters)\n",
    "print(time.time() - start)\n"
   ]
  },
  {
   "cell_type": "code",
   "execution_count": null,
   "metadata": {},
   "outputs": [
    {
     "name": "stdout",
     "output_type": "stream",
     "text": [
      "Verifying 7692668460.0 number of combinations. This may take some time...\n",
      "Found 10 out of 5098487 searches.\n",
      "Found 20 out of 8076661 searches.\n",
      "Found 30 out of 8559894 searches.\n"
     ]
    }
   ],
   "source": [
    "start = time.time()\n",
    "combo_list = verify_combinations(word_list, letters)\n",
    "print(time.time() - start)"
   ]
  },
  {
   "cell_type": "code",
   "execution_count": 91,
   "metadata": {},
   "outputs": [
    {
     "name": "stdout",
     "output_type": "stream",
     "text": [
      "no solution\n",
      "0.21236205101013184\n"
     ]
    }
   ],
   "source": [
    "start = time.time()\n",
    "solution = verify_solution(combo_list)\n",
    "print(time.time() - start)"
   ]
  },
  {
   "cell_type": "code",
   "execution_count": null,
   "metadata": {},
   "outputs": [],
   "source": [
    "# "
   ]
  }
 ],
 "metadata": {
  "kernelspec": {
   "display_name": "Python 3",
   "language": "python",
   "name": "python3"
  }
 },
 "nbformat": 4,
 "nbformat_minor": 4
}
