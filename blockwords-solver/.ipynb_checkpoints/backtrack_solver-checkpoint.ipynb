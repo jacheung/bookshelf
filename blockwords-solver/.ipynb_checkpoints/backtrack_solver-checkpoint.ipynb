{
 "cells": [
  {
   "cell_type": "code",
   "execution_count": 1,
   "metadata": {},
   "outputs": [],
   "source": [
    "import math\n",
    "from itertools import permutations, combinations\n",
    "import enchant\n",
    "import time\n",
    "import random"
   ]
  },
  {
   "cell_type": "markdown",
   "metadata": {},
   "source": [
    "# backtracking \n",
    "\n",
    "def word_builder(letters):\n",
    "1. build corpus of words. \n",
    "\n",
    "2. start with a random word\n",
    "\n",
    "3. add a word under it \n",
    "\n",
    "def verify_letter_requirements(words, letters):\n",
    "4. verify that word fits letter requirements \n",
    "- if no, try next word\n",
    "\n",
    "def verify_vertical_fittings:?\n",
    "5. see if verticals have possibility to generate words\n",
    "- if no, try next word \n",
    "\n",
    "6. if yes, repeat 3. \n"
   ]
  },
  {
   "cell_type": "code",
   "execution_count": 159,
   "metadata": {},
   "outputs": [],
   "source": [
    "webster = enchant.Dict(\"en_US\")\n",
    "\n",
    "def word_builder(letters):\n",
    "    \"\"\" Permute all letters and identify whether which are words or not using a PyEnchant\"\"\"\n",
    "    num_letters = len(letters)\n",
    "    letter_sqrt = math.sqrt(num_letters)\n",
    "    if not letter_sqrt.is_integer() or letter_sqrt < 2:\n",
    "        error('number of letters must be square and greater than 1.')\n",
    "    else:\n",
    "        permutation_list = list(permutations(letters, int(letter_sqrt)))\n",
    "        permutation_list = [''.join(word) for word in permutation_list]\n",
    "        \n",
    "        word_or_not = list(map(webster.check, permutation_list))\n",
    "        \n",
    "        word_list = [word for word, verify in zip(permutation_list, word_or_not)\n",
    "                     if verify == True]\n",
    "        word_list = list(set(word_list))\n",
    "        \n",
    "        print('Number of verified words is ' + str(len(word_list)))\n",
    "        return word_list\n",
    "\n",
    "def word_trie(word_list):\n",
    "    \"\"\" Build word trie for fast traversal of word combinations given letters\"\"\"\n",
    "    root = dict()\n",
    "    for word in word_list:\n",
    "        level = root\n",
    "        for letter in word:\n",
    "            if letter not in level:\n",
    "                level[letter] = dict()\n",
    "            level = level[letter]\n",
    "    return root\n",
    "\n",
    "def traverse_trie(trie,letters):\n",
    "    \"\"\" Traverse trie to identify whether given letters can build a word\"\"\"\n",
    "    try: \n",
    "        trie_step = trie[letters[0]]\n",
    "        if len(letters) == 1:\n",
    "            return True\n",
    "        return traverse_trie(trie_step, letters[1:])\n",
    "    except KeyError:\n",
    "        return False\n",
    "    \n",
    "def verify_letter_requirement(all_chars, letters):\n",
    "    \"\"\" Verifies that letters within word list are within the original letter list\"\"\"\n",
    "    if all_chars[0] in letters:\n",
    "        if len(all_chars) == 1:\n",
    "            return True\n",
    "        letters = letters.replace(all_chars[0], '', 1)\n",
    "        return verify_letter_requirement(all_chars[1:], letters)\n",
    "    else:\n",
    "        return False\n",
    "\n",
    "def verify_vertical_possibilities(word_combo):\n",
    "    \"\"\" Verifies that veritical fittings of words via trie traversal.\"\"\"\n",
    "    for n in range(0, len(word_combo)):\n",
    "        word = ''.join(word[n] for word in word_combo)\n",
    "        chars = [char for char in word] \n",
    "        if not traverse_trie(trie, chars):\n",
    "            return False\n",
    "    return True\n",
    "\n",
    "def backtrack_solution(board, word_list):\n",
    "    \"\"\" Backtracking solution. Each word is added if requirements for vertical verification and letter requirements\n",
    "    are met. If it's met, a word is added to the board. If no solution is found on that path, the new board word is\n",
    "    not added (i.e. backtrack)\"\"\"\n",
    "    for word in word_list: \n",
    "        new_board = board + [str(word)]\n",
    "        board_letters = ''.join(new_board)\n",
    "        valid_letters = ''.join(letters)\n",
    "        if verify_letter_requirement(board_letters, valid_letters) and verify_vertical_possibilities(new_board):\n",
    "            if len(new_board) == 4:\n",
    "                print('solution found!')\n",
    "                print(new_board)\n",
    "            if (backtrack_solution(new_board, word_list)):\n",
    "                return True\n"
   ]
  },
  {
   "cell_type": "code",
   "execution_count": 162,
   "metadata": {},
   "outputs": [],
   "source": [
    "# working\n",
    "letters = [char for char in 'spurwipealoebend']\n",
    "# letters = [char for char in 'sumoknowidolpods']"
   ]
  },
  {
   "cell_type": "code",
   "execution_count": 157,
   "metadata": {},
   "outputs": [
    {
     "name": "stdout",
     "output_type": "stream",
     "text": [
      "['n', 'o', 't', 'a', 's', 's', 'o', 's', 'o', 's', 'n', 'r', 's', 'l', 'a', 'o']\n"
     ]
    }
   ],
   "source": [
    "vowels = [char for char in 'aeiou'] \n",
    "consonants = [char for char in 'abcdefghijklmnopqrstuvwxyz']\n",
    "most_common = [char for char in 'eariotnslc']\n",
    "\n",
    "# s_vowels = random.choices(vowels, k = 6)\n",
    "# s_consonants = random.choices(consonants, k = 10)\n",
    "# letters = s_vowels + s_consonants\n",
    "\n",
    "letters = random.choices(most_common, k = 16)\n",
    "print(letters)"
   ]
  },
  {
   "cell_type": "code",
   "execution_count": 163,
   "metadata": {
    "scrolled": true
   },
   "outputs": [
    {
     "name": "stdout",
     "output_type": "stream",
     "text": [
      "Number of verified words is 508\n",
      "solution found!\n",
      "['spur', 'wipe', 'aloe', 'bend']\n",
      "solution found!\n",
      "['swab', 'pile', 'upon', 'reed']\n"
     ]
    }
   ],
   "source": [
    "word_list = word_builder(letters)\n",
    "trie = word_trie(word_list)\n",
    "\n",
    "for word in word_list:\n",
    "    board = [word]\n",
    "    solution = backtrack_solution_v2(board,word_list)\n"
   ]
  },
  {
   "cell_type": "code",
   "execution_count": null,
   "metadata": {},
   "outputs": [],
   "source": []
  }
 ],
 "metadata": {
  "kernelspec": {
   "display_name": "Python 3",
   "language": "python",
   "name": "python3"
  },
  "language_info": {
   "codemirror_mode": {
    "name": "ipython",
    "version": 3
   },
   "file_extension": ".py",
   "mimetype": "text/x-python",
   "name": "python",
   "nbconvert_exporter": "python",
   "pygments_lexer": "ipython3",
   "version": "3.7.6"
  }
 },
 "nbformat": 4,
 "nbformat_minor": 4
}
