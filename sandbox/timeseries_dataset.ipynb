{
 "cells": [
  {
   "cell_type": "code",
   "execution_count": 2,
   "metadata": {},
   "outputs": [],
   "source": [
    "import pandas as pd\n",
    "import seaborn as sns\n",
    "import numpy as np\n",
    "import matplotlib.pyplot as plt"
   ]
  },
  {
   "cell_type": "code",
   "execution_count": 3,
   "metadata": {},
   "outputs": [
    {
     "name": "stdout",
     "output_type": "stream",
     "text": [
      "<class 'pandas.core.frame.DataFrame'>\n",
      "RangeIndex: 33259 entries, 0 to 33258\n",
      "Data columns (total 9 columns):\n",
      " #   Column      Non-Null Count  Dtype         \n",
      "---  ------      --------------  -----         \n",
      " 0   unix        33259 non-null  Int64         \n",
      " 1   date        33259 non-null  datetime64[ns]\n",
      " 2   symbol      33259 non-null  string        \n",
      " 3   open        33259 non-null  Float64       \n",
      " 4   high        33259 non-null  Float64       \n",
      " 5   low         33259 non-null  Float64       \n",
      " 6   close       33259 non-null  Float64       \n",
      " 7   Volume BTC  33259 non-null  Float64       \n",
      " 8   Volume USD  33259 non-null  Float64       \n",
      "dtypes: Float64(6), Int64(1), datetime64[ns](1), string(1)\n",
      "memory usage: 2.5 MB\n"
     ]
    }
   ],
   "source": [
    "df = pd.read_csv('./sandbox/BTC-Hourly.csv')\n",
    "df['date'] = pd.to_datetime(df['date'])\n",
    "\n",
    "df.convert_dtypes().info()"
   ]
  },
  {
   "cell_type": "code",
   "execution_count": 40,
   "metadata": {},
   "outputs": [
    {
     "name": "stdout",
     "output_type": "stream",
     "text": [
      "   id_x   name  salary_x  managerId  id_y  salary_y\n",
      "0     1    Joe     70000        3.0   3.0   60000.0\n",
      "1     2  Henry     80000        4.0   4.0   90000.0\n",
      "2     3    Sam     60000        NaN   NaN       NaN\n",
      "3     4    Max     90000        NaN   NaN       NaN\n"
     ]
    }
   ],
   "source": [
    "id = [1, 2, 3, 4]\n",
    "name = ['Joe', 'Henry', 'Sam', 'Max']\n",
    "salary = [70000, 80000, 60000, 90000]\n",
    "managerId = [3, 4, np.nan, np.nan]\n",
    "\n",
    "employee = pd.DataFrame({'id': id, \n",
    "              'name': name,\n",
    "              'salary': salary,\n",
    "              'managerId': managerId})\n",
    "\n",
    "\n",
    "\n",
    "join_df = employee[['id', 'salary']]\n",
    "joined = pd.merge(employee, join_df, how='left', left_on = 'managerId', right_on='id')\n",
    "return_df = pd.DataFrame(joined.loc[joined['salary_x'] > joined['salary_y'], 'name']).rename(columns={'name': 'Employee'})\n",
    "\n",
    "\n"
   ]
  },
  {
   "cell_type": "code",
   "execution_count": 92,
   "metadata": {},
   "outputs": [
    {
     "name": "stdout",
     "output_type": "stream",
     "text": [
      "20\n",
      "21\n",
      "22\n",
      "23\n",
      "24\n",
      "25\n",
      "26\n",
      "27\n",
      "28\n",
      "29\n",
      "30\n",
      "31\n",
      "32\n",
      "33\n",
      "34\n",
      "35\n",
      "36\n",
      "37\n",
      "38\n",
      "39\n",
      "40\n",
      "41\n",
      "42\n",
      "43\n",
      "44\n",
      "45\n",
      "46\n",
      "47\n",
      "48\n",
      "49\n"
     ]
    }
   ],
   "source": []
  },
  {
   "cell_type": "code",
   "execution_count": 97,
   "metadata": {},
   "outputs": [
    {
     "data": {
      "text/plain": [
       "[1, 2, 3, 'c', None]"
      ]
     },
     "execution_count": 97,
     "metadata": {},
     "output_type": "execute_result"
    }
   ],
   "source": [
    "a = [1, 2, 3]\n",
    "b = ['c', None, 'd']\n",
    "\n",
    "# merge the two lists together\n",
    "# sort and drop the None value\n",
    "\n",
    "new_list = a+b\n",
    "new_list.pop()\n",
    "new_list"
   ]
  },
  {
   "cell_type": "code",
   "execution_count": null,
   "metadata": {},
   "outputs": [],
   "source": [
    "from sklearn.decomposition import DictionaryLearning\n",
    "\n",
    "\n",
    "{'a': {1, 2, 3}}\n",
    "\n",
    "dict.update(new_item)"
   ]
  },
  {
   "cell_type": "code",
   "execution_count": null,
   "metadata": {},
   "outputs": [],
   "source": []
  },
  {
   "cell_type": "code",
   "execution_count": null,
   "metadata": {},
   "outputs": [],
   "source": []
  },
  {
   "cell_type": "code",
   "execution_count": null,
   "metadata": {},
   "outputs": [],
   "source": []
  },
  {
   "cell_type": "code",
   "execution_count": 88,
   "metadata": {},
   "outputs": [
    {
     "data": {
      "text/plain": [
       "5"
      ]
     },
     "execution_count": 88,
     "metadata": {},
     "output_type": "execute_result"
    }
   ],
   "source": [
    "halfway_num"
   ]
  },
  {
   "cell_type": "code",
   "execution_count": null,
   "metadata": {},
   "outputs": [],
   "source": [
    "\n"
   ]
  },
  {
   "cell_type": "code",
   "execution_count": 67,
   "metadata": {},
   "outputs": [
    {
     "name": "stdout",
     "output_type": "stream",
     "text": [
      "[0, 1, 2, 3, 4, 2, 2, 3, 3, 4] 5\n"
     ]
    }
   ],
   "source": [
    "nums = [0,0,1,1,1,2,2,3,3,4]\n",
    "j = 1\n",
    "for i in range(1, len(nums)):\n",
    "    if nums[i] != nums[i - 1]:\n",
    "        nums[j] = nums[i]\n",
    "        j += 1\n",
    "print(nums, j)"
   ]
  },
  {
   "cell_type": "code",
   "execution_count": 38,
   "metadata": {},
   "outputs": [
    {
     "data": {
      "text/html": [
       "<div>\n",
       "<style scoped>\n",
       "    .dataframe tbody tr th:only-of-type {\n",
       "        vertical-align: middle;\n",
       "    }\n",
       "\n",
       "    .dataframe tbody tr th {\n",
       "        vertical-align: top;\n",
       "    }\n",
       "\n",
       "    .dataframe thead th {\n",
       "        text-align: right;\n",
       "    }\n",
       "</style>\n",
       "<table border=\"1\" class=\"dataframe\">\n",
       "  <thead>\n",
       "    <tr style=\"text-align: right;\">\n",
       "      <th></th>\n",
       "      <th>name</th>\n",
       "      <th>salary</th>\n",
       "      <th>managerId</th>\n",
       "    </tr>\n",
       "    <tr>\n",
       "      <th>id</th>\n",
       "      <th></th>\n",
       "      <th></th>\n",
       "      <th></th>\n",
       "    </tr>\n",
       "  </thead>\n",
       "  <tbody>\n",
       "    <tr>\n",
       "      <th>1</th>\n",
       "      <td>Joe</td>\n",
       "      <td>70000</td>\n",
       "      <td>3.0</td>\n",
       "    </tr>\n",
       "    <tr>\n",
       "      <th>2</th>\n",
       "      <td>Henry</td>\n",
       "      <td>80000</td>\n",
       "      <td>4.0</td>\n",
       "    </tr>\n",
       "    <tr>\n",
       "      <th>3</th>\n",
       "      <td>Sam</td>\n",
       "      <td>60000</td>\n",
       "      <td>NaN</td>\n",
       "    </tr>\n",
       "    <tr>\n",
       "      <th>4</th>\n",
       "      <td>Max</td>\n",
       "      <td>90000</td>\n",
       "      <td>NaN</td>\n",
       "    </tr>\n",
       "  </tbody>\n",
       "</table>\n",
       "</div>"
      ],
      "text/plain": [
       "     name  salary  managerId\n",
       "id                          \n",
       "1     Joe   70000        3.0\n",
       "2   Henry   80000        4.0\n",
       "3     Sam   60000        NaN\n",
       "4     Max   90000        NaN"
      ]
     },
     "execution_count": 38,
     "metadata": {},
     "output_type": "execute_result"
    }
   ],
   "source": [
    "employee"
   ]
  },
  {
   "cell_type": "code",
   "execution_count": 23,
   "metadata": {},
   "outputs": [
    {
     "ename": "AttributeError",
     "evalue": "'numpy.float64' object has no attribute 'values'",
     "output_type": "error",
     "traceback": [
      "\u001b[0;31m---------------------------------------------------------------------------\u001b[0m",
      "\u001b[0;31mAttributeError\u001b[0m                            Traceback (most recent call last)",
      "Cell \u001b[0;32mIn[23], line 1\u001b[0m\n\u001b[0;32m----> 1\u001b[0m df\u001b[39m.\u001b[39;49mloc[\u001b[39m0\u001b[39;49m, \u001b[39m'\u001b[39;49m\u001b[39mclose\u001b[39;49m\u001b[39m'\u001b[39;49m]\u001b[39m.\u001b[39;49mvalues\n",
      "\u001b[0;31mAttributeError\u001b[0m: 'numpy.float64' object has no attribute 'values'"
     ]
    }
   ],
   "source": []
  },
  {
   "cell_type": "code",
   "execution_count": null,
   "metadata": {},
   "outputs": [],
   "source": []
  },
  {
   "cell_type": "code",
   "execution_count": 240,
   "metadata": {},
   "outputs": [
    {
     "data": {
      "text/plain": [
       "0        True\n",
       "1        True\n",
       "2        True\n",
       "3        True\n",
       "4        True\n",
       "         ... \n",
       "33254    True\n",
       "33255    True\n",
       "33256    True\n",
       "33257    True\n",
       "33258    True\n",
       "Name: date, Length: 33259, dtype: bool"
      ]
     },
     "execution_count": 240,
     "metadata": {},
     "output_type": "execute_result"
    }
   ],
   "source": [
    "df['date']<(pd.to_datetime('now') - pd.to_timedelta(500, 'd'))"
   ]
  },
  {
   "cell_type": "code",
   "execution_count": 1,
   "metadata": {},
   "outputs": [
    {
     "ename": "NameError",
     "evalue": "name 'df' is not defined",
     "output_type": "error",
     "traceback": [
      "\u001b[0;31m---------------------------------------------------------------------------\u001b[0m",
      "\u001b[0;31mNameError\u001b[0m                                 Traceback (most recent call last)",
      "Cell \u001b[0;32mIn[1], line 1\u001b[0m\n\u001b[0;32m----> 1\u001b[0m df\n",
      "\u001b[0;31mNameError\u001b[0m: name 'df' is not defined"
     ]
    }
   ],
   "source": [
    "df"
   ]
  },
  {
   "cell_type": "code",
   "execution_count": 221,
   "metadata": {},
   "outputs": [
    {
     "data": {
      "text/html": [
       "<div>\n",
       "<style scoped>\n",
       "    .dataframe tbody tr th:only-of-type {\n",
       "        vertical-align: middle;\n",
       "    }\n",
       "\n",
       "    .dataframe tbody tr th {\n",
       "        vertical-align: top;\n",
       "    }\n",
       "\n",
       "    .dataframe thead th {\n",
       "        text-align: right;\n",
       "    }\n",
       "</style>\n",
       "<table border=\"1\" class=\"dataframe\">\n",
       "  <thead>\n",
       "    <tr style=\"text-align: right;\">\n",
       "      <th></th>\n",
       "      <th>high</th>\n",
       "      <th>low</th>\n",
       "    </tr>\n",
       "  </thead>\n",
       "  <tbody>\n",
       "    <tr>\n",
       "      <th>0</th>\n",
       "      <td>1.254550</td>\n",
       "      <td>1.258986</td>\n",
       "    </tr>\n",
       "    <tr>\n",
       "      <th>1</th>\n",
       "      <td>1.240517</td>\n",
       "      <td>1.243072</td>\n",
       "    </tr>\n",
       "    <tr>\n",
       "      <th>2</th>\n",
       "      <td>1.288314</td>\n",
       "      <td>1.175635</td>\n",
       "    </tr>\n",
       "    <tr>\n",
       "      <th>3</th>\n",
       "      <td>1.162878</td>\n",
       "      <td>1.169788</td>\n",
       "    </tr>\n",
       "    <tr>\n",
       "      <th>4</th>\n",
       "      <td>1.165769</td>\n",
       "      <td>1.155754</td>\n",
       "    </tr>\n",
       "    <tr>\n",
       "      <th>...</th>\n",
       "      <td>...</td>\n",
       "      <td>...</td>\n",
       "    </tr>\n",
       "    <tr>\n",
       "      <th>33254</th>\n",
       "      <td>-0.609642</td>\n",
       "      <td>-0.613626</td>\n",
       "    </tr>\n",
       "    <tr>\n",
       "      <th>33255</th>\n",
       "      <td>-0.615573</td>\n",
       "      <td>-0.613287</td>\n",
       "    </tr>\n",
       "    <tr>\n",
       "      <th>33256</th>\n",
       "      <td>-0.615794</td>\n",
       "      <td>-0.615503</td>\n",
       "    </tr>\n",
       "    <tr>\n",
       "      <th>33257</th>\n",
       "      <td>-0.614951</td>\n",
       "      <td>-0.612214</td>\n",
       "    </tr>\n",
       "    <tr>\n",
       "      <th>33258</th>\n",
       "      <td>-0.613305</td>\n",
       "      <td>-0.612965</td>\n",
       "    </tr>\n",
       "  </tbody>\n",
       "</table>\n",
       "<p>33259 rows × 2 columns</p>\n",
       "</div>"
      ],
      "text/plain": [
       "           high       low\n",
       "0      1.254550  1.258986\n",
       "1      1.240517  1.243072\n",
       "2      1.288314  1.175635\n",
       "3      1.162878  1.169788\n",
       "4      1.165769  1.155754\n",
       "...         ...       ...\n",
       "33254 -0.609642 -0.613626\n",
       "33255 -0.615573 -0.613287\n",
       "33256 -0.615794 -0.615503\n",
       "33257 -0.614951 -0.612214\n",
       "33258 -0.613305 -0.612965\n",
       "\n",
       "[33259 rows x 2 columns]"
      ]
     },
     "execution_count": 221,
     "metadata": {},
     "output_type": "execute_result"
    }
   ],
   "source": [
    "df[['high', 'low']].apply(lambda x: (x - x.mean())/ x.std())"
   ]
  },
  {
   "cell_type": "code",
   "execution_count": null,
   "metadata": {},
   "outputs": [],
   "source": [
    "\n",
    "\n"
   ]
  },
  {
   "cell_type": "code",
   "execution_count": 203,
   "metadata": {},
   "outputs": [],
   "source": [
    "# timepoints to add in \n",
    "chunk_this = df['date'][1] + pd.to_timedelta(np.arange(5, 60, 5), unit='m')\n",
    "\n",
    "# concat to previous dataframe and sort_index()\n",
    "add_df = pd.concat([df.set_index('date'), pd.DataFrame(index=chunk_this)]).sort_index()\n",
    "\n",
    "# interpolate to fill in missing values\n",
    "add_df.interpolate(inplace=True)\n",
    "add_df.fillna(value={'symbol': 'BTC/USD'}, inplace=True)\n",
    "\n",
    "# reindex\n",
    "add_df = add_df.reset_index().rename(columns={'index': 'date'})"
   ]
  },
  {
   "cell_type": "code",
   "execution_count": 204,
   "metadata": {},
   "outputs": [
    {
     "data": {
      "text/plain": [
       "<matplotlib.collections.PathCollection at 0x1330b3670>"
      ]
     },
     "execution_count": 204,
     "metadata": {},
     "output_type": "execute_result"
    },
    {
     "data": {
      "image/png": "[encoded data removed]",
      "text/plain": [
       "<Figure size 640x480 with 1 Axes>"
      ]
     },
     "metadata": {},
     "output_type": "display_data"
    }
   ],
   "source": [
    "filter = df['date']>=pd.to_datetime('2022-02-28 23:00:00')\n",
    "add_filter = add_df['date']>=pd.to_datetime('2022-02-28 23:00:00')\n",
    "\n",
    "plt.scatter(add_df.loc[add_filter, 'date'], add_df.loc[add_filter, 'close'], color='k')\n",
    "plt.scatter(df.loc[filter, 'date'], df.loc[filter, 'close'])"
   ]
  },
  {
   "cell_type": "code",
   "execution_count": 44,
   "metadata": {},
   "outputs": [
    {
     "data": {
      "image/png": "[encoded data removed]",
      "text/plain": [
       "<Figure size 640x480 with 1 Axes>"
      ]
     },
     "metadata": {},
     "output_type": "display_data"
    }
   ],
   "source": [
    "from matplotlib import pyplot as plt\n",
    "\n",
    "\n",
    "df['daily_change'] = df['close'] - df['open']\n",
    "plt.scatter(df['date'], df['daily_change'], s=1)\n",
    "plt.plot([df['date'].min(), df['date'].max()], [0, 0], 'k--')\n",
    "# plt.plot([df['date'].min(),df['date'].min()], [df['date'].max(), df['date'].max()]) \n",
    "# sns.scatterplot(df, x='date', y='daily_change')\n",
    "plt.ylabel('daily price change ($)')\n",
    "plt.xticks(rotation=45)\n",
    "plt.show()"
   ]
  },
  {
   "cell_type": "code",
   "execution_count": 20,
   "metadata": {},
   "outputs": [
    {
     "data": {
      "text/plain": [
       "0        220301\n",
       "1        220228\n",
       "2        220228\n",
       "3        220228\n",
       "4        220228\n",
       "          ...  \n",
       "33254    180515\n",
       "33255    180515\n",
       "33256    180515\n",
       "33257    180515\n",
       "33258    180515\n",
       "Name: date, Length: 33259, dtype: object"
      ]
     },
     "execution_count": 20,
     "metadata": {},
     "output_type": "execute_result"
    }
   ],
   "source": [
    "# change datetime format\n",
    "pd.to_datetime(df['date']).dt.strftime('%y%m%d')\n",
    "\n"
   ]
  }
 ],
 "metadata": {
  "kernelspec": {
   "display_name": "sandbox",
   "language": "python",
   "name": "python3"
  },
  "language_info": {
   "codemirror_mode": {
    "name": "ipython",
    "version": 3
   },
   "file_extension": ".py",
   "mimetype": "text/x-python",
   "name": "python",
   "nbconvert_exporter": "python",
   "pygments_lexer": "ipython3",
   "version": "3.9.6"
  },
  "orig_nbformat": 4
 },
 "nbformat": 4,
 "nbformat_minor": 2
}
