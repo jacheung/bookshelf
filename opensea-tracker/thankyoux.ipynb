{
 "cells": [
  {
   "cell_type": "code",
   "execution_count": 1,
   "id": "0c5f5af4",
   "metadata": {},
   "outputs": [],
   "source": [
    "import os\n",
    "import time\n",
    "import hashlib\n",
    "from urllib.request import urlopen, Request"
   ]
  },
  {
   "cell_type": "code",
   "execution_count": 3,
   "id": "2596a67a",
   "metadata": {},
   "outputs": [],
   "source": [
    "website = \"https://opensea.io/collection/state-of-the-art-by-thankyoux\"\n",
    "url = Request(website,\n",
    "              headers={'User-Agent': 'Mozilla/5.0'})\n",
    "response = urlopen(url).read()"
   ]
  },
  {
   "cell_type": "code",
   "execution_count": 6,
   "id": "f9f4765f",
   "metadata": {},
   "outputs": [
    {
     "name": "stdout",
     "output_type": "stream",
     "text": [
      "<!DOCTYPE html>\n",
      "<html lang=\"en-US\">\n",
      "   <head>\n",
      "      <title>Access denied</title>\n",
      "      <meta http-equiv=\"X-UA-Compatible\" content=\"IE=Edge\" />\n",
      "      <meta name=\"robots\" content=\"noindex, nofollow\" />\n",
      "      <meta name=\"viewport\" content=\"width=device-width,initial-scale=1\" />\n",
      "      <link rel=\"stylesheet\" href=\"/cdn-cgi/styles/errors.css\" media=\"screen\" />\n",
      "      <script>\n",
      "(function(){if(document.addEventListener&&window.XMLHttpRequest&&JSON&&JSON.stringify){var e=function(a){var c=document.getElementById(\"error-feedback-survey\"),d=document.getElementById(\"error-feedback-success\"),b=new XMLHttpRequest;a={event:\"feedback clicked\",properties:{errorCode:1020,helpful:a,version:4}};b.open(\"POST\",\"https://sparrow.cloudflare.com/api/v1/event\");b.setRequestHeader(\"Content-Type\",\"application/json\");b.setRequestHeader(\"Sparrow-Source-Key\",\"c771f0e4b54944bebf4261d44bd79a1e\");\n",
      "b.send(JSON.stringify(a));c.classList.add(\"feedback-hidden\");d.classList.remove(\"feedback-hidden\")};document.addEventListener(\"DOMContentLoaded\",function(){var a=document.getElementById(\"error-feedback\"),c=document.getElementById(\"feedback-button-yes\"),d=document.getElementById(\"feedback-button-no\");\"classList\"in a&&(a.classList.remove(\"feedback-hidden\"),c.addEventListener(\"click\",function(){e(!0)}),d.addEventListener(\"click\",function(){e(!1)}))})}})();\n",
      "</script>\n",
      "\n",
      "      <script>\n",
      "         (function(){if(document.addEventListener){var c=function(){var b=document.getElementById(\"copy-label\");document.getElementById(\"plain-ray-id\");if(navigator.clipboard)navigator.clipboard.writeText(\"771e68253c407c35\");else{var a=document.createElement(\"textarea\");a.value=\"771e68253c407c35\";a.style.top=\"0\";a.style.left=\"0\";a.style.position=\"fixed\";document.body.appendChild(a);a.focus();a.select();document.execCommand(\"copy\");document.body.removeChild(a)}b.innerText=\"Copied\"};document.addEventListener(\"DOMContentLoaded\",\n",
      "function(){var b=document.getElementById(\"plain-ray-id\"),a=document.getElementById(\"click-to-copy-btn\");\"classList\"in b&&(b.classList.add(\"hidden\"),a.classList.remove(\"hidden\"),a.addEventListener(\"click\",c))})}})();\n",
      "      </script>\n",
      "      <script defer src=\"https://performance.radar.cloudflare.com/beacon.js\"></script>\n",
      "   </head>\n",
      "\n",
      "   <body>\n",
      "      <div class=\"main-wrapper\" role=\"main\">\n",
      "         <div class=\"header section\">\n",
      "            <h1>\n",
      "               <span class=\"error-description\">Access denied</span>\n",
      "               <span class=\"code-label\">Error code <span>1020</span></span>\n",
      "            </h1>\n",
      "            <div class=\"large-font\">\n",
      "               <p>You cannot access api.opensea.io. Refresh the page or contact the site owner to request access.</p>\n",
      "            </div>\n",
      "         </div>\n",
      "      </div>\n",
      "\n",
      "      <div>\n",
      "         <div class=\"section know-more\">\n",
      "            <h2 class=\"large-font\">Troubleshooting information</h2>\n",
      "            <p>Copy and paste the Ray ID when you contact the site owner.</p>\n",
      "            <p class=\"ray-id-wrapper\">\n",
      "               Ray ID:\n",
      "               <span class=\"plain-ray-id\" id=\"plain-ray-id\">\n",
      "                  771e68253c407c35\n",
      "               </span>\n",
      "               <button class=\"click-to-copy-btn hidden\" id=\"click-to-copy-btn\" title=\"Click to copy Ray ID\" type=\"button\">\n",
      "                  <span class=\"ray-id\">771e68253c407c35</span><span class=\"copy-label\" id=\"copy-label\">Copy</span>\n",
      "               </button>\n",
      "            </p>\n",
      "            <p>\n",
      "            For help visit <a rel=\"noopener noreferrer\" href=\"https://support.cloudflare.com/hc/articles/360029779472-Troubleshooting-Cloudflare-1XXX-errors?utm_source=1020_error#error1020\" target=\"_blank\">Troubleshooting guide</a>\n",
      "            <img class=\"external-link\" title=\"Opens in new tab\" src=\"/cdn-cgi/images/external.png\" alt=\"External link\">\n",
      "            </p>\n",
      "         </div>\n",
      "\n",
      "         <div class=\"clearfix footer section\" role=\"contentinfo\">\n",
      "            <div class=\"column\">\n",
      "               <div class=\"feedback-hidden py-8 text-center\" id=\"error-feedback\">\n",
      "    <div id=\"error-feedback-survey\" class=\"footer-line-wrapper\">\n",
      "        Was this page helpful?\n",
      "        <button class=\"border border-solid bg-white cf-button cursor-pointer ml-4 px-4 py-2 rounded\" id=\"feedback-button-yes\" type=\"button\">Yes</button>\n",
      "        <button class=\"border border-solid bg-white cf-button cursor-pointer ml-4 px-4 py-2 rounded\" id=\"feedback-button-no\" type=\"button\">No</button>\n",
      "    </div>\n",
      "    <div class=\"feedback-success feedback-hidden\" id=\"error-feedback-success\">\n",
      "        Thank you for your feedback!\n",
      "    </div>\n",
      "</div>\n",
      "\n",
      "            </div>\n",
      "            <div class=\"column footer-line-wrapper text-center\">\n",
      "               Performance &amp; security by <a rel=\"noopener noreferrer\" href=\"https://www.cloudflare.com?utm_source=1020_error\" target=\"_blank\">Cloudflare</a>\n",
      "               <img class=\"external-link\" title=\"Opens in new tab\" src=\"/cdn-cgi/images/external.png\" alt=\"External link\">\n",
      "            </div>\n",
      "         </div>\n",
      "      </div>\n",
      "   <script defer src=\"https://static.cloudflareinsights.com/beacon.min.js/vaafb692b2aea4879b33c060e79fe94621666317369993\" integrity=\"sha512-0ahDYl866UMhKuYcW078ScMalXqtFJggm7TmlUtp0UlD4eQk0Ixfnm5ykXKvGJNFjLMoortdseTfsRT8oCfgGA==\" data-cf-beacon='{\"rayId\":\"771e68253c407c35\",\"token\":\"96047490de144c8b91be74ba7605ab69\",\"version\":\"2022.11.3\",\"si\":100}' crossorigin=\"anonymous\"></script>\n",
      "</body>\n",
      "</html>\n",
      "\n"
     ]
    }
   ],
   "source": [
    "import requests\n",
    "\n",
    "url = \"https://api.opensea.io/v2/orders/ethereum/seaport/listings?asset_contract_address=0x2B0BFA93bEb22F44E7c1Be88eFd80396F8D9F1D4&order_by=created_date&order_direction=desc\"\n",
    "\n",
    "headers = {\"accept\": \"application/json\"}\n",
    "\n",
    "response = requests.get(url, headers=headers)\n",
    "\n",
    "print(response.text)\n"
   ]
  },
  {
   "cell_type": "code",
   "execution_count": null,
   "id": "ded45a92",
   "metadata": {},
   "outputs": [],
   "source": []
  }
 ],
 "metadata": {
  "kernelspec": {
   "display_name": "Python 3 (ipykernel)",
   "language": "python",
   "name": "python3"
  },
  "language_info": {
   "codemirror_mode": {
    "name": "ipython",
    "version": 3
   },
   "file_extension": ".py",
   "mimetype": "text/x-python",
   "name": "python",
   "nbconvert_exporter": "python",
   "pygments_lexer": "ipython3",
   "version": "3.10.8"
  }
 },
 "nbformat": 4,
 "nbformat_minor": 5
}
