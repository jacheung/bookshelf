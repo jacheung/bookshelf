{
 "cells": [
  {
   "cell_type": "code",
   "execution_count": 3,
   "id": "d35a82af",
   "metadata": {
    "scrolled": true
   },
   "outputs": [
    {
     "name": "stdout",
     "output_type": "stream",
     "text": [
      "TF: 2.11.0\n",
      "Data Validation: 1.12.0\n"
     ]
    }
   ],
   "source": [
    "import os\n",
    "import pandas as pd\n",
    "import numpy as np\n",
    "import matplotlib.pyplot as plt\n",
    "from pprint import pprint\n",
    "import multiprocess as mp\n",
    "from tqdm import tqdm\n",
    "import time\n",
    "\n",
    "import tensorflow as tf\n",
    "print('TF: {}'.format(tf.__version__))\n",
    "\n",
    "import tensorflow_data_validation as tfdv\n",
    "print('Data Validation: {}'.format(tfdv.__version__))\n",
    "\n",
    "# Project imports\n",
    "from molicel_cycle_life_prediction.dataset.p_series_discharge_cpd_dataset import PSeriesDischargeCPDDataset\n",
    "from molicel_cycle_life_prediction.dataset.p_series_charge_cc_cvc_dataset import PSeriesChargeCCCVCDataset\n",
    "from molicel_cycle_life_prediction.feature_generator.incremental_calculation import IncrementalCalculationFeatureGenerator\n",
    "from molicel_cycle_life_prediction.feature_generator.envelope_based import EnvelopeFeatureGenerator\n",
    "from molicel_cycle_life_prediction.feature_generator.discharge_sum_feature_generator import DischargeSumFeatureGenerator\n",
    "from molicel_cycle_life_prediction.feature_generator.severson_nature import SeversonNature\n"
   ]
  },
  {
   "cell_type": "code",
   "execution_count": 4,
   "id": "840529eb",
   "metadata": {},
   "outputs": [],
   "source": [
    "# build list of files \n",
    "p42_data_path = '/Users/jcheung/Library/CloudStorage/OneDrive-SharedLibraries-BEYONDLIMITS,INC/' \\\n",
    "                       'Molicel - General/06 Results/IPYNB_input_files/Raw_files_csvs/P42/'\n",
    "p28_data_path = '/Users/jcheung/Library/CloudStorage/OneDrive-SharedLibraries-BEYONDLIMITS,INC/' \\\n",
    "                       'Molicel - General/02 Data/raw/18650-P28A/'\n",
    "p42_files = {}\n",
    "p28_files = {}\n",
    "for file_type in ['train', 'test']:\n",
    "    p42_files[file_type] = [f'{p42_data_path}/{file_type}/{x}' for x in os.listdir(f'{p42_data_path}/{file_type}/')]\n",
    "    p28_files[file_type] = [f'{p28_data_path}/{file_type}/{x}' for x in os.listdir(f'{p28_data_path}/{file_type}/')]"
   ]
  },
  {
   "cell_type": "markdown",
   "id": "822b2fa3",
   "metadata": {},
   "source": [
    "### 1.1 Dataset building"
   ]
  },
  {
   "cell_type": "code",
   "execution_count": 5,
   "id": "77f0fefe",
   "metadata": {},
   "outputs": [],
   "source": [
    "LABEL_COLUMN = 'Retention(%)' \n",
    "def features_and_labels(row_data):\n",
    "    label = row_data.pop(LABEL_COLUMN)\n",
    "    features=row_data\n",
    "    \n",
    "    return features, label\n",
    "    \n",
    "def create_dataset(filename):\n",
    "    discharge_class = PSeriesDischargeCPDDataset()\n",
    "    di_fe = DischargeSumFeatureGenerator()\n",
    "    en_fe = EnvelopeFeatureGenerator()\n",
    "    sn = SeversonNature(model_type=\"full\")  # set model_type to 'variance', 'discharge', or 'full'\n",
    "  \n",
    "    # instantiate top level class\n",
    "    discharge = discharge_class.load_data(data_filepaths=filename, para_filepaths=[])\n",
    "    df = discharge[0]\n",
    "    \n",
    "    # generate features from sub-level feature generators\n",
    "    discharge_sum, discharge_sum_meta = di_fe.generate_features(df)\n",
    "    env_fe, env_fe_meta = en_fe.generate_features(df)\n",
    "    severson_fe, severson_meta = sn.generate_features(df)\n",
    "    \n",
    "    # compile feature generator outputs to dataframe\n",
    "    discharge_df = pd.DataFrame(discharge_sum, columns=discharge_sum_meta['column_headers'])\n",
    "    severson_df = pd.DataFrame(data=severson_fe, columns=severson_meta[\"column_headers\"])\n",
    "    env_df = pd.DataFrame(env_fe, columns=env_fe_meta['column_headers'])\n",
    "\n",
    "    # package generated features into one dataframe\n",
    "    discharge_df_features = ['File Name', 'Cyc#', 'R', 'mAH', 'Retention(%)']\n",
    "    raw_df = env_df.merge(discharge_df[discharge_df_features], on=['File Name', 'Cyc#'])\n",
    "    raw_df = raw_df.merge(severson_df, on=['File Name'])\n",
    "    raw_df['Cyc#'] = raw_df['Cyc#'].astype(int)\n",
    "    \n",
    "    return raw_df\n",
    "\n",
    "def divide_chunks(l, num_chunks):    \n",
    "    # looping till length l\n",
    "    for i in range(0, num_chunks):\n",
    "        yield l[i::num_chunks]\n",
    "\n",
    "def df_to_tf_dataset(df):\n",
    "    tf_ds = tf.data.Dataset.from_tensor_slices(dict(df.drop(columns=['File Name']).astype(float)))\n",
    "    tf_ds = tf_ds.map(features_and_labels)\n",
    "    return tf_ds"
   ]
  },
  {
   "cell_type": "code",
   "execution_count": 7,
   "id": "9eff445e",
   "metadata": {},
   "outputs": [],
   "source": [
    "# divide files up equally into lists based on cpus\n",
    "all_files = {}\n",
    "cpus_to_use = mp.cpu_count() - 1\n",
    "for file_type in ['train', 'test']:\n",
    "    p28 = list(divide_chunks(p28_files[file_type], num_chunks=cpus_to_use))\n",
    "    p42 = list(divide_chunks(p42_files[file_type], num_chunks=cpus_to_use))\n",
    "    all_files[file_type] = [p28[x] + p42[x] for x in range(0, cpus_to_use)]"
   ]
  },
  {
   "cell_type": "code",
   "execution_count": 8,
   "id": "722d91b6",
   "metadata": {
    "scrolled": true
   },
   "outputs": [
    {
     "name": "stdout",
     "output_type": "stream",
     "text": [
      "Iterating over samples for base feature generation...\n",
      "Iterating over samples for base feature generation...\n",
      "Iterating over samples for base feature generation...\n"
     ]
    },
    {
     "name": "stderr",
     "output_type": "stream",
     "text": [
      "\r",
      "  0%|                                                     | 0/13 [00:00<?, ?it/s]"
     ]
    },
    {
     "name": "stdout",
     "output_type": "stream",
     "text": [
      "Iterating over samples for base feature generation...\n"
     ]
    },
    {
     "name": "stderr",
     "output_type": "stream",
     "text": [
      "\r",
      "  0%|                                                     | 0/13 [00:00<?, ?it/s]"
     ]
    },
    {
     "name": "stdout",
     "output_type": "stream",
     "text": [
      "Iterating over samples for base feature generation..."
     ]
    },
    {
     "name": "stderr",
     "output_type": "stream",
     "text": [
      "\r",
      "  0%|                                                     | 0/13 [00:00<?, ?it/s]"
     ]
    },
    {
     "name": "stdout",
     "output_type": "stream",
     "text": [
      "\n"
     ]
    },
    {
     "name": "stderr",
     "output_type": "stream",
     "text": [
      "\r",
      "  0%|                                                     | 0/13 [00:00<?, ?it/s]"
     ]
    },
    {
     "name": "stdout",
     "output_type": "stream",
     "text": [
      "Iterating over samples for base feature generation...\n",
      "Iterating over samples for base feature generation..."
     ]
    },
    {
     "name": "stderr",
     "output_type": "stream",
     "text": [
      "\r",
      "  0%|                                                     | 0/13 [00:00<?, ?it/s]"
     ]
    },
    {
     "name": "stdout",
     "output_type": "stream",
     "text": [
      "Iterating over samples for base feature generation...\n",
      "\n"
     ]
    },
    {
     "name": "stderr",
     "output_type": "stream",
     "text": [
      "\r",
      "  0%|                                                     | 0/13 [00:00<?, ?it/s]"
     ]
    },
    {
     "name": "stdout",
     "output_type": "stream",
     "text": [
      "Iterating over samples for base feature generation...Iterating over samples for base feature generation..."
     ]
    },
    {
     "name": "stderr",
     "output_type": "stream",
     "text": [
      "\r",
      "  0%|                                                     | 0/13 [00:00<?, ?it/s]"
     ]
    },
    {
     "name": "stdout",
     "output_type": "stream",
     "text": [
      "Iterating over samples for base feature generation...\n",
      "\n"
     ]
    },
    {
     "name": "stderr",
     "output_type": "stream",
     "text": [
      "\r",
      "  0%|                                                     | 0/13 [00:00<?, ?it/s]"
     ]
    },
    {
     "name": "stdout",
     "output_type": "stream",
     "text": [
      "\n"
     ]
    },
    {
     "name": "stderr",
     "output_type": "stream",
     "text": [
      "100%|████████████████████████████████████████████| 12/12 [01:32<00:00,  7.67s/it]\n"
     ]
    },
    {
     "name": "stdout",
     "output_type": "stream",
     "text": [
      "Iterating over samples for envelope-based feature generation...\n"
     ]
    },
    {
     "name": "stderr",
     "output_type": "stream",
     "text": [
      "100%|████████████████████████████████████████████| 13/13 [02:14<00:00, 10.32s/it]\n",
      " 69%|███████████████████████████████▏             | 9/13 [02:14<00:20,  5.05s/it]"
     ]
    },
    {
     "name": "stdout",
     "output_type": "stream",
     "text": [
      "Iterating over samples for envelope-based feature generation...\n"
     ]
    },
    {
     "name": "stderr",
     "output_type": "stream",
     "text": [
      "100%|████████████████████████████████████████████| 13/13 [02:15<00:00, 10.45s/it]\n",
      " 92%|████████████████████████████████████████▌   | 12/13 [02:16<00:02,  2.67s/it]"
     ]
    },
    {
     "name": "stdout",
     "output_type": "stream",
     "text": [
      "Iterating over samples for envelope-based feature generation...\n"
     ]
    },
    {
     "name": "stderr",
     "output_type": "stream",
     "text": [
      "100%|████████████████████████████████████████████| 13/13 [02:17<00:00, 10.55s/it]\n"
     ]
    },
    {
     "name": "stdout",
     "output_type": "stream",
     "text": [
      "Iterating over samples for envelope-based feature generation...\n"
     ]
    },
    {
     "name": "stderr",
     "output_type": "stream",
     "text": [
      "100%|████████████████████████████████████████████| 13/13 [02:18<00:00, 10.66s/it]\n",
      "100%|████████████████████████████████████████████| 13/13 [02:18<00:00, 10.68s/it]\n"
     ]
    },
    {
     "name": "stdout",
     "output_type": "stream",
     "text": [
      "Iterating over samples for envelope-based feature generation...\n"
     ]
    },
    {
     "name": "stderr",
     "output_type": "stream",
     "text": [
      " 15%|██████▉                                      | 2/13 [00:04<00:24,  2.24s/it]"
     ]
    },
    {
     "name": "stdout",
     "output_type": "stream",
     "text": [
      "Iterating over samples for envelope-based feature generation...\n"
     ]
    },
    {
     "name": "stderr",
     "output_type": "stream",
     "text": [
      "100%|████████████████████████████████████████████| 13/13 [02:19<00:00, 10.71s/it]\n"
     ]
    },
    {
     "name": "stdout",
     "output_type": "stream",
     "text": [
      "Iterating over samples for envelope-based feature generation...\n"
     ]
    },
    {
     "name": "stderr",
     "output_type": "stream",
     "text": [
      "100%|████████████████████████████████████████████| 13/13 [02:20<00:00, 10.77s/it]\n"
     ]
    },
    {
     "name": "stdout",
     "output_type": "stream",
     "text": [
      "Iterating over samples for envelope-based feature generation...\n"
     ]
    },
    {
     "name": "stderr",
     "output_type": "stream",
     "text": [
      "100%|████████████████████████████████████████████| 12/12 [01:03<00:00,  5.31s/it]\n",
      " 62%|███████████████████████████▋                 | 8/13 [00:16<00:10,  2.09s/it]"
     ]
    },
    {
     "name": "stdout",
     "output_type": "stream",
     "text": [
      "Iterating over samples for cycle slope and intercept calculation feature generation...\n"
     ]
    },
    {
     "name": "stderr",
     "output_type": "stream",
     "text": [
      "100%|███████████████████████████████████████████| 12/12 [00:00<00:00, 146.67it/s]\n"
     ]
    },
    {
     "name": "stdout",
     "output_type": "stream",
     "text": [
      "Iterating over samples for dQV difference calculation feature generation...\n"
     ]
    },
    {
     "name": "stderr",
     "output_type": "stream",
     "text": [
      "100%|████████████████████████████████████████████| 12/12 [00:01<00:00, 10.00it/s]\n",
      " 69%|███████████████████████████████▏             | 9/13 [00:18<00:08,  2.09s/it]"
     ]
    },
    {
     "name": "stdout",
     "output_type": "stream",
     "text": [
      "Iterating over samples for capacity change feature generation...\n"
     ]
    },
    {
     "name": "stderr",
     "output_type": "stream",
     "text": [
      "100%|███████████████████████████████████████████| 12/12 [00:00<00:00, 160.31it/s]\n",
      "100%|████████████████████████████████████████████| 13/13 [00:26<00:00,  2.03s/it]\n"
     ]
    },
    {
     "name": "stdout",
     "output_type": "stream",
     "text": [
      "Iterating over samples for cycle slope and intercept calculation feature generation...\n"
     ]
    },
    {
     "name": "stderr",
     "output_type": "stream",
     "text": [
      "100%|███████████████████████████████████████████| 13/13 [00:00<00:00, 151.21it/s]\n"
     ]
    },
    {
     "name": "stdout",
     "output_type": "stream",
     "text": [
      "Iterating over samples for dQV difference calculation feature generation...\n"
     ]
    },
    {
     "name": "stderr",
     "output_type": "stream",
     "text": [
      "100%|████████████████████████████████████████████| 13/13 [00:01<00:00, 12.39it/s]\n"
     ]
    },
    {
     "name": "stdout",
     "output_type": "stream",
     "text": [
      "Iterating over samples for capacity change feature generation...\n"
     ]
    },
    {
     "name": "stderr",
     "output_type": "stream",
     "text": [
      "100%|███████████████████████████████████████████| 13/13 [00:00<00:00, 178.74it/s]\n",
      "100%|████████████████████████████████████████████| 13/13 [00:27<00:00,  2.09s/it]\n"
     ]
    },
    {
     "name": "stdout",
     "output_type": "stream",
     "text": [
      "Iterating over samples for cycle slope and intercept calculation feature generation...\n"
     ]
    },
    {
     "name": "stderr",
     "output_type": "stream",
     "text": [
      "100%|███████████████████████████████████████████| 13/13 [00:00<00:00, 160.30it/s]\n"
     ]
    },
    {
     "name": "stdout",
     "output_type": "stream",
     "text": [
      "Iterating over samples for dQV difference calculation feature generation...\n"
     ]
    },
    {
     "name": "stderr",
     "output_type": "stream",
     "text": [
      "100%|████████████████████████████████████████████| 13/13 [00:26<00:00,  2.06s/it]\n",
      " 92%|████████████████████████████████████████▌   | 12/13 [00:24<00:02,  2.03s/it]"
     ]
    },
    {
     "name": "stdout",
     "output_type": "stream",
     "text": [
      "Iterating over samples for cycle slope and intercept calculation feature generation...\n"
     ]
    },
    {
     "name": "stderr",
     "output_type": "stream",
     "text": [
      "100%|███████████████████████████████████████████| 13/13 [00:00<00:00, 182.65it/s]\n"
     ]
    },
    {
     "name": "stdout",
     "output_type": "stream",
     "text": [
      "Iterating over samples for dQV difference calculation feature generation...\n"
     ]
    },
    {
     "name": "stderr",
     "output_type": "stream",
     "text": [
      "100%|████████████████████████████████████████████| 13/13 [00:01<00:00, 11.96it/s]\n"
     ]
    },
    {
     "name": "stdout",
     "output_type": "stream",
     "text": [
      "Iterating over samples for capacity change feature generation...\n"
     ]
    },
    {
     "name": "stderr",
     "output_type": "stream",
     "text": [
      "100%|███████████████████████████████████████████| 13/13 [00:00<00:00, 197.54it/s]\n",
      "100%|████████████████████████████████████████████| 13/13 [00:01<00:00, 12.09it/s]\n"
     ]
    },
    {
     "name": "stdout",
     "output_type": "stream",
     "text": [
      "Iterating over samples for capacity change feature generation...\n"
     ]
    },
    {
     "name": "stderr",
     "output_type": "stream",
     "text": [
      "100%|████████████████████████████████████████████| 13/13 [00:26<00:00,  2.05s/it]\n",
      "100%|███████████████████████████████████████████| 13/13 [00:00<00:00, 176.92it/s]\n",
      "100%|████████████████████████████████████████████| 13/13 [00:26<00:00,  2.07s/it]\n"
     ]
    },
    {
     "name": "stdout",
     "output_type": "stream",
     "text": [
      "Iterating over samples for cycle slope and intercept calculation feature generation...\n"
     ]
    },
    {
     "name": "stderr",
     "output_type": "stream",
     "text": [
      "100%|███████████████████████████████████████████| 13/13 [00:00<00:00, 179.04it/s]\n"
     ]
    },
    {
     "name": "stdout",
     "output_type": "stream",
     "text": [
      "Iterating over samples for cycle slope and intercept calculation feature generation...\n"
     ]
    },
    {
     "name": "stderr",
     "output_type": "stream",
     "text": [
      "\r",
      "  0%|                                                     | 0/13 [00:00<?, ?it/s]"
     ]
    },
    {
     "name": "stdout",
     "output_type": "stream",
     "text": [
      "Iterating over samples for dQV difference calculation feature generation...\n"
     ]
    },
    {
     "name": "stderr",
     "output_type": "stream",
     "text": [
      "100%|███████████████████████████████████████████| 13/13 [00:00<00:00, 161.07it/s]\n",
      "  0%|                                                     | 0/13 [00:00<?, ?it/s]"
     ]
    },
    {
     "name": "stdout",
     "output_type": "stream",
     "text": [
      "Iterating over samples for dQV difference calculation feature generation...\n"
     ]
    },
    {
     "name": "stderr",
     "output_type": "stream",
     "text": [
      "100%|████████████████████████████████████████████| 13/13 [00:26<00:00,  2.05s/it]\n",
      " 31%|█████████████▊                               | 4/13 [00:00<00:00, 12.62it/s]"
     ]
    },
    {
     "name": "stdout",
     "output_type": "stream",
     "text": [
      "Iterating over samples for cycle slope and intercept calculation feature generation...\n"
     ]
    },
    {
     "name": "stderr",
     "output_type": "stream",
     "text": [
      "100%|███████████████████████████████████████████| 13/13 [00:00<00:00, 191.27it/s]\n",
      " 46%|████████████████████▊                        | 6/13 [00:00<00:00, 13.16it/s]"
     ]
    },
    {
     "name": "stdout",
     "output_type": "stream",
     "text": [
      "Iterating over samples for dQV difference calculation feature generation...\n"
     ]
    },
    {
     "name": "stderr",
     "output_type": "stream",
     "text": [
      "100%|████████████████████████████████████████████| 13/13 [00:26<00:00,  2.05s/it]\n",
      " 92%|████████████████████████████████████████▌   | 12/13 [00:00<00:00, 13.87it/s]"
     ]
    },
    {
     "name": "stdout",
     "output_type": "stream",
     "text": [
      "Iterating over samples for cycle slope and intercept calculation feature generation...\n"
     ]
    },
    {
     "name": "stderr",
     "output_type": "stream",
     "text": [
      "100%|████████████████████████████████████████████| 13/13 [00:00<00:00, 13.44it/s]\n"
     ]
    },
    {
     "name": "stdout",
     "output_type": "stream",
     "text": [
      "Iterating over samples for capacity change feature generation...\n"
     ]
    },
    {
     "name": "stderr",
     "output_type": "stream",
     "text": [
      "100%|███████████████████████████████████████████| 13/13 [00:00<00:00, 176.07it/s]\n",
      "100%|███████████████████████████████████████████| 13/13 [00:00<00:00, 190.79it/s]\n"
     ]
    },
    {
     "name": "stdout",
     "output_type": "stream",
     "text": [
      "Iterating over samples for dQV difference calculation feature generation...\n"
     ]
    },
    {
     "name": "stderr",
     "output_type": "stream",
     "text": [
      "100%|████████████████████████████████████████████| 13/13 [00:01<00:00, 12.83it/s]\n"
     ]
    },
    {
     "name": "stdout",
     "output_type": "stream",
     "text": [
      "Iterating over samples for capacity change feature generation...\n"
     ]
    },
    {
     "name": "stderr",
     "output_type": "stream",
     "text": [
      " 54%|████████████████████████▏                    | 7/13 [02:47<01:01, 10.20s/it]\n",
      "100%|████████████████████████████████████████████| 13/13 [00:00<00:00, 13.35it/s]\n"
     ]
    },
    {
     "name": "stdout",
     "output_type": "stream",
     "text": [
      "Iterating over samples for capacity change feature generation...\n"
     ]
    },
    {
     "name": "stderr",
     "output_type": "stream",
     "text": [
      "100%|███████████████████████████████████████████| 13/13 [00:00<00:00, 219.04it/s]\n",
      "100%|████████████████████████████████████████████| 13/13 [00:00<00:00, 15.15it/s]\n"
     ]
    },
    {
     "name": "stdout",
     "output_type": "stream",
     "text": [
      "Iterating over samples for capacity change feature generation...\n"
     ]
    },
    {
     "name": "stderr",
     "output_type": "stream",
     "text": [
      "100%|███████████████████████████████████████████| 13/13 [00:00<00:00, 261.64it/s]\n",
      "100%|████████████████████████████████████████████| 13/13 [02:52<00:00, 13.30s/it]\n",
      " 92%|████████████████████████████████████████▌   | 12/13 [02:53<00:02,  2.59s/it]"
     ]
    },
    {
     "name": "stdout",
     "output_type": "stream",
     "text": [
      "Iterating over samples for envelope-based feature generation...\n"
     ]
    },
    {
     "name": "stderr",
     "output_type": "stream",
     "text": [
      "100%|████████████████████████████████████████████| 13/13 [02:53<00:00, 13.36s/it]\n",
      "100%|████████████████████████████████████████████| 13/13 [02:53<00:00, 13.38s/it]\n"
     ]
    },
    {
     "name": "stdout",
     "output_type": "stream",
     "text": [
      "Iterating over samples for envelope-based feature generation...\n"
     ]
    },
    {
     "name": "stderr",
     "output_type": "stream",
     "text": [
      "\r",
      "  0%|                                                     | 0/13 [00:00<?, ?it/s]"
     ]
    },
    {
     "name": "stdout",
     "output_type": "stream",
     "text": [
      "Iterating over samples for envelope-based feature generation...\n"
     ]
    },
    {
     "name": "stderr",
     "output_type": "stream",
     "text": [
      "100%|████████████████████████████████████████████| 13/13 [00:14<00:00,  1.10s/it]\n"
     ]
    },
    {
     "name": "stdout",
     "output_type": "stream",
     "text": [
      "Iterating over samples for cycle slope and intercept calculation feature generation...\n"
     ]
    },
    {
     "name": "stderr",
     "output_type": "stream",
     "text": [
      "100%|███████████████████████████████████████████| 13/13 [00:00<00:00, 274.98it/s]\n"
     ]
    },
    {
     "name": "stdout",
     "output_type": "stream",
     "text": [
      "Iterating over samples for dQV difference calculation feature generation...\n"
     ]
    },
    {
     "name": "stderr",
     "output_type": "stream",
     "text": [
      "100%|████████████████████████████████████████████| 13/13 [00:14<00:00,  1.08s/it]\n",
      "100%|████████████████████████████████████████████| 13/13 [00:00<00:00, 21.69it/s]\n"
     ]
    },
    {
     "name": "stdout",
     "output_type": "stream",
     "text": [
      "Iterating over samples for capacity change feature generation...\n"
     ]
    },
    {
     "name": "stderr",
     "output_type": "stream",
     "text": [
      "\r",
      "  0%|                                                     | 0/13 [00:00<?, ?it/s]"
     ]
    },
    {
     "name": "stdout",
     "output_type": "stream",
     "text": [
      "Iterating over samples for cycle slope and intercept calculation feature generation...\n"
     ]
    },
    {
     "name": "stderr",
     "output_type": "stream",
     "text": [
      "100%|███████████████████████████████████████████| 13/13 [00:00<00:00, 286.72it/s]\n",
      "100%|███████████████████████████████████████████| 13/13 [00:00<00:00, 264.63it/s]\n"
     ]
    },
    {
     "name": "stdout",
     "output_type": "stream",
     "text": [
      "Iterating over samples for dQV difference calculation feature generation...\n"
     ]
    },
    {
     "name": "stderr",
     "output_type": "stream",
     "text": [
      "100%|████████████████████████████████████████████| 13/13 [00:00<00:00, 21.39it/s]\n"
     ]
    },
    {
     "name": "stdout",
     "output_type": "stream",
     "text": [
      "Iterating over samples for capacity change feature generation...\n"
     ]
    },
    {
     "name": "stderr",
     "output_type": "stream",
     "text": [
      "100%|███████████████████████████████████████████| 13/13 [00:00<00:00, 315.96it/s]\n",
      "100%|████████████████████████████████████████████| 13/13 [00:32<00:00,  2.47s/it]\n"
     ]
    },
    {
     "name": "stdout",
     "output_type": "stream",
     "text": [
      "Iterating over samples for cycle slope and intercept calculation feature generation...\n"
     ]
    },
    {
     "name": "stderr",
     "output_type": "stream",
     "text": [
      "100%|███████████████████████████████████████████| 13/13 [00:00<00:00, 250.32it/s]\n"
     ]
    },
    {
     "name": "stdout",
     "output_type": "stream",
     "text": [
      "Iterating over samples for dQV difference calculation feature generation...\n"
     ]
    },
    {
     "name": "stderr",
     "output_type": "stream",
     "text": [
      "100%|████████████████████████████████████████████| 13/13 [00:00<00:00, 16.92it/s]\n"
     ]
    },
    {
     "name": "stdout",
     "output_type": "stream",
     "text": [
      "Iterating over samples for capacity change feature generation...\n"
     ]
    },
    {
     "name": "stderr",
     "output_type": "stream",
     "text": [
      "100%|███████████████████████████████████████████| 13/13 [00:00<00:00, 275.16it/s]\n"
     ]
    },
    {
     "name": "stdout",
     "output_type": "stream",
     "text": [
      "Iterating over samples for base feature generation...\n"
     ]
    },
    {
     "name": "stderr",
     "output_type": "stream",
     "text": [
      "\r",
      "  0%|                                                     | 0/13 [00:00<?, ?it/s]"
     ]
    },
    {
     "name": "stdout",
     "output_type": "stream",
     "text": [
      "Iterating over samples for base feature generation...\n"
     ]
    },
    {
     "name": "stderr",
     "output_type": "stream",
     "text": [
      "\r",
      "  0%|                                                     | 0/13 [00:00<?, ?it/s]"
     ]
    },
    {
     "name": "stdout",
     "output_type": "stream",
     "text": [
      "Iterating over samples for base feature generation...\n"
     ]
    },
    {
     "name": "stderr",
     "output_type": "stream",
     "text": [
      "\r",
      "  0%|                                                     | 0/13 [00:00<?, ?it/s]"
     ]
    },
    {
     "name": "stdout",
     "output_type": "stream",
     "text": [
      "Iterating over samples for base feature generation...\n"
     ]
    },
    {
     "name": "stderr",
     "output_type": "stream",
     "text": [
      "\r",
      "  0%|                                                     | 0/13 [00:00<?, ?it/s]"
     ]
    },
    {
     "name": "stdout",
     "output_type": "stream",
     "text": [
      "Iterating over samples for base feature generation...\n"
     ]
    },
    {
     "name": "stderr",
     "output_type": "stream",
     "text": [
      "\r",
      "  0%|                                                     | 0/13 [00:00<?, ?it/s]"
     ]
    },
    {
     "name": "stdout",
     "output_type": "stream",
     "text": [
      "Iterating over samples for base feature generation...\n"
     ]
    },
    {
     "name": "stderr",
     "output_type": "stream",
     "text": [
      "\r",
      "  0%|                                                     | 0/13 [00:00<?, ?it/s]"
     ]
    },
    {
     "name": "stdout",
     "output_type": "stream",
     "text": [
      "Iterating over samples for base feature generation...\n"
     ]
    },
    {
     "name": "stderr",
     "output_type": "stream",
     "text": [
      "\r",
      "  0%|                                                     | 0/13 [00:00<?, ?it/s]"
     ]
    },
    {
     "name": "stdout",
     "output_type": "stream",
     "text": [
      "Iterating over samples for base feature generation...\n"
     ]
    },
    {
     "name": "stderr",
     "output_type": "stream",
     "text": [
      "\r",
      "  0%|                                                     | 0/13 [00:00<?, ?it/s]"
     ]
    },
    {
     "name": "stdout",
     "output_type": "stream",
     "text": [
      "Iterating over samples for base feature generation...\n"
     ]
    },
    {
     "name": "stderr",
     "output_type": "stream",
     "text": [
      "\r",
      "  0%|                                                     | 0/13 [00:00<?, ?it/s]"
     ]
    },
    {
     "name": "stdout",
     "output_type": "stream",
     "text": [
      "Iterating over samples for base feature generation...\n"
     ]
    },
    {
     "name": "stderr",
     "output_type": "stream",
     "text": [
      "\r",
      "  0%|                                                     | 0/13 [00:00<?, ?it/s]"
     ]
    },
    {
     "name": "stdout",
     "output_type": "stream",
     "text": [
      "Iterating over samples for base feature generation...\n"
     ]
    },
    {
     "name": "stderr",
     "output_type": "stream",
     "text": [
      "100%|████████████████████████████████████████████| 12/12 [01:32<00:00,  7.74s/it]\n"
     ]
    },
    {
     "name": "stdout",
     "output_type": "stream",
     "text": [
      "Iterating over samples for envelope-based feature generation...\n"
     ]
    },
    {
     "name": "stderr",
     "output_type": "stream",
     "text": [
      "100%|████████████████████████████████████████████| 13/13 [02:15<00:00, 10.43s/it]\n",
      " 92%|████████████████████████████████████████▌   | 12/13 [02:15<00:02,  2.52s/it]"
     ]
    },
    {
     "name": "stdout",
     "output_type": "stream",
     "text": [
      "Iterating over samples for envelope-based feature generation...\n"
     ]
    },
    {
     "name": "stderr",
     "output_type": "stream",
     "text": [
      " 85%|█████████████████████████████████████▏      | 11/13 [02:17<00:06,  3.28s/it]\n",
      "100%|████████████████████████████████████████████| 13/13 [02:17<00:00, 10.58s/it]\n",
      " 92%|████████████████████████████████████████▌   | 12/13 [02:17<00:02,  2.28s/it]"
     ]
    },
    {
     "name": "stdout",
     "output_type": "stream",
     "text": [
      "Iterating over samples for envelope-based feature generation...\n"
     ]
    },
    {
     "name": "stderr",
     "output_type": "stream",
     "text": [
      "\r",
      "  0%|                                                     | 0/13 [00:00<?, ?it/s]"
     ]
    },
    {
     "name": "stdout",
     "output_type": "stream",
     "text": [
      "Iterating over samples for envelope-based feature generation...\n"
     ]
    },
    {
     "name": "stderr",
     "output_type": "stream",
     "text": [
      "100%|████████████████████████████████████████████| 13/13 [02:18<00:00, 10.68s/it]\n"
     ]
    },
    {
     "name": "stdout",
     "output_type": "stream",
     "text": [
      "Iterating over samples for envelope-based feature generation...\n"
     ]
    },
    {
     "name": "stderr",
     "output_type": "stream",
     "text": [
      "100%|████████████████████████████████████████████| 13/13 [02:19<00:00, 10.76s/it]\n",
      "100%|████████████████████████████████████████████| 13/13 [02:19<00:00, 10.77s/it]\n",
      "  8%|███▍                                         | 1/13 [00:02<00:25,  2.16s/it]"
     ]
    },
    {
     "name": "stdout",
     "output_type": "stream",
     "text": [
      "Iterating over samples for envelope-based feature generation...\n"
     ]
    },
    {
     "name": "stderr",
     "output_type": "stream",
     "text": [
      "\r",
      "  0%|                                                     | 0/13 [00:00<?, ?it/s]"
     ]
    },
    {
     "name": "stdout",
     "output_type": "stream",
     "text": [
      "Iterating over samples for envelope-based feature generation...\n"
     ]
    },
    {
     "name": "stderr",
     "output_type": "stream",
     "text": [
      "100%|████████████████████████████████████████████| 13/13 [02:20<00:00, 10.81s/it]\n"
     ]
    },
    {
     "name": "stdout",
     "output_type": "stream",
     "text": [
      "Iterating over samples for envelope-based feature generation...\n"
     ]
    },
    {
     "name": "stderr",
     "output_type": "stream",
     "text": [
      "100%|████████████████████████████████████████████| 12/12 [01:04<00:00,  5.41s/it]\n",
      " 62%|███████████████████████████▋                 | 8/13 [00:17<00:10,  2.19s/it]"
     ]
    },
    {
     "name": "stdout",
     "output_type": "stream",
     "text": [
      "Iterating over samples for cycle slope and intercept calculation feature generation...\n"
     ]
    },
    {
     "name": "stderr",
     "output_type": "stream",
     "text": [
      "100%|███████████████████████████████████████████| 12/12 [00:00<00:00, 153.55it/s]\n"
     ]
    },
    {
     "name": "stdout",
     "output_type": "stream",
     "text": [
      "Iterating over samples for dQV difference calculation feature generation...\n"
     ]
    },
    {
     "name": "stderr",
     "output_type": "stream",
     "text": [
      "100%|████████████████████████████████████████████| 12/12 [00:01<00:00,  8.01it/s]\n"
     ]
    },
    {
     "name": "stdout",
     "output_type": "stream",
     "text": [
      "Iterating over samples for capacity change feature generation...\n"
     ]
    },
    {
     "name": "stderr",
     "output_type": "stream",
     "text": [
      "100%|███████████████████████████████████████████| 12/12 [00:00<00:00, 146.30it/s]\n",
      "100%|████████████████████████████████████████████| 13/13 [00:27<00:00,  2.13s/it]\n",
      " 92%|████████████████████████████████████████▌   | 12/13 [00:25<00:02,  2.14s/it]"
     ]
    },
    {
     "name": "stdout",
     "output_type": "stream",
     "text": [
      "Iterating over samples for cycle slope and intercept calculation feature generation...\n"
     ]
    },
    {
     "name": "stderr",
     "output_type": "stream",
     "text": [
      "100%|███████████████████████████████████████████| 13/13 [00:00<00:00, 119.79it/s]\n"
     ]
    },
    {
     "name": "stdout",
     "output_type": "stream",
     "text": [
      "Iterating over samples for dQV difference calculation feature generation...\n"
     ]
    },
    {
     "name": "stderr",
     "output_type": "stream",
     "text": [
      "100%|████████████████████████████████████████████| 13/13 [00:01<00:00, 11.15it/s]\n"
     ]
    },
    {
     "name": "stdout",
     "output_type": "stream",
     "text": [
      "Iterating over samples for capacity change feature generation...\n"
     ]
    },
    {
     "name": "stderr",
     "output_type": "stream",
     "text": [
      "100%|███████████████████████████████████████████| 13/13 [00:00<00:00, 134.47it/s]\n",
      "100%|████████████████████████████████████████████| 13/13 [00:28<00:00,  2.18s/it]\n",
      "\n",
      " 92%|████████████████████████████████████████▌   | 12/13 [00:25<00:02,  2.18s/it]"
     ]
    },
    {
     "name": "stdout",
     "output_type": "stream",
     "text": [
      "Iterating over samples for cycle slope and intercept calculation feature generation...\n",
      "Iterating over samples for cycle slope and intercept calculation feature generation...\n"
     ]
    },
    {
     "name": "stderr",
     "output_type": "stream",
     "text": [
      "100%|███████████████████████████████████████████| 13/13 [00:00<00:00, 170.55it/s]\n",
      "\n"
     ]
    },
    {
     "name": "stdout",
     "output_type": "stream",
     "text": [
      "Iterating over samples for dQV difference calculation feature generation...Iterating over samples for dQV difference calculation feature generation...\n",
      "\n"
     ]
    },
    {
     "name": "stderr",
     "output_type": "stream",
     "text": [
      "100%|████████████████████████████████████████████| 13/13 [00:28<00:00,  2.17s/it]\n",
      "100%|████████████████████████████████████████████| 13/13 [00:01<00:00, 12.04it/s]\n"
     ]
    },
    {
     "name": "stdout",
     "output_type": "stream",
     "text": [
      "Iterating over samples for capacity change feature generation...\n"
     ]
    },
    {
     "name": "stderr",
     "output_type": "stream",
     "text": [
      "100%|████████████████████████████████████████████| 13/13 [00:01<00:00, 11.51it/s]\n"
     ]
    },
    {
     "name": "stdout",
     "output_type": "stream",
     "text": [
      "Iterating over samples for capacity change feature generation...\n"
     ]
    },
    {
     "name": "stderr",
     "output_type": "stream",
     "text": [
      "100%|███████████████████████████████████████████| 13/13 [00:00<00:00, 172.95it/s]\n",
      "100%|███████████████████████████████████████████| 13/13 [00:00<00:00, 173.60it/s]\n"
     ]
    },
    {
     "name": "stdout",
     "output_type": "stream",
     "text": [
      "Iterating over samples for cycle slope and intercept calculation feature generation...\n"
     ]
    },
    {
     "name": "stderr",
     "output_type": "stream",
     "text": [
      "100%|███████████████████████████████████████████| 13/13 [00:00<00:00, 167.73it/s]\n"
     ]
    },
    {
     "name": "stdout",
     "output_type": "stream",
     "text": [
      "Iterating over samples for dQV difference calculation feature generation...\n"
     ]
    },
    {
     "name": "stderr",
     "output_type": "stream",
     "text": [
      "100%|████████████████████████████████████████████| 13/13 [00:27<00:00,  2.15s/it]\n",
      " 31%|█████████████▊                               | 4/13 [00:00<00:00, 12.52it/s]"
     ]
    },
    {
     "name": "stdout",
     "output_type": "stream",
     "text": [
      "Iterating over samples for cycle slope and intercept calculation feature generation...\n"
     ]
    },
    {
     "name": "stderr",
     "output_type": "stream",
     "text": [
      "100%|███████████████████████████████████████████| 13/13 [00:00<00:00, 205.48it/s]\n",
      "100%|████████████████████████████████████████████| 13/13 [00:28<00:00,  2.15s/it]\n",
      " 46%|████████████████████▊                        | 6/13 [00:00<00:00, 12.57it/s]"
     ]
    },
    {
     "name": "stdout",
     "output_type": "stream",
     "text": [
      "Iterating over samples for dQV difference calculation feature generation...\n"
     ]
    },
    {
     "name": "stderr",
     "output_type": "stream",
     "text": [
      " 62%|███████████████████████████▋                 | 8/13 [00:00<00:00, 12.85it/s]"
     ]
    },
    {
     "name": "stdout",
     "output_type": "stream",
     "text": [
      "Iterating over samples for cycle slope and intercept calculation feature generation...\n"
     ]
    },
    {
     "name": "stderr",
     "output_type": "stream",
     "text": [
      "100%|███████████████████████████████████████████| 13/13 [00:00<00:00, 175.25it/s]\n"
     ]
    },
    {
     "name": "stdout",
     "output_type": "stream",
     "text": [
      "Iterating over samples for dQV difference calculation feature generation...\n"
     ]
    },
    {
     "name": "stderr",
     "output_type": "stream",
     "text": [
      "100%|████████████████████████████████████████████| 13/13 [00:00<00:00, 13.04it/s]\n"
     ]
    },
    {
     "name": "stdout",
     "output_type": "stream",
     "text": [
      "Iterating over samples for capacity change feature generation...\n"
     ]
    },
    {
     "name": "stderr",
     "output_type": "stream",
     "text": [
      "100%|███████████████████████████████████████████| 13/13 [00:00<00:00, 195.21it/s]\n",
      "100%|████████████████████████████████████████████| 13/13 [00:28<00:00,  2.17s/it]\n",
      " 46%|████████████████████▊                        | 6/13 [00:00<00:00, 13.40it/s]"
     ]
    },
    {
     "name": "stdout",
     "output_type": "stream",
     "text": [
      "Iterating over samples for cycle slope and intercept calculation feature generation...\n"
     ]
    },
    {
     "name": "stderr",
     "output_type": "stream",
     "text": [
      "100%|███████████████████████████████████████████| 13/13 [00:00<00:00, 193.02it/s]\n",
      " 92%|████████████████████████████████████████▌   | 12/13 [00:00<00:00, 13.39it/s]"
     ]
    },
    {
     "name": "stdout",
     "output_type": "stream",
     "text": [
      "Iterating over samples for dQV difference calculation feature generation...\n"
     ]
    },
    {
     "name": "stderr",
     "output_type": "stream",
     "text": [
      "100%|████████████████████████████████████████████| 13/13 [00:00<00:00, 13.78it/s]\n"
     ]
    },
    {
     "name": "stdout",
     "output_type": "stream",
     "text": [
      "Iterating over samples for capacity change feature generation...\n"
     ]
    },
    {
     "name": "stderr",
     "output_type": "stream",
     "text": [
      "100%|███████████████████████████████████████████| 13/13 [00:00<00:00, 219.50it/s]\n",
      "100%|████████████████████████████████████████████| 13/13 [00:00<00:00, 13.54it/s]\n"
     ]
    },
    {
     "name": "stdout",
     "output_type": "stream",
     "text": [
      "Iterating over samples for capacity change feature generation...\n"
     ]
    },
    {
     "name": "stderr",
     "output_type": "stream",
     "text": [
      "100%|███████████████████████████████████████████| 13/13 [00:00<00:00, 243.33it/s]\n",
      "100%|████████████████████████████████████████████| 13/13 [00:00<00:00, 14.93it/s]\n"
     ]
    },
    {
     "name": "stdout",
     "output_type": "stream",
     "text": [
      "Iterating over samples for capacity change feature generation...\n"
     ]
    },
    {
     "name": "stderr",
     "output_type": "stream",
     "text": [
      "100%|███████████████████████████████████████████| 13/13 [00:00<00:00, 236.16it/s]\n",
      "100%|████████████████████████████████████████████| 13/13 [02:55<00:00, 13.47s/it]\n"
     ]
    },
    {
     "name": "stdout",
     "output_type": "stream",
     "text": [
      "Iterating over samples for envelope-based feature generation...\n"
     ]
    },
    {
     "name": "stderr",
     "output_type": "stream",
     "text": [
      "100%|████████████████████████████████████████████| 13/13 [02:55<00:00, 13.49s/it]\n"
     ]
    },
    {
     "name": "stdout",
     "output_type": "stream",
     "text": [
      "Iterating over samples for envelope-based feature generation...\n"
     ]
    },
    {
     "name": "stderr",
     "output_type": "stream",
     "text": [
      "100%|████████████████████████████████████████████| 13/13 [02:56<00:00, 13.55s/it]\n"
     ]
    },
    {
     "name": "stdout",
     "output_type": "stream",
     "text": [
      "Iterating over samples for envelope-based feature generation...\n"
     ]
    },
    {
     "name": "stderr",
     "output_type": "stream",
     "text": [
      "100%|████████████████████████████████████████████| 13/13 [00:14<00:00,  1.10s/it]\n"
     ]
    },
    {
     "name": "stdout",
     "output_type": "stream",
     "text": [
      "Iterating over samples for cycle slope and intercept calculation feature generation..."
     ]
    },
    {
     "name": "stderr",
     "output_type": "stream",
     "text": [
      "\r",
      "100%|████████████████████████████████████████████| 13/13 [00:14<00:00,  1.08s/it]"
     ]
    },
    {
     "name": "stdout",
     "output_type": "stream",
     "text": [
      "\n"
     ]
    },
    {
     "name": "stderr",
     "output_type": "stream",
     "text": [
      "100%|████████████████████████████████████████████| 13/13 [00:14<00:00,  1.09s/it]\n",
      "100%|███████████████████████████████████████████| 13/13 [00:00<00:00, 270.97it/s]\n"
     ]
    },
    {
     "name": "stdout",
     "output_type": "stream",
     "text": [
      "Iterating over samples for dQV difference calculation feature generation...\n",
      "Iterating over samples for cycle slope and intercept calculation feature generation...\n"
     ]
    },
    {
     "name": "stderr",
     "output_type": "stream",
     "text": [
      "100%|███████████████████████████████████████████| 13/13 [00:00<00:00, 267.20it/s]\n"
     ]
    },
    {
     "name": "stdout",
     "output_type": "stream",
     "text": [
      "Iterating over samples for dQV difference calculation feature generation...\n"
     ]
    },
    {
     "name": "stderr",
     "output_type": "stream",
     "text": [
      "100%|████████████████████████████████████████████| 13/13 [00:00<00:00, 19.95it/s]\n"
     ]
    },
    {
     "name": "stdout",
     "output_type": "stream",
     "text": [
      "Iterating over samples for capacity change feature generation...\n"
     ]
    },
    {
     "name": "stderr",
     "output_type": "stream",
     "text": [
      "100%|███████████████████████████████████████████| 13/13 [00:00<00:00, 294.15it/s]\n",
      "100%|████████████████████████████████████████████| 13/13 [00:00<00:00, 19.57it/s]\n"
     ]
    },
    {
     "name": "stdout",
     "output_type": "stream",
     "text": [
      "Iterating over samples for capacity change feature generation...\n"
     ]
    },
    {
     "name": "stderr",
     "output_type": "stream",
     "text": [
      "100%|███████████████████████████████████████████| 13/13 [00:00<00:00, 277.52it/s]\n",
      "100%|████████████████████████████████████████████| 13/13 [00:32<00:00,  2.47s/it]\n"
     ]
    },
    {
     "name": "stdout",
     "output_type": "stream",
     "text": [
      "Iterating over samples for cycle slope and intercept calculation feature generation...\n"
     ]
    },
    {
     "name": "stderr",
     "output_type": "stream",
     "text": [
      "100%|███████████████████████████████████████████| 13/13 [00:00<00:00, 233.97it/s]\n"
     ]
    },
    {
     "name": "stdout",
     "output_type": "stream",
     "text": [
      "Iterating over samples for dQV difference calculation feature generation...\n"
     ]
    },
    {
     "name": "stderr",
     "output_type": "stream",
     "text": [
      "100%|████████████████████████████████████████████| 13/13 [00:00<00:00, 14.82it/s]\n"
     ]
    },
    {
     "name": "stdout",
     "output_type": "stream",
     "text": [
      "Iterating over samples for capacity change feature generation...\n"
     ]
    },
    {
     "name": "stderr",
     "output_type": "stream",
     "text": [
      "100%|███████████████████████████████████████████| 13/13 [00:00<00:00, 243.94it/s]\n",
      "/usr/local/Cellar/python@3.9/3.9.15/Frameworks/Python.framework/Versions/3.9/lib/python3.9/multiprocessing/resource_tracker.py:216: UserWarning: resource_tracker: There appear to be 1 leaked semaphore objects to clean up at shutdown\n",
      "  warnings.warn('resource_tracker: There appear to be %d '\n",
      "/usr/local/Cellar/python@3.9/3.9.15/Frameworks/Python.framework/Versions/3.9/lib/python3.9/multiprocessing/resource_tracker.py:216: UserWarning: resource_tracker: There appear to be 1 leaked semaphore objects to clean up at shutdown\n",
      "  warnings.warn('resource_tracker: There appear to be %d '\n",
      "/usr/local/Cellar/python@3.9/3.9.15/Frameworks/Python.framework/Versions/3.9/lib/python3.9/multiprocessing/resource_tracker.py:216: UserWarning: resource_tracker: There appear to be 1 leaked semaphore objects to clean up at shutdown\n",
      "  warnings.warn('resource_tracker: There appear to be %d '\n",
      "/usr/local/Cellar/python@3.9/3.9.15/Frameworks/Python.framework/Versions/3.9/lib/python3.9/multiprocessing/resource_tracker.py:216: UserWarning: resource_tracker: There appear to be 1 leaked semaphore objects to clean up at shutdown\n",
      "  warnings.warn('resource_tracker: There appear to be %d '\n",
      "/usr/local/Cellar/python@3.9/3.9.15/Frameworks/Python.framework/Versions/3.9/lib/python3.9/multiprocessing/resource_tracker.py:216: UserWarning: resource_tracker: There appear to be 1 leaked semaphore objects to clean up at shutdown\n",
      "  warnings.warn('resource_tracker: There appear to be %d '\n",
      "/usr/local/Cellar/python@3.9/3.9.15/Frameworks/Python.framework/Versions/3.9/lib/python3.9/multiprocessing/resource_tracker.py:216: UserWarning: resource_tracker: There appear to be 1 leaked semaphore objects to clean up at shutdown\n",
      "  warnings.warn('resource_tracker: There appear to be %d '\n",
      "/usr/local/Cellar/python@3.9/3.9.15/Frameworks/Python.framework/Versions/3.9/lib/python3.9/multiprocessing/resource_tracker.py:216: UserWarning: resource_tracker: There appear to be 1 leaked semaphore objects to clean up at shutdown\n",
      "  warnings.warn('resource_tracker: There appear to be %d '\n",
      "/usr/local/Cellar/python@3.9/3.9.15/Frameworks/Python.framework/Versions/3.9/lib/python3.9/multiprocessing/resource_tracker.py:216: UserWarning: resource_tracker: There appear to be 1 leaked semaphore objects to clean up at shutdown\n",
      "  warnings.warn('resource_tracker: There appear to be %d '\n",
      "/usr/local/Cellar/python@3.9/3.9.15/Frameworks/Python.framework/Versions/3.9/lib/python3.9/multiprocessing/resource_tracker.py:216: UserWarning: resource_tracker: There appear to be 1 leaked semaphore objects to clean up at shutdown\n",
      "  warnings.warn('resource_tracker: There appear to be %d '\n",
      "/usr/local/Cellar/python@3.9/3.9.15/Frameworks/Python.framework/Versions/3.9/lib/python3.9/multiprocessing/resource_tracker.py:216: UserWarning: resource_tracker: There appear to be 1 leaked semaphore objects to clean up at shutdown\n",
      "  warnings.warn('resource_tracker: There appear to be %d '\n",
      "/usr/local/Cellar/python@3.9/3.9.15/Frameworks/Python.framework/Versions/3.9/lib/python3.9/multiprocessing/resource_tracker.py:216: UserWarning: resource_tracker: There appear to be 1 leaked semaphore objects to clean up at shutdown\n",
      "  warnings.warn('resource_tracker: There appear to be %d '\n"
     ]
    }
   ],
   "source": [
    "# running in parallel completes in 418s\n",
    "# running in serial completes in 1660s\n",
    "# 4x speed increase by running in parallel \n",
    "start = time.time()\n",
    "final_df = {}\n",
    "with mp.Pool(processes=cpus_to_use) as pool:\n",
    "    for file_type in ['train', 'test']:\n",
    "        results = pool.map(create_dataset, all_files['train'])\n",
    "        final_df[file_type] = pd.concat(results)\n",
    "        \n",
    "# tf_ds = df_to_tf_dataset(pd.concat(results))\n",
    "end_parallel = time.time() - start"
   ]
  },
  {
   "cell_type": "code",
   "execution_count": 19,
   "id": "1e5f72f0",
   "metadata": {
    "collapsed": true
   },
   "outputs": [
    {
     "name": "stdout",
     "output_type": "stream",
     "text": [
      "Iterating over samples for base feature generation...\n"
     ]
    },
    {
     "name": "stderr",
     "output_type": "stream",
     "text": [
      "100%|██████████████████████████████████████████| 142/142 [13:14<00:00,  5.60s/it]\n"
     ]
    },
    {
     "name": "stdout",
     "output_type": "stream",
     "text": [
      "Iterating over samples for envelope-based feature generation...\n"
     ]
    },
    {
     "name": "stderr",
     "output_type": "stream",
     "text": [
      "100%|██████████████████████████████████████████| 142/142 [07:02<00:00,  2.98s/it]\n"
     ]
    },
    {
     "name": "stdout",
     "output_type": "stream",
     "text": [
      "Iterating over samples for cycle slope and intercept calculation feature generation...\n"
     ]
    },
    {
     "name": "stderr",
     "output_type": "stream",
     "text": [
      "100%|█████████████████████████████████████████| 142/142 [00:01<00:00, 117.33it/s]\n"
     ]
    },
    {
     "name": "stdout",
     "output_type": "stream",
     "text": [
      "Iterating over samples for dQV difference calculation feature generation...\n"
     ]
    },
    {
     "name": "stderr",
     "output_type": "stream",
     "text": [
      "100%|██████████████████████████████████████████| 142/142 [00:47<00:00,  3.00it/s]\n"
     ]
    },
    {
     "name": "stdout",
     "output_type": "stream",
     "text": [
      "Iterating over samples for capacity change feature generation...\n"
     ]
    },
    {
     "name": "stderr",
     "output_type": "stream",
     "text": [
      "100%|█████████████████████████████████████████| 142/142 [00:01<00:00, 111.23it/s]\n"
     ]
    },
    {
     "name": "stdout",
     "output_type": "stream",
     "text": [
      "Iterating over samples for base feature generation...\n"
     ]
    },
    {
     "name": "stderr",
     "output_type": "stream",
     "text": [
      "100%|████████████████████████████████████████████| 35/35 [05:40<00:00,  9.73s/it]\n"
     ]
    },
    {
     "name": "stdout",
     "output_type": "stream",
     "text": [
      "Iterating over samples for envelope-based feature generation...\n"
     ]
    },
    {
     "name": "stderr",
     "output_type": "stream",
     "text": [
      "100%|████████████████████████████████████████████| 35/35 [00:36<00:00,  1.04s/it]\n"
     ]
    },
    {
     "name": "stdout",
     "output_type": "stream",
     "text": [
      "Iterating over samples for cycle slope and intercept calculation feature generation...\n"
     ]
    },
    {
     "name": "stderr",
     "output_type": "stream",
     "text": [
      "100%|███████████████████████████████████████████| 35/35 [00:00<00:00, 231.30it/s]\n"
     ]
    },
    {
     "name": "stdout",
     "output_type": "stream",
     "text": [
      "Iterating over samples for dQV difference calculation feature generation...\n"
     ]
    },
    {
     "name": "stderr",
     "output_type": "stream",
     "text": [
      "100%|████████████████████████████████████████████| 35/35 [00:03<00:00, 10.57it/s]\n"
     ]
    },
    {
     "name": "stdout",
     "output_type": "stream",
     "text": [
      "Iterating over samples for capacity change feature generation...\n"
     ]
    },
    {
     "name": "stderr",
     "output_type": "stream",
     "text": [
      "100%|███████████████████████████████████████████| 35/35 [00:00<00:00, 245.79it/s]\n"
     ]
    }
   ],
   "source": [
    "start = time.time()\n",
    "final_df = {}\n",
    "for file_type in ['train', 'test']:\n",
    "    results = create_dataset(p42_files[file_type] + p28_files[file_type])\n",
    "    final_df[file_type] = results\n",
    "end_serial = time.time() - start"
   ]
  },
  {
   "cell_type": "markdown",
   "id": "6cb59f93",
   "metadata": {},
   "source": [
    "### 1.2 Dataset Validation"
   ]
  },
  {
   "cell_type": "code",
   "execution_count": 30,
   "id": "cf67acb8",
   "metadata": {},
   "outputs": [
    {
     "data": {
      "text/html": [
       "<iframe id='facets-iframe' width=\"100%\" height=\"500px\"></iframe>\n",
       "        <script>\n",
       "        facets_iframe = document.getElementById('facets-iframe');\n",
       "        facets_html = '<script src=\"https://cdnjs.cloudflare.com/ajax/libs/webcomponentsjs/1.3.3/webcomponents-lite.js\"><\\/script><link rel=\"import\" href=\"https://raw.githubusercontent.com/PAIR-code/facets/master/facets-dist/facets-jupyter.html\"><facets-overview proto-input=\"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\"></facets-overview>';\n",
       "        facets_iframe.srcdoc = facets_html;\n",
       "         facets_iframe.id = \"\";\n",
       "         setTimeout(() => {\n",
       "           facets_iframe.setAttribute('height', facets_iframe.contentWindow.document.body.offsetHeight + 'px')\n",
       "         }, 1500)\n",
       "         </script>"
      ],
      "text/plain": [
       "<IPython.core.display.HTML object>"
      ]
     },
     "metadata": {},
     "output_type": "display_data"
    }
   ],
   "source": [
    "train_stats = tfdv.generate_statistics_from_dataframe(dataframe=final_df['train'])\n",
    "test_stats = tfdv.generate_statistics_from_dataframe(dataframe=final_df['test'])\n",
    "\n",
    "tfdv.visualize_statistics(\n",
    "  lhs_statistics=train_stats, lhs_name='TRAIN_DATASET',\n",
    "  rhs_statistics=test_stats, rhs_name='TEST_DATASET')\n"
   ]
  },
  {
   "cell_type": "code",
   "execution_count": null,
   "id": "f6020590",
   "metadata": {},
   "outputs": [],
   "source": [
    "training_dir = '/Users/jcheung/Library/CloudStorage/OneDrive-SharedLibraries-BEYONDLIMITS,INC/' \\\n",
    "                       'Molicel - General/06 Results/IPYNB_input_files/Raw_files_csvs/P42/mini_train'\n",
    "\n",
    "CSV_COL_TYPE = {'Step time': tf.float32, \n",
    "          'V': tf.float32, 'I': tf.float32, \n",
    "          'P': tf.float32, 'R': tf.float32, \n",
    "          'T': tf.float32, 'mAH': tf.float32,\n",
    "          'WH': tf.float32, 'End Status': tf.string,\n",
    "          'Action': tf.string, 'Advance Cycle': tf.int32}\n",
    "\n",
    "def create_dataset(pattern, mode='eval'):\n",
    "    # batch default set to 1 so we can filter after\n",
    "    dataset = tf.data.experimental.make_csv_dataset(file_pattern = pattern,\n",
    "                                                    batch_size=1,\n",
    "                                                    header=True,\n",
    "                                                    select_columns = CSV_COL_TYPE.keys(),\n",
    "                                                    column_defaults=CSV_COL_TYPE.values())\n",
    "    if mode == 'train':\n",
    "        dataset = dataset.shuffle(1000).repeat()\n",
    "        \n",
    "    return dataset"
   ]
  },
  {
   "cell_type": "code",
   "execution_count": null,
   "id": "80583bb2",
   "metadata": {},
   "outputs": [],
   "source": [
    "# Define reducer\n",
    "# Reducer requires 3 functions - init_func, reduce_func, finalize_func. \n",
    "# init_func - to define initial value\n",
    "# reducer_func - operation to perform on values with same key\n",
    "# finalize_func - value to return in the end.\n",
    "def init_func(_):\n",
    "    return 0.0\n",
    "\n",
    "def reduce_func(state, value):\n",
    "    return state + value['features']\n",
    "\n",
    "def finalize_func(state):\n",
    "    return state\n",
    "\n",
    "retention_reducer = tf.data.experimental.Reducer(init_func, reduce_func, finalize_func)"
   ]
  },
  {
   "cell_type": "code",
   "execution_count": null,
   "id": "ae1d49a8",
   "metadata": {},
   "outputs": [],
   "source": [
    "\n",
    "dataset = create_dataset(pattern=f\"{training_dir}/*.csv\", mode='train')\n",
    "dataset = dataset.unbatch().filter(lambda x: x[\"Action\"] == 'CP\\D' and (x[\"End Status\"] == 'ET') or (x[\"End Status\"] == 'EV'))\n",
    "\n",
    "# dataset.map(lambda x: tf.group_by_reducer(x['Advance Cycle']: ))\n",
    "\n",
    "\n",
    "# dataset = dataset.filter(lambda x: tf.reduce_all(tf.equal(x['End Status'], ['EV', 'ET'])))\n",
    "dataset = dataset.batch(5)\n"
   ]
  },
  {
   "cell_type": "code",
   "execution_count": null,
   "id": "258a96f3",
   "metadata": {},
   "outputs": [],
   "source": [
    "for x in dataset.take(1):\n",
    "    "
   ]
  },
  {
   "cell_type": "code",
   "execution_count": null,
   "id": "4e66c06b",
   "metadata": {},
   "outputs": [],
   "source": [
    "dataset3 = tf.data.Dataset.zip((dataset1, dataset2))"
   ]
  },
  {
   "cell_type": "code",
   "execution_count": null,
   "id": "83c487bf",
   "metadata": {},
   "outputs": [],
   "source": [
    "# print sample from the csv dataset\n",
    "for features in dataset.take(1):\n",
    "    for i, (name, value) in enumerate(features.items()):\n",
    "        if i > 10:\n",
    "            break\n",
    "        print(f\"{name:20s}: {value}\")\n",
    "    print(f\"[total: {len(features)} features]\")"
   ]
  },
  {
   "cell_type": "markdown",
   "id": "bf2ca017",
   "metadata": {},
   "source": [
    "### 1.2 Dataset mode preprocessing\n"
   ]
  },
  {
   "cell_type": "code",
   "execution_count": null,
   "id": "5fc101dc",
   "metadata": {},
   "outputs": [],
   "source": []
  },
  {
   "cell_type": "code",
   "execution_count": null,
   "id": "0e030556",
   "metadata": {},
   "outputs": [],
   "source": [
    "data"
   ]
  },
  {
   "cell_type": "code",
   "execution_count": null,
   "id": "feccaa2e",
   "metadata": {},
   "outputs": [],
   "source": [
    "    df_origin_sum_ccd = df_origin_ccd.copy()[\n",
    "        (df_origin_ccd['End Status'] == 'EV') | (df_origin_ccd['End Status'] == 'ET')]\n",
    "    df_origin_cpd = row_data[(row_data['Action'] == 'CP\\D')]\n",
    "    df_origin_sum_cpd = df_origin_cpd.copy()[\n",
    "        (df_origin_cpd['End Status'] == 'EV') | (df_origin_cpd['End Status'] == 'ET')]\n",
    "    df_origin_cccvc = row_data[(row_data['Action'] == 'CC-CV\\C')]\n",
    "    df_origin_sum_cccvc = df_origin_cccvc.copy()[(df_origin_cccvc['End Status'] == 'EC')]  # Cut-off Current (EC)\n"
   ]
  },
  {
   "cell_type": "code",
   "execution_count": null,
   "id": "565d54a6",
   "metadata": {},
   "outputs": [],
   "source": []
  },
  {
   "cell_type": "markdown",
   "id": "c6936dd4",
   "metadata": {},
   "source": [
    "\n",
    "### 1.2 TF Data Validation"
   ]
  },
  {
   "cell_type": "code",
   "execution_count": null,
   "id": "a600033e",
   "metadata": {},
   "outputs": [],
   "source": [
    "train_dataset"
   ]
  },
  {
   "cell_type": "code",
   "execution_count": null,
   "id": "3228ec68",
   "metadata": {},
   "outputs": [],
   "source": []
  }
 ],
 "metadata": {
  "kernelspec": {
   "display_name": "molicel-venv",
   "language": "python",
   "name": "molicel-venv"
  },
  "language_info": {
   "codemirror_mode": {
    "name": "ipython",
    "version": 3
   },
   "file_extension": ".py",
   "mimetype": "text/x-python",
   "name": "python",
   "nbconvert_exporter": "python",
   "pygments_lexer": "ipython3",
   "version": "3.9.15"
  }
 },
 "nbformat": 4,
 "nbformat_minor": 5
}
