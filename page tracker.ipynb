{
 "cells": [
  {
   "cell_type": "code",
   "execution_count": 38,
   "metadata": {},
   "outputs": [],
   "source": []
  },
  {
   "cell_type": "code",
   "execution_count": 42,
   "metadata": {},
   "outputs": [
    {
     "data": {
      "text/plain": [
       "True"
      ]
     },
     "execution_count": 42,
     "metadata": {},
     "output_type": "execute_result"
    }
   ],
   "source": []
  },
  {
   "cell_type": "code",
   "execution_count": 53,
   "metadata": {},
   "outputs": [
    {
     "name": "stdout",
     "output_type": "stream",
     "text": [
      "Starting monitoring...\n",
      "no change\n",
      "no change\n",
      "no change\n",
      "no change\n"
     ]
    },
    {
     "ename": "KeyboardInterrupt",
     "evalue": "",
     "output_type": "error",
     "traceback": [
      "\u001b[1;31m---------------------------------------------------------------------------\u001b[0m",
      "\u001b[1;31mKeyboardInterrupt\u001b[0m                         Traceback (most recent call last)",
      "\u001b[1;32m<ipython-input-53-4e438662eb76>\u001b[0m in \u001b[0;36m<module>\u001b[1;34m\u001b[0m\n\u001b[0;32m     62\u001b[0m             \u001b[1;32mbreak\u001b[0m\u001b[1;33m\u001b[0m\u001b[1;33m\u001b[0m\u001b[0m\n\u001b[0;32m     63\u001b[0m \u001b[1;33m\u001b[0m\u001b[0m\n\u001b[1;32m---> 64\u001b[1;33m \u001b[0mtrack\u001b[0m\u001b[1;33m(\u001b[0m\u001b[0mwebsite\u001b[0m\u001b[1;33m,\u001b[0m \u001b[0mtext_message\u001b[0m\u001b[1;33m,\u001b[0m \u001b[0mto_number\u001b[0m\u001b[1;33m)\u001b[0m\u001b[1;33m\u001b[0m\u001b[1;33m\u001b[0m\u001b[0m\n\u001b[0m\u001b[0;32m     65\u001b[0m \u001b[1;31m# if __name__ == '__main__':\u001b[0m\u001b[1;33m\u001b[0m\u001b[1;33m\u001b[0m\u001b[1;33m\u001b[0m\u001b[0m\n",
      "\u001b[1;32m<ipython-input-53-4e438662eb76>\u001b[0m in \u001b[0;36mtrack\u001b[1;34m(website, text_message, to_number)\u001b[0m\n\u001b[0;32m     26\u001b[0m         \u001b[1;32mtry\u001b[0m\u001b[1;33m:\u001b[0m\u001b[1;33m\u001b[0m\u001b[1;33m\u001b[0m\u001b[0m\n\u001b[0;32m     27\u001b[0m             \u001b[1;31m# wait for 5 seconds\u001b[0m\u001b[1;33m\u001b[0m\u001b[1;33m\u001b[0m\u001b[1;33m\u001b[0m\u001b[0m\n\u001b[1;32m---> 28\u001b[1;33m             \u001b[0mtime\u001b[0m\u001b[1;33m.\u001b[0m\u001b[0msleep\u001b[0m\u001b[1;33m(\u001b[0m\u001b[0mping_frequency\u001b[0m\u001b[1;33m)\u001b[0m\u001b[1;33m\u001b[0m\u001b[1;33m\u001b[0m\u001b[0m\n\u001b[0m\u001b[0;32m     29\u001b[0m \u001b[1;33m\u001b[0m\u001b[0m\n\u001b[0;32m     30\u001b[0m             \u001b[0mresponse\u001b[0m \u001b[1;33m=\u001b[0m \u001b[0murlopen\u001b[0m\u001b[1;33m(\u001b[0m\u001b[0murl\u001b[0m\u001b[1;33m)\u001b[0m\u001b[1;33m.\u001b[0m\u001b[0mread\u001b[0m\u001b[1;33m(\u001b[0m\u001b[1;33m)\u001b[0m\u001b[1;33m\u001b[0m\u001b[1;33m\u001b[0m\u001b[0m\n",
      "\u001b[1;31mKeyboardInterrupt\u001b[0m: "
     ]
    }
   ],
   "source": [
    "import time\n",
    "import hashlib\n",
    "from urllib.request import urlopen, Request\n",
    "from twilio.rest import Client\n",
    "from dotenv import load_dotenv\n",
    "import os\n",
    "\n",
    "load_dotenv('.env')\n",
    "account_sid = os.getenv('TWILIO_ACCOUNT_SID')\n",
    "auth_token = os.getenv('TWILIO_AUTH_TOKEN')\n",
    "client = Client(account_sid, auth_token)\n",
    "\n",
    "website = 'https://space-invaders.com/spaceshop/product/99108775083900940'\n",
    "text_message = 'Website change! https://space-invaders.com/spaceshop'\n",
    "to_number = '+14155192029'\n",
    "ping_frequency = 200  # in seconds\n",
    "\n",
    "def track(website, text_message, to_number):\n",
    "    # create initial hash\n",
    "    url = Request(website,\n",
    "                  headers={'User-Agent': 'Mozilla/5.0'})\n",
    "    response = urlopen(url).read()\n",
    "    current_hash = hashlib.sha224(response).hexdigest()\n",
    "    print(\"Starting monitoring...\")\n",
    "    while True:\n",
    "        try:\n",
    "            # wait for 5 seconds\n",
    "            time.sleep(ping_frequency)\n",
    "\n",
    "            response = urlopen(url).read()\n",
    "            new_hash = hashlib.sha224(response).hexdigest()\n",
    "\n",
    "            # check if new hash is same as the previous hash\n",
    "            if new_hash == current_hash:\n",
    "                print('no change')\n",
    "                continue\n",
    "\n",
    "            # if something changed in the hashes\n",
    "            else:\n",
    "                # notify via Twilio\n",
    "                client.messages.create(\n",
    "                    body=text_message,\n",
    "                    from_='+17472479302',\n",
    "                    to=to_number\n",
    "                )\n",
    "\n",
    "                # again read the website and update the hash\n",
    "                response = urlopen(url).read()\n",
    "                current_hash = hashlib.sha224(response).hexdigest()\n",
    "\n",
    "                # wait before pinging\n",
    "                time.sleep(ping_frequency)\n",
    "                continue\n",
    "\n",
    "        # To handle exceptions\n",
    "        except Exception:\n",
    "            client.messages.create(\n",
    "                body=\"Code has broken. :'(\",\n",
    "                from_='+17472479302',\n",
    "                to=to_number\n",
    "            )\n",
    "            break\n",
    "\n",
    "track(website, text_message, to_number)\n",
    "# if __name__ == '__main__':\n"
   ]
  }
 ],
 "metadata": {
  "kernelspec": {
   "display_name": "Python 3",
   "language": "python",
   "name": "python3"
  },
  "language_info": {
   "codemirror_mode": {
    "name": "ipython",
    "version": 3
   },
   "file_extension": ".py",
   "mimetype": "text/x-python",
   "name": "python",
   "nbconvert_exporter": "python",
   "pygments_lexer": "ipython3",
   "version": "3.8.5"
  }
 },
 "nbformat": 4,
 "nbformat_minor": 4
}
