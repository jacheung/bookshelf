{
 "cells": [
  {
   "cell_type": "code",
   "execution_count": 38,
   "metadata": {},
   "outputs": [],
   "source": []
  },
  {
   "cell_type": "code",
   "execution_count": 42,
   "metadata": {},
   "outputs": [
    {
     "data": {
      "text/plain": [
       "True"
      ]
     },
     "execution_count": 42,
     "metadata": {},
     "output_type": "execute_result"
    }
   ],
   "source": []
  },
  {
   "cell_type": "code",
   "execution_count": 50,
   "metadata": {},
   "outputs": [
    {
     "name": "stdout",
     "output_type": "stream",
     "text": [
      "Starting monitoring...\n",
      "no change\n",
      "no change\n",
      "no change\n",
      "no change\n"
     ]
    },
    {
     "ename": "KeyboardInterrupt",
     "evalue": "",
     "output_type": "error",
     "traceback": [
      "\u001b[1;31m---------------------------------------------------------------------------\u001b[0m",
      "\u001b[1;31mKeyboardInterrupt\u001b[0m                         Traceback (most recent call last)",
      "\u001b[1;32m<ipython-input-50-98edf67e0116>\u001b[0m in \u001b[0;36m<module>\u001b[1;34m\u001b[0m\n\u001b[0;32m     69\u001b[0m             \u001b[0mprint\u001b[0m\u001b[1;33m(\u001b[0m\u001b[1;34m\"error\"\u001b[0m\u001b[1;33m)\u001b[0m\u001b[1;33m\u001b[0m\u001b[1;33m\u001b[0m\u001b[0m\n\u001b[0;32m     70\u001b[0m \u001b[1;33m\u001b[0m\u001b[0m\n\u001b[1;32m---> 71\u001b[1;33m \u001b[0mtrack\u001b[0m\u001b[1;33m(\u001b[0m\u001b[0mwebsite\u001b[0m\u001b[1;33m,\u001b[0m \u001b[0mmessage\u001b[0m\u001b[1;33m,\u001b[0m \u001b[0mto_number\u001b[0m\u001b[1;33m)\u001b[0m\u001b[1;33m\u001b[0m\u001b[1;33m\u001b[0m\u001b[0m\n\u001b[0m",
      "\u001b[1;32m<ipython-input-50-98edf67e0116>\u001b[0m in \u001b[0;36mtrack\u001b[1;34m(website, message, to_number)\u001b[0m\n\u001b[0;32m     34\u001b[0m \u001b[1;33m\u001b[0m\u001b[0m\n\u001b[0;32m     35\u001b[0m             \u001b[1;31m# wait for 5 seconds\u001b[0m\u001b[1;33m\u001b[0m\u001b[1;33m\u001b[0m\u001b[1;33m\u001b[0m\u001b[0m\n\u001b[1;32m---> 36\u001b[1;33m             \u001b[0mtime\u001b[0m\u001b[1;33m.\u001b[0m\u001b[0msleep\u001b[0m\u001b[1;33m(\u001b[0m\u001b[1;36m5\u001b[0m\u001b[1;33m)\u001b[0m\u001b[1;33m\u001b[0m\u001b[1;33m\u001b[0m\u001b[0m\n\u001b[0m\u001b[0;32m     37\u001b[0m \u001b[1;33m\u001b[0m\u001b[0m\n\u001b[0;32m     38\u001b[0m             \u001b[1;31m# perform the get request\u001b[0m\u001b[1;33m\u001b[0m\u001b[1;33m\u001b[0m\u001b[1;33m\u001b[0m\u001b[0m\n",
      "\u001b[1;31mKeyboardInterrupt\u001b[0m: "
     ]
    }
   ],
   "source": [
    "import time\n",
    "import hashlib\n",
    "from urllib.request import urlopen, Request\n",
    "from twilio.rest import Client\n",
    "from dotenv import load_dotenv\n",
    "import os\n",
    "\n",
    "load_dotenv('C:\\\\Users\\\\JCheung1\\\\OneDrive - Sempra Energy\\\\Documents\\\\GitHub\\\\twilio-page-tracker\\\\.env')\n",
    "account_sid = os.getenv('TWILIO_ACCOUNT_SID')\n",
    "auth_token = os.getenv('TWILIO_AUTH_TOKEN')\n",
    "client = Client(account_sid, auth_token)\n",
    "\n",
    "# website='https://space-invaders.com/spaceshop/product/99108775083900940'\n",
    "website = 'https://hypebeast.com/'\n",
    "message='Website change! https://space-invaders.com/spaceshop'\n",
    "to_number = '+14155192029'\n",
    "ping_frequency = 30 #in seconds\n",
    "\n",
    "\n",
    "def track(website, message, to_number):\n",
    "    # setting the URL you want to monitor\n",
    "    url = Request(website, \n",
    "                  headers={'User-Agent': 'Mozilla/5.0'})\n",
    "    response = urlopen(url).read()\n",
    "\n",
    "    # to create the initial hash\n",
    "    currentHash = hashlib.sha224(response).hexdigest()\n",
    "    print(\"Starting monitoring...\")\n",
    "    while True:\n",
    "        try:\n",
    "            # perform the get request and store it as a hash\n",
    "            response = urlopen(url).read()\n",
    "            currentHash = hashlib.sha224(response).hexdigest()\n",
    "\n",
    "            # wait for 5 seconds\n",
    "            time.sleep(ping_frequency)\n",
    "\n",
    "            # perform the get request\n",
    "            response = urlopen(url).read()\n",
    "\n",
    "            # create a new hash\n",
    "            newHash = hashlib.sha224(response).hexdigest()\n",
    "\n",
    "            # check if new hash is same as the previous hash\n",
    "            if newHash == currentHash:\n",
    "                print('no change')\n",
    "                continue\n",
    "\n",
    "            # if something changed in the hashes\n",
    "            else:\n",
    "                # notify via Twilio\n",
    "                message = client.messages \\\n",
    "                    .create(\n",
    "                         body=message,\n",
    "                         from_='+17472479302',\n",
    "                         to=to_number\n",
    "                     )\n",
    "\n",
    "                # again read the website and update the hash\n",
    "                response = urlopen(url).read()\n",
    "                currentHash = hashlib.sha224(response).hexdigest()\n",
    "\n",
    "                # wait before pinging\n",
    "                time.sleep(ping_frequency)\n",
    "                continue\n",
    "\n",
    "        # To handle exceptions\n",
    "        except Exception as e:\n",
    "            print(\"error\")\n",
    "            \n",
    "track(website, message, to_number)"
   ]
  }
 ],
 "metadata": {
  "kernelspec": {
   "display_name": "Python 3",
   "language": "python",
   "name": "python3"
  },
  "language_info": {
   "codemirror_mode": {
    "name": "ipython",
    "version": 3
   },
   "file_extension": ".py",
   "mimetype": "text/x-python",
   "name": "python",
   "nbconvert_exporter": "python",
   "pygments_lexer": "ipython3",
   "version": "3.8.5"
  }
 },
 "nbformat": 4,
 "nbformat_minor": 4
}
