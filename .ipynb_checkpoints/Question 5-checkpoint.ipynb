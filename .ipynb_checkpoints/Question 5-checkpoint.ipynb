{
 "cells": [
  {
   "cell_type": "code",
   "execution_count": 87,
   "metadata": {},
   "outputs": [],
   "source": [
    "#import required libraries\n",
    "import pandas as pd\n",
    "import matplotlib.pyplot as plt\n",
    "\n",
    "events_df = pd.read_csv('timeseries_events.csv')\n",
    "users_df = pd.read_csv('timeseries_users.csv')"
   ]
  },
  {
   "cell_type": "code",
   "execution_count": 88,
   "metadata": {},
   "outputs": [
    {
     "data": {
      "text/plain": [
       "Text(0.5, 1.0, 'events for male users > or equal to age of 30')"
      ]
     },
     "execution_count": 88,
     "metadata": {},
     "output_type": "execute_result"
    },
    {
     "data": {
      "image/png": "[encoded data removed]",
      "text/plain": [
       "<Figure size 432x288 with 1 Axes>"
      ]
     },
     "metadata": {
      "needs_background": "light"
     },
     "output_type": "display_data"
    }
   ],
   "source": [
    "# Question A:\n",
    "# create filter and get ids of users that are > than or equal to 30 and male. \n",
    "age_filter = users_df['age']>=30\n",
    "gender_filter = users_df['gender'] == 'm'\n",
    "final_filter = age_filter & gender_filter\n",
    "\n",
    "# sum events for each user\n",
    "event_counts = events_df['user_id'].value_counts().sort_index()\n",
    "\n",
    "# filter events based on gender and age filter\n",
    "final_counter = event_counts * final_filter\n",
    "final_counter = final_counter[(~final_counter.isnull()) & ~(final_counter == 0)]\n",
    "\n",
    "# plot histogram with proper labels\n",
    "plt.hist(final_counter)\n",
    "plt.xlabel('number of events')\n",
    "plt.ylabel('number of users')\n",
    "plt.title('events for male users > or equal to age of 30')"
   ]
  },
  {
   "cell_type": "code",
   "execution_count": 86,
   "metadata": {},
   "outputs": [
    {
     "data": {
      "text/plain": [
       "0        2015-02-26 00:00:00\n",
       "1        2015-03-10 00:00:00\n",
       "2        2015-03-30 00:00:00\n",
       "3        2015-02-15 00:00:00\n",
       "4        2015-02-18 00:00:00\n",
       "                ...         \n",
       "30588    2015-02-24 00:00:00\n",
       "30589    2015-02-08 00:00:00\n",
       "30590    2015-04-06 00:00:00\n",
       "30591    2015-04-08 00:00:00\n",
       "30592    2015-03-23 00:00:00\n",
       "Name: event_date, Length: 30593, dtype: object"
      ]
     },
     "execution_count": 86,
     "metadata": {},
     "output_type": "execute_result"
    }
   ],
   "source": [
    "#Question B: \n",
    "events_df['event_date']\n"
   ]
  },
  {
   "cell_type": "code",
   "execution_count": null,
   "metadata": {},
   "outputs": [],
   "source": []
  }
 ],
 "metadata": {
  "kernelspec": {
   "display_name": "Python 3",
   "language": "python",
   "name": "python3"
  },
  "language_info": {
   "codemirror_mode": {
    "name": "ipython",
    "version": 3
   },
   "file_extension": ".py",
   "mimetype": "text/x-python",
   "name": "python",
   "nbconvert_exporter": "python",
   "pygments_lexer": "ipython3",
   "version": "3.7.6"
  }
 },
 "nbformat": 4,
 "nbformat_minor": 4
}
