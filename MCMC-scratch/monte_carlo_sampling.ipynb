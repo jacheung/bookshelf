{
 "cells": [
  {
   "cell_type": "markdown",
   "metadata": {},
   "source": [
    "Example of using Monte Carlo (random sampling to identify the mean value) sampling. \n",
    "\n",
    "Question: what is the max number of blocks you can traverse via a random walk so that, on average, the total distance is less than 4 blocks?\n",
    "\n",
    "Result: interesting that on even numbers, the percent of no bus is higher than on odd numbers. Why is that? Well if the threshold is an even number (4) then even number block sampling leads higher proportion of even number distance?"
   ]
  },
  {
   "cell_type": "code",
   "execution_count": 7,
   "metadata": {},
   "outputs": [],
   "source": [
    "import random \n",
    "\n",
    "def random_walk(n):\n",
    "    \"\"\" Return coordinates after 'n' blocks random walk. \"\"\"\n",
    "    x,y = 0, 0 \n",
    "    for k in range(n):\n",
    "        (step_x,step_y) = random.choice([[0,1],[0,-1],[1,0],[-1,0]])\n",
    "        x += step_x\n",
    "        y += step_y\n",
    "    return (x,y)"
   ]
  },
  {
   "cell_type": "code",
   "execution_count": 92,
   "metadata": {},
   "outputs": [
    {
     "name": "stdout",
     "output_type": "stream",
     "text": [
      "Walking  1  blocks leads to  100.0 percent of no bus.\n",
      "Walking  2  blocks leads to  100.0 percent of no bus.\n",
      "Walking  3  blocks leads to  100.0 percent of no bus.\n",
      "Walking  4  blocks leads to  87.48 percent of no bus.\n",
      "Walking  5  blocks leads to  93.77 percent of no bus.\n",
      "Walking  6  blocks leads to  78.39 percent of no bus.\n",
      "Walking  7  blocks leads to  87.54 percent of no bus.\n",
      "Walking  8  blocks leads to  71.01 percent of no bus.\n",
      "Walking  9  blocks leads to  81.87 percent of no bus.\n",
      "Walking  10  blocks leads to  65.5 percent of no bus.\n",
      "Walking  11  blocks leads to  77.38 percent of no bus.\n",
      "Walking  12  blocks leads to  61.0 percent of no bus.\n",
      "Walking  13  blocks leads to  73.6 percent of no bus.\n",
      "Walking  14  blocks leads to  57.45 percent of no bus.\n",
      "Walking  15  blocks leads to  70.14 percent of no bus.\n",
      "Walking  16  blocks leads to  54.47 percent of no bus.\n",
      "Walking  17  blocks leads to  66.68 percent of no bus.\n",
      "Walking  18  blocks leads to  51.98 percent of no bus.\n",
      "Walking  19  blocks leads to  63.9 percent of no bus.\n",
      "Walking  20  blocks leads to  49.78 percent of no bus.\n",
      "Walking  21  blocks leads to  61.64 percent of no bus.\n",
      "Walking  22  blocks leads to  47.71 percent of no bus.\n",
      "Walking  23  blocks leads to  59.69 percent of no bus.\n",
      "Walking  24  blocks leads to  45.5 percent of no bus.\n",
      "Walking  25  blocks leads to  57.19 percent of no bus.\n",
      "Walking  26  blocks leads to  44.63 percent of no bus.\n",
      "Walking  27  blocks leads to  55.81 percent of no bus.\n",
      "Walking  28  blocks leads to  42.7 percent of no bus.\n",
      "Walking  29  blocks leads to  54.05 percent of no bus.\n",
      "Walking  30  blocks leads to  41.2 percent of no bus.\n"
     ]
    }
   ],
   "source": [
    "bus_threshold = 4 # number of blocks before having to take bus home\n",
    "number_of_walks = 50000 # number of monte carlo samples \n",
    "\n",
    "for walk_length in range(1,31):\n",
    "    no_transport = 0\n",
    "    for i in range(number_of_walks):\n",
    "        x,y = random_walk(walk_length)\n",
    "        total_distance = abs(x+y)\n",
    "        if total_distance <= bus_threshold:\n",
    "            no_transport += 1\n",
    "    print('Walking ', walk_length, ' blocks leads to ',  \n",
    "          round(no_transport/number_of_walks * 100,2), 'percent of no bus.',)"
   ]
  }
 ],
 "metadata": {
  "kernelspec": {
   "display_name": "Python 3",
   "language": "python",
   "name": "python3"
  },
  "language_info": {
   "codemirror_mode": {
    "name": "ipython",
    "version": 3
   },
   "file_extension": ".py",
   "mimetype": "text/x-python",
   "name": "python",
   "nbconvert_exporter": "python",
   "pygments_lexer": "ipython3",
   "version": "3.8.3"
  }
 },
 "nbformat": 4,
 "nbformat_minor": 4
}
