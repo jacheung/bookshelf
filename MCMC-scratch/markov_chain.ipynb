{
 "cells": [
  {
   "cell_type": "markdown",
   "metadata": {},
   "source": [
    "Markov Chains are 'memory-less' meaning that the sampling at time t is independent from any previous timepoint. \n",
    "Markov Chains are ergodic. To be ergodic:\n",
    "- Markov Chains need to be irreducible: for every state there is a POSITIVE probability of moving to another state\n",
    "- Makrov Chains need to be aperiodic: must not get trapped in cycles\n",
    "\n",
    "\n",
    "Stationary distribution describes the distribution after sufficient sampling. In the stationary distribution, the probability of each node in the markov chain being sampled is proportional to the number of other nodes it is connected to. The stationary distribution will be remain the same no matter where you choose as the starting point. \n",
    "Stationary distribution can be calculated via (starting point * transition matrix)\n",
    "- e.g. X0 = (0.5, 0.2, 0.3) \n",
    "- e.g. T = [[0, 1, 0], \n",
    "            [0, 0.1, 0.9],\n",
    "            [0.6, 0.4, 0]]\n",
    "= e.g. stationary = (0.2, 0.6, 0.2)"
   ]
  },
  {
   "cell_type": "code",
   "execution_count": null,
   "metadata": {},
   "outputs": [],
   "source": [
    "# Build Markov Chain map (using a transition/probability matrix) \n",
    "# Transition matrices have each ROW sum to 1. Each row describes the probability of transition to the next state (row). \n",
    "# Sample chain"
   ]
  },
  {
   "cell_type": "code",
   "execution_count": 7,
   "metadata": {},
   "outputs": [
    {
     "data": {
      "text/plain": [
       "array([[0.67678085, 0.20532542, 0.97730167],\n",
       "       [0.8622376 , 0.22858458, 0.83487474],\n",
       "       [0.30712651, 0.71118505, 0.28286476]])"
      ]
     },
     "execution_count": 7,
     "metadata": {},
     "output_type": "execute_result"
    }
   ],
   "source": [
    "import numpy as np\n"
   ]
  },
  {
   "cell_type": "code",
   "execution_count": 2,
   "metadata": {},
   "outputs": [],
   "source": [
    "class MarkovChain(object):\n",
    "    def __init__(self, transition_prob):\n",
    "        \"\"\"\n",
    "        Initialize the MarkovChain instance.\n",
    " \n",
    "        Parameters\n",
    "        ----------\n",
    "        transition_prob: dict\n",
    "            A dict object representing the transition \n",
    "            probabilities in Markov Chain. \n",
    "            Should be of the form: \n",
    "                {'state1': {'state1': 0.1, 'state2': 0.4}, \n",
    "                 'state2': {...}}\n",
    "        \"\"\"\n",
    "        self.transition_prob = transition_prob\n",
    "        self.states = list(transition_prob.keys())\n",
    " \n",
    "    def next_state(self, current_state):\n",
    "        \"\"\"\n",
    "        Returns the state of the random variable at the next time \n",
    "        instance.\n",
    " \n",
    "        Parameters\n",
    "        ----------\n",
    "        current_state: str\n",
    "            The current state of the system.\n",
    "        \"\"\"\n",
    "        return np.random.choice(\n",
    "            self.states, \n",
    "            p=[self.transition_prob[current_state][next_state] \n",
    "               for next_state in self.states]\n",
    "        )\n",
    " \n",
    "    def generate_states(self, current_state, no=10):\n",
    "        \"\"\"\n",
    "        Generates the next states of the system.\n",
    " \n",
    "        Parameters\n",
    "        ----------\n",
    "        current_state: str\n",
    "            The state of the current random variable.\n",
    " \n",
    "        no: int\n",
    "            The number of future states to generate.\n",
    "        \"\"\"\n",
    "        future_states = []\n",
    "        for i in range(no):\n",
    "            next_state = self.next_state(current_state)\n",
    "            future_states.append(next_state)\n",
    "            current_state = next_state\n",
    "        return future_states"
   ]
  },
  {
   "cell_type": "code",
   "execution_count": 30,
   "metadata": {},
   "outputs": [],
   "source": [
    "fertilize_cost = {'good': 1000/2, 'mediocre': 2000/2, 'bad': 10000/2 }\n",
    "soil_sell = {'good': 10000, 'mediocre': 6000, 'bad': 2000 }\n",
    "\n",
    "no_fertilizer = {'good': {'good': 0.2, 'mediocre': 0.5, 'bad': 0.3 },\n",
    "                 'mediocre': {'good': 0, 'mediocre': 0.5, 'bad': 0.5 },\n",
    "                 'bad': {'good': 0, 'mediocre': 0, 'bad': 1 },\n",
    "                }\n",
    "\n",
    "fertilizer = {'good': {'good': 0.3, 'mediocre': 0.6, 'bad': 0.1 },\n",
    "              'mediocre': {'good': 0.2, 'mediocre': 0.6, 'bad': 0.2 },\n",
    "              'bad': {'good': 0.1, 'mediocre': 0.4, 'bad': .5 },\n",
    "             }"
   ]
  },
  {
   "cell_type": "code",
   "execution_count": 22,
   "metadata": {},
   "outputs": [],
   "source": [
    "def profit_calculator(price_list, states):\n",
    "    profit = 0 \n",
    "    for state in states: \n",
    "        profit += fertilize_cost[state]\n",
    "    return profit"
   ]
  },
  {
   "cell_type": "code",
   "execution_count": 10,
   "metadata": {},
   "outputs": [],
   "source": [
    "fertilize_chain = MarkovChain(fertilizer)\n",
    "no_fertilize_chain = MarkovChain(no_fertilizer)"
   ]
  },
  {
   "cell_type": "code",
   "execution_count": 31,
   "metadata": {},
   "outputs": [
    {
     "name": "stdout",
     "output_type": "stream",
     "text": [
      "50000000.0 0.0\n"
     ]
    }
   ],
   "source": [
    "f_states = fertilize_chain.generate_states(current_state='good', no=10000) #always fertilize\n",
    "nf_states = no_fertilize_chain.generate_states(current_state='good', no=10000) #never fertilize\n",
    "\n",
    "cost = 0\n",
    "for states in f_states: \n",
    "    cost += fertilize_cost[states]\n",
    "\n",
    "nf_profit = profit_calculator(soil_sell, nf_states)\n",
    "f_profit = profit_calculator(soil_sell, f_states) - cost\n",
    "\n",
    "print(nf_profit, f_profit)"
   ]
  },
  {
   "cell_type": "code",
   "execution_count": 34,
   "metadata": {},
   "outputs": [
    {
     "data": {
      "text/plain": [
       "{'good': 500.0, 'mediocre': 1000.0, 'bad': 5000.0}"
      ]
     },
     "execution_count": 34,
     "metadata": {},
     "output_type": "execute_result"
    }
   ],
   "source": [
    "fertilize_cost"
   ]
  }
 ],
 "metadata": {
  "kernelspec": {
   "display_name": "Python 3",
   "language": "python",
   "name": "python3"
  },
  "language_info": {
   "codemirror_mode": {
    "name": "ipython",
    "version": 3
   },
   "file_extension": ".py",
   "mimetype": "text/x-python",
   "name": "python",
   "nbconvert_exporter": "python",
   "pygments_lexer": "ipython3",
   "version": "3.8.5"
  }
 },
 "nbformat": 4,
 "nbformat_minor": 4
}
