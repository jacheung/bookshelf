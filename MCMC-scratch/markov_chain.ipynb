{
 "cells": [
  {
   "cell_type": "markdown",
   "metadata": {},
   "source": [
    "Markov Chains are 'memory-less' meaning that the sampling at time t is independent from any previous timepoint. \n",
    "Markov Chains are ergodic. To be ergodic:\n",
    "- Markov Chains need to be irreducible: for every state there is a POSITIVE probability of moving to another state\n",
    "- Makrov Chains need to be aperiodic: must not get trapped in cycles\n",
    "\n",
    "\n",
    "Stationary distribution describes the distribution after sufficient sampling. In the stationary distribution, the probability of each node in the markov chain being sampled is proportional to the number of other nodes it is connected to. The stationary distribution will be remain the same no matter where you choose as the starting point. \n",
    "Stationary distribution can be calculated via (starting point * transition matrix)\n",
    "- e.g. X0 = (0.5, 0.2, 0.3) \n",
    "- e.g. T = [[0, 1, 0], \n",
    "            [0, 0.1, 0.9],\n",
    "            [0.6, 0.4, 0]]\n",
    "= e.g. stationary = (0.2, 0.6, 0.2)"
   ]
  },
  {
   "cell_type": "code",
   "execution_count": null,
   "metadata": {},
   "outputs": [],
   "source": [
    "# Build Markov Chain map (using a transition/probability matrix) \n",
    "# Transition matrices have each ROW sum to 1. Each row describes the probability of transition to the next state (row). \n",
    "# Sample chain"
   ]
  },
  {
   "cell_type": "code",
   "execution_count": 1,
   "metadata": {},
   "outputs": [
    {
     "data": {
      "text/plain": [
       "array([[0.04503925, 0.00117589, 0.43655523],\n",
       "       [0.82977122, 0.21602413, 0.33065998],\n",
       "       [0.48514792, 0.49168724, 0.3592337 ]])"
      ]
     },
     "execution_count": 1,
     "metadata": {},
     "output_type": "execute_result"
    }
   ],
   "source": [
    "import numpy as np\n",
    "\n",
    "np.random.rand(3,3)"
   ]
  }
 ],
 "metadata": {
  "kernelspec": {
   "display_name": "Python 3",
   "language": "python",
   "name": "python3"
  },
  "language_info": {
   "codemirror_mode": {
    "name": "ipython",
    "version": 3
   },
   "file_extension": ".py",
   "mimetype": "text/x-python",
   "name": "python",
   "nbconvert_exporter": "python",
   "pygments_lexer": "ipython3",
   "version": "3.8.3"
  }
 },
 "nbformat": 4,
 "nbformat_minor": 4
}
