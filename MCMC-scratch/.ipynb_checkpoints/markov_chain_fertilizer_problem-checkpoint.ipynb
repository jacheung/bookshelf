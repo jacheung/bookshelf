{
 "cells": [
  {
   "cell_type": "markdown",
   "metadata": {},
   "source": [
    "# Problem \n",
    "A farmer has soil that can 'good', 'mediocre', or 'bad.The farmer can then sell this soil for prices that depend on quality. After each year, the land will transition to a different state with certain probabilities listed below. However, the farmer can choose to purchase fertilizer to change the probability of next year's soil outcome. Fertilizer comes at varying prices depending on the quality of the land. \n",
    "\n",
    "Q1) Is it worth it to buy fertilizer all the time?  \n",
    "Q2) If not, when is it worth it to purchase fertilizer? "
   ]
  },
  {
   "cell_type": "code",
   "execution_count": 138,
   "metadata": {},
   "outputs": [],
   "source": [
    "import numpy as np"
   ]
  },
  {
   "cell_type": "code",
   "execution_count": 2,
   "metadata": {},
   "outputs": [],
   "source": [
    "class MarkovChain(object):\n",
    "    def __init__(self, transition_prob):\n",
    "        \"\"\"\n",
    "        Initialize the MarkovChain instance.\n",
    " \n",
    "        Parameters\n",
    "        ----------\n",
    "        transition_prob: dict\n",
    "            A dict object representing the transition \n",
    "            probabilities in Markov Chain. \n",
    "            Should be of the form: \n",
    "                {'state1': {'state1': 0.1, 'state2': 0.4}, \n",
    "                 'state2': {...}}\n",
    "        \"\"\"\n",
    "        self.transition_prob = transition_prob\n",
    "        self.states = list(transition_prob.keys())\n",
    " \n",
    "    def next_state(self, current_state):\n",
    "        \"\"\"\n",
    "        Returns the state of the random variable at the next time \n",
    "        instance.\n",
    " \n",
    "        Parameters\n",
    "        ----------\n",
    "        current_state: str\n",
    "            The current state of the system.\n",
    "        \"\"\"\n",
    "        return np.random.choice(\n",
    "            self.states, \n",
    "            p=[self.transition_prob[current_state][next_state] \n",
    "               for next_state in self.states]\n",
    "        )\n",
    " \n",
    "    def generate_states(self, current_state, no=10):\n",
    "        \"\"\"\n",
    "        Generates the next states of the system.\n",
    " \n",
    "        Parameters\n",
    "        ----------\n",
    "        current_state: str\n",
    "            The state of the current random variable.\n",
    " \n",
    "        no: int\n",
    "            The number of future states to generate.\n",
    "        \"\"\"\n",
    "        future_states = []\n",
    "        for i in range(no):\n",
    "            next_state = self.next_state(current_state)\n",
    "            future_states.append(next_state)\n",
    "            current_state = next_state\n",
    "        return future_states"
   ]
  },
  {
   "cell_type": "code",
   "execution_count": 105,
   "metadata": {},
   "outputs": [],
   "source": [
    "def profit_calculator(price_list, states):\n",
    "    profit = 0 \n",
    "    for state in states: \n",
    "        profit += price_list[state]\n",
    "    return profit\n",
    "\n",
    "def cost_calculator(price_list, states): \n",
    "    cost = 0 \n",
    "    for state in states: \n",
    "        cost -= price_list[state]\n",
    "    return cost"
   ]
  },
  {
   "cell_type": "code",
   "execution_count": null,
   "metadata": {},
   "outputs": [],
   "source": [
    "# instantiate transition probabilities and cost/profit optimization parameters. \n",
    "fertilizer_cost = {'good': 1000, 'mediocre': 2000, 'bad': 10000}\n",
    "soil_sell = {'good': 10000, 'mediocre': 6000, 'bad': 2000 }\n",
    "\n",
    "no_fertilizer = {'good': {'good': 0.2, 'mediocre': 0.5, 'bad': 0.3 },\n",
    "                 'mediocre': {'good': 0, 'mediocre': 0.5, 'bad': 0.5 },\n",
    "                 'bad': {'good': 0, 'mediocre': 0, 'bad': 1 },\n",
    "                }\n",
    "\n",
    "fertilizer = {'good': {'good': 0.3, 'mediocre': 0.6, 'bad': 0.1 },\n",
    "              'mediocre': {'good': 0.2, 'mediocre': 0.6, 'bad': 0.2 },\n",
    "              'bad': {'good': 0.1, 'mediocre': 0.4, 'bad': .5 },\n",
    "             }"
   ]
  },
  {
   "cell_type": "code",
   "execution_count": null,
   "metadata": {},
   "outputs": [],
   "source": [
    "# Calculated expected values for each transition probability\n",
    "no_fert = np.vstack([np.array(list(no_fertilizer['good'].values())), \n",
    "           np.array(list(no_fertilizer['mediocre'].values())), \n",
    "           np.array(list(no_fertilizer['bad'].values()))])\n",
    "\n",
    "fert = np.vstack([np.array(list(fertilizer['good'].values())), \n",
    "           np.array(list(fertilizer['mediocre'].values())), \n",
    "           np.array(list(fertilizer['bad'].values()))])\n",
    "\n",
    "fertilize_expected_values = np.matmul(fert, np.array(list(soil_sell.values()))) - np.array(list(fertilizer_cost.values()))\n",
    "no_fertilize_expected_values = np.matmul(no_fert, np.array(list(soil_sell.values())))\n",
    "\n",
    "print(\"if fertilize EV: \" + str(dict(zip(list(fertilizer.keys()),fertilize_expected_values.tolist()))))\n",
    "print(\"if no fertilize EV: \" + str(dict(zip(list(fertilizer.keys()),no_fertilize_expected_values.tolist()))))\n",
    "print('therefore, only fertilize if good.')"
   ]
  },
  {
   "cell_type": "code",
   "execution_count": 106,
   "metadata": {},
   "outputs": [],
   "source": [
    "# build transition probability and cost for fertilize only when good\n",
    "fertilize_only_good = {'good': {'good': 0.3, 'mediocre': 0.6, 'bad': 0.1 },\n",
    "                     'mediocre': {'good': 0, 'mediocre': 0.5, 'bad': 0.5 },\n",
    "                     'bad': {'good': 0, 'mediocre': 0, 'bad': 1 },\n",
    "                     }\n",
    "gfertilizer_cost = {'good': 1000, 'mediocre': 0, 'bad': 0}\n"
   ]
  },
  {
   "cell_type": "code",
   "execution_count": 104,
   "metadata": {},
   "outputs": [],
   "source": [
    "# instantiate markov chains for each one of the transition probabilities.\n",
    "fertilize_chain = MarkovChain(fertilizer)\n",
    "g_fertilize_chain = MarkovChain(fertilize_only_good)\n",
    "no_fertilize_chain = MarkovChain(no_fertilizer)"
   ]
  },
  {
   "cell_type": "code",
   "execution_count": 137,
   "metadata": {},
   "outputs": [
    {
     "name": "stdout",
     "output_type": "stream",
     "text": [
      "after 100,000 cycles:\n",
      "{'never_fertilize': 200000000, 'fertilize_good': 200033000, 'always_fertilize': 183486000}\n"
     ]
    }
   ],
   "source": [
    "# simulate 100,000 trials and calculate cost and profit \n",
    "\n",
    "f_states = fertilize_chain.generate_states(current_state='good', no=100000) #always fertilize\n",
    "gf_states = g_fertilize_chain.generate_states(current_state='good', no=100000) #only fertilize if good\n",
    "nf_states = no_fertilize_chain.generate_states(current_state='good', no=100000) #never fertilize\n",
    "\n",
    "\n",
    "nf_profit = profit_calculator(soil_sell, nf_states)\n",
    "gf_profit = profit_calculator(soil_sell, gf_states) + cost_calculator(gfertilizer_cost, gf_states)\n",
    "f_profit = profit_calculator(soil_sell, f_states) + cost_calculator(fertilizer_cost, f_states)\n",
    "\n",
    "\n",
    "print(\"after 100,000 cycles:\")\n",
    "print(str(dict(zip(['never_fertilize', 'fertilize_good', 'always_fertilize'],[nf_profit, gf_profit, f_profit]))))\n"
   ]
  }
 ],
 "metadata": {
  "kernelspec": {
   "display_name": "Python 3",
   "language": "python",
   "name": "python3"
  },
  "language_info": {
   "codemirror_mode": {
    "name": "ipython",
    "version": 3
   },
   "file_extension": ".py",
   "mimetype": "text/x-python",
   "name": "python",
   "nbconvert_exporter": "python",
   "pygments_lexer": "ipython3",
   "version": "3.8.5"
  }
 },
 "nbformat": 4,
 "nbformat_minor": 4
}
