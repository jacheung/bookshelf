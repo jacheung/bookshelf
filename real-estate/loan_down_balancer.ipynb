{
 "cells": [
  {
   "cell_type": "markdown",
   "id": "e7b3eac4",
   "metadata": {},
   "source": [
    "For every increase in point per loan, how much more down would you have to increase. \n",
    "\n",
    "1. Develop montly mortgage cost given home cost\n",
    "2. How much more down have to increase (%) for every increase in (%) "
   ]
  },
  {
   "cell_type": "code",
   "execution_count": null,
   "id": "1d643e94",
   "metadata": {},
   "outputs": [],
   "source": [
    "import numpy as np\n",
    "import pandas as pd\n",
    "import matplotlib.pyplot as plt\n"
   ]
  },
  {
   "cell_type": "code",
   "execution_count": null,
   "id": "0c0cb7ca",
   "metadata": {},
   "outputs": [],
   "source": [
    "class LoanDown:\n",
    "    def __init__(self, home_price, loan_amount, loan_interest_rate, \n",
    "                 loan_length_in_years, taxes_and_insurance):\n",
    "        self.home_price = home_price\n",
    "        self.loan_amount = loan_amount\n",
    "        self.loan_interest_rate = loan_interest_rate\n",
    "        self.loan_length_in_years = loan_length_in_years\n",
    "        self.taxes_and_insurance = taxes_and_insurance\n",
    "        self.monthly_payment = self.monthly_mortgage()\n",
    "        self.down_payment = home_price - loan_amount\n",
    "        \n",
    "    def monthly_mortgage(self):\n",
    "        \"\"\" \n",
    "        monthly mortgage calculator: \n",
    "        M= P[r(1+r)^n/((1+r)^n)-1)]\n",
    "        \"\"\"\n",
    "        monthly_interest_rate = self.loan_interest_rate/12\n",
    "        num_payments = self.loan_length_in_years * 12\n",
    "        interest_scale =(1+monthly_interest_rate) ** num_payments \n",
    "        numerator = monthly_interest_rate * interest_scale \n",
    "        denominator = interest_scale-1 \n",
    "        monthly = self.loan_amount * (numerator/denominator)\n",
    "        return monthly\n",
    "    "
   ]
  },
  {
   "cell_type": "code",
   "execution_count": null,
   "id": "ef889454",
   "metadata": {},
   "outputs": [],
   "source": [
    "def monthly_mortgage(loan_interest_rate, loan_length_in_years, loan_amount):\n",
    "    \"\"\" \n",
    "    monthly mortgage calculator: \n",
    "    M= P[r(1+r)^n/((1+r)^n)-1)]\n",
    "    \"\"\"\n",
    "    monthly_interest_rate = loan_interest_rate/100/12\n",
    "    num_payments = loan_length_in_years * 12\n",
    "    interest_scale =(1+monthly_interest_rate) ** num_payments \n",
    "    numerator = monthly_interest_rate * interest_scale \n",
    "    denominator = interest_scale-1 \n",
    "    monthly = loan_amount * (numerator/denominator)\n",
    "    return round(monthly,2)\n",
    "\n",
    "def complete_monthly_calculator(loan_interest_rate, loan_length_in_years, down_payment,\n",
    "                                target_home_price, property_tax_rate=1):\n",
    "    \"\"\"\n",
    "    This function helps you identify your monthly cost given:\n",
    "    - loan parameters (interest rate + loan length)\n",
    "    - target home price \n",
    "    - downpayment \n",
    "    \"\"\"\n",
    "    # calculate monthly property tax\n",
    "    mo_property_tax = (target_home_price * property_tax_rate/100)/12\n",
    "    # calculate monthly mortgage\n",
    "    loan_amount = target_home_price - down_payment\n",
    "    mo_mortgage = monthly_mortgage(loan_interest_rate, loan_length_in_years, loan_amount)\n",
    "    # print(f'Monthly mortgage at: {mo_mortgage}')\n",
    "    # print(f'Monthly property tax at: {mo_property_tax}')\n",
    "    total = mo_property_tax + mo_mortgage\n",
    "    outputs = (total , mo_mortgage, mo_property_tax)\n",
    "    outputs = tuple(map(lambda x: round(x, 2), outputs))\n",
    "    return outputs\n",
    "\n",
    "def max_loan_calculator(loan_interest_rate, loan_length_in_years, monthly_payment_target,\n",
    "                        target_home_price=None, property_tax_rate=1):\n",
    "    \"\"\"\n",
    "    This function helps you identify the max loan and therefore your required downpayment. \n",
    "    You feed in your target home price and the max monthly you're willing to shell out for your home.\n",
    "    Outputs the loan amount. \n",
    "    \"\"\"\n",
    "    monthly_property_tax = 0\n",
    "    if target_home_price is not None:\n",
    "        monthly_property_tax = (target_home_price * property_tax_rate/100)/12\n",
    "    monthly_payment_target -= monthly_property_tax\n",
    "    monthly_interest_rate = loan_interest_rate/100/12\n",
    "    num_payments = loan_length_in_years * 12\n",
    "    interest_scale =(1+monthly_interest_rate) ** num_payments \n",
    "    numerator = monthly_interest_rate * interest_scale \n",
    "    denominator = interest_scale-1 \n",
    "    loan_amount = monthly_payment_target / (numerator/denominator)\n",
    "    return round(loan_amount, 2), round(monthly_property_tax, 2)"
   ]
  },
  {
   "cell_type": "code",
   "execution_count": null,
   "id": "aa7755db",
   "metadata": {},
   "outputs": [],
   "source": [
    "825705.45\n",
    "\n",
    "\n",
    "loan_interest_rate = 7.25\n",
    "loan_length_in_years = 30\n",
    "down_payment = 815700\n",
    "target_home_price = 1500000\n",
    "property_tax_rate = 1.3\n",
    "\n",
    "monthly = complete_monthly_calculator(loan_interest_rate, loan_length_in_years, down_payment,\n",
    "                                    target_home_price, property_tax_rate)\n",
    "\n",
    "print(monthly)\n"
   ]
  },
  {
   "cell_type": "code",
   "execution_count": null,
   "id": "11246375",
   "metadata": {},
   "outputs": [],
   "source": []
  },
  {
   "cell_type": "code",
   "execution_count": null,
   "id": "134a06ce",
   "metadata": {},
   "outputs": [],
   "source": [
    "1500000-684300"
   ]
  },
  {
   "cell_type": "code",
   "execution_count": null,
   "id": "5f56a7de",
   "metadata": {},
   "outputs": [],
   "source": [
    "loan_interest_rate = 7.25\n",
    "\n",
    "loan_length_in_years = 30\n",
    "down_payment = 815135\n",
    "target_home_price = 1500000\n",
    "property_tax_rate = 1.3\n",
    "\n",
    "monthly = complete_monthly_calculator(loan_interest_rate, loan_length_in_years, down_payment,\n",
    "                                    target_home_price, property_tax_rate)\n",
    "\n",
    "print(monthly)"
   ]
  },
  {
   "cell_type": "code",
   "execution_count": null,
   "id": "e8995ea0",
   "metadata": {},
   "outputs": [],
   "source": [
    "\n",
    "\n",
    "rate_df = {}\n",
    "cost = []\n",
    "price = []\n",
    "interest_rate = 7.25\n",
    "loan_length_in_years = 30\n",
    "down_payment = 823000\n",
    "property_tax_rate = 1.25\n",
    "target_home_price = 1300000\n",
    "for x in np.linspace(0, 500000, 11):\n",
    "    home_cost = target_home_price + x\n",
    "    # if home_cost - down_payment >= 727000:\n",
    "    #     interest_rate = 6.875\n",
    "    monthly = complete_monthly_calculator(interest_rate, loan_length_in_years, down_payment,\n",
    "                                            home_cost, property_tax_rate)\n",
    "    cost.append(tuple(map(lambda x: round(x, 2), monthly)))\n",
    "    price.append(target_home_price+x)\n",
    "costs = list(pd.DataFrame(cost)[0])\n",
    "rate_df[interest_rate] = costs\n",
    "            \n",
    "    "
   ]
  },
  {
   "cell_type": "code",
   "execution_count": null,
   "id": "84020d6d",
   "metadata": {},
   "outputs": [],
   "source": [
    "cp_df = pd.DataFrame({'price': price, 'costs': costs}).set_index('price')\n",
    "print(cp_df)\n",
    "cp_df.plot()"
   ]
  },
  {
   "cell_type": "code",
   "execution_count": 35,
   "id": "c97d8310",
   "metadata": {},
   "outputs": [
    {
     "data": {
      "text/plain": [
       "'49112'"
      ]
     },
     "execution_count": 35,
     "metadata": {},
     "output_type": "execute_result"
    }
   ],
   "source": [
    "import random\n",
    "def generate_divisible_by_seven():\n",
    "\n",
    "    while True:\n",
    "       \n",
    "        # Generate 5-digit numbers\n",
    "        \n",
    "        numbers = [random.randint(10000,99999)]    \n",
    "\n",
    "        if sum(numbers) % 7 == 0:\n",
    "\n",
    "            return ' '.join(map (str, numbers))\n",
    "        \n",
    "generate_divisible_by_seven()"
   ]
  },
  {
   "cell_type": "code",
   "execution_count": 23,
   "id": "b4f24337",
   "metadata": {},
   "outputs": [
    {
     "data": {
      "text/plain": [
       "True"
      ]
     },
     "execution_count": 23,
     "metadata": {},
     "output_type": "execute_result"
    }
   ],
   "source": [
    "123 in [x[0] for x in hash_table]"
   ]
  },
  {
   "cell_type": "code",
   "execution_count": null,
   "id": "128fb1a9",
   "metadata": {},
   "outputs": [],
   "source": [
    "cost = []\n",
    "price = []\n",
    "interest_rate = 7.375\n",
    "for x in np.linspace(0, 500000, 6):\n",
    "    home_cost = target_home_price + x\n",
    "    if home_cost - down_payment > 727000:\n",
    "        interest_rate = 7\n",
    "    monthly = complete_monthly_calculator(interest_rate, loan_length_in_years, down_payment,\n",
    "                                            home_cost, property_tax_rate)\n",
    "    cost.append(tuple(map(lambda x: round(x, 2), monthly)))\n",
    "    price.append(target_home_price+x)"
   ]
  },
  {
   "cell_type": "code",
   "execution_count": null,
   "id": "70b169c7",
   "metadata": {},
   "outputs": [],
   "source": [
    "def extract_kwargs(**kwargs):\n",
    "    for key, value in kwargs.items():\n",
    "        print(f\\\"Key: {key}, Value: {value}\\\")\n",
    "\n",
    "# Call the function with some keyword arguments\n",
    "extract_kwargs(name=\\\"John\\\", age=25, country=\\\"USA\\\")"
   ]
  },
  {
   "cell_type": "code",
   "execution_count": null,
   "id": "c00ca7ef",
   "metadata": {},
   "outputs": [],
   "source": [
    "df = pd.DataFrame(cost)\n",
    "df.index = [x/1000000 for x in price]\n",
    "df.columns = ['total', 'mortgage', 'tax']\n",
    "\n",
    "df.plot.bar()\n",
    "plt.xlabel('Price ($M)')\n",
    "plt.ylabel('Cost ($/mo)')\n",
    "# plt.title(f'Interest rate at {loan_interest_rate}%')\n",
    "\n",
    "for idx, val in enumerate(df['total']):\n",
    "    plt.plot([-1, idx-.1], [val, val], 'k--')\n",
    "\n",
    "plt.show()\n"
   ]
  },
  {
   "cell_type": "code",
   "execution_count": null,
   "id": "6409b12d",
   "metadata": {},
   "outputs": [],
   "source": [
    "loan_interest_rate = 6.875\n",
    "loan_length_in_years = 30\n",
    "loan_amount = 727000\n",
    "monthly = monthly_mortgage(loan_interest_rate, loan_length_in_years, loan_amount)\n",
    "\n",
    "loans = np.arange(0.85,1.15, .01) * loan_amount\n",
    "\n",
    "monthlys = []\n",
    "PI=[]\n",
    "for x in loans:\n",
    "    interest_rate = 7.375\n",
    "    if x >= 727000:\n",
    "        interest_rate = 7\n",
    "    monthlys.append(monthly_mortgage(interest_rate, loan_length_in_years, x))\n",
    "    PI.append((700000+x)*.0125/12)\n",
    "\n",
    "df = pd.DataFrame({'loan_amount': loans, 'monthly_payment': monthlys, 'other': PI})\n",
    "df['total'] = df['monthly_payment'] + df['other']"
   ]
  },
  {
   "cell_type": "code",
   "execution_count": null,
   "id": "f13dd013",
   "metadata": {},
   "outputs": [],
   "source": [
    "plt.plot(df['loan_amount'], df['total'], label = 'with taxes + ins')\n",
    "# plt.plot(df['loan_amount'], df['monthly_payment'], label = 'without') \n",
    "plt.xlabel('loan amount')\n",
    "plt.xticks(rotation=45)\n",
    "plt.ylabel('monthly')\n",
    "plt.legend()\n",
    "plt.show()"
   ]
  },
  {
   "cell_type": "code",
   "execution_count": null,
   "id": "9205a322",
   "metadata": {},
   "outputs": [],
   "source": [
    "monthly_payment_target=7000\n",
    "loan_interest_rate=7.0\n",
    "loan_length_in_years=30\n",
    "target_home_price=1640000\n",
    "property_tax_rate = 1.25  \n",
    "\n",
    "loan, monthly_property_tax = max_loan_calculator(loan_interest_rate=loan_interest_rate, \n",
    "                                                 loan_length_in_years=loan_length_in_years, \n",
    "                                                 monthly_payment_target=monthly_payment_target,\n",
    "                                                 target_home_price=target_home_price,\n",
    "                                                 property_tax_rate=property_tax_rate)\n",
    "print(f'Given a monthly spend of {monthly_payment_target} and a target home price of {target_home_price}...')\n",
    "print(f'(This includes a monthly property tax of {monthly_property_tax}.)')\n",
    "print(f'Youll need a down-payment of {np.round((target_home_price-loan),2)}')\n",
    "\n",
    "\n",
    "# 850k loan max\n",
    "# 750k 7.00\n",
    "# below 727k 7.375\n",
    "# 1% 6000\n",
    "# 2% 12000 6.875"
   ]
  },
  {
   "cell_type": "code",
   "execution_count": null,
   "id": "ddd922c1",
   "metadata": {},
   "outputs": [],
   "source": [
    "max_monthly = 5000 # this parameter doesnt matter in creating the heatmap\n",
    "current_interest_rate = np.linspace(2,10,17)\n",
    "future_interest_rate = np.linspace(2,10,17)\n",
    "mapping = pd.DataFrame()\n",
    "\n",
    "for current in current_interest_rate: \n",
    "    bp = []\n",
    "    for future in future_interest_rate:\n",
    "        current_home = round(max_loan_calculator(current, \n",
    "                                                 loan_length_in_years=30, \n",
    "                                                 monthly_payment_target=max_monthly),2)\n",
    "        future_home = round(max_loan_calculator(future, \n",
    "                                                loan_length_in_years=30, \n",
    "                                                monthly_payment_target=max_monthly),2)\n",
    "        bp.append(round((future_home/current_home)*100))\n",
    "    mapping[current] = bp\n",
    "mapping.index = current_interest_rate"
   ]
  },
  {
   "cell_type": "code",
   "execution_count": null,
   "id": "fdab32b1",
   "metadata": {},
   "outputs": [],
   "source": [
    "mapping.to_csv('current_to_future.csv')"
   ]
  },
  {
   "cell_type": "code",
   "execution_count": null,
   "id": "23bb5ebd",
   "metadata": {},
   "outputs": [],
   "source": [
    "plt.figure(figsize=(12,12))\n",
    "plt.rcParams.update({'font.size': 13})\n",
    "ax = sns.heatmap(mapping, cmap ='RdYlBu', linewidths = 0.30, annot = True,fmt='g', cbar=False)\n",
    "ax.set_xlabel('Current interest rate (%)')\n",
    "ax.set_ylabel('Future interest rate (%)')\n",
    "ax.xaxis.set_label_position('top')\n",
    "ax.xaxis.tick_top() \n",
    "ax.set_title('If you kept the same monthly payment, how much more/less home could you afford if interest rates changed?', pad=20)\n",
    "fig = ax.get_figure()\n",
    "fig.savefig(\"heatmap.png\", facecolor='white', transparent=False) "
   ]
  }
 ],
 "metadata": {
  "kernelspec": {
   "display_name": "jupyter_ds",
   "language": "python",
   "name": "python3"
  },
  "language_info": {
   "codemirror_mode": {
    "name": "ipython",
    "version": 3
   },
   "file_extension": ".py",
   "mimetype": "text/x-python",
   "name": "python",
   "nbconvert_exporter": "python",
   "pygments_lexer": "ipython3",
   "version": "3.9.6"
  }
 },
 "nbformat": 4,
 "nbformat_minor": 5
}
