{
 "cells": [
  {
   "cell_type": "markdown",
   "id": "e7b3eac4",
   "metadata": {},
   "source": [
    "For every increase in point per loan, how much more down would you have to increase. \n",
    "\n",
    "1. Develop montly mortgage cost given home cost\n",
    "2. How much more down have to increase (%) for every increase in (%) "
   ]
  },
  {
   "cell_type": "code",
   "execution_count": 1,
   "id": "1d643e94",
   "metadata": {},
   "outputs": [],
   "source": [
    "import numpy as np\n",
    "import matplotlib.pyplot as plt"
   ]
  },
  {
   "cell_type": "code",
   "execution_count": 2,
   "id": "0c0cb7ca",
   "metadata": {},
   "outputs": [],
   "source": [
    "class LoanDown:\n",
    "    def __init__(self, home_price, loan_amount, loan_interest_rate, \n",
    "                 loan_length_in_years, taxes_and_insurance):\n",
    "        self.home_price = home_price\n",
    "        self.loan_amount = loan_amount\n",
    "        self.loan_interest_rate = loan_interest_rate\n",
    "        self.loan_length_in_years = loan_length_in_years\n",
    "        self.taxes_and_insurance = taxes_and_insurance\n",
    "        self.monthly_payment = self.monthly_mortgage()\n",
    "        self.down_payment = home_price - loan_amount\n",
    "        \n",
    "    def monthly_mortgage(self):\n",
    "        \"\"\" \n",
    "        monthly mortgage calculator: \n",
    "        M= P[r(1+r)^n/((1+r)^n)-1)]\n",
    "        \"\"\"\n",
    "        monthly_interest_rate = self.loan_interest_rate/12\n",
    "        num_payments = self.loan_length_in_years * 12\n",
    "        interest_scale =(1+monthly_interest_rate) ** num_payments \n",
    "        numerator = monthly_interest_rate * interest_scale \n",
    "        denominator = interest_scale-1 \n",
    "        monthly = self.loan_amount * (numerator/denominator)\n",
    "        return monthly\n",
    "    "
   ]
  },
  {
   "cell_type": "code",
   "execution_count": 3,
   "id": "ef889454",
   "metadata": {},
   "outputs": [],
   "source": [
    "def monthly_mortgage(loan_interest_rate, loan_length_in_years, loan_amount):\n",
    "    \"\"\" \n",
    "    monthly mortgage calculator: \n",
    "    M= P[r(1+r)^n/((1+r)^n)-1)]\n",
    "    \"\"\"\n",
    "    monthly_interest_rate = loan_interest_rate/100/12\n",
    "    num_payments = loan_length_in_years * 12\n",
    "    interest_scale =(1+monthly_interest_rate) ** num_payments \n",
    "    numerator = monthly_interest_rate * interest_scale \n",
    "    denominator = interest_scale-1 \n",
    "    monthly = loan_amount * (numerator/denominator)\n",
    "    return round(monthly,2)\n",
    "\n",
    "def down_calculator(loan_interest_rate, loan_length_in_years, monthly_payment_target):\n",
    "    monthly_interest_rate = loan_interest_rate/100/12\n",
    "    num_payments = loan_length_in_years * 12\n",
    "    interest_scale =(1+monthly_interest_rate) ** num_payments \n",
    "    numerator = monthly_interest_rate * interest_scale \n",
    "    denominator = interest_scale-1 \n",
    "    loan_amount = monthly_payment_target / (numerator/denominator)\n",
    "    return round(loan_amount,2)"
   ]
  },
  {
   "cell_type": "code",
   "execution_count": 40,
   "id": "d58b01d3",
   "metadata": {},
   "outputs": [
    {
     "name": "stdout",
     "output_type": "stream",
     "text": [
      "monthly mortgage for a current interest rate of 6 for a  1500000 is 4496.63\n",
      "if we kept that monthly and assumed future interest rate of 7 ...\n",
      "the max home price you could afford would be 1351755.04\n",
      "so to afford the same price home, youd have to save $ 148244.96\n",
      "meaning your buying power is  90.12 % of what it is now\n"
     ]
    }
   ],
   "source": [
    "target_home_price = 1500000\n",
    "down_percent = 50\n",
    "loan_amount = target_home_price * (1 - down_percent/100)\n",
    "current_interest_rate = 6\n",
    "future_interest_rate = 7\n",
    "\n",
    "current_monthly = monthly_mortgage(current_interest_rate, 30, loan_amount)\n",
    "future_home = round(down_calculator(future_interest_rate, 30, current_monthly) / ((100-down_percent)/100),2)\n",
    "\n",
    "print('monthly mortgage for a current interest rate of', str(current_interest_rate), 'for a ', str(target_home_price), 'is', str(current_monthly))\n",
    "print('if we kept that monthly and assumed future interest rate of', str(future_interest_rate),'...')\n",
    "print('the max home price you could afford would be', str(future_home))\n",
    "print('so to afford the same price home, youd have to save $', round(target_home_price-future_home,2))\n",
    "print('meaning your buying power is ', str(round((future_home/target_home_price)*100,2)),'% of what it is now')"
   ]
  },
  {
   "cell_type": "code",
   "execution_count": 43,
   "id": "ddd922c1",
   "metadata": {},
   "outputs": [
    {
     "name": "stdout",
     "output_type": "stream",
     "text": [
      "[3.   3.25 3.5  3.75 4.   4.25 4.5  4.75 5.   5.25]\n",
      "[-1.95 -1.87 -1.78 -1.71 -1.63 -1.55 -1.5  -1.42 -1.37]\n"
     ]
    }
   ],
   "source": [
    "bp = []\n",
    "for future_interest_rate in np.linspace(3, 5.25, 10):\n",
    "    current_interest_rate = 3\n",
    "    current_monthly = monthly_mortgage(current_interest_rate, 30, loan_amount)\n",
    "    future_home = round(down_calculator(future_interest_rate, 30, current_monthly) / .8,2)\n",
    "    bp.append(round((future_home/target_home_price)*100,2))\n",
    "    \n",
    "print(np.linspace(3, 5.25, 10))\n",
    "print(np.diff(bp))"
   ]
  },
  {
   "cell_type": "code",
   "execution_count": 44,
   "id": "7d022fc7",
   "metadata": {},
   "outputs": [
    {
     "name": "stdout",
     "output_type": "stream",
     "text": [
      "[-1.95 -1.87 -1.78 -1.71 -1.63 -1.55 -1.5  -1.42 -1.37]\n",
      "for every .25% increase in interest rate. we expect a marginal drop in buying power of approximately -1.64%\n",
      "meaning that if you could buy a 1M house and interest rate went up, the max house you could afford would be 970k\n"
     ]
    }
   ],
   "source": [
    "print(np.diff(bp))\n",
    "\n",
    "\n",
    "print(f'for every .25% increase in interest rate. we expect a marginal drop in buying power of approximately {round(np.mean(np.diff(bp)),2)}%')\n",
    "print('meaning that if you could buy a 1M house and interest rate went up, the max house you could afford would be 970k')"
   ]
  }
 ],
 "metadata": {
  "kernelspec": {
   "display_name": "Python 3 (ipykernel)",
   "language": "python",
   "name": "python3"
  },
  "language_info": {
   "codemirror_mode": {
    "name": "ipython",
    "version": 3
   },
   "file_extension": ".py",
   "mimetype": "text/x-python",
   "name": "python",
   "nbconvert_exporter": "python",
   "pygments_lexer": "ipython3",
   "version": "3.9.7"
  }
 },
 "nbformat": 4,
 "nbformat_minor": 5
}
