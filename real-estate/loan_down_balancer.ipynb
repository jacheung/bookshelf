{
 "cells": [
  {
   "cell_type": "markdown",
   "id": "e7b3eac4",
   "metadata": {},
   "source": [
    "For every increase in point per loan, how much more down would you have to increase. \n",
    "\n",
    "1. Develop montly mortgage cost given home cost\n",
    "2. How much more down have to increase (%) for every increase in (%) "
   ]
  },
  {
   "cell_type": "code",
   "execution_count": 2,
   "id": "0c0cb7ca",
   "metadata": {},
   "outputs": [],
   "source": [
    "class LoanDown:\n",
    "    def __init__(self, home_price, loan_amount, loan_interest_rate, \n",
    "                 loan_length_in_years, taxes_and_insurance):\n",
    "        self.home_price = home_price\n",
    "        self.loan_amount = loan_amount\n",
    "        self.loan_interest_rate = loan_interest_rate\n",
    "        self.loan_length_in_years = loan_length_in_years\n",
    "        self.taxes_and_insurance = taxes_and_insurance\n",
    "        self.monthly_payment = self.monthly_mortgage()\n",
    "        self.down_payment = home_price - loan_amount\n",
    "        \n",
    "    def monthly_mortgage(self):\n",
    "        \"\"\" \n",
    "        monthly mortgage calculator: \n",
    "        M= P[r(1+r)^n/((1+r)^n)-1)]\n",
    "        \"\"\"\n",
    "        monthly_interest_rate = self.loan_interest_rate/12\n",
    "        num_payments = self.loan_length_in_years * 12\n",
    "        interest_scale =(1+monthly_interest_rate) ** num_payments \n",
    "        numerator = monthly_interest_rate * interest_scale \n",
    "        denominator = interest_scale-1 \n",
    "        monthly = self.loan_amount * (numerator/denominator)\n",
    "        return monthly\n",
    "    "
   ]
  },
  {
   "cell_type": "code",
   "execution_count": 20,
   "id": "ef889454",
   "metadata": {},
   "outputs": [],
   "source": [
    "def monthly_mortgage(loan_interest_rate, loan_length_in_years, loan_amount):\n",
    "    \"\"\" \n",
    "    monthly mortgage calculator: \n",
    "    M= P[r(1+r)^n/((1+r)^n)-1)]\n",
    "    \"\"\"\n",
    "    monthly_interest_rate = loan_interest_rate/100/12\n",
    "    num_payments = loan_length_in_years * 12\n",
    "    interest_scale =(1+monthly_interest_rate) ** num_payments \n",
    "    numerator = monthly_interest_rate * interest_scale \n",
    "    denominator = interest_scale-1 \n",
    "    monthly = loan_amount * (numerator/denominator)\n",
    "    return round(monthly,2)\n",
    "\n",
    "def down_calculator(loan_interest_rate, loan_length_in_years, monthly_payment_target):\n",
    "    monthly_interest_rate = loan_interest_rate/100/12\n",
    "    num_payments = loan_length_in_years * 12\n",
    "    interest_scale =(1+monthly_interest_rate) ** num_payments \n",
    "    numerator = monthly_interest_rate * interest_scale \n",
    "    denominator = interest_scale-1 \n",
    "    loan_amount = monthly_payment_target / (numerator/denominator)\n",
    "    return round(loan_amount,2)"
   ]
  },
  {
   "cell_type": "code",
   "execution_count": 46,
   "id": "d58b01d3",
   "metadata": {},
   "outputs": [
    {
     "name": "stdout",
     "output_type": "stream",
     "text": [
      "monthly mortgage for a current interest rate of 3 for a  1300000 is 4384.68\n",
      "if we kept that monthly and assumed future interest rate of 3.25 ...\n",
      "the max home price you could afford would be 1259368.2\n",
      "so to afford the same price home, youd have to save $ 40631.8\n",
      "meaning your buying power is  96.87 % of what it is now\n"
     ]
    }
   ],
   "source": [
    "target_home_price = 1300000\n",
    "down_percent = 20\n",
    "loan_amount = target_home_price * (1 - down_percent/100)\n",
    "current_interest_rate = 3\n",
    "future_interest_rate = 3.25\n",
    "\n",
    "current_monthly = monthly_mortgage(current_interest_rate, 30, loan_amount)\n",
    "future_home = round(down_calculator(future_interest_rate, 30, current_monthly) / .8,2)\n",
    "\n",
    "print('monthly mortgage for a current interest rate of', str(current_interest_rate), 'for a ', str(target_home_price), 'is', str(current_monthly))\n",
    "print('if we kept that monthly and assumed future interest rate of', str(future_interest_rate),'...')\n",
    "print('the max home price you could afford would be', str(future_home))\n",
    "print('so to afford the same price home, youd have to save $', round(target_home_price-future_home,2))\n",
    "print('meaning your buying power is ', str(round((future_home/target_home_price)*100,2)),'% of what it is now')"
   ]
  },
  {
   "cell_type": "code",
   "execution_count": 25,
   "id": "811b7d79",
   "metadata": {},
   "outputs": [
    {
     "data": {
      "text/plain": [
       "1125647.72"
      ]
     },
     "execution_count": 25,
     "metadata": {},
     "output_type": "execute_result"
    }
   ],
   "source": [
    "down_calculator(future_interest_rate, 30, current_monthly)"
   ]
  },
  {
   "cell_type": "code",
   "execution_count": 3,
   "id": "9f90dd9e",
   "metadata": {},
   "outputs": [],
   "source": [
    "home_price = 1300000\n",
    "\n",
    "loan_amount = 544000\n",
    "loan_interest_rate = 0.0275\n",
    "loan_length_in_years = 30\n",
    "taxes_and_insurance = 761.16\n",
    "\n",
    "monthly_mortgage = LoanDown(home_price = home_price, \n",
    "                      loan_amount = loan_amount, \n",
    "                      loan_interest_rate = loan_interest_rate,\n",
    "                      loan_length_in_years = loan_length_in_years,\n",
    "                      taxes_and_insurance = taxes_and_insurance\n",
    "                      )\n"
   ]
  },
  {
   "cell_type": "code",
   "execution_count": 5,
   "id": "fdc3e121",
   "metadata": {},
   "outputs": [
    {
     "data": {
      "text/plain": [
       "2220.8320246337616"
      ]
     },
     "execution_count": 5,
     "metadata": {},
     "output_type": "execute_result"
    }
   ],
   "source": [
    "home_amortization.monthly_mortgage()"
   ]
  }
 ],
 "metadata": {
  "kernelspec": {
   "display_name": "Python 3 (ipykernel)",
   "language": "python",
   "name": "python3"
  },
  "language_info": {
   "codemirror_mode": {
    "name": "ipython",
    "version": 3
   },
   "file_extension": ".py",
   "mimetype": "text/x-python",
   "name": "python",
   "nbconvert_exporter": "python",
   "pygments_lexer": "ipython3",
   "version": "3.9.7"
  }
 },
 "nbformat": 4,
 "nbformat_minor": 5
}
