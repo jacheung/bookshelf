{
 "cells": [
  {
   "cell_type": "markdown",
   "id": "e7b3eac4",
   "metadata": {},
   "source": [
    "For every increase in point per loan, how much more down would you have to increase. \n",
    "\n",
    "1. Develop montly mortgage cost given home cost\n",
    "2. How much more down have to increase (%) for every increase in (%) "
   ]
  },
  {
   "cell_type": "code",
   "execution_count": 10,
   "id": "1d643e94",
   "metadata": {},
   "outputs": [
    {
     "ename": "ModuleNotFoundError",
     "evalue": "No module named 'seaborn'",
     "output_type": "error",
     "traceback": [
      "\u001b[0;31m---------------------------------------------------------------------------\u001b[0m",
      "\u001b[0;31mModuleNotFoundError\u001b[0m                       Traceback (most recent call last)",
      "\u001b[0;32m<ipython-input-10-0bdb945fca6b>\u001b[0m in \u001b[0;36m<module>\u001b[0;34m\u001b[0m\n\u001b[1;32m      2\u001b[0m \u001b[0;32mimport\u001b[0m \u001b[0mmatplotlib\u001b[0m\u001b[0;34m.\u001b[0m\u001b[0mpyplot\u001b[0m \u001b[0;32mas\u001b[0m \u001b[0mplt\u001b[0m\u001b[0;34m\u001b[0m\u001b[0;34m\u001b[0m\u001b[0m\n\u001b[1;32m      3\u001b[0m \u001b[0;32mimport\u001b[0m \u001b[0mpandas\u001b[0m \u001b[0;32mas\u001b[0m \u001b[0mpd\u001b[0m\u001b[0;34m\u001b[0m\u001b[0;34m\u001b[0m\u001b[0m\n\u001b[0;32m----> 4\u001b[0;31m \u001b[0;32mimport\u001b[0m \u001b[0mseaborn\u001b[0m \u001b[0;32mas\u001b[0m \u001b[0msns\u001b[0m\u001b[0;34m\u001b[0m\u001b[0;34m\u001b[0m\u001b[0m\n\u001b[0m",
      "\u001b[0;31mModuleNotFoundError\u001b[0m: No module named 'seaborn'"
     ]
    }
   ],
   "source": [
    "import numpy as np\n",
    "import matplotlib.pyplot as plt\n",
    "import pandas as pd\n",
    "import seaborn as sns "
   ]
  },
  {
   "cell_type": "code",
   "execution_count": 11,
   "id": "0c0cb7ca",
   "metadata": {},
   "outputs": [],
   "source": [
    "class LoanDown:\n",
    "    def __init__(self, home_price, loan_amount, loan_interest_rate, \n",
    "                 loan_length_in_years, taxes_and_insurance):\n",
    "        self.home_price = home_price\n",
    "        self.loan_amount = loan_amount\n",
    "        self.loan_interest_rate = loan_interest_rate\n",
    "        self.loan_length_in_years = loan_length_in_years\n",
    "        self.taxes_and_insurance = taxes_and_insurance\n",
    "        self.monthly_payment = self.monthly_mortgage()\n",
    "        self.down_payment = home_price - loan_amount\n",
    "        \n",
    "    def monthly_mortgage(self):\n",
    "        \"\"\" \n",
    "        monthly mortgage calculator: \n",
    "        M= P[r(1+r)^n/((1+r)^n)-1)]\n",
    "        \"\"\"\n",
    "        monthly_interest_rate = self.loan_interest_rate/12\n",
    "        num_payments = self.loan_length_in_years * 12\n",
    "        interest_scale =(1+monthly_interest_rate) ** num_payments \n",
    "        numerator = monthly_interest_rate * interest_scale \n",
    "        denominator = interest_scale-1 \n",
    "        monthly = self.loan_amount * (numerator/denominator)\n",
    "        return monthly\n",
    "    "
   ]
  },
  {
   "cell_type": "code",
   "execution_count": 12,
   "id": "ef889454",
   "metadata": {},
   "outputs": [],
   "source": [
    "def monthly_mortgage(loan_interest_rate, loan_length_in_years, loan_amount):\n",
    "    \"\"\" \n",
    "    monthly mortgage calculator: \n",
    "    M= P[r(1+r)^n/((1+r)^n)-1)]\n",
    "    \"\"\"\n",
    "    monthly_interest_rate = loan_interest_rate/100/12\n",
    "    num_payments = loan_length_in_years * 12\n",
    "    interest_scale =(1+monthly_interest_rate) ** num_payments \n",
    "    numerator = monthly_interest_rate * interest_scale \n",
    "    denominator = interest_scale-1 \n",
    "    monthly = loan_amount * (numerator/denominator)\n",
    "    return round(monthly,2)\n",
    "\n",
    "def max_loan_calculator(loan_interest_rate, loan_length_in_years, monthly_payment_target,\n",
    "                        target_home_price=None, property_tax_rate=1):\n",
    "    \"\"\"\n",
    "    This function helps you identify the max loan and therefore your required downpayment. \n",
    "    You feed in your target home price and the max monthly you're willing to shell out for your home.\n",
    "    Outputs the loan amount. \n",
    "    \"\"\"\n",
    "    monthly_property_tax = 0\n",
    "    if target_home_price is not None:\n",
    "        monthly_property_tax = (target_home_price * property_tax_rate/100)/12\n",
    "    monthly_payment_target -= monthly_property_tax\n",
    "    monthly_interest_rate = loan_interest_rate/100/12\n",
    "    num_payments = loan_length_in_years * 12\n",
    "    interest_scale =(1+monthly_interest_rate) ** num_payments \n",
    "    numerator = monthly_interest_rate * interest_scale \n",
    "    denominator = interest_scale-1 \n",
    "    loan_amount = monthly_payment_target / (numerator/denominator)\n",
    "    return round(loan_amount, 2), round(monthly_property_tax, 2)"
   ]
  },
  {
   "cell_type": "code",
   "execution_count": 23,
   "id": "9205a322",
   "metadata": {},
   "outputs": [
    {
     "name": "stdout",
     "output_type": "stream",
     "text": [
      "Given a monthly spend of 6000 and a target home price of 900000...\n",
      "(This includes a monthly property tax of 900.0.)\n",
      "Youll need a down-payment of 93124.82\n"
     ]
    }
   ],
   "source": [
    "monthly_payment_target=6000\n",
    "loan_interest_rate=6.5\n",
    "loan_length_in_years=30\n",
    "target_home_price=900000\n",
    "property_tax_rate = 1.2   \n",
    "\n",
    "loan, monthly_property_tax = max_loan_calculator(loan_interest_rate=loan_interest_rate, \n",
    "                                                 loan_length_in_years=loan_length_in_years, \n",
    "                                                 monthly_payment_target=monthly_payment_target,\n",
    "                                                 target_home_price=target_home_price,\n",
    "                                                 property_tax_rate=property_tax_rate)\n",
    "print(f'Given a monthly spend of {monthly_payment_target} and a target home price of {target_home_price}...')\n",
    "print(f'(This includes a monthly property tax of {monthly_property_tax}.)')\n",
    "print(f'Youll need a down-payment of {np.round((target_home_price-loan),2)}')"
   ]
  },
  {
   "cell_type": "code",
   "execution_count": null,
   "id": "ddd922c1",
   "metadata": {},
   "outputs": [],
   "source": [
    "max_monthly = 5000 # this parameter doesnt matter in creating the heatmap\n",
    "current_interest_rate = np.linspace(2,10,17)\n",
    "future_interest_rate = np.linspace(2,10,17)\n",
    "mapping = pd.DataFrame()\n",
    "\n",
    "for current in current_interest_rate: \n",
    "    bp = []\n",
    "    for future in future_interest_rate:\n",
    "        current_home = round(max_loan_calculator(current, \n",
    "                                                 loan_length_in_years=30, \n",
    "                                                 monthly_payment_target=max_monthly),2)\n",
    "        future_home = round(max_loan_calculator(future, \n",
    "                                                loan_length_in_years=30, \n",
    "                                                monthly_payment_target=max_monthly),2)\n",
    "        bp.append(round((future_home/current_home)*100))\n",
    "    mapping[current] = bp\n",
    "mapping.index = current_interest_rate"
   ]
  },
  {
   "cell_type": "code",
   "execution_count": null,
   "id": "fdab32b1",
   "metadata": {},
   "outputs": [],
   "source": [
    "mapping.to_csv('current_to_future.csv')"
   ]
  },
  {
   "cell_type": "code",
   "execution_count": null,
   "id": "23bb5ebd",
   "metadata": {},
   "outputs": [],
   "source": [
    "plt.figure(figsize=(12,12))\n",
    "plt.rcParams.update({'font.size': 13})\n",
    "ax = sns.heatmap(mapping, cmap ='RdYlBu', linewidths = 0.30, annot = True,fmt='g', cbar=False)\n",
    "ax.set_xlabel('Current interest rate (%)')\n",
    "ax.set_ylabel('Future interest rate (%)')\n",
    "ax.xaxis.set_label_position('top')\n",
    "ax.xaxis.tick_top() \n",
    "ax.set_title('If you kept the same monthly payment, how much more/less home could you afford if interest rates changed?', pad=20)\n",
    "fig = ax.get_figure()\n",
    "fig.savefig(\"heatmap.png\", facecolor='white', transparent=False) "
   ]
  }
 ],
 "metadata": {
  "kernelspec": {
   "display_name": "venv",
   "language": "python",
   "name": "venv"
  },
  "language_info": {
   "codemirror_mode": {
    "name": "ipython",
    "version": 3
   },
   "file_extension": ".py",
   "mimetype": "text/x-python",
   "name": "python",
   "nbconvert_exporter": "python",
   "pygments_lexer": "ipython3",
   "version": "3.9.15"
  }
 },
 "nbformat": 4,
 "nbformat_minor": 5
}
