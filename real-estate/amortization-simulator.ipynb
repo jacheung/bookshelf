{
 "cells": [
  {
   "cell_type": "code",
   "execution_count": 2,
   "metadata": {},
   "outputs": [],
   "source": [
    "import matplotlib.pyplot as plt\n",
    "import pandas as pd"
   ]
  },
  {
   "cell_type": "code",
   "execution_count": 33,
   "metadata": {},
   "outputs": [],
   "source": [
    "class AmortizationSimulator:\n",
    "    def __init__(self, home_price, loan_amount, loan_interest_rate, \n",
    "                 loan_length_in_years, taxes_and_insurance):\n",
    "        self.home_price = home_price\n",
    "        self.loan_amount = loan_amount\n",
    "        self.loan_interest_rate = loan_interest_rate\n",
    "        self.loan_length_in_years = loan_length_in_years\n",
    "        self.taxes_and_insurance = taxes_and_insurance\n",
    "        self.monthly_payment = self.monthly_mortgage()\n",
    "        self.down_payment = home_price - loan_amount\n",
    "        \n",
    "    def monthly_mortgage(self):\n",
    "        \"\"\" \n",
    "        monthly mortgage calculator: \n",
    "        M= P[r(1+r)^n/((1+r)^n)-1)]\n",
    "        \"\"\"\n",
    "        monthly_interest_rate = self.loan_interest_rate/12\n",
    "        num_payments = self.loan_length_in_years * 12\n",
    "        interest_scale =(1+monthly_interest_rate) ** num_payments \n",
    "        numerator = monthly_interest_rate * interest_scale \n",
    "        denominator = interest_scale-1 \n",
    "        monthly = self.loan_amount * (numerator/denominator)\n",
    "        return monthly\n",
    "    \n",
    "    def remaining_principal(self, principal, num_payments, extra_on_principal = 0):\n",
    "        if num_payments > self.loan_length_in_years * 12:\n",
    "            raise Exception('num_payments must be less than or equal to ' + str(self.loan_length_in_years * 12))\n",
    "        if num_payments == 0:\n",
    "            return principal\n",
    "        interest_payment = principal * (self.loan_interest_rate/12)\n",
    "        principal_payment = self.monthly_payment - interest_payment\n",
    "        new_principal = principal - principal_payment - extra_on_principal\n",
    "        num_payments = num_payments - 1\n",
    "        return self.remaining_principal(new_principal, num_payments, extra_on_principal)\n",
    "    \n",
    "    def home_value(self, growth_rate, num_payments):\n",
    "        new_value = self.home_price * (growth_rate ** (num_payments/12))\n",
    "        return new_value \n",
    "    \n",
    "    def summary(self, growth_rate, num_payments, rental_price = 0, extra_on_principal = 0):\n",
    "        remaining = self.remaining_principal(self.loan_amount, num_payments, extra_on_principal)\n",
    "        gained_equity = 1 - remaining/self.loan_amount\n",
    "        estimated_new_home_price = self.home_value(growth_rate, num_payments)\n",
    "        estimated_home_profit = estimated_new_home_price - self.home_price\n",
    "        rental_gains = (rental_price - (self.monthly_payment + self.taxes_and_insurance) - extra_on_principal) * num_payments\n",
    "\n",
    "        print('Down payment: ' + str(round(self.down_payment,2)))\n",
    "        print('Monthly mortgage: ' + str(round(self.monthly_payment,2)))\n",
    "        print('Monthly mortgage and fees: ' + str(round(self.monthly_payment + self.taxes_and_insurance,2)))\n",
    "        print()\n",
    "        print('After ' + str(num_payments) + ' payments...')\n",
    "        print()\n",
    "        print('Paid: ' + str( round(num_payments * (self.monthly_payment + self.taxes_and_insurance),2)))\n",
    "        print('Paid towards principal: ' + str(round(self.loan_amount - remaining,2)))\n",
    "        print('Gained equity: ' + str(round((gained_equity * 100),2)) + '%')\n",
    "        print()\n",
    "        print('Assuming ' + str(round((growth_rate-1)*100,2)) + '% annual home value growth...')\n",
    "        print('Home price : ' + str(round(estimated_new_home_price,2)))\n",
    "        print('Gained equity : ' + str(round(estimated_home_profit,2)))\n",
    "        print()\n",
    "        print('Total equity from principal and growth: ' + str( round((self.home_price * gained_equity) + estimated_home_profit,2)) )\n",
    "        print()\n",
    "        print('Assuming rental price of ' + str(rental_price) + '...')\n",
    "        print('Gained rental profit ' + str(round(rental_gains,2)))\n",
    "        print()\n",
    "        print('Total gained ' + str(round(rental_gains +  (self.home_price * gained_equity) + estimated_home_profit,2)))       \n",
    "        print('ROI ' + str(round((rental_gains +  (self.home_price * gained_equity) + estimated_home_profit) / (self.home_price-self.loan_amount),2)*100))\n",
    "              \n",
    "              \n",
    "              \n",
    "              \n",
    "              \n",
    "              "
   ]
  },
  {
   "cell_type": "code",
   "execution_count": 24,
   "metadata": {},
   "outputs": [
    {
     "name": "stdout",
     "output_type": "stream",
     "text": [
      "Down payment: 136000\n",
      "Monthly mortgage: 2220.83\n",
      "Monthly mortgage and fees: 2981.99\n",
      "\n",
      "After 120 payments...\n",
      "\n",
      "Paid: 357839.04\n",
      "Paid towards principal: 134378.08\n",
      "Gained equity: 24.7%\n",
      "\n",
      "Assuming 3.0% annual home value growth...\n",
      "Home price : 913863.14\n",
      "Gained equity : 233863.14\n",
      "\n",
      "Total equity from principal and growth: 401835.74\n",
      "\n",
      "Assuming rental price of 3295...\n",
      "Gained rental profit 37560.96\n",
      "\n",
      "Total gained 439396.7\n"
     ]
    }
   ],
   "source": [
    "# statics\n",
    "home_price = 680000\n",
    "closing_costs = 2701.43\n",
    "loan_amount = 544000\n",
    "loan_interest_rate = 0.0275\n",
    "loan_length_in_years = 30\n",
    "taxes_and_insurance = 761.16\n",
    "\n",
    "# time\n",
    "num_payments = 120\n",
    "\n",
    "# assumptions\n",
    "growth_rate = 1.03\n",
    "rental_price = 3295\n",
    "extra_on_principal = 0  # amount of extra (from rent) to contribute on principal? \n",
    "\n",
    "home_amortization = AmortizationSimulator(home_price = home_price, \n",
    "                      loan_amount = loan_amount, \n",
    "                      loan_interest_rate = loan_interest_rate,\n",
    "                      loan_length_in_years = loan_length_in_years,\n",
    "                      taxes_and_insurance = taxes_and_insurance\n",
    "                      )\n",
    "\n",
    "home_amortization.home_value(num_payments = num_payments, growth_rate = growth_rate)\n",
    "\n",
    "home_amortization.summary(num_payments = num_payments, \n",
    "                          growth_rate = growth_rate, \n",
    "                          rental_price = rental_price, \n",
    "                          extra_on_principal = extra_on_principal)"
   ]
  },
  {
   "cell_type": "code",
   "execution_count": 18,
   "metadata": {},
   "outputs": [
    {
     "name": "stdout",
     "output_type": "stream",
     "text": [
      "[1.08, 1.12, 1.14, 1.16, 1.07, 1.04, 1.06]\n",
      "1.0957142857142856\n"
     ]
    }
   ],
   "source": [
    "# University Park 90007, YTY growth. \n",
    "YTY = [423, 458, 511, 580, 672, 722, 750, 795]\n",
    "YTY_change = []\n",
    "for k in range(0,len(YTY)-1):\n",
    "    YTY_change.append(round(YTY[k+1]/YTY[k],2))\n",
    "    \n",
    "import numpy as np\n",
    "print(YTY_change)\n",
    "print(np.mean(YTY_change))"
   ]
  },
  {
   "cell_type": "code",
   "execution_count": 22,
   "metadata": {},
   "outputs": [],
   "source": [
    "gained_equity = []\n",
    "downpayment_pct = 28.9\n",
    "for payment_num in range(1,361):\n",
    "    remaining = home_amortization.remaining_principal(principal = 544000, num_payments = payment_num)\n",
    "    total_equity = round(((1 - remaining/544000)*80) + downpayment_pct,2)\n",
    "    gained_equity.append(total_equity)\n",
    "pd.DataFrame(gained_equity[11:]).to_csv('test.csv')\n"
   ]
  },
  {
   "cell_type": "code",
   "execution_count": 34,
   "metadata": {},
   "outputs": [
    {
     "name": "stdout",
     "output_type": "stream",
     "text": [
      "10450.0 4369.999999999999 14820.0\n"
     ]
    }
   ],
   "source": [
    "salary = 95000\n",
    "bonus = 1.15\n",
    "individual = .11\n",
    "employer = .04\n",
    "\n",
    "indiv_contribution = (salary * individual) \n",
    "company_contribution = (salary * bonus * employer)\n",
    "total = indiv_contribution + company_contribution\n",
    "print (indiv_contribution, company_contribution, total)"
   ]
  },
  {
   "cell_type": "code",
   "execution_count": 30,
   "metadata": {},
   "outputs": [
    {
     "data": {
      "text/plain": [
       "1.4181818181818182"
      ]
     },
     "execution_count": 30,
     "metadata": {},
     "output_type": "execute_result"
    }
   ],
   "source": [
    "(indiv_contribution + company_contribution) / indiv_contribution"
   ]
  },
  {
   "cell_type": "code",
   "execution_count": null,
   "metadata": {},
   "outputs": [],
   "source": []
  }
 ],
 "metadata": {
  "kernelspec": {
   "display_name": "Python 3 (ipykernel)",
   "language": "python",
   "name": "python3"
  },
  "language_info": {
   "codemirror_mode": {
    "name": "ipython",
    "version": 3
   },
   "file_extension": ".py",
   "mimetype": "text/x-python",
   "name": "python",
   "nbconvert_exporter": "python",
   "pygments_lexer": "ipython3",
   "version": "3.9.7"
  }
 },
 "nbformat": 4,
 "nbformat_minor": 4
}
