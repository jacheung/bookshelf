{
 "cells": [
  {
   "cell_type": "code",
   "execution_count": 1,
   "metadata": {},
   "outputs": [],
   "source": [
    "import math\n",
    "import numpy as np"
   ]
  },
  {
   "cell_type": "code",
   "execution_count": 37,
   "metadata": {},
   "outputs": [
    {
     "name": "stdout",
     "output_type": "stream",
     "text": [
      "2220.8320246337616\n"
     ]
    }
   ],
   "source": [
    "\n",
    "principal = 544000\n",
    "interest_rate = 0.0275 \n",
    "loan_length_in_years = 30\n",
    "\n",
    "def monthly_mortgage(principal, interest_rate, loan_length_in_years):\n",
    "    \"\"\" \n",
    "    monthly mortgage calculator: \n",
    "    M= P[r(1+r)^n/((1+r)^n)-1)]\n",
    "    \"\"\"\n",
    "    monthly_interest_rate = interest_rate/12\n",
    "    num_payments = loan_length_in_years * 12\n",
    "    interest_scale =(1+monthly_interest_rate) ** num_payments \n",
    "    numerator = monthly_interest_rate * interest_scale \n",
    "    denominator = interest_scale-1 \n",
    "    monthly = principal * (numerator/denominator)\n",
    "    return monthly\n",
    "\n",
    "monthly = monthly_mortgage(principal, interest_rate, loan_length_in_years)\n",
    "print(monthly)\n",
    "# M= P[r(1+r)^n/((1+r)^n)-1)]"
   ]
  },
  {
   "cell_type": "code",
   "execution_count": 69,
   "metadata": {},
   "outputs": [
    {
     "name": "stdout",
     "output_type": "stream",
     "text": [
      "Paid: 26649.98429560514\n",
      "Paid principal: 11838.45816392987\n",
      "Gained amount:14798.07270491234\n",
      "After 12 payments, you will have gained 2.1761871624871088% equity\n"
     ]
    }
   ],
   "source": [
    "home_price = 680000\n",
    "principal = 544000\n",
    "num_payments = 12\n",
    "interest_rate = 0.0275\n",
    "assumed_home_growth_rate = 1.00\n",
    "\n",
    "def remaining_principal(principal, interest_rate, num_payments):\n",
    "    \n",
    "    if num_payments == 0:\n",
    "        return principal \n",
    "    interest_payment = principal * (interest_rate/12)\n",
    "    principal_payment = monthly - interest_payment\n",
    "    new_principal = principal - principal_payment\n",
    "    num_payments = num_payments - 1\n",
    "    return remaining_principal(new_principal, interest_rate, num_payments)\n",
    "\n",
    "\n",
    "def home_value(home_price, growth_rate, num_payments): \n",
    "    new_value = home_price * growth_rate ** (num_payments/12)\n",
    "    return new_value \n",
    "\n",
    "remaining = remaining_principal(principal, interest_rate, num_payments)\n",
    "gained_equity = 1 - remaining/principal\n",
    "new_price = home_value(home_price, assumed_home_growth_rate, num_payments)\n",
    "rent_profit = 500 * num_payments\n",
    "\n",
    "\n",
    "print('Paid: ' + str(num_payments * monthly))\n",
    "print('Paid principal: ' + str(principal - remaining))\n",
    "print('Gained amount:' + str(new_price * gained_equity))\n",
    "print('After ' + str(num_payments) + ' payments, you will have gained ' + str(gained_equity * 100) + '% equity')"
   ]
  },
  {
   "cell_type": "raw",
   "metadata": {},
   "source": [
    "remaining_principal(principal, interest_rate, 60)"
   ]
  },
  {
   "cell_type": "code",
   "execution_count": 66,
   "metadata": {},
   "outputs": [
    {
     "data": {
      "text/plain": [
       "788306.370524"
      ]
     },
     "execution_count": 66,
     "metadata": {},
     "output_type": "execute_result"
    }
   ],
   "source": [
    "home_value(home_price, assumed_home_growth_rate, num_payments)"
   ]
  },
  {
   "cell_type": "code",
   "execution_count": null,
   "metadata": {},
   "outputs": [],
   "source": []
  }
 ],
 "metadata": {
  "kernelspec": {
   "display_name": "Python 3",
   "language": "python",
   "name": "python3"
  },
  "language_info": {
   "codemirror_mode": {
    "name": "ipython",
    "version": 3
   },
   "file_extension": ".py",
   "mimetype": "text/x-python",
   "name": "python",
   "nbconvert_exporter": "python",
   "pygments_lexer": "ipython3",
   "version": "3.7.6"
  }
 },
 "nbformat": 4,
 "nbformat_minor": 4
}
