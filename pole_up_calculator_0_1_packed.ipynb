{
 "cells": [
  {
   "cell_type": "markdown",
   "metadata": {
    "id": "6wcKSov1kXBl"
   },
   "source": [
    "### import packages"
   ]
  },
  {
   "cell_type": "code",
   "execution_count": null,
   "metadata": {
    "id": "m-xIZ7o84Nne"
   },
   "outputs": [],
   "source": [
    "# needed for code before package \n",
    "from google.colab import drive # specific for colab\n",
    "import glob\n",
    "import h5py\n",
    "\n",
    "# needed for package \n",
    "from scipy.ndimage import gaussian_laplace\n",
    "import numpy as np \n",
    "np.seterr(divide='ignore', invalid='ignore') # turn off warning for div by 0 or NaN\n",
    "import statsmodels.api as sm\n",
    "lowess = sm.nonparametric.lowess\n",
    "import warnings\n",
    "import matplotlib.pyplot as plt\n",
    "\n",
    "from tqdm.notebook import tqdm # this is ideal for jupyter and colab notebooks might change for others\n",
    "# from tqdm import tqdm\n",
    "# from functools import partial # specific for colab -- to make it work better\n",
    "# tqdm = partial(tqdm, position=0, leave=True)# specific for colab -- to make it work better"
   ]
  },
  {
   "cell_type": "markdown",
   "metadata": {
    "id": "Rwz_JrxvPpg2"
   },
   "source": [
    "### color class\n"
   ]
  },
  {
   "cell_type": "code",
   "execution_count": null,
   "metadata": {
    "id": "BQ-D_yj1PlvS"
   },
   "outputs": [],
   "source": [
    "#$include\n",
    "class color:\n",
    "   PURPLE = '\\033[95m'\n",
    "   CYAN = '\\033[96m'\n",
    "   DARKCYAN = '\\033[36m'\n",
    "   BLUE = '\\033[94m'\n",
    "   GREEN = '\\033[92m'\n",
    "   YELLOW = '\\033[93m'\n",
    "   RED = '\\033[91m'\n",
    "   BOLD = '\\033[1m'\n",
    "   UNDERLINE = '\\033[4m'\n",
    "   END = '\\033[0m'"
   ]
  },
  {
   "cell_type": "markdown",
   "metadata": {
    "id": "pSBox_70tNfg"
   },
   "source": [
    "### group_consecutives "
   ]
  },
  {
   "cell_type": "code",
   "execution_count": null,
   "metadata": {
    "colab": {
     "base_uri": "https://localhost:8080/"
    },
    "id": "cdUmU0245c3k",
    "outputId": "b3430907-6853-4e93-bb41-d6a8f09968e4"
   },
   "outputs": [
    {
     "name": "stdout",
     "output_type": "stream",
     "text": [
      "[[1, 2, 3], [7, 8, 9], [100], [102, 103, 104]]\n",
      "[[0, 1, 2], [3, 4, 5], [6], [7, 8, 9]]\n"
     ]
    },
    {
     "data": {
      "text/plain": [
       "[1, 2, 3]"
      ]
     },
     "execution_count": 328,
     "metadata": {
      "tags": []
     },
     "output_type": "execute_result"
    }
   ],
   "source": [
    "# taken directly from online \n",
    "def group_consecutives(vals, step=1):\n",
    "    \"\"\"Return list of consecutive lists of numbers from vals (number list).\"\"\"\n",
    "    run = []\n",
    "    run_ind = []\n",
    "    result = run\n",
    "    result_ind = run_ind\n",
    "    expect = None\n",
    "    for k, v in enumerate(vals):\n",
    "        if (v == expect):\n",
    "            if not(np.isnan(v)):\n",
    "              # print(v)\n",
    "              # print(expect)\n",
    "              run.append(v)\n",
    "              run_ind.append(k)\n",
    "        else:\n",
    "            if not(np.isnan(v)):\n",
    "              \n",
    "              run = [v]\n",
    "              run_ind = [k]\n",
    "              result.append(run)\n",
    "              result_ind.append(run_ind)\n",
    "        expect = v + step\n",
    "    # print(result)\n",
    "    if result == []:\n",
    "      pass\n",
    "    elif result[0]==[]:\n",
    "      print('asdfasdfasdfasdfasdfasdfasdfasd')\n",
    "      result = result[1:]\n",
    "      result_ind = result_ind[1:]\n",
    "    return result, result_ind\n",
    "chunks, chunk_inds = group_consecutives(np.asarray([1, 2, 3, 7, 8, 9, 100, 102, 103, 104]), step=1)    \n",
    "chunks, chunk_inds = group_consecutives(np.asarray([1, 2, 3, 7, 8, 9, 100, 102, 103, 104]), step=1)    \n",
    "\n",
    "print(chunks)\n",
    "print(chunk_inds)\n",
    "chunks[0]"
   ]
  },
  {
   "cell_type": "markdown",
   "metadata": {
    "id": "ivASMZGNdX7q"
   },
   "source": [
    "# MAIN CODE "
   ]
  },
  {
   "cell_type": "code",
   "execution_count": null,
   "metadata": {
    "colab": {
     "base_uri": "https://localhost:8080/"
    },
    "id": "SBdsD1YVdXl7",
    "outputId": "7275bcd2-94cc-4fad-b438-09784db98ed0"
   },
   "outputs": [
    {
     "name": "stdout",
     "output_type": "stream",
     "text": [
      "Drive already mounted at /content/gdrive; to attempt to forcibly remount, call drive.mount(\"/content/gdrive\", force_remount=True).\n"
     ]
    },
    {
     "data": {
      "text/plain": [
       "['/content/gdrive/My Drive/Colab data/H5_full_sessions/AH0669_170324.h5',\n",
       " '/content/gdrive/My Drive/Colab data/H5_full_sessions/AH0762_171013.h5',\n",
       " '/content/gdrive/My Drive/Colab data/H5_full_sessions/AH0761_171106.h5',\n",
       " '/content/gdrive/My Drive/Colab data/H5_full_sessions/AH1118X25032020ses330-.h5']"
      ]
     },
     "execution_count": 6,
     "metadata": {
      "tags": []
     },
     "output_type": "execute_result"
    }
   ],
   "source": [
    "# Mount google drive and set up directories \n",
    "drive.mount('/content/gdrive')\n",
    "base_dir = \"/content/gdrive/My Drive/Colab data/H5_full_sessions/\"\n",
    "H5_file_list = glob.glob(base_dir + \"*.h5\")\n",
    "H5_file_list"
   ]
  },
  {
   "cell_type": "code",
   "execution_count": null,
   "metadata": {
    "colab": {
     "base_uri": "https://localhost:8080/"
    },
    "id": "ZhGg32ndWaJf",
    "outputId": "d939252f-fb17-4e46-c99c-063fff064751"
   },
   "outputs": [
    {
     "data": {
      "text/plain": [
       "['/content/gdrive/My Drive/Colab data/H5_full_sessions/AH0761_171106.h5']"
      ]
     },
     "execution_count": 7,
     "metadata": {
      "tags": []
     },
     "output_type": "execute_result"
    }
   ],
   "source": [
    "# CHOOSE TEST SET H5 FILE --ONLY ONE--\n",
    "H5_file_list = [H5_file_list[2]]\n",
    "if len(H5_file_list)!=1:\n",
    "  print('For this program this must be only 1 file long')\n",
    "  raise\n",
    "H5_file_list"
   ]
  },
  {
   "cell_type": "code",
   "execution_count": null,
   "metadata": {
    "colab": {
     "base_uri": "https://localhost:8080/"
    },
    "id": "227H1zLMSVrz",
    "outputId": "89df2e1b-5b2f-4eff-f63b-c206b4854f1c"
   },
   "outputs": [
    {
     "name": "stdout",
     "output_type": "stream",
     "text": [
      "These are the number of frames in each H5 file provided -->[560000]\n"
     ]
    },
    {
     "data": {
      "text/plain": [
       "['file_name_nums', 'images', 'labels', 'trial_nums_and_frame_nums']"
      ]
     },
     "execution_count": 8,
     "metadata": {
      "tags": []
     },
     "output_type": "execute_result"
    }
   ],
   "source": [
    "#  num in each for H5 files \n",
    "num_frames_in_all_H5_files = []\n",
    "for H5_file in H5_file_list:\n",
    "    H5 = h5py.File(H5_file, 'r')\n",
    "    images = H5['images']\n",
    "    labels = H5['labels']\n",
    "    num_frames_in_all_H5_files.append(images.shape[0])\n",
    "    frames_in_each = H5['trial_nums_and_frame_nums'][1].astype(int)\n",
    "\n",
    "print('These are the number of frames in each H5 file provided -->' + str(num_frames_in_all_H5_files))\n",
    "list(H5.keys())"
   ]
  },
  {
   "cell_type": "code",
   "execution_count": null,
   "metadata": {
    "colab": {
     "base_uri": "https://localhost:8080/"
    },
    "id": "5_1eNpUY0ntB",
    "outputId": "057f4388-5599-4288-c1e0-b81aa6f8e1cb"
   },
   "outputs": [
    {
     "data": {
      "text/plain": [
       "array([4000, 4000, 4000, 4000, 4000, 4000, 4000, 4000, 4000, 4000, 4000,\n",
       "       4000, 4000, 4000, 4000, 4000, 4000, 4000, 4000, 4000, 4000, 4000,\n",
       "       4000, 4000, 4000, 4000, 4000, 4000, 4000, 4000, 4000, 4000, 4000,\n",
       "       4000, 4000, 4000, 4000, 4000, 4000, 4000, 4000, 4000, 4000, 4000,\n",
       "       4000, 4000, 4000, 4000, 4000, 4000, 4000, 4000, 4000, 4000, 4000,\n",
       "       4000, 4000, 4000, 4000, 4000, 4000, 4000, 4000, 4000, 4000, 4000,\n",
       "       4000, 4000, 4000, 4000, 4000, 4000, 4000, 4000, 4000, 4000, 4000,\n",
       "       4000, 4000, 4000, 4000, 4000, 4000, 4000, 4000, 4000, 4000, 4000,\n",
       "       4000, 4000, 4000, 4000, 4000, 4000, 4000, 4000, 4000, 4000, 4000,\n",
       "       4000, 4000, 4000, 4000, 4000, 4000, 4000, 4000, 4000, 4000, 4000,\n",
       "       4000, 4000, 4000, 4000, 4000, 4000, 4000, 4000, 4000, 4000, 4000,\n",
       "       4000, 4000, 4000, 4000, 4000, 4000, 4000, 4000, 4000, 4000, 4000,\n",
       "       4000, 4000, 4000, 4000, 4000, 4000, 4000, 4000])"
      ]
     },
     "execution_count": 9,
     "metadata": {
      "tags": []
     },
     "output_type": "execute_result"
    }
   ],
   "source": [
    "frames_in_each"
   ]
  },
  {
   "cell_type": "code",
   "execution_count": null,
   "metadata": {
    "colab": {
     "base_uri": "https://localhost:8080/"
    },
    "id": "sHQw2HQC4Mtc",
    "outputId": "bfcd7c9d-493d-46ef-c637-b4781c45a76c"
   },
   "outputs": [
    {
     "name": "stdout",
     "output_type": "stream",
     "text": [
      "[]\n",
      "[]\n"
     ]
    }
   ],
   "source": [
    "# sometime whern building your H5 files the frames get dropped. here is a check you can use \n",
    "# to see if any video files are not 3000 or 4000 frames, this will not work for \n",
    "# videos that dont have 3000 or 4000 frames. a check can be make becasue the H5\n",
    "# contains info on number of frames expected per video file-- FIX LATER\n",
    "not4000 = np.where(np.remainder(num_frames_in_all_H5_files, 4000)!=0)\n",
    "not3000 = np.where(np.remainder(num_frames_in_all_H5_files, 3000)!=0)\n",
    "of3000 = np.where(np.in1d(not3000, not4000)==True)\n",
    "bad_H5s = not3000[0][of3000]\n",
    "# if this prints out files you need to delete these file and run the entire thing again\n",
    "\n",
    "print([num_frames_in_all_H5_files[k] for k in bad_H5s])\n",
    "print([H5_file_list[k] for k in bad_H5s])\n"
   ]
  },
  {
   "cell_type": "markdown",
   "metadata": {
    "id": "nwC6RvYqtGKl"
   },
   "source": [
    "# Pole up calculator"
   ]
  },
  {
   "cell_type": "markdown",
   "metadata": {
    "id": "xjU93c49fgeJ"
   },
   "source": [
    "- !using iterations of 10 each find max variability and then iterate again until some sort of loss \n",
    "- !once min improvments chose that sigma and present the user with the trace to confirm \n",
    "- if user says no, then suggest another set of videos frames, or manually adjust \n",
    "- must have optional user set sigma values so that they can test and overide the automatic calculator\n",
    "- then fit with lowess smoothing -- make this value an option as well, must present the trace and teh smoothed trac to the user to verify, must allow for user to change lowess value WITHOUT redoing the laplacian \n",
    "- must also output the index of all the non 1 and non zero values at the end so user can watch pole up times \n",
    "- must save to the H5 file\n",
    "- eventually need to allow presentation of the pole up times from set values (e.g. 0.75 to 0.999999) and then have the system present videos of those periods where the prediction of touch is greter than 0.5, there by giving the user the ability to chose when there is a contact and define the time when the pole can be touched. "
   ]
  },
  {
   "cell_type": "code",
   "execution_count": null,
   "metadata": {
    "id": "ZHVMs0auBRNy"
   },
   "outputs": [],
   "source": [
    "class pole_info():\n",
    "  def __init__(self):\n",
    "    pass\n",
    "  def optimize_sigma(self, img_in, iter_count = 10, sigma_limits = [0.0001, 10], max_iters = 20, difference_stopper = 0.000001, lowess_fraction = 1/10):\n",
    "    \"\"\"\n",
    "    #### img_in input \n",
    "      image tensor for testing/setting sigma value, can be many images should include at lease one full pole position change (up to down or down to up )\n",
    "    #### iter_count = 10\n",
    "      within each iteration of \"max_iters\" how many sigma values to test. Too small/large and it wont converge, 10 seems ok with sigma limits of 0.0001 to 10 \n",
    "    #### sigma_limits = [0.0001, 10]  \n",
    "      sigma search limits \n",
    "    #### max_iters = 20\n",
    "      maximum number or iterations of iter_count until we stop looping \n",
    "    #### difference_stopper = 0.000001\n",
    "      Once there is no more improvments greater than this value, we break the loop\n",
    "    #### lowess_fraction = 1/10\n",
    "      A very important varible. Due to the way we optamize the sigma variable for the gaussian laplace (taking the gaussian laplace for each image then taking variance of that trace).\n",
    "      variance due to fast noise adds variance that we dont want and this can be a big problme for a subset of trials. This takes care of that. may need to change (inversely) when FPS of video changes\n",
    "    \"\"\"\n",
    "    Lvar = []\n",
    "    Lall = []\n",
    "    max_var = []\n",
    "    sigma_list = np.linspace(sigma_limits[0],sigma_limits[1], iter_count)\n",
    "    # tqdm2.tqdm.write('\\nCalculating optimal sigma please wait...')\n",
    "    print('\\nCalculating optimal sigma please wait...min of 2 cycles')\n",
    "    for i in  range(max_iters):\n",
    "      if i ==1:\n",
    "        print('\\nCalculating optimal sigma please wait...min of 2 cycles')\n",
    "      for sig in tqdm(sigma_list[i*iter_count:i*iter_count+iter_count]):#tqdm\n",
    "        with warnings.catch_warnings():# supress runtime errors for just this \n",
    "        #line so dont get \"RuntimeWarning: Mean of empty slice.\"\n",
    "          warnings.simplefilter(\"ignore\", category=RuntimeWarning)\n",
    "          L = [gaussian_laplace(k, sig).var() for k in img_in]\n",
    "          L = L - np.min(L)\n",
    "          L = L/np.max(L)\n",
    "          lwst = lowess(L, range(len(L)), frac = lowess_fraction)[:, 1]\n",
    "          lwst = L\n",
    "        try:\n",
    "          lwst = lwst-np.min(lwst)\n",
    "          lwst = lwst/np.max(lwst)\n",
    "          Lvar.append(lwst.var())\n",
    "        except: #nans in lwst, trash it\n",
    "          Lvar.append(np.NaN)\n",
    "        Lall.append(L)\n",
    "      max_var.append(np.nanmax(Lvar))\n",
    "      if i >= 1:\n",
    "        if np.diff(max_var)[-1]<difference_stopper:\n",
    "          print('variance increased by '+ str(np.diff(max_var)[-1])+ ', stopping due to threshold, if unsatisified with result increase iter_count variable')\n",
    "          break\n",
    "        else:\n",
    "          print('variance increased by '+ str(np.diff(max_var)[-1])+ ', still calculating optimal sigma value')\n",
    "      if i == max_iters:\n",
    "        print('maxed out number of iterations before meeting the difference_stopper value, if not satified with result, increase iter_count to higher value')\n",
    "      step = np.diff(sigma_list)[0]\n",
    "      val = sigma_list[np.nanargmax(Lvar)]\n",
    "      lin_start = val-step\n",
    "      if lin_start<0: lin_start = 0 # prevent negative values \n",
    "      sigma_list = np.concatenate((sigma_list, np.linspace(lin_start, val+step, iter_count))) \n",
    "    self.Lvar = Lvar\n",
    "    self.Lall = Lall\n",
    "    self.max_var = max_var\n",
    "    self.sigma_list = sigma_list    \n",
    "    nan_test = np.sum(np.isnan(P.Lvar))\n",
    "    if nan_test != 0:\n",
    "      self.sorted_inds_to_sigmas = np.flip(np.argsort(np.asarray(self.Lvar))[:-nan_test])\n",
    "    else:\n",
    "      self.sorted_inds_to_sigmas = np.flip(np.argsort(np.asarray(self.Lvar)))\n",
    "    self.sorted_sigmas = [sigma_list[k] for k in self.sorted_inds_to_sigmas]\n",
    "    print('\\n\\n' + color.BOLD+ 'Please'+color.RED+' visually confirm'+ color.END +color.BOLD+' that there is a clear pole trajectory prediction (not just random noise) before you continue'+color.END+'\\n\\n')\n",
    "    self.plot_traces()\n",
    "    plt.show()\n",
    "  def plot_traces(self, num2Plot = 1, shift_from_max = 0):\n",
    "    \"\"\"\n",
    "    #### num2Plot = 1\n",
    "      number of traces to plot, each trace is length of the number of frames input, default is 1\n",
    "    #### shift_from_max = 0\n",
    "      POSITIVE integer, 0 (default) is the trace with the greatest variance. 1 is the second greatest etc. in case you want to see traces that \n",
    "    #### plot_traces(3, 1) \n",
    "      this will plot the 2nd 3rd and 4th best estimates for pole down. \n",
    "    \"\"\"\n",
    "    a = np.argsort(self.Lvar)\n",
    "    max_a_ind = np.nanargmax(np.sort(self.Lvar))+1 - shift_from_max\n",
    "    a = a[max_a_ind-num2Plot:max_a_ind]\n",
    "    plt.figure(figsize=[7, 7])\n",
    "    _ = [plt.plot(self.Lall[k], zorder=num2Plot-i, label = ' sigma ->'+str(self.sigma_list[k])+ '\\n variance->'+str(self.Lvar[k])) for i, k in enumerate(np.flip(a))]\n",
    "    plt.legend()\n",
    "    plt.title('Pole up estimation using variance of gaussian laplace')\n",
    "    plt.xlabel('Frame number')\n",
    "    plt.ylabel('Variance of gaussian_laplace (normalized to all images) ')\n",
    "    # plt.show()\n",
    "  def plot_sigma_vs_variance(self):\n",
    "    plt.figure(figsize=[7, 7])\n",
    "    _ = plt.plot(self.sigma_list, self.Lvar, '.')\n",
    "    plt.title('Optimized sigma using variance')\n",
    "    plt.xlabel('Sigma values')\n",
    "    plt.ylabel('Variance of pole up trace')\n",
    "    # plt.show()\n",
    "  def process_poles(self,img_in,  trial_lengths = None, sigma = None):\n",
    "    \"\"\"\n",
    "    #### img_in\n",
    "      image array of all your pole images \n",
    "    #### trial_lengths sigma - using this input is highly recomended so that each trial is normalized from 0 to 1 and not an entire session which can cause issues in theory\n",
    "      either a single value (assuming all trials are the same length), or an array of numbers where each number represents the number of frames in each trial (length of the total number of trials)\n",
    "    #### img_in sigma\n",
    "      sigma value to calculate gaussian_laplace of images. Defaults to optamized sigma value if noting is input\n",
    "     \"\"\"\n",
    "    if isinstance(trial_lengths, int):\n",
    "      trial_lengths = [trial_lengths] \n",
    "    if isinstance(frames_in_each, np.ndarray):\n",
    "      trial_lengths = list(trial_lengths)\n",
    "    if sigma == None:\n",
    "      sigma = self.sorted_sigmas[0]\n",
    "    if trial_lengths == None:\n",
    "      trial_lengths = [img_in.shape[0]]\n",
    "    elif len(trial_lengths) == 1:# if all trials are uniform, make an array length of number of trials \n",
    "      trial_lengths = np.repeat(trial_lengths[0], img_in.shape[0]/trial_lengths[0])\n",
    "    \n",
    "      \n",
    "    print('This takes some time please be patient...')\n",
    "    print('Estimated time (assuming 61x61 images) is ' + str(np.round(0.000665*img_in.shape[0]/60, 2))+' minutes')\n",
    "    start_inds = []\n",
    "    end_inds = []\n",
    "    start = 0\n",
    "    normalized_poles = np.asarray([])\n",
    "    for i, kk in enumerate(trial_lengths):\n",
    "      start_inds.append(start)\n",
    "      end_inds.append(start+kk)\n",
    "      L = [gaussian_laplace(k, sigma).var() for k in img_in[start_inds[i]:end_inds[i]]]\n",
    "      L = L - np.min(L)\n",
    "      L = L/np.max(L)\n",
    "      normalized_poles = np.concatenate((L, normalized_poles))\n",
    "      start = start+kk\n",
    "    self.normalized_poles = normalized_poles\n",
    "    self.trial_lengths = trial_lengths\n",
    "    self.start_inds = start_inds\n",
    "    self.end_inds = end_inds\n",
    "  def fit_to_lowess(self, lowess_fraction = 1/200, fit_and_plot_test_trial = False, test_trial_ind = 0):\n",
    "    alltrials_lowess = []\n",
    "    ##plot a specific trial with the fit for testing\n",
    "    if fit_and_plot_test_trial:\n",
    "      i = test_trial_ind\n",
    "      kk = self.trial_lengths[i]\n",
    "      y = self.normalized_poles[self.start_inds[i]:self.end_inds[i]]\n",
    "      x = range(len(y))\n",
    "      lwst = lowess(y, x, frac = lowess_fraction)[:, 1]\n",
    "      lwst = lwst-np.min(lwst)\n",
    "      lwst = lwst/np.max(lwst)\n",
    "      alltrials_lowess = [ [] for _ in range(i+1) ]\n",
    "      alltrials_lowess[i] = lwst\n",
    "      self.alltrials_lowess = alltrials_lowess\n",
    "      self.plot_lowess_vs_real(i)\n",
    "      self.alltrials_lowess = None\n",
    "      print('''Cleared \"alltrials_lowess\" for testing. Once done testing run \"fit_to_lowess\" \n",
    "            with \"fit_and_plot_test_trial\" as \"False\" to re-calculate all''')\n",
    "      return\n",
    "    ###  \n",
    "    for i, kk in tqdm(enumerate(self.trial_lengths)):#tqdm\n",
    "        y = self.normalized_poles[self.start_inds[i]:self.end_inds[i]]\n",
    "        x = range(len(y))\n",
    "        lwst = lowess(y, x, frac = lowess_fraction)[:, 1]\n",
    "        lwst = lwst-np.min(lwst)\n",
    "        lwst = lwst/np.max(lwst)\n",
    "        alltrials_lowess.append(lwst)\n",
    "        \n",
    "    self.alltrials_lowess = alltrials_lowess\n",
    "  def plot_lowess_vs_real(self, index_number = None):\n",
    "    if index_number == None:\n",
    "      index_number = np.random.choice(np.arange(0, len(self.trial_lengths)))\n",
    "    \n",
    "    plt.figure(figsize=[7, 7])\n",
    "    _ = plt.plot(self.normalized_poles[self.start_inds[index_number]:self.end_inds[index_number]], \n",
    "                  'c-',label = 'un-smoothed pole up estimation')\n",
    "    _ = plt.plot(self.alltrials_lowess[index_number], 'k-', label = 'lowess smoothed')\n",
    "    print('plotting trial ind ' + str(index_number))\n",
    "    try: # try plot red limit lines \n",
    "      end_i = np.diff(np.concatenate((np.asarray([0]), np.cumsum(self.trial_lengths))))[index_number]\n",
    "      _ = plt.plot([0, end_i], [P.up_lim, P.up_lim], 'r-')\n",
    "      _ = plt.plot([0, end_i], [P.low_lim, P.low_lim], 'r-')\n",
    "    except:\n",
    "        pass\n",
    "    plt.legend()\n",
    "    # plt.show()\n",
    "  def cut_out_segments(self, up_lim = 0.6666, low_lim = 0.3333, min_length_segmnet = 5): \n",
    "    self.up_lim = up_lim\n",
    "    self.low_lim = low_lim\n",
    "    segs = []\n",
    "    seg_inds = [] \n",
    "    trial_inds = []\n",
    "\n",
    "    for i, y in tqdm(enumerate(self.alltrials_lowess)):#tqdm\n",
    "      x = np.linspace(1, len(y), len(y))\n",
    "      x[y>up_lim] = np.nan\n",
    "      x[y<low_lim] = np.nan\n",
    "      g , gi = group_consecutives(x)\n",
    "      ind = np.where([len(k)>=min_length_segmnet for k in gi])[0]\n",
    "      gi = [gi[kk] for kk in ind]\n",
    "      [seg_inds.append(k) for k in gi]\n",
    "      [segs.append(y[k]) for k in gi]\n",
    "      [trial_inds.append(i) for k in gi]\n",
    "    y_lin_fit = []\n",
    "    y_lin_in_index = []\n",
    "    fit_params = []\n",
    "    for (x, y, L) in zip(seg_inds, segs, trial_inds):\n",
    "      L = self.trial_lengths[L]\n",
    "      fit_poly = (np.poly1d(np.polyfit(x, y, 1)))\n",
    "\n",
    "      y_lin_fit.append(fit_poly(np.linspace(1, L, L)))\n",
    "      tmp_ind = (y_lin_fit[-1]>=0) * (y_lin_fit[-1]<=1)\n",
    "      y_lin_in_index.append(np.where(tmp_ind)[0])\n",
    "      fit_params.append(fit_poly.coefficients)\n",
    "\n",
    "\n",
    "    self.segs_segs = segs\n",
    "    self.segs_seg_inds = seg_inds\n",
    "    self.segs_trial_inds = trial_inds\n",
    "    self.segs_y_lin_fit = y_lin_fit\n",
    "    self.segs_y_lin_in_index = y_lin_in_index\n",
    "    self.segs_fit_params = fit_params\n",
    "    #fit using linear estimates and binarize the pole up and down times\n",
    "    fit_poles_final = []\n",
    "    cntr = -1\n",
    "    for k in np.unique(self.segs_trial_inds):\n",
    "      fit_poles_final.append(np.round(self.alltrials_lowess[k]))\n",
    "      for kk in list(np.where([k2 == k for k2 in self.segs_trial_inds])[0]):\n",
    "        cntr = cntr+1\n",
    "        fit_poles_final[-1][self.segs_y_lin_in_index[kk]] = self.segs_y_lin_fit[cntr][self.segs_y_lin_in_index[kk]]\n",
    "    self.fit_poles_final = fit_poles_final\n",
    "  def plot_final_pole_estimations(self):\n",
    "    H = np.ceil(len(self.fit_poles_final)/1.5)\n",
    "    plt.figure(figsize=[7, H])\n",
    "    for i, k in enumerate(self.fit_poles_final):\n",
    "      k = k*.8 #make it fit all in one number so y axis represents trial inds\n",
    "      x = range(len(k))\n",
    "      plt.plot(x, k+i, 'r-')\n",
    "      for k2 in np.where(np.logical_and(k != 0 , k != .8)):\n",
    "        k[k2] = np.nan\n",
    "      plt.plot(x, k+i, 'k-', linewidth = 1.8)   \n",
    "    # plt.show()\n",
    "\n",
    "  # def auto_calc(img_analyze, in_img = img_analyze, ):\n",
    "  #   self.optimize_sigma(im2analyze)"
   ]
  },
  {
   "cell_type": "code",
   "execution_count": null,
   "metadata": {
    "id": "2KJbe5a3Kvxa"
   },
   "outputs": [],
   "source": [
    "%%time\n",
    "# full session \n",
    "P = pole_info()\n",
    "P.optimize_sigma(images[:frames_in_each[0]])\n",
    "P.plot_sigma_vs_variance()\n",
    "P.process_poles(images, trial_lengths=frames_in_each) # trial_lengths=4000 also accepted\n",
    "P.fit_to_lowess(1/80, fit_and_plot_test_trial = True, test_trial_ind = 12) # user can use this to test the look of the lowess fit for the first trial quickly\n",
    "P.fit_to_lowess(1/40)\n",
    "P.cut_out_segments(up_lim=.66, low_lim=.33)\n",
    "P.plot_lowess_vs_real(0) # user can look at all lowess vs real for each trial\n",
    "P.plot_final_pole_estimations()\n"
   ]
  },
  {
   "cell_type": "code",
   "execution_count": null,
   "metadata": {
    "colab": {
     "base_uri": "https://localhost:8080/",
     "height": 1000,
     "referenced_widgets": [
      "2078cf61777f4a3ca4e4ee276b50e965",
      "f830c99d68c84e169751b4fee695613a",
      "42881778c44a40888e35cf36b8494524",
      "6ff766437676460c909b3148fbf4656a",
      "c21bf6a16bcd493e954ae9ac6490244d",
      "30574e1e79274a2684fedf4933c80de8",
      "624e7b00f6ab4b378da841cbae652b5b",
      "918604ea93ab4395994d28f192bd5f4e",
      "548f34799d1b4ef6bb9bebd2301dc56c",
      "d25b159f5aac4001be7216c302ac32a3",
      "54a7ce7ee5ba4e90bd495ef8b5844366",
      "90dfb5187b034919a483b221ab543f4b",
      "e0e5ba92b54344be87e17c599300aac7",
      "fbe6782cc29f453b927e2e7aa4db8478",
      "0dd18c41d0894750b22034b7a01952f4",
      "c04caf73526444ec9ce2b162e230c06b",
      "2f560c6d01a6447da0660a52d6aca77f",
      "6f5ba0eda81b4acf84b4f7b059a81649",
      "0fdeef15d69c46ceab72462882fb27db",
      "102193fd00c1456da39c0180633044eb",
      "e1bb934e760b4748b0e2095c483b02e5",
      "4985d2f973f449b3982d1494cb466314",
      "20d2857cd5544da2a7fcaec2dbc3b535",
      "76f412fd137c464bb5eed152b977ff3f",
      "9f7dcf1f883441fd85dd088a10335c50",
      "c9209b1f69084cccb3d273f8a41e5860",
      "b2b2d23ea69c4d5a9d04f175f62f0057",
      "dfdb2d6f5c924b0ea2ef7439e6145b09",
      "33a074736e7e48c7a3dba2de3d622ac2",
      "c5103c16086d4b14b4d4986f63fb0908",
      "df9f8bc13cc6406daa138a0965aba86a",
      "5e716bd265a14a809eee050b6ac66fd1",
      "fde91f1d02a3448e8134e63c41b36623",
      "c5bc1ec919a440ccb2d5314bf29b6dde",
      "fd601c1c1a9045a7b9e538bbb6c92b51",
      "aaf835ee58824c56bf7a97326ba0f55d",
      "8aed716c9e37436e94c3d5dda5c6e67b",
      "bd4d84d001b5491ca56ed3059393e795",
      "42a9a124e9754861afa1e294f7d10657",
      "5b2ebfb375bb4285aab225433042e51d"
     ]
    },
    "id": "DTzlsUEso25B",
    "outputId": "c67d0a55-bc72-4db8-a4a7-a9c3d7249bf2"
   },
   "outputs": [
    {
     "name": "stdout",
     "output_type": "stream",
     "text": [
      "\n",
      "Calculating optimal sigma please wait...min of 2 cycles\n"
     ]
    },
    {
     "data": {
      "application/vnd.jupyter.widget-view+json": {
       "model_id": "2078cf61777f4a3ca4e4ee276b50e965",
       "version_major": 2,
       "version_minor": 0
      },
      "text/plain": [
       "HBox(children=(FloatProgress(value=0.0, max=10.0), HTML(value='')))"
      ]
     },
     "metadata": {
      "tags": []
     },
     "output_type": "display_data"
    },
    {
     "name": "stdout",
     "output_type": "stream",
     "text": [
      "\n",
      "\n",
      "Calculating optimal sigma please wait...min of 2 cycles\n"
     ]
    },
    {
     "data": {
      "application/vnd.jupyter.widget-view+json": {
       "model_id": "548f34799d1b4ef6bb9bebd2301dc56c",
       "version_major": 2,
       "version_minor": 0
      },
      "text/plain": [
       "HBox(children=(FloatProgress(value=0.0, max=10.0), HTML(value='')))"
      ]
     },
     "metadata": {
      "tags": []
     },
     "output_type": "display_data"
    },
    {
     "name": "stdout",
     "output_type": "stream",
     "text": [
      "\n",
      "variance increased by 0.0020489280910989255, still calculating optimal sigma value\n"
     ]
    },
    {
     "data": {
      "application/vnd.jupyter.widget-view+json": {
       "model_id": "2f560c6d01a6447da0660a52d6aca77f",
       "version_major": 2,
       "version_minor": 0
      },
      "text/plain": [
       "HBox(children=(FloatProgress(value=0.0, max=10.0), HTML(value='')))"
      ]
     },
     "metadata": {
      "tags": []
     },
     "output_type": "display_data"
    },
    {
     "name": "stdout",
     "output_type": "stream",
     "text": [
      "\n",
      "variance increased by 0.0, stopping due to threshold, if unsatisified with result increase iter_count variable\n",
      "\n",
      "\n",
      "\u001b[1mPlease\u001b[91m visually confirm\u001b[0m\u001b[1m that there is a clear pole trajectory prediction (not just random noise) before you continue\u001b[0m\n",
      "\n",
      "\n"
     ]
    },
    {
     "data": {
      "image/png": "[encoded data removed]",
      "text/plain": [
       "<Figure size 504x504 with 1 Axes>"
      ]
     },
     "metadata": {
      "needs_background": "light",
      "tags": []
     },
     "output_type": "display_data"
    },
    {
     "name": "stdout",
     "output_type": "stream",
     "text": [
      "This takes some time please be patient...\n",
      "Estimated time (assuming 61x61 images) is 0.22 minutes\n",
      "plotting trial ind 3\n",
      "Cleared \"alltrials_lowess\" for testing. Once done testing run \"fit_to_lowess\" \n",
      "            with \"fit_and_plot_test_trial\" as \"False\" to re-calculate all\n"
     ]
    },
    {
     "data": {
      "application/vnd.jupyter.widget-view+json": {
       "model_id": "9f7dcf1f883441fd85dd088a10335c50",
       "version_major": 2,
       "version_minor": 0
      },
      "text/plain": [
       "HBox(children=(FloatProgress(value=1.0, bar_style='info', max=1.0), HTML(value='')))"
      ]
     },
     "metadata": {
      "tags": []
     },
     "output_type": "display_data"
    },
    {
     "name": "stdout",
     "output_type": "stream",
     "text": [
      "\n"
     ]
    },
    {
     "data": {
      "application/vnd.jupyter.widget-view+json": {
       "model_id": "fde91f1d02a3448e8134e63c41b36623",
       "version_major": 2,
       "version_minor": 0
      },
      "text/plain": [
       "HBox(children=(FloatProgress(value=1.0, bar_style='info', max=1.0), HTML(value='')))"
      ]
     },
     "metadata": {
      "tags": []
     },
     "output_type": "display_data"
    },
    {
     "name": "stdout",
     "output_type": "stream",
     "text": [
      "\n",
      "plotting trial ind 0\n"
     ]
    },
    {
     "data": {
      "image/png": "[encoded data removed]",
      "text/plain": [
       "<Figure size 504x504 with 1 Axes>"
      ]
     },
     "metadata": {
      "needs_background": "light",
      "tags": []
     },
     "output_type": "display_data"
    },
    {
     "data": {
      "image/png": "[encoded data removed]",
      "text/plain": [
       "<Figure size 504x504 with 1 Axes>"
      ]
     },
     "metadata": {
      "needs_background": "light",
      "tags": []
     },
     "output_type": "display_data"
    },
    {
     "data": {
      "image/png": "[encoded data removed]",
      "text/plain": [
       "<Figure size 504x504 with 1 Axes>"
      ]
     },
     "metadata": {
      "needs_background": "light",
      "tags": []
     },
     "output_type": "display_data"
    },
    {
     "data": {
      "image/png": "[encoded data removed]",
      "text/plain": [
       "<Figure size 504x288 with 1 Axes>"
      ]
     },
     "metadata": {
      "needs_background": "light",
      "tags": []
     },
     "output_type": "display_data"
    }
   ],
   "source": [
    "%%time\n",
    "# first 5 trials full session \n",
    "num_trials = 5\n",
    "P = pole_info()\n",
    "P.optimize_sigma(images[:4000])\n",
    "# P.optimize_sigma(images[400:1000])# has pole up event plus some on border\n",
    "# P.optimize_sigma(images[473:575])#strictly pole up event \n",
    "# P.optimize_sigma(images[2000:2100])%pole is up \n",
    "# P.optimize_sigma(images[:100])%pole is down\n",
    "\n",
    "P.plot_sigma_vs_variance()\n",
    "P.process_poles(images[:np.sum(frames_in_each[:num_trials])], trial_lengths=frames_in_each[:num_trials]) # trial_lengths=4000 also accepted\n",
    "P.fit_to_lowess(1/80, fit_and_plot_test_trial = True, test_trial_ind = 3) # user can use this to test the look of the lowess fit for the first trial quickly\n",
    "P.fit_to_lowess(1/40)\n",
    "P.cut_out_segments(up_lim=.66, low_lim=.33)\n",
    "P.plot_lowess_vs_real(0) # user can look at all lowess vs real for each trial\n",
    "P.plot_final_pole_estimations()\n"
   ]
  },
  {
   "cell_type": "code",
   "execution_count": null,
   "metadata": {
    "colab": {
     "base_uri": "https://localhost:8080/",
     "height": 445
    },
    "id": "l1lpTbF3qPmx",
    "outputId": "18c69948-9353-4665-c37c-4f936759c716"
   },
   "outputs": [
    {
     "name": "stdout",
     "output_type": "stream",
     "text": [
      "plotting trial ind 1\n"
     ]
    },
    {
     "data": {
      "image/png": "[encoded data removed]",
      "text/plain": [
       "<Figure size 504x504 with 1 Axes>"
      ]
     },
     "metadata": {
      "needs_background": "light",
      "tags": []
     },
     "output_type": "display_data"
    }
   ],
   "source": [
    "# plot individual trials raw, lowess fitted, and threshold for pole position change\n",
    "try:\n",
    "  P.plot_lowess_vs_real(i) # user can look at all lowess vs real for each trial\n",
    "  i = i+1\n",
    "except:\n",
    "  i = 0\n",
    "  P.plot_lowess_vs_real(i) # user can look at all lowess vs real for each trial"
   ]
  },
  {
   "cell_type": "code",
   "execution_count": null,
   "metadata": {
    "colab": {
     "base_uri": "https://localhost:8080/"
    },
    "id": "C3jDQdxrmdfH",
    "outputId": "f307a3a0-7b70-4e87-91d7-26fd098da506"
   },
   "outputs": [
    {
     "name": "stdout",
     "output_type": "stream",
     "text": [
      "num min per millions frames analyzed\n"
     ]
    },
    {
     "data": {
      "text/plain": [
       "21.011904761904763"
      ]
     },
     "execution_count": 177,
     "metadata": {
      "tags": []
     },
     "output_type": "execute_result"
    }
   ],
   "source": [
    "#  time per 1 million. this is calculated with 140 trials of 4000 frames each\n",
    "# this is depndent on the size of the input to optmize sigma value, which is a \n",
    "# fixed time cost (doesnt change if there are more frames cause it is only calculated\n",
    "# once base don the original input array). then the rest is standard time per frame. \n",
    "print('num min per millions frames analyzed')\n",
    "avg_per_frame = (11*60 + 46)/(140*4000)\n",
    "1000000*avg_per_frame/60"
   ]
  },
  {
   "cell_type": "code",
   "execution_count": null,
   "metadata": {
    "id": "5iTvVz_isKr3"
   },
   "outputs": [],
   "source": [
    "def vidit(img, frame_num_add = 0, wait_time = 0.1):\n",
    "  plt.figure(\"tmp\")\n",
    "  for i, k in enumerate(img):\n",
    "    plt.imshow(k,)\n",
    "    plt.xlabel(i+frame_num_add)\n",
    "    plt.show()\n",
    "    time.sleep(wait_time)\n",
    "    plt.close()"
   ]
  }
 ],
 "metadata": {
  "accelerator": "GPU",
  "colab": {
   "collapsed_sections": [],
   "machine_shape": "hm",
   "name": "pole_up_calculator_0.1_packed",
   "provenance": [],
   "toc_visible": true
  },
  "kernelspec": {
   "display_name": "Python 3",
   "language": "python",
   "name": "python3"
  },
  "language_info": {
   "codemirror_mode": {
    "name": "ipython",
    "version": 3
   },
   "file_extension": ".py",
   "mimetype": "text/x-python",
   "name": "python",
   "nbconvert_exporter": "python",
   "pygments_lexer": "ipython3",
   "version": "3.7.6"
  },
  "widgets": {
   "application/vnd.jupyter.widget-state+json": {
    "0dd18c41d0894750b22034b7a01952f4": {
     "model_module": "@jupyter-widgets/controls",
     "model_name": "DescriptionStyleModel",
     "state": {
      "_model_module": "@jupyter-widgets/controls",
      "_model_module_version": "1.5.0",
      "_model_name": "DescriptionStyleModel",
      "_view_count": null,
      "_view_module": "@jupyter-widgets/base",
      "_view_module_version": "1.2.0",
      "_view_name": "StyleView",
      "description_width": ""
     }
    },
    "0fdeef15d69c46ceab72462882fb27db": {
     "model_module": "@jupyter-widgets/controls",
     "model_name": "FloatProgressModel",
     "state": {
      "_dom_classes": [],
      "_model_module": "@jupyter-widgets/controls",
      "_model_module_version": "1.5.0",
      "_model_name": "FloatProgressModel",
      "_view_count": null,
      "_view_module": "@jupyter-widgets/controls",
      "_view_module_version": "1.5.0",
      "_view_name": "ProgressView",
      "bar_style": "success",
      "description": "100%",
      "description_tooltip": null,
      "layout": "IPY_MODEL_4985d2f973f449b3982d1494cb466314",
      "max": 10,
      "min": 0,
      "orientation": "horizontal",
      "style": "IPY_MODEL_e1bb934e760b4748b0e2095c483b02e5",
      "value": 10
     }
    },
    "102193fd00c1456da39c0180633044eb": {
     "model_module": "@jupyter-widgets/controls",
     "model_name": "HTMLModel",
     "state": {
      "_dom_classes": [],
      "_model_module": "@jupyter-widgets/controls",
      "_model_module_version": "1.5.0",
      "_model_name": "HTMLModel",
      "_view_count": null,
      "_view_module": "@jupyter-widgets/controls",
      "_view_module_version": "1.5.0",
      "_view_name": "HTMLView",
      "description": "",
      "description_tooltip": null,
      "layout": "IPY_MODEL_76f412fd137c464bb5eed152b977ff3f",
      "placeholder": "​",
      "style": "IPY_MODEL_20d2857cd5544da2a7fcaec2dbc3b535",
      "value": " 10/10 [00:39&lt;00:00,  3.93s/it]"
     }
    },
    "2078cf61777f4a3ca4e4ee276b50e965": {
     "model_module": "@jupyter-widgets/controls",
     "model_name": "HBoxModel",
     "state": {
      "_dom_classes": [],
      "_model_module": "@jupyter-widgets/controls",
      "_model_module_version": "1.5.0",
      "_model_name": "HBoxModel",
      "_view_count": null,
      "_view_module": "@jupyter-widgets/controls",
      "_view_module_version": "1.5.0",
      "_view_name": "HBoxView",
      "box_style": "",
      "children": [
       "IPY_MODEL_42881778c44a40888e35cf36b8494524",
       "IPY_MODEL_6ff766437676460c909b3148fbf4656a"
      ],
      "layout": "IPY_MODEL_f830c99d68c84e169751b4fee695613a"
     }
    },
    "20d2857cd5544da2a7fcaec2dbc3b535": {
     "model_module": "@jupyter-widgets/controls",
     "model_name": "DescriptionStyleModel",
     "state": {
      "_model_module": "@jupyter-widgets/controls",
      "_model_module_version": "1.5.0",
      "_model_name": "DescriptionStyleModel",
      "_view_count": null,
      "_view_module": "@jupyter-widgets/base",
      "_view_module_version": "1.2.0",
      "_view_name": "StyleView",
      "description_width": ""
     }
    },
    "2f560c6d01a6447da0660a52d6aca77f": {
     "model_module": "@jupyter-widgets/controls",
     "model_name": "HBoxModel",
     "state": {
      "_dom_classes": [],
      "_model_module": "@jupyter-widgets/controls",
      "_model_module_version": "1.5.0",
      "_model_name": "HBoxModel",
      "_view_count": null,
      "_view_module": "@jupyter-widgets/controls",
      "_view_module_version": "1.5.0",
      "_view_name": "HBoxView",
      "box_style": "",
      "children": [
       "IPY_MODEL_0fdeef15d69c46ceab72462882fb27db",
       "IPY_MODEL_102193fd00c1456da39c0180633044eb"
      ],
      "layout": "IPY_MODEL_6f5ba0eda81b4acf84b4f7b059a81649"
     }
    },
    "30574e1e79274a2684fedf4933c80de8": {
     "model_module": "@jupyter-widgets/base",
     "model_name": "LayoutModel",
     "state": {
      "_model_module": "@jupyter-widgets/base",
      "_model_module_version": "1.2.0",
      "_model_name": "LayoutModel",
      "_view_count": null,
      "_view_module": "@jupyter-widgets/base",
      "_view_module_version": "1.2.0",
      "_view_name": "LayoutView",
      "align_content": null,
      "align_items": null,
      "align_self": null,
      "border": null,
      "bottom": null,
      "display": null,
      "flex": null,
      "flex_flow": null,
      "grid_area": null,
      "grid_auto_columns": null,
      "grid_auto_flow": null,
      "grid_auto_rows": null,
      "grid_column": null,
      "grid_gap": null,
      "grid_row": null,
      "grid_template_areas": null,
      "grid_template_columns": null,
      "grid_template_rows": null,
      "height": null,
      "justify_content": null,
      "justify_items": null,
      "left": null,
      "margin": null,
      "max_height": null,
      "max_width": null,
      "min_height": null,
      "min_width": null,
      "object_fit": null,
      "object_position": null,
      "order": null,
      "overflow": null,
      "overflow_x": null,
      "overflow_y": null,
      "padding": null,
      "right": null,
      "top": null,
      "visibility": null,
      "width": null
     }
    },
    "33a074736e7e48c7a3dba2de3d622ac2": {
     "model_module": "@jupyter-widgets/controls",
     "model_name": "ProgressStyleModel",
     "state": {
      "_model_module": "@jupyter-widgets/controls",
      "_model_module_version": "1.5.0",
      "_model_name": "ProgressStyleModel",
      "_view_count": null,
      "_view_module": "@jupyter-widgets/base",
      "_view_module_version": "1.2.0",
      "_view_name": "StyleView",
      "bar_color": null,
      "description_width": "initial"
     }
    },
    "42881778c44a40888e35cf36b8494524": {
     "model_module": "@jupyter-widgets/controls",
     "model_name": "FloatProgressModel",
     "state": {
      "_dom_classes": [],
      "_model_module": "@jupyter-widgets/controls",
      "_model_module_version": "1.5.0",
      "_model_name": "FloatProgressModel",
      "_view_count": null,
      "_view_module": "@jupyter-widgets/controls",
      "_view_module_version": "1.5.0",
      "_view_name": "ProgressView",
      "bar_style": "success",
      "description": "100%",
      "description_tooltip": null,
      "layout": "IPY_MODEL_30574e1e79274a2684fedf4933c80de8",
      "max": 10,
      "min": 0,
      "orientation": "horizontal",
      "style": "IPY_MODEL_c21bf6a16bcd493e954ae9ac6490244d",
      "value": 10
     }
    },
    "42a9a124e9754861afa1e294f7d10657": {
     "model_module": "@jupyter-widgets/controls",
     "model_name": "DescriptionStyleModel",
     "state": {
      "_model_module": "@jupyter-widgets/controls",
      "_model_module_version": "1.5.0",
      "_model_name": "DescriptionStyleModel",
      "_view_count": null,
      "_view_module": "@jupyter-widgets/base",
      "_view_module_version": "1.2.0",
      "_view_name": "StyleView",
      "description_width": ""
     }
    },
    "4985d2f973f449b3982d1494cb466314": {
     "model_module": "@jupyter-widgets/base",
     "model_name": "LayoutModel",
     "state": {
      "_model_module": "@jupyter-widgets/base",
      "_model_module_version": "1.2.0",
      "_model_name": "LayoutModel",
      "_view_count": null,
      "_view_module": "@jupyter-widgets/base",
      "_view_module_version": "1.2.0",
      "_view_name": "LayoutView",
      "align_content": null,
      "align_items": null,
      "align_self": null,
      "border": null,
      "bottom": null,
      "display": null,
      "flex": null,
      "flex_flow": null,
      "grid_area": null,
      "grid_auto_columns": null,
      "grid_auto_flow": null,
      "grid_auto_rows": null,
      "grid_column": null,
      "grid_gap": null,
      "grid_row": null,
      "grid_template_areas": null,
      "grid_template_columns": null,
      "grid_template_rows": null,
      "height": null,
      "justify_content": null,
      "justify_items": null,
      "left": null,
      "margin": null,
      "max_height": null,
      "max_width": null,
      "min_height": null,
      "min_width": null,
      "object_fit": null,
      "object_position": null,
      "order": null,
      "overflow": null,
      "overflow_x": null,
      "overflow_y": null,
      "padding": null,
      "right": null,
      "top": null,
      "visibility": null,
      "width": null
     }
    },
    "548f34799d1b4ef6bb9bebd2301dc56c": {
     "model_module": "@jupyter-widgets/controls",
     "model_name": "HBoxModel",
     "state": {
      "_dom_classes": [],
      "_model_module": "@jupyter-widgets/controls",
      "_model_module_version": "1.5.0",
      "_model_name": "HBoxModel",
      "_view_count": null,
      "_view_module": "@jupyter-widgets/controls",
      "_view_module_version": "1.5.0",
      "_view_name": "HBoxView",
      "box_style": "",
      "children": [
       "IPY_MODEL_54a7ce7ee5ba4e90bd495ef8b5844366",
       "IPY_MODEL_90dfb5187b034919a483b221ab543f4b"
      ],
      "layout": "IPY_MODEL_d25b159f5aac4001be7216c302ac32a3"
     }
    },
    "54a7ce7ee5ba4e90bd495ef8b5844366": {
     "model_module": "@jupyter-widgets/controls",
     "model_name": "FloatProgressModel",
     "state": {
      "_dom_classes": [],
      "_model_module": "@jupyter-widgets/controls",
      "_model_module_version": "1.5.0",
      "_model_name": "FloatProgressModel",
      "_view_count": null,
      "_view_module": "@jupyter-widgets/controls",
      "_view_module_version": "1.5.0",
      "_view_name": "ProgressView",
      "bar_style": "success",
      "description": "100%",
      "description_tooltip": null,
      "layout": "IPY_MODEL_fbe6782cc29f453b927e2e7aa4db8478",
      "max": 10,
      "min": 0,
      "orientation": "horizontal",
      "style": "IPY_MODEL_e0e5ba92b54344be87e17c599300aac7",
      "value": 10
     }
    },
    "5b2ebfb375bb4285aab225433042e51d": {
     "model_module": "@jupyter-widgets/base",
     "model_name": "LayoutModel",
     "state": {
      "_model_module": "@jupyter-widgets/base",
      "_model_module_version": "1.2.0",
      "_model_name": "LayoutModel",
      "_view_count": null,
      "_view_module": "@jupyter-widgets/base",
      "_view_module_version": "1.2.0",
      "_view_name": "LayoutView",
      "align_content": null,
      "align_items": null,
      "align_self": null,
      "border": null,
      "bottom": null,
      "display": null,
      "flex": null,
      "flex_flow": null,
      "grid_area": null,
      "grid_auto_columns": null,
      "grid_auto_flow": null,
      "grid_auto_rows": null,
      "grid_column": null,
      "grid_gap": null,
      "grid_row": null,
      "grid_template_areas": null,
      "grid_template_columns": null,
      "grid_template_rows": null,
      "height": null,
      "justify_content": null,
      "justify_items": null,
      "left": null,
      "margin": null,
      "max_height": null,
      "max_width": null,
      "min_height": null,
      "min_width": null,
      "object_fit": null,
      "object_position": null,
      "order": null,
      "overflow": null,
      "overflow_x": null,
      "overflow_y": null,
      "padding": null,
      "right": null,
      "top": null,
      "visibility": null,
      "width": null
     }
    },
    "5e716bd265a14a809eee050b6ac66fd1": {
     "model_module": "@jupyter-widgets/base",
     "model_name": "LayoutModel",
     "state": {
      "_model_module": "@jupyter-widgets/base",
      "_model_module_version": "1.2.0",
      "_model_name": "LayoutModel",
      "_view_count": null,
      "_view_module": "@jupyter-widgets/base",
      "_view_module_version": "1.2.0",
      "_view_name": "LayoutView",
      "align_content": null,
      "align_items": null,
      "align_self": null,
      "border": null,
      "bottom": null,
      "display": null,
      "flex": null,
      "flex_flow": null,
      "grid_area": null,
      "grid_auto_columns": null,
      "grid_auto_flow": null,
      "grid_auto_rows": null,
      "grid_column": null,
      "grid_gap": null,
      "grid_row": null,
      "grid_template_areas": null,
      "grid_template_columns": null,
      "grid_template_rows": null,
      "height": null,
      "justify_content": null,
      "justify_items": null,
      "left": null,
      "margin": null,
      "max_height": null,
      "max_width": null,
      "min_height": null,
      "min_width": null,
      "object_fit": null,
      "object_position": null,
      "order": null,
      "overflow": null,
      "overflow_x": null,
      "overflow_y": null,
      "padding": null,
      "right": null,
      "top": null,
      "visibility": null,
      "width": null
     }
    },
    "624e7b00f6ab4b378da841cbae652b5b": {
     "model_module": "@jupyter-widgets/controls",
     "model_name": "DescriptionStyleModel",
     "state": {
      "_model_module": "@jupyter-widgets/controls",
      "_model_module_version": "1.5.0",
      "_model_name": "DescriptionStyleModel",
      "_view_count": null,
      "_view_module": "@jupyter-widgets/base",
      "_view_module_version": "1.2.0",
      "_view_name": "StyleView",
      "description_width": ""
     }
    },
    "6f5ba0eda81b4acf84b4f7b059a81649": {
     "model_module": "@jupyter-widgets/base",
     "model_name": "LayoutModel",
     "state": {
      "_model_module": "@jupyter-widgets/base",
      "_model_module_version": "1.2.0",
      "_model_name": "LayoutModel",
      "_view_count": null,
      "_view_module": "@jupyter-widgets/base",
      "_view_module_version": "1.2.0",
      "_view_name": "LayoutView",
      "align_content": null,
      "align_items": null,
      "align_self": null,
      "border": null,
      "bottom": null,
      "display": null,
      "flex": null,
      "flex_flow": null,
      "grid_area": null,
      "grid_auto_columns": null,
      "grid_auto_flow": null,
      "grid_auto_rows": null,
      "grid_column": null,
      "grid_gap": null,
      "grid_row": null,
      "grid_template_areas": null,
      "grid_template_columns": null,
      "grid_template_rows": null,
      "height": null,
      "justify_content": null,
      "justify_items": null,
      "left": null,
      "margin": null,
      "max_height": null,
      "max_width": null,
      "min_height": null,
      "min_width": null,
      "object_fit": null,
      "object_position": null,
      "order": null,
      "overflow": null,
      "overflow_x": null,
      "overflow_y": null,
      "padding": null,
      "right": null,
      "top": null,
      "visibility": null,
      "width": null
     }
    },
    "6ff766437676460c909b3148fbf4656a": {
     "model_module": "@jupyter-widgets/controls",
     "model_name": "HTMLModel",
     "state": {
      "_dom_classes": [],
      "_model_module": "@jupyter-widgets/controls",
      "_model_module_version": "1.5.0",
      "_model_name": "HTMLModel",
      "_view_count": null,
      "_view_module": "@jupyter-widgets/controls",
      "_view_module_version": "1.5.0",
      "_view_name": "HTMLView",
      "description": "",
      "description_tooltip": null,
      "layout": "IPY_MODEL_918604ea93ab4395994d28f192bd5f4e",
      "placeholder": "​",
      "style": "IPY_MODEL_624e7b00f6ab4b378da841cbae652b5b",
      "value": " 10/10 [01:17&lt;00:00,  7.72s/it]"
     }
    },
    "76f412fd137c464bb5eed152b977ff3f": {
     "model_module": "@jupyter-widgets/base",
     "model_name": "LayoutModel",
     "state": {
      "_model_module": "@jupyter-widgets/base",
      "_model_module_version": "1.2.0",
      "_model_name": "LayoutModel",
      "_view_count": null,
      "_view_module": "@jupyter-widgets/base",
      "_view_module_version": "1.2.0",
      "_view_name": "LayoutView",
      "align_content": null,
      "align_items": null,
      "align_self": null,
      "border": null,
      "bottom": null,
      "display": null,
      "flex": null,
      "flex_flow": null,
      "grid_area": null,
      "grid_auto_columns": null,
      "grid_auto_flow": null,
      "grid_auto_rows": null,
      "grid_column": null,
      "grid_gap": null,
      "grid_row": null,
      "grid_template_areas": null,
      "grid_template_columns": null,
      "grid_template_rows": null,
      "height": null,
      "justify_content": null,
      "justify_items": null,
      "left": null,
      "margin": null,
      "max_height": null,
      "max_width": null,
      "min_height": null,
      "min_width": null,
      "object_fit": null,
      "object_position": null,
      "order": null,
      "overflow": null,
      "overflow_x": null,
      "overflow_y": null,
      "padding": null,
      "right": null,
      "top": null,
      "visibility": null,
      "width": null
     }
    },
    "8aed716c9e37436e94c3d5dda5c6e67b": {
     "model_module": "@jupyter-widgets/controls",
     "model_name": "ProgressStyleModel",
     "state": {
      "_model_module": "@jupyter-widgets/controls",
      "_model_module_version": "1.5.0",
      "_model_name": "ProgressStyleModel",
      "_view_count": null,
      "_view_module": "@jupyter-widgets/base",
      "_view_module_version": "1.2.0",
      "_view_name": "StyleView",
      "bar_color": null,
      "description_width": "initial"
     }
    },
    "90dfb5187b034919a483b221ab543f4b": {
     "model_module": "@jupyter-widgets/controls",
     "model_name": "HTMLModel",
     "state": {
      "_dom_classes": [],
      "_model_module": "@jupyter-widgets/controls",
      "_model_module_version": "1.5.0",
      "_model_name": "HTMLModel",
      "_view_count": null,
      "_view_module": "@jupyter-widgets/controls",
      "_view_module_version": "1.5.0",
      "_view_name": "HTMLView",
      "description": "",
      "description_tooltip": null,
      "layout": "IPY_MODEL_c04caf73526444ec9ce2b162e230c06b",
      "placeholder": "​",
      "style": "IPY_MODEL_0dd18c41d0894750b22034b7a01952f4",
      "value": " 10/10 [01:20&lt;00:00,  8.08s/it]"
     }
    },
    "918604ea93ab4395994d28f192bd5f4e": {
     "model_module": "@jupyter-widgets/base",
     "model_name": "LayoutModel",
     "state": {
      "_model_module": "@jupyter-widgets/base",
      "_model_module_version": "1.2.0",
      "_model_name": "LayoutModel",
      "_view_count": null,
      "_view_module": "@jupyter-widgets/base",
      "_view_module_version": "1.2.0",
      "_view_name": "LayoutView",
      "align_content": null,
      "align_items": null,
      "align_self": null,
      "border": null,
      "bottom": null,
      "display": null,
      "flex": null,
      "flex_flow": null,
      "grid_area": null,
      "grid_auto_columns": null,
      "grid_auto_flow": null,
      "grid_auto_rows": null,
      "grid_column": null,
      "grid_gap": null,
      "grid_row": null,
      "grid_template_areas": null,
      "grid_template_columns": null,
      "grid_template_rows": null,
      "height": null,
      "justify_content": null,
      "justify_items": null,
      "left": null,
      "margin": null,
      "max_height": null,
      "max_width": null,
      "min_height": null,
      "min_width": null,
      "object_fit": null,
      "object_position": null,
      "order": null,
      "overflow": null,
      "overflow_x": null,
      "overflow_y": null,
      "padding": null,
      "right": null,
      "top": null,
      "visibility": null,
      "width": null
     }
    },
    "9f7dcf1f883441fd85dd088a10335c50": {
     "model_module": "@jupyter-widgets/controls",
     "model_name": "HBoxModel",
     "state": {
      "_dom_classes": [],
      "_model_module": "@jupyter-widgets/controls",
      "_model_module_version": "1.5.0",
      "_model_name": "HBoxModel",
      "_view_count": null,
      "_view_module": "@jupyter-widgets/controls",
      "_view_module_version": "1.5.0",
      "_view_name": "HBoxView",
      "box_style": "",
      "children": [
       "IPY_MODEL_b2b2d23ea69c4d5a9d04f175f62f0057",
       "IPY_MODEL_dfdb2d6f5c924b0ea2ef7439e6145b09"
      ],
      "layout": "IPY_MODEL_c9209b1f69084cccb3d273f8a41e5860"
     }
    },
    "aaf835ee58824c56bf7a97326ba0f55d": {
     "model_module": "@jupyter-widgets/controls",
     "model_name": "HTMLModel",
     "state": {
      "_dom_classes": [],
      "_model_module": "@jupyter-widgets/controls",
      "_model_module_version": "1.5.0",
      "_model_name": "HTMLModel",
      "_view_count": null,
      "_view_module": "@jupyter-widgets/controls",
      "_view_module_version": "1.5.0",
      "_view_name": "HTMLView",
      "description": "",
      "description_tooltip": null,
      "layout": "IPY_MODEL_5b2ebfb375bb4285aab225433042e51d",
      "placeholder": "​",
      "style": "IPY_MODEL_42a9a124e9754861afa1e294f7d10657",
      "value": " 5/? [00:00&lt;00:00, 40.24it/s]"
     }
    },
    "b2b2d23ea69c4d5a9d04f175f62f0057": {
     "model_module": "@jupyter-widgets/controls",
     "model_name": "FloatProgressModel",
     "state": {
      "_dom_classes": [],
      "_model_module": "@jupyter-widgets/controls",
      "_model_module_version": "1.5.0",
      "_model_name": "FloatProgressModel",
      "_view_count": null,
      "_view_module": "@jupyter-widgets/controls",
      "_view_module_version": "1.5.0",
      "_view_name": "ProgressView",
      "bar_style": "success",
      "description": "",
      "description_tooltip": null,
      "layout": "IPY_MODEL_c5103c16086d4b14b4d4986f63fb0908",
      "max": 1,
      "min": 0,
      "orientation": "horizontal",
      "style": "IPY_MODEL_33a074736e7e48c7a3dba2de3d622ac2",
      "value": 1
     }
    },
    "bd4d84d001b5491ca56ed3059393e795": {
     "model_module": "@jupyter-widgets/base",
     "model_name": "LayoutModel",
     "state": {
      "_model_module": "@jupyter-widgets/base",
      "_model_module_version": "1.2.0",
      "_model_name": "LayoutModel",
      "_view_count": null,
      "_view_module": "@jupyter-widgets/base",
      "_view_module_version": "1.2.0",
      "_view_name": "LayoutView",
      "align_content": null,
      "align_items": null,
      "align_self": null,
      "border": null,
      "bottom": null,
      "display": null,
      "flex": null,
      "flex_flow": null,
      "grid_area": null,
      "grid_auto_columns": null,
      "grid_auto_flow": null,
      "grid_auto_rows": null,
      "grid_column": null,
      "grid_gap": null,
      "grid_row": null,
      "grid_template_areas": null,
      "grid_template_columns": null,
      "grid_template_rows": null,
      "height": null,
      "justify_content": null,
      "justify_items": null,
      "left": null,
      "margin": null,
      "max_height": null,
      "max_width": null,
      "min_height": null,
      "min_width": null,
      "object_fit": null,
      "object_position": null,
      "order": null,
      "overflow": null,
      "overflow_x": null,
      "overflow_y": null,
      "padding": null,
      "right": null,
      "top": null,
      "visibility": null,
      "width": null
     }
    },
    "c04caf73526444ec9ce2b162e230c06b": {
     "model_module": "@jupyter-widgets/base",
     "model_name": "LayoutModel",
     "state": {
      "_model_module": "@jupyter-widgets/base",
      "_model_module_version": "1.2.0",
      "_model_name": "LayoutModel",
      "_view_count": null,
      "_view_module": "@jupyter-widgets/base",
      "_view_module_version": "1.2.0",
      "_view_name": "LayoutView",
      "align_content": null,
      "align_items": null,
      "align_self": null,
      "border": null,
      "bottom": null,
      "display": null,
      "flex": null,
      "flex_flow": null,
      "grid_area": null,
      "grid_auto_columns": null,
      "grid_auto_flow": null,
      "grid_auto_rows": null,
      "grid_column": null,
      "grid_gap": null,
      "grid_row": null,
      "grid_template_areas": null,
      "grid_template_columns": null,
      "grid_template_rows": null,
      "height": null,
      "justify_content": null,
      "justify_items": null,
      "left": null,
      "margin": null,
      "max_height": null,
      "max_width": null,
      "min_height": null,
      "min_width": null,
      "object_fit": null,
      "object_position": null,
      "order": null,
      "overflow": null,
      "overflow_x": null,
      "overflow_y": null,
      "padding": null,
      "right": null,
      "top": null,
      "visibility": null,
      "width": null
     }
    },
    "c21bf6a16bcd493e954ae9ac6490244d": {
     "model_module": "@jupyter-widgets/controls",
     "model_name": "ProgressStyleModel",
     "state": {
      "_model_module": "@jupyter-widgets/controls",
      "_model_module_version": "1.5.0",
      "_model_name": "ProgressStyleModel",
      "_view_count": null,
      "_view_module": "@jupyter-widgets/base",
      "_view_module_version": "1.2.0",
      "_view_name": "StyleView",
      "bar_color": null,
      "description_width": "initial"
     }
    },
    "c5103c16086d4b14b4d4986f63fb0908": {
     "model_module": "@jupyter-widgets/base",
     "model_name": "LayoutModel",
     "state": {
      "_model_module": "@jupyter-widgets/base",
      "_model_module_version": "1.2.0",
      "_model_name": "LayoutModel",
      "_view_count": null,
      "_view_module": "@jupyter-widgets/base",
      "_view_module_version": "1.2.0",
      "_view_name": "LayoutView",
      "align_content": null,
      "align_items": null,
      "align_self": null,
      "border": null,
      "bottom": null,
      "display": null,
      "flex": null,
      "flex_flow": null,
      "grid_area": null,
      "grid_auto_columns": null,
      "grid_auto_flow": null,
      "grid_auto_rows": null,
      "grid_column": null,
      "grid_gap": null,
      "grid_row": null,
      "grid_template_areas": null,
      "grid_template_columns": null,
      "grid_template_rows": null,
      "height": null,
      "justify_content": null,
      "justify_items": null,
      "left": null,
      "margin": null,
      "max_height": null,
      "max_width": null,
      "min_height": null,
      "min_width": null,
      "object_fit": null,
      "object_position": null,
      "order": null,
      "overflow": null,
      "overflow_x": null,
      "overflow_y": null,
      "padding": null,
      "right": null,
      "top": null,
      "visibility": null,
      "width": null
     }
    },
    "c5bc1ec919a440ccb2d5314bf29b6dde": {
     "model_module": "@jupyter-widgets/base",
     "model_name": "LayoutModel",
     "state": {
      "_model_module": "@jupyter-widgets/base",
      "_model_module_version": "1.2.0",
      "_model_name": "LayoutModel",
      "_view_count": null,
      "_view_module": "@jupyter-widgets/base",
      "_view_module_version": "1.2.0",
      "_view_name": "LayoutView",
      "align_content": null,
      "align_items": null,
      "align_self": null,
      "border": null,
      "bottom": null,
      "display": null,
      "flex": null,
      "flex_flow": null,
      "grid_area": null,
      "grid_auto_columns": null,
      "grid_auto_flow": null,
      "grid_auto_rows": null,
      "grid_column": null,
      "grid_gap": null,
      "grid_row": null,
      "grid_template_areas": null,
      "grid_template_columns": null,
      "grid_template_rows": null,
      "height": null,
      "justify_content": null,
      "justify_items": null,
      "left": null,
      "margin": null,
      "max_height": null,
      "max_width": null,
      "min_height": null,
      "min_width": null,
      "object_fit": null,
      "object_position": null,
      "order": null,
      "overflow": null,
      "overflow_x": null,
      "overflow_y": null,
      "padding": null,
      "right": null,
      "top": null,
      "visibility": null,
      "width": null
     }
    },
    "c9209b1f69084cccb3d273f8a41e5860": {
     "model_module": "@jupyter-widgets/base",
     "model_name": "LayoutModel",
     "state": {
      "_model_module": "@jupyter-widgets/base",
      "_model_module_version": "1.2.0",
      "_model_name": "LayoutModel",
      "_view_count": null,
      "_view_module": "@jupyter-widgets/base",
      "_view_module_version": "1.2.0",
      "_view_name": "LayoutView",
      "align_content": null,
      "align_items": null,
      "align_self": null,
      "border": null,
      "bottom": null,
      "display": null,
      "flex": null,
      "flex_flow": null,
      "grid_area": null,
      "grid_auto_columns": null,
      "grid_auto_flow": null,
      "grid_auto_rows": null,
      "grid_column": null,
      "grid_gap": null,
      "grid_row": null,
      "grid_template_areas": null,
      "grid_template_columns": null,
      "grid_template_rows": null,
      "height": null,
      "justify_content": null,
      "justify_items": null,
      "left": null,
      "margin": null,
      "max_height": null,
      "max_width": null,
      "min_height": null,
      "min_width": null,
      "object_fit": null,
      "object_position": null,
      "order": null,
      "overflow": null,
      "overflow_x": null,
      "overflow_y": null,
      "padding": null,
      "right": null,
      "top": null,
      "visibility": null,
      "width": null
     }
    },
    "d25b159f5aac4001be7216c302ac32a3": {
     "model_module": "@jupyter-widgets/base",
     "model_name": "LayoutModel",
     "state": {
      "_model_module": "@jupyter-widgets/base",
      "_model_module_version": "1.2.0",
      "_model_name": "LayoutModel",
      "_view_count": null,
      "_view_module": "@jupyter-widgets/base",
      "_view_module_version": "1.2.0",
      "_view_name": "LayoutView",
      "align_content": null,
      "align_items": null,
      "align_self": null,
      "border": null,
      "bottom": null,
      "display": null,
      "flex": null,
      "flex_flow": null,
      "grid_area": null,
      "grid_auto_columns": null,
      "grid_auto_flow": null,
      "grid_auto_rows": null,
      "grid_column": null,
      "grid_gap": null,
      "grid_row": null,
      "grid_template_areas": null,
      "grid_template_columns": null,
      "grid_template_rows": null,
      "height": null,
      "justify_content": null,
      "justify_items": null,
      "left": null,
      "margin": null,
      "max_height": null,
      "max_width": null,
      "min_height": null,
      "min_width": null,
      "object_fit": null,
      "object_position": null,
      "order": null,
      "overflow": null,
      "overflow_x": null,
      "overflow_y": null,
      "padding": null,
      "right": null,
      "top": null,
      "visibility": null,
      "width": null
     }
    },
    "df9f8bc13cc6406daa138a0965aba86a": {
     "model_module": "@jupyter-widgets/controls",
     "model_name": "DescriptionStyleModel",
     "state": {
      "_model_module": "@jupyter-widgets/controls",
      "_model_module_version": "1.5.0",
      "_model_name": "DescriptionStyleModel",
      "_view_count": null,
      "_view_module": "@jupyter-widgets/base",
      "_view_module_version": "1.2.0",
      "_view_name": "StyleView",
      "description_width": ""
     }
    },
    "dfdb2d6f5c924b0ea2ef7439e6145b09": {
     "model_module": "@jupyter-widgets/controls",
     "model_name": "HTMLModel",
     "state": {
      "_dom_classes": [],
      "_model_module": "@jupyter-widgets/controls",
      "_model_module_version": "1.5.0",
      "_model_name": "HTMLModel",
      "_view_count": null,
      "_view_module": "@jupyter-widgets/controls",
      "_view_module_version": "1.5.0",
      "_view_name": "HTMLView",
      "description": "",
      "description_tooltip": null,
      "layout": "IPY_MODEL_5e716bd265a14a809eee050b6ac66fd1",
      "placeholder": "​",
      "style": "IPY_MODEL_df9f8bc13cc6406daa138a0965aba86a",
      "value": " 5/? [00:04&lt;00:00,  1.06it/s]"
     }
    },
    "e0e5ba92b54344be87e17c599300aac7": {
     "model_module": "@jupyter-widgets/controls",
     "model_name": "ProgressStyleModel",
     "state": {
      "_model_module": "@jupyter-widgets/controls",
      "_model_module_version": "1.5.0",
      "_model_name": "ProgressStyleModel",
      "_view_count": null,
      "_view_module": "@jupyter-widgets/base",
      "_view_module_version": "1.2.0",
      "_view_name": "StyleView",
      "bar_color": null,
      "description_width": "initial"
     }
    },
    "e1bb934e760b4748b0e2095c483b02e5": {
     "model_module": "@jupyter-widgets/controls",
     "model_name": "ProgressStyleModel",
     "state": {
      "_model_module": "@jupyter-widgets/controls",
      "_model_module_version": "1.5.0",
      "_model_name": "ProgressStyleModel",
      "_view_count": null,
      "_view_module": "@jupyter-widgets/base",
      "_view_module_version": "1.2.0",
      "_view_name": "StyleView",
      "bar_color": null,
      "description_width": "initial"
     }
    },
    "f830c99d68c84e169751b4fee695613a": {
     "model_module": "@jupyter-widgets/base",
     "model_name": "LayoutModel",
     "state": {
      "_model_module": "@jupyter-widgets/base",
      "_model_module_version": "1.2.0",
      "_model_name": "LayoutModel",
      "_view_count": null,
      "_view_module": "@jupyter-widgets/base",
      "_view_module_version": "1.2.0",
      "_view_name": "LayoutView",
      "align_content": null,
      "align_items": null,
      "align_self": null,
      "border": null,
      "bottom": null,
      "display": null,
      "flex": null,
      "flex_flow": null,
      "grid_area": null,
      "grid_auto_columns": null,
      "grid_auto_flow": null,
      "grid_auto_rows": null,
      "grid_column": null,
      "grid_gap": null,
      "grid_row": null,
      "grid_template_areas": null,
      "grid_template_columns": null,
      "grid_template_rows": null,
      "height": null,
      "justify_content": null,
      "justify_items": null,
      "left": null,
      "margin": null,
      "max_height": null,
      "max_width": null,
      "min_height": null,
      "min_width": null,
      "object_fit": null,
      "object_position": null,
      "order": null,
      "overflow": null,
      "overflow_x": null,
      "overflow_y": null,
      "padding": null,
      "right": null,
      "top": null,
      "visibility": null,
      "width": null
     }
    },
    "fbe6782cc29f453b927e2e7aa4db8478": {
     "model_module": "@jupyter-widgets/base",
     "model_name": "LayoutModel",
     "state": {
      "_model_module": "@jupyter-widgets/base",
      "_model_module_version": "1.2.0",
      "_model_name": "LayoutModel",
      "_view_count": null,
      "_view_module": "@jupyter-widgets/base",
      "_view_module_version": "1.2.0",
      "_view_name": "LayoutView",
      "align_content": null,
      "align_items": null,
      "align_self": null,
      "border": null,
      "bottom": null,
      "display": null,
      "flex": null,
      "flex_flow": null,
      "grid_area": null,
      "grid_auto_columns": null,
      "grid_auto_flow": null,
      "grid_auto_rows": null,
      "grid_column": null,
      "grid_gap": null,
      "grid_row": null,
      "grid_template_areas": null,
      "grid_template_columns": null,
      "grid_template_rows": null,
      "height": null,
      "justify_content": null,
      "justify_items": null,
      "left": null,
      "margin": null,
      "max_height": null,
      "max_width": null,
      "min_height": null,
      "min_width": null,
      "object_fit": null,
      "object_position": null,
      "order": null,
      "overflow": null,
      "overflow_x": null,
      "overflow_y": null,
      "padding": null,
      "right": null,
      "top": null,
      "visibility": null,
      "width": null
     }
    },
    "fd601c1c1a9045a7b9e538bbb6c92b51": {
     "model_module": "@jupyter-widgets/controls",
     "model_name": "FloatProgressModel",
     "state": {
      "_dom_classes": [],
      "_model_module": "@jupyter-widgets/controls",
      "_model_module_version": "1.5.0",
      "_model_name": "FloatProgressModel",
      "_view_count": null,
      "_view_module": "@jupyter-widgets/controls",
      "_view_module_version": "1.5.0",
      "_view_name": "ProgressView",
      "bar_style": "success",
      "description": "",
      "description_tooltip": null,
      "layout": "IPY_MODEL_bd4d84d001b5491ca56ed3059393e795",
      "max": 1,
      "min": 0,
      "orientation": "horizontal",
      "style": "IPY_MODEL_8aed716c9e37436e94c3d5dda5c6e67b",
      "value": 1
     }
    },
    "fde91f1d02a3448e8134e63c41b36623": {
     "model_module": "@jupyter-widgets/controls",
     "model_name": "HBoxModel",
     "state": {
      "_dom_classes": [],
      "_model_module": "@jupyter-widgets/controls",
      "_model_module_version": "1.5.0",
      "_model_name": "HBoxModel",
      "_view_count": null,
      "_view_module": "@jupyter-widgets/controls",
      "_view_module_version": "1.5.0",
      "_view_name": "HBoxView",
      "box_style": "",
      "children": [
       "IPY_MODEL_fd601c1c1a9045a7b9e538bbb6c92b51",
       "IPY_MODEL_aaf835ee58824c56bf7a97326ba0f55d"
      ],
      "layout": "IPY_MODEL_c5bc1ec919a440ccb2d5314bf29b6dde"
     }
    }
   }
  }
 },
 "nbformat": 4,
 "nbformat_minor": 1
}
