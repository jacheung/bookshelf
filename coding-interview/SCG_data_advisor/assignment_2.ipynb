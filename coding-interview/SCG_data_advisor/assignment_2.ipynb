{
 "cells": [
  {
   "cell_type": "code",
   "execution_count": 136,
   "metadata": {},
   "outputs": [],
   "source": [
    "import os\n",
    "import pandas as pd\n",
    "import numpy as np\n",
    "import re"
   ]
  },
  {
   "cell_type": "code",
   "execution_count": 137,
   "metadata": {
    "scrolled": false
   },
   "outputs": [
    {
     "data": {
      "text/html": [
       "<div>\n",
       "<style scoped>\n",
       "    .dataframe tbody tr th:only-of-type {\n",
       "        vertical-align: middle;\n",
       "    }\n",
       "\n",
       "    .dataframe tbody tr th {\n",
       "        vertical-align: top;\n",
       "    }\n",
       "\n",
       "    .dataframe thead th {\n",
       "        text-align: right;\n",
       "    }\n",
       "</style>\n",
       "<table border=\"1\" class=\"dataframe\">\n",
       "  <thead>\n",
       "    <tr style=\"text-align: right;\">\n",
       "      <th></th>\n",
       "      <th>CustomerID</th>\n",
       "      <th>PhoneNumber1</th>\n",
       "      <th>PhoneNumber2</th>\n",
       "    </tr>\n",
       "  </thead>\n",
       "  <tbody>\n",
       "    <tr>\n",
       "      <th>0</th>\n",
       "      <td>1000</td>\n",
       "      <td>9113458738</td>\n",
       "      <td>1.114897e+10</td>\n",
       "    </tr>\n",
       "    <tr>\n",
       "      <th>1</th>\n",
       "      <td>1001</td>\n",
       "      <td>9013458736</td>\n",
       "      <td>1.104897e+09</td>\n",
       "    </tr>\n",
       "    <tr>\n",
       "      <th>2</th>\n",
       "      <td>1002</td>\n",
       "      <td>8913458734</td>\n",
       "      <td>NaN</td>\n",
       "    </tr>\n",
       "    <tr>\n",
       "      <th>3</th>\n",
       "      <td>1003</td>\n",
       "      <td>8813458732</td>\n",
       "      <td>1.084897e+10</td>\n",
       "    </tr>\n",
       "    <tr>\n",
       "      <th>4</th>\n",
       "      <td>1004</td>\n",
       "      <td>aaa</td>\n",
       "      <td>1.074897e+10</td>\n",
       "    </tr>\n",
       "    <tr>\n",
       "      <th>5</th>\n",
       "      <td>1005</td>\n",
       "      <td>8613458728</td>\n",
       "      <td>1.064897e+10</td>\n",
       "    </tr>\n",
       "    <tr>\n",
       "      <th>6</th>\n",
       "      <td>1006</td>\n",
       "      <td>851345872</td>\n",
       "      <td>1.054897e+10</td>\n",
       "    </tr>\n",
       "    <tr>\n",
       "      <th>7</th>\n",
       "      <td>1007</td>\n",
       "      <td>8413458724</td>\n",
       "      <td>4.000000e+00</td>\n",
       "    </tr>\n",
       "    <tr>\n",
       "      <th>8</th>\n",
       "      <td>1008</td>\n",
       "      <td>8313458722</td>\n",
       "      <td>1.034897e+10</td>\n",
       "    </tr>\n",
       "    <tr>\n",
       "      <th>9</th>\n",
       "      <td>1009</td>\n",
       "      <td>NaN</td>\n",
       "      <td>1.024897e+10</td>\n",
       "    </tr>\n",
       "    <tr>\n",
       "      <th>10</th>\n",
       "      <td>1010</td>\n",
       "      <td>8113458718</td>\n",
       "      <td>1.014897e+09</td>\n",
       "    </tr>\n",
       "    <tr>\n",
       "      <th>11</th>\n",
       "      <td>1011</td>\n",
       "      <td>8013458716</td>\n",
       "      <td>1.004897e+10</td>\n",
       "    </tr>\n",
       "    <tr>\n",
       "      <th>12</th>\n",
       "      <td>1012</td>\n",
       "      <td>NaN</td>\n",
       "      <td>9.994897e+10</td>\n",
       "    </tr>\n",
       "    <tr>\n",
       "      <th>13</th>\n",
       "      <td>1013</td>\n",
       "      <td>7813458712</td>\n",
       "      <td>9.824897e+10</td>\n",
       "    </tr>\n",
       "  </tbody>\n",
       "</table>\n",
       "</div>"
      ],
      "text/plain": [
       "    CustomerID PhoneNumber1  PhoneNumber2\n",
       "0         1000   9113458738  1.114897e+10\n",
       "1         1001   9013458736  1.104897e+09\n",
       "2         1002   8913458734           NaN\n",
       "3         1003   8813458732  1.084897e+10\n",
       "4         1004          aaa  1.074897e+10\n",
       "5         1005   8613458728  1.064897e+10\n",
       "6         1006    851345872  1.054897e+10\n",
       "7         1007   8413458724  4.000000e+00\n",
       "8         1008   8313458722  1.034897e+10\n",
       "9         1009          NaN  1.024897e+10\n",
       "10        1010   8113458718  1.014897e+09\n",
       "11        1011   8013458716  1.004897e+10\n",
       "12        1012          NaN  9.994897e+10\n",
       "13        1013   7813458712  9.824897e+10"
      ]
     },
     "execution_count": 137,
     "metadata": {},
     "output_type": "execute_result"
    }
   ],
   "source": [
    "# load datasets \n",
    "df = pd.read_csv('Dataset_2.csv')\n",
    "df"
   ]
  },
  {
   "cell_type": "markdown",
   "metadata": {},
   "source": [
    "# Data cleaning\n",
    "After looking at the above data, we find alphabetic values, trailing zeros, decimals, and NaN values in our phone number list\n",
    "\n",
    "Therefore, we will rectify by:\n",
    "- converting values to integer (remove trailing zeros and decimals)\n",
    "- future proof by remove only selecting numeric characters (remove alphabets/dashes)"
   ]
  },
  {
   "cell_type": "code",
   "execution_count": 138,
   "metadata": {},
   "outputs": [],
   "source": [
    "def int_or_else(value, else_value=None):\n",
    "    \"\"\"Given a value, returns the value as an int if possible. \n",
    "    If not, returns else_value which defaults to None.\n",
    "    \"\"\"\n",
    "    try:\n",
    "        return int(value)\n",
    "    except Exception:\n",
    "        return else_value"
   ]
  },
  {
   "cell_type": "code",
   "execution_count": 139,
   "metadata": {},
   "outputs": [],
   "source": [
    "# clean up dataframe by formatting all to strings \n",
    "df['PhoneNumber1'] = df['PhoneNumber1'].apply(lambda x: re.sub(\"[^0-9]\", \"\", str(int_or_else(x))))\n",
    "df['PhoneNumber2'] = df['PhoneNumber2'].apply(lambda x: re.sub(\"[^0-9]\", \"\", str(int_or_else(x))))"
   ]
  },
  {
   "cell_type": "code",
   "execution_count": 145,
   "metadata": {
    "scrolled": false
   },
   "outputs": [
    {
     "data": {
      "text/plain": [
       "0     11\n",
       "1     10\n",
       "2      0\n",
       "3     11\n",
       "4     11\n",
       "5     11\n",
       "6     11\n",
       "7      1\n",
       "8     11\n",
       "9     11\n",
       "10    10\n",
       "11    11\n",
       "12    11\n",
       "13    11\n",
       "Name: PhoneNumber2, dtype: int64"
      ]
     },
     "execution_count": 145,
     "metadata": {},
     "output_type": "execute_result"
    }
   ],
   "source": [
    "# we find here that most PhoneNumber2 are 11 digits???\n",
    "df['PhoneNumber2'].apply(lambda x:len(x))"
   ]
  },
  {
   "cell_type": "markdown",
   "metadata": {},
   "source": [
    "# Choose phone number and output table\n",
    "Clean is defined by two parameters: \n",
    "- 10 digits\n",
    "- all numeric characters (with trailing zeros removed via integer formatting)"
   ]
  },
  {
   "cell_type": "code",
   "execution_count": 122,
   "metadata": {
    "scrolled": true
   },
   "outputs": [],
   "source": [
    "number_list = []\n",
    "\n",
    "# loop through customer list\n",
    "for k in df['CustomerID'].unique():\n",
    "    selected_data = df[df['CustomerID'] == k].reset_index(drop=True)\n",
    "    # if number 1 is clean\n",
    "    if (len(selected_data['PhoneNumber1'][0]) == 10) & (selected_data['PhoneNumber1'][0].isnumeric()):\n",
    "        number_list.append(selected_data['PhoneNumber1'][0])\n",
    "    # else if number 2 is clean\n",
    "    elif (len(selected_data['PhoneNumber2'][0]) == 10) & (selected_data['PhoneNumber2'][0].isnumeric()):\n",
    "        number_list.append(selected_data['PhoneNumber2'][0])\n",
    "    # else populate with NaN value\n",
    "    else:\n",
    "        number_list.append(np.nan)"
   ]
  },
  {
   "cell_type": "code",
   "execution_count": 146,
   "metadata": {},
   "outputs": [],
   "source": [
    "# output table\n",
    "output_df = pd.DataFrame()\n",
    "output_df['CustomerID'] = df['CustomerID'].unique()\n",
    "output_df['PhoneNumber'] = number_list\n",
    "output_df.to_csv('assignment_2_results.csv')"
   ]
  }
 ],
 "metadata": {
  "kernelspec": {
   "display_name": "Python 3",
   "language": "python",
   "name": "python3"
  },
  "language_info": {
   "codemirror_mode": {
    "name": "ipython",
    "version": 3
   },
   "file_extension": ".py",
   "mimetype": "text/x-python",
   "name": "python",
   "nbconvert_exporter": "python",
   "pygments_lexer": "ipython3",
   "version": "3.8.3"
  }
 },
 "nbformat": 4,
 "nbformat_minor": 4
}
