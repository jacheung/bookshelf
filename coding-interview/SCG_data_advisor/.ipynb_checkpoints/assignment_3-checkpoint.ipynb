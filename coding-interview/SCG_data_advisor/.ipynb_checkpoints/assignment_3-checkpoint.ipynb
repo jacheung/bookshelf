{
 "cells": [
  {
   "cell_type": "markdown",
   "metadata": {},
   "source": [
    "# Premise:\n",
    "we have a list of survey responses where each column is a unique survey response with the zip code tag. The goal will be to aggregate these responses and create a visualization tool where someone could easily identify the zip code with most responses. "
   ]
  },
  {
   "cell_type": "code",
   "execution_count": 216,
   "metadata": {},
   "outputs": [],
   "source": [
    "import os\n",
    "import pandas as pd\n",
    "import numpy as np\n",
    "import pgeocode\n",
    "import matplotlib.pyplot as plt\n",
    "from matplotlib import cm\n",
    "\n",
    "from bokeh.plotting import figure\n",
    "from bokeh.io import output_file, show\n",
    "from bokeh.models import HoverTool, ColumnDataSource"
   ]
  },
  {
   "cell_type": "markdown",
   "metadata": {},
   "source": [
    "# Load and clean datasets\n",
    "Specifically we will be transforming all zip codes to zip-5 and then counting all responses within each zip code"
   ]
  },
  {
   "cell_type": "code",
   "execution_count": 152,
   "metadata": {},
   "outputs": [],
   "source": [
    "# load datasets \n",
    "df = pd.read_csv('Dataset_3.csv')\n",
    "\n",
    "# clean zip codes to 5 digits\n",
    "df['Response_Zip_Code'] = df['Response_Zip_Code'].apply(lambda x: str(x)[0:5])\n",
    "                                                                         \n",
    "# group zip codes by total responses. Assumption that ResponseID is id of one individual.Thus we do count  \n",
    "df = df.groupby('Response_Zip_Code').aggregate('count').reset_index()"
   ]
  },
  {
   "cell_type": "markdown",
   "metadata": {},
   "source": [
    "Here we will use the pgeocode python package to pull 'longitude' and 'latitude' values for each unique zip code"
   ]
  },
  {
   "cell_type": "code",
   "execution_count": 153,
   "metadata": {},
   "outputs": [],
   "source": [
    "# get latitude/longitude of zip codes\n",
    "nomi = pgeocode.Nominatim('us')\n",
    "def get_lat_long(zipcode):\n",
    "    vals = nomi.query_postal_code(zipcode)\n",
    "    return vals['latitude'], vals['longitude']\n",
    "\n",
    "lat_long_raw = [get_lat_long(k) for k in df['Response_Zip_Code']]\n",
    "lat_long_insert =np.array([np.array(xi) for xi in lat_long_raw])\n",
    "\n",
    "df['latitude'] = lat_long_insert[:,0]\n",
    "df['longitude'] = lat_long_insert[:,1]"
   ]
  },
  {
   "cell_type": "markdown",
   "metadata": {},
   "source": [
    "# Show results via an interactive plot\n",
    "First we will perform a color mapping of response values to a color. Darker colors = more responses. We choose here a sequential colormap as our values are linear. "
   ]
  },
  {
   "cell_type": "code",
   "execution_count": 212,
   "metadata": {},
   "outputs": [],
   "source": [
    "# set up color maps into df\n",
    "cmap = cm.get_cmap('Reds', df['ResponseID'].max())\n",
    "df['color'] = (cmap(df['ResponseID'])*256).tolist()\n",
    "df['color'] = df['color'].apply(lambda x: 'rgb' + str(tuple(x[0:3] + [1])))"
   ]
  },
  {
   "cell_type": "markdown",
   "metadata": {},
   "source": [
    "Secondly we will plop the data into an interactive chart and save the result as an html file"
   ]
  },
  {
   "cell_type": "code",
   "execution_count": 237,
   "metadata": {},
   "outputs": [],
   "source": [
    "# collect data into ColumnDataSource and ColorMapper\n",
    "df = df.sort_values('ResponseID') # sort so that larger values will be on the surface when plotting\n",
    "source = ColumnDataSource(df)\n",
    "\n",
    "# figure set up\n",
    "p = figure(x_axis_label = 'Longitude', \n",
    "           y_axis_label = 'Latitude',\n",
    "          title = 'Responses by Zip Code')\n",
    "\n",
    "# figure scatter using CategoricalColorMapper\n",
    "p.circle('longitude', 'latitude', source=source, size = 3, \n",
    "        fill_color='color', line_color = 'color')\n",
    "\n",
    "hover = HoverTool(tooltips = [\n",
    "                ('ZipCode', '@Response_Zip_Code'),\n",
    "                ('Responses', '@ResponseID')])\n",
    "p.add_tools(hover)\n",
    "\n",
    "output_file('./products/assignment_3.html')\n",
    "show(p)"
   ]
  },
  {
   "cell_type": "code",
   "execution_count": 236,
   "metadata": {},
   "outputs": [],
   "source": [
    "# output sorted values df with zip and response\n",
    "df[['Response_Zip_Code','ResponseID']].sort_values('ResponseID',ascending=False).reset_index(drop=True).rename(columns = {'ResponseID':'NumResponses'}).to_csv('./products/assignment_3_results.csv')"
   ]
  }
 ],
 "metadata": {
  "kernelspec": {
   "display_name": "Python 3",
   "language": "python",
   "name": "python3"
  },
  "language_info": {
   "codemirror_mode": {
    "name": "ipython",
    "version": 3
   },
   "file_extension": ".py",
   "mimetype": "text/x-python",
   "name": "python",
   "nbconvert_exporter": "python",
   "pygments_lexer": "ipython3",
   "version": "3.8.3"
  }
 },
 "nbformat": 4,
 "nbformat_minor": 4
}
