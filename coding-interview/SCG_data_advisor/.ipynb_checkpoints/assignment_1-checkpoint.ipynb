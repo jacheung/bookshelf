{
 "cells": [
  {
   "cell_type": "code",
   "execution_count": 1,
   "metadata": {},
   "outputs": [],
   "source": [
    "# import required libraries\n",
    "import os\n",
    "import pandas as pd\n",
    "import matplotlib.pyplot as plt\n",
    "import numpy as np"
   ]
  },
  {
   "cell_type": "code",
   "execution_count": 2,
   "metadata": {},
   "outputs": [],
   "source": [
    "# import dataset as dataframe\n",
    "df = pd.read_csv('Dataset_1.csv')\n",
    "\n",
    "# data cleaning, downsampling date to months\n",
    "df['Date_of_Survey'] = pd.to_datetime(df['Date_of_Survey']).dt.to_period(\"M\")"
   ]
  },
  {
   "cell_type": "code",
   "execution_count": 11,
   "metadata": {
    "scrolled": true
   },
   "outputs": [
    {
     "name": "stdout",
     "output_type": "stream",
     "text": [
      "There are a total of 2386 survey responses collected 11 unique time points.\n",
      "100.0% of survey 1 and 100.0% of survey 2 have responses.\n",
      "Approximately 24.56% of Q1 and 32.02% of Q2 is a 4.\n"
     ]
    },
    {
     "data": {
      "image/png": "[encoded data removed]",
      "text/plain": [
       "<Figure size 432x288 with 2 Axes>"
      ]
     },
     "metadata": {
      "needs_background": "light"
     },
     "output_type": "display_data"
    }
   ],
   "source": [
    "# some basic exploratory data analysis\n",
    "print('There are a total of ' + str(df.shape[0]) + ' survey responses collected across ' + str(len(df['Date_of_Survey'].unique())) + ' unique time points.' )\n",
    "\n",
    "pct_1 = (1 - df['SurveyQuestion1'].isnull().mean()) * 100\n",
    "pct_2 = (1 - df['SurveyQuestion2'].isnull().mean()) * 100\n",
    "\n",
    "print(str(pct_1) + '% of survey 1 and ' + str(pct_2) + '% of survey 2 have responses.')\n",
    "print('Approximately ' + str(np.round(np.mean(df['SurveyQuestion1']==4)*100,2)) + '% of Q1 and ' + str(np.round(np.mean(df['SurveyQuestion2']==4)*100,2)) + '% of Q2 is a 4.')\n",
    "\n",
    "\n",
    "plt.subplot(1,2,1)\n",
    "plt.hist(df['SurveyQuestion1'])\n",
    "plt.xlabel('Response'), plt.ylabel('Number of responses'), plt.title('SurveyQuestion1')\n",
    "\n",
    "plt.subplot(1,2,2)\n",
    "plt.hist(df['SurveyQuestion2'])\n",
    "plt.xlabel('Response'), plt.ylabel('Number of responses'), plt.title('SurveyQuestion2')\n",
    "plt.tight_layout()\n",
    "plt.show()"
   ]
  },
  {
   "cell_type": "code",
   "execution_count": null,
   "metadata": {},
   "outputs": [],
   "source": [
    "# build aggregate functions for survey questions\n",
    "def pct_excellent(series):\n",
    "    return np.mean(series==5) * 100\n",
    "\n",
    "def pct_gfp(series):\n",
    "    return np.mean((df['SurveyQuestion1'] == 3) | (df['SurveyQuestion1'] == 2) | (df['SurveyQuestion1'] == 1)) * 100\n"
   ]
  },
  {
   "cell_type": "code",
   "execution_count": null,
   "metadata": {},
   "outputs": [],
   "source": [
    "# build dataframes for each survey question\n",
    "pct_df_1 = df.groupby('Date_of_Survey').aggregate({'SurveyQuestion1': [pct_excellent, pct_gfp]})\n",
    "pct_df_1.columns = pct_df_1.columns.droplevel()\n",
    "pct_df_1['net_score'] = np.round((pct_df_1['pct_excellent'] - pct_df_1['pct_gfp'])*100,1)\n",
    "pct_df_1['SurveyQuestion'] = '1'\n",
    "pct_df_1 = pct_df_1.reset_index()\n",
    "\n",
    "pct_df_2 = df.groupby('Date_of_Survey').aggregate({'SurveyQuestion2': [pct_excellent, pct_gfp]})\n",
    "pct_df_2.columns = pct_df_2.columns.droplevel()\n",
    "pct_df_2['net_score'] = np.round((pct_df_2['pct_excellent'] - pct_df_2['pct_gfp'])*100,1)\n",
    "pct_df_2['SurveyQuestion'] = '2'\n",
    "pct_df_2 = pct_df_2.reset_index()"
   ]
  },
  {
   "cell_type": "code",
   "execution_count": null,
   "metadata": {
    "scrolled": true
   },
   "outputs": [],
   "source": [
    "# concatenate dataframes, reorder, and output \n",
    "final_df = pd.concat([pct_df_1,pct_df_2])\n",
    "column_list = final_df.columns.tolist()\n",
    "new_column_list = column_list[-1:] + column_list[:-1]\n",
    "\n",
    "final_df = final_df[new_column_list].sort_values(['SurveyQuestion','Date_of_Survey'])\n",
    "final_df = final_df.reset_index(drop=True)\n",
    "final_df.rename(columns = {'pct_excellent' : '%Excellent',\n",
    "                          'pct_gfp' : '%Good/Fair/Poor',\n",
    "                          'net_score': 'Net Score'}, inplace=True)\n",
    "final_df.to_csv('./products/assignment_1_results.csv')"
   ]
  },
  {
   "cell_type": "code",
   "execution_count": null,
   "metadata": {},
   "outputs": [],
   "source": [
    "# plot showing trends of Q1 to Q2\n",
    "plot_df = final_df.copy()\n",
    "plot_df['Date_of_Survey'] = plot_df['Date_of_Survey'].dt.to_timestamp()\n",
    "\n",
    "# select data and calculate r\n",
    "s1_data = plot_df[plot_df['SurveyQuestion'] == '1']\n",
    "s2_data = plot_df[plot_df['SurveyQuestion'] == '2']\n",
    "# note high correlation between s1 and s2 net score suggesting that Q2 doesn't really add too much. \n",
    "corr_value = np.round(np.corrcoef(s1_data['Net Score'], s2_data['Net Score'])[0,1],2)\n",
    "\n",
    "# plot figure \n",
    "plt.figure(figsize = (8,8))\n",
    "plt.rcParams.update({'font.size': 16})\n",
    "plt.plot_date(s1_data['Date_of_Survey'], s1_data['Net Score'], 'bo-')\n",
    "plt.plot_date(s2_data['Date_of_Survey'], s2_data['Net Score'], 'ro-')\n",
    "\n",
    "plt.xticks(rotation = 45, ha=\"right\")\n",
    "plt.xlabel('Date of Survey'), plt.ylabel('Net Score')\n",
    "plt.legend(['Q1','Q2'])\n",
    "plt.title('Correlation between Q1 and Q2 response : ' + str(corr_value))\n",
    "plt.tight_layout()\n",
    "\n",
    "plt.savefig('./products/assignment_1_result.png')\n",
    "plt.show()\n"
   ]
  }
 ],
 "metadata": {
  "kernelspec": {
   "display_name": "Python 3",
   "language": "python",
   "name": "python3"
  },
  "language_info": {
   "codemirror_mode": {
    "name": "ipython",
    "version": 3
   },
   "file_extension": ".py",
   "mimetype": "text/x-python",
   "name": "python",
   "nbconvert_exporter": "python",
   "pygments_lexer": "ipython3",
   "version": "3.8.3"
  }
 },
 "nbformat": 4,
 "nbformat_minor": 4
}
