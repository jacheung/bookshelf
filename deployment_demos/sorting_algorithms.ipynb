{
 "cells": [
  {
   "cell_type": "code",
   "execution_count": null,
   "id": "e497be86",
   "metadata": {},
   "outputs": [],
   "source": [
    "import random"
   ]
  },
  {
   "cell_type": "markdown",
   "id": "496ffc15",
   "metadata": {},
   "source": [
    "### selection sort"
   ]
  },
  {
   "cell_type": "code",
   "execution_count": 142,
   "id": "69d56c53",
   "metadata": {},
   "outputs": [],
   "source": [
    "# O(n) time because we sort through all items. Can we terminate early?\n",
    "def find_max(x: list, index_end):\n",
    "    max_idx = x.index(max(x[:index_end]))\n",
    "    return max_idx\n",
    "\n",
    "def swap_sort(x: list, i=0):\n",
    "    if i == len(x):\n",
    "        return x\n",
    "    max_idx = find_max(x, index_end=len(x)-i)\n",
    "    x[max_idx], x[len(x)-i-1] = x[len(x)-i-1], x[max_idx]\n",
    "    i += 1\n",
    "    swap_sort(x, i)\n",
    "    "
   ]
  },
  {
   "cell_type": "code",
   "execution_count": 151,
   "id": "577bb1fd",
   "metadata": {},
   "outputs": [
    {
     "name": "stdout",
     "output_type": "stream",
     "text": [
      "[0, 1, 2, 3, 4, 5, 6, 7, 8, 9, 10, 11, 12, 13, 14, 15, 16, 17, 18, 19, 20, 21, 22, 23, 24, 25, 26, 27, 28, 29, 30, 31, 32, 33, 34, 35, 36, 37, 38, 39, 40, 41, 42, 43, 44, 45, 46, 47, 48, 49, 50, 51, 52, 53, 54, 55, 56, 57, 58, 59, 60, 61, 62, 63, 64, 65, 66, 67, 68, 69, 70, 71, 72, 73, 74, 75, 76, 77, 78, 79, 80, 81, 82, 83, 84, 85, 86, 87, 88, 89, 90, 91, 92, 93, 94, 95, 96, 97, 98, 99]\n"
     ]
    }
   ],
   "source": [
    "# test selection sort \n",
    "x = random.sample(range(0, 100), k=50)\n",
    "swap_sort(x)\n",
    "print(x)"
   ]
  },
  {
   "cell_type": "markdown",
   "id": "ba9dc6d7",
   "metadata": {},
   "source": [
    "### merge sort"
   ]
  },
  {
   "cell_type": "code",
   "execution_count": 152,
   "id": "597daa98",
   "metadata": {},
   "outputs": [],
   "source": [
    "# O(nlogn) time\n",
    "x = [4, 2, 5, 2, 9, 1, 4, 8]"
   ]
  },
  {
   "cell_type": "code",
   "execution_count": null,
   "id": "7479070b",
   "metadata": {},
   "outputs": [],
   "source": []
  },
  {
   "cell_type": "markdown",
   "id": "dfc51c91",
   "metadata": {},
   "source": [
    "### counting sort"
   ]
  },
  {
   "cell_type": "code",
   "execution_count": 158,
   "id": "ec536f1f",
   "metadata": {},
   "outputs": [],
   "source": [
    "x = random.sample(range(0, 1000), k=50)"
   ]
  },
  {
   "cell_type": "code",
   "execution_count": 169,
   "id": "485c83c9",
   "metadata": {},
   "outputs": [],
   "source": [
    "def decompose(n:list):\n",
    "    # input: list of integers\n",
    "    a = [k//len(n) for k in n]\n",
    "    b = [k%len(n) for k in n]\n",
    "    t = [(a,b) for a, b in zip(a,b)]\n",
    "    return t\n",
    "    \n",
    "def recompose(n: list): \n",
    "    # input: list of tuples\n",
    "    k = [a*len(n) + b for (a,b) in n]\n",
    "    return k\n"
   ]
  },
  {
   "cell_type": "code",
   "execution_count": 171,
   "id": "f959edd0",
   "metadata": {},
   "outputs": [
    {
     "data": {
      "text/plain": [
       "20"
      ]
     },
     "execution_count": 171,
     "metadata": {},
     "output_type": "execute_result"
    }
   ],
   "source": [
    "1000//50"
   ]
  },
  {
   "cell_type": "code",
   "execution_count": 172,
   "id": "754538bb",
   "metadata": {},
   "outputs": [],
   "source": [
    "hash_table = [for key in range(0, 21)}"
   ]
  },
  {
   "cell_type": "code",
   "execution_count": 179,
   "id": "f04f6aa5",
   "metadata": {},
   "outputs": [
    {
     "data": {
      "text/plain": [
       "range(0, 21)"
      ]
     },
     "execution_count": 179,
     "metadata": {},
     "output_type": "execute_result"
    }
   ],
   "source": []
  }
 ],
 "metadata": {
  "kernelspec": {
   "display_name": "Python 3 (ipykernel)",
   "language": "python",
   "name": "python3"
  },
  "language_info": {
   "codemirror_mode": {
    "name": "ipython",
    "version": 3
   },
   "file_extension": ".py",
   "mimetype": "text/x-python",
   "name": "python",
   "nbconvert_exporter": "python",
   "pygments_lexer": "ipython3",
   "version": "3.10.8"
  }
 },
 "nbformat": 4,
 "nbformat_minor": 5
}
