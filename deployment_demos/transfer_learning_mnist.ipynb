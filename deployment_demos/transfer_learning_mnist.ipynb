{
 "cells": [
  {
   "cell_type": "code",
   "execution_count": null,
   "id": "c7870791",
   "metadata": {},
   "outputs": [],
   "source": [
    "import matplotlib.pylab as plt\n",
    "import numpy as np\n",
    "import tensorflow as tf\n",
    "import tensorflow_hub as hub"
   ]
  },
  {
   "cell_type": "code",
   "execution_count": 12,
   "id": "5b2523e0",
   "metadata": {},
   "outputs": [],
   "source": [
    "(x_train, y_train), (x_test, y_test) = tf.keras.datasets.mnist.load_data()"
   ]
  },
  {
   "cell_type": "code",
   "execution_count": 17,
   "id": "056ee08a",
   "metadata": {},
   "outputs": [],
   "source": [
    "def expand_greyscale_image_channels(grey_pil_image):\n",
    "    grey_image_arr = np.array(grey_pil_image)\n",
    "    grey_image_arr = np.expand_dims(grey_image_arr, -1)\n",
    "    grey_image_arr_3_channel = grey_image_arr.repeat(3, axis=-1)\n",
    "    return grey_image_arr_3_channel\n",
    "\n",
    "def preprocess_mnist(images: np.array):\n",
    "    # reshape and upsample to 3 channel for transfer learning models\n",
    "    images = expand_greyscale_image_channels(images)\n",
    "    # normalize pixel values\n",
    "    images = images.astype('float32') / 255.0\n",
    "    # resize with pad for mobilenetv2\n",
    "    images = tf.image.resize_with_pad(images, target_height=224, target_width=224)\n",
    "    return images\n",
    "\n",
    "x_train_processed = preprocess_mnist(x_train)\n",
    "CLASS_NAMES = np.unique(y_train)"
   ]
  },
  {
   "cell_type": "code",
   "execution_count": 32,
   "id": "47fcb83e",
   "metadata": {
    "scrolled": true
   },
   "outputs": [
    {
     "name": "stdout",
     "output_type": "stream",
     "text": [
      "Epoch 1/5\n",
      "1875/1875 [==============================] - 590s 313ms/step - loss: 0.2848 - accuracy: 0.9177\n",
      "Epoch 2/5\n",
      "1875/1875 [==============================] - 606s 323ms/step - loss: 0.1023 - accuracy: 0.9692\n",
      "Epoch 3/5\n",
      "1875/1875 [==============================] - 600s 320ms/step - loss: 0.0776 - accuracy: 0.9757\n",
      "Epoch 4/5\n",
      "1875/1875 [==============================] - 686s 366ms/step - loss: 0.0657 - accuracy: 0.9798\n",
      "Epoch 5/5\n",
      "1875/1875 [==============================] - 551s 294ms/step - loss: 0.0553 - accuracy: 0.9828\n"
     ]
    },
    {
     "data": {
      "text/plain": [
       "<keras.callbacks.History at 0x1456c4670>"
      ]
     },
     "execution_count": 32,
     "metadata": {},
     "output_type": "execute_result"
    }
   ],
   "source": [
    "batch_size = 32\n",
    "lrate = 0.001\n",
    "l1 = 0.\n",
    "l2 = 0.\n",
    "num_hidden = 16\n",
    "regularizer = tf.keras.regularizers.l1_l2(l1, l2)\n",
    "\n",
    "layers = [\n",
    "    hub.KerasLayer(\n",
    "        \"https://tfhub.dev/google/tf2-preview/mobilenet_v2/feature_vector/4\",\n",
    "        input_shape=tuple(x_train_processed.shape[1:]),\n",
    "        trainable=False,\n",
    "        name='mobilenet_embedding'),\n",
    "    tf.keras.layers.Dense(num_hidden,\n",
    "                          kernel_regularizer=regularizer,\n",
    "                          activation='relu',\n",
    "                          name='dense_hidden'),\n",
    "    tf.keras.layers.Dense(len(CLASS_NAMES),\n",
    "                          kernel_regularizer=regularizer,\n",
    "                          activation='softmax',\n",
    "                          name='mnist_prob')\n",
    "    ]\n",
    "model = tf.keras.Sequential(layers, name='mnist_classification')\n",
    "model.compile(optimizer=tf.keras.optimizers.Adam(learning_rate=lrate),\n",
    "                    loss=tf.keras.losses.SparseCategoricalCrossentropy(\n",
    "                          from_logits=False),\n",
    "                      metrics=['accuracy'])\n",
    "model.fit(x_train_processed, y_train, epochs=5)"
   ]
  },
  {
   "cell_type": "code",
   "execution_count": 35,
   "id": "22c3bd86",
   "metadata": {},
   "outputs": [
    {
     "ename": "NameError",
     "evalue": "name '__file__' is not defined",
     "output_type": "error",
     "traceback": [
      "\u001b[0;31m---------------------------------------------------------------------------\u001b[0m",
      "\u001b[0;31mNameError\u001b[0m                                 Traceback (most recent call last)",
      "Input \u001b[0;32mIn [35]\u001b[0m, in \u001b[0;36m<cell line: 2>\u001b[0;34m()\u001b[0m\n\u001b[1;32m      1\u001b[0m \u001b[38;5;28;01mfrom\u001b[39;00m \u001b[38;5;21;01mpathlib\u001b[39;00m \u001b[38;5;28;01mimport\u001b[39;00m Path\n\u001b[0;32m----> 2\u001b[0m model_path \u001b[38;5;241m=\u001b[39m Path(\u001b[38;5;18;43m__file__\u001b[39;49m)\u001b[38;5;241m.\u001b[39mparent \u001b[38;5;241m/\u001b[39m \u001b[38;5;124m\"\u001b[39m\u001b[38;5;124mmodel.joblib\u001b[39m\u001b[38;5;124m\"\u001b[39m\n",
      "\u001b[0;31mNameError\u001b[0m: name '__file__' is not defined"
     ]
    }
   ],
   "source": [
    "from pathlib import Path\n",
    "model_path = Path(__file__).parent / \"model.joblib\""
   ]
  },
  {
   "cell_type": "code",
   "execution_count": null,
   "id": "92c753ee",
   "metadata": {},
   "outputs": [],
   "source": [
    "x_test_processed = preprocess_mnist(x_test)\n",
    "# evaluate the model\n",
    "loss, acc = model.evaluate(x_test_processed, y_test, verbose=0)\n",
    "print('Accuracy: %.3f' % acc)"
   ]
  },
  {
   "cell_type": "code",
   "execution_count": 39,
   "id": "038890c4",
   "metadata": {},
   "outputs": [
    {
     "name": "stderr",
     "output_type": "stream",
     "text": [
      "WARNING:absl:Found untraced functions such as _update_step_xla while saving (showing 1 of 1). These functions will not be directly callable after loading.\n"
     ]
    },
    {
     "name": "stdout",
     "output_type": "stream",
     "text": [
      "INFO:tensorflow:Assets written to: ./img_classifier/1678311355/assets\n"
     ]
    },
    {
     "name": "stderr",
     "output_type": "stream",
     "text": [
      "INFO:tensorflow:Assets written to: ./img_classifier/1678311355/assets\n"
     ]
    }
   ],
   "source": [
    "# model_path = Path(__file__).parent / \"model.joblib\"\n",
    "#save model\n",
    "ts = int(time.time())\n",
    "file_path = f\"./img_classifier/{ts}/\"\n",
    "model.save(filepath=file_path, save_format='tf')"
   ]
  },
  {
   "cell_type": "code",
   "execution_count": 51,
   "id": "8d783c64",
   "metadata": {},
   "outputs": [],
   "source": [
    "import grpc\n",
    "from tensorflow_serving.apis import predict_pb2\n",
    "from tensorflow_serving.apis import prediction_service_pb2_grpc\n",
    "from tensorboard.compat.proto import types_pb2\n",
    "\n",
    "channel = grpc.insecure_channel('127.0.0.1:8500')\n",
    "stub = prediction_service_pb2_grpc.PredictionServiceStub(channel)\n",
    "\n",
    "request = predict_pb2.PredictRequest()\n",
    "request.model_spec.name = 'mnist-model'\n",
    "request.inputs['flatten_input'].CopyFrom(tf.make_tensor_proto(X_test[0],dtype=types_pb2.DT_FLOAT,  shape=[28,28,1]))"
   ]
  }
 ],
 "metadata": {
  "kernelspec": {
   "display_name": "molicel-venv",
   "language": "python",
   "name": "molicel-venv"
  },
  "language_info": {
   "codemirror_mode": {
    "name": "ipython",
    "version": 3
   },
   "file_extension": ".py",
   "mimetype": "text/x-python",
   "name": "python",
   "nbconvert_exporter": "python",
   "pygments_lexer": "ipython3",
   "version": "3.9.15"
  }
 },
 "nbformat": 4,
 "nbformat_minor": 5
}
