{
 "cells": [
  {
   "cell_type": "code",
   "execution_count": 1,
   "id": "d35a82af",
   "metadata": {
    "scrolled": true
   },
   "outputs": [
    {
     "name": "stderr",
     "output_type": "stream",
     "text": [
      "2023-01-31 14:57:18.670464: I tensorflow/core/platform/cpu_feature_guard.cc:193] This TensorFlow binary is optimized with oneAPI Deep Neural Network Library (oneDNN) to use the following CPU instructions in performance-critical operations:  AVX2 FMA\n",
      "To enable them in other operations, rebuild TensorFlow with the appropriate compiler flags.\n"
     ]
    },
    {
     "name": "stdout",
     "output_type": "stream",
     "text": [
      "TF: 2.11.0\n",
      "Data Validation: 1.12.0\n"
     ]
    }
   ],
   "source": [
    "import os\n",
    "import pandas as pd\n",
    "import numpy as np\n",
    "import matplotlib.pyplot as plt\n",
    "from pprint import pprint\n",
    "import multiprocess as mp\n",
    "from tqdm import tqdm\n",
    "import time\n",
    "\n",
    "import tensorflow as tf\n",
    "print('TF: {}'.format(tf.__version__))\n",
    "\n",
    "import tensorflow_data_validation as tfdv\n",
    "print('Data Validation: {}'.format(tfdv.__version__))\n",
    "\n",
    "from tensorflow import keras\n",
    "from tensorflow.keras.callbacks import TensorBoard\n",
    "from tensorflow.keras.layers import Dense, DenseFeatures\n",
    "from tensorflow.keras.models import Sequential\n",
    "\n",
    "\n",
    "# Project imports\n",
    "from molicel_cycle_life_prediction.dataset.p_series_discharge_cpd_dataset import PSeriesDischargeCPDDataset\n",
    "from molicel_cycle_life_prediction.dataset.p_series_charge_cc_cvc_dataset import PSeriesChargeCCCVCDataset\n",
    "from molicel_cycle_life_prediction.feature_generator.incremental_calculation import IncrementalCalculationFeatureGenerator\n",
    "from molicel_cycle_life_prediction.feature_generator.envelope_based import EnvelopeFeatureGenerator\n",
    "from molicel_cycle_life_prediction.feature_generator.discharge_sum_feature_generator import DischargeSumFeatureGenerator\n",
    "from molicel_cycle_life_prediction.feature_generator.severson_nature import SeversonNature\n"
   ]
  },
  {
   "cell_type": "code",
   "execution_count": 2,
   "id": "68437918",
   "metadata": {},
   "outputs": [],
   "source": [
    "# build list of files \n",
    "p42_data_path = '/Users/jcheung/Library/CloudStorage/OneDrive-SharedLibraries-BEYONDLIMITS,INC/' \\\n",
    "                       'Molicel - General/06 Results/IPYNB_input_files/Raw_files_csvs/P42/'\n",
    "p28_data_path = '/Users/jcheung/Library/CloudStorage/OneDrive-SharedLibraries-BEYONDLIMITS,INC/' \\\n",
    "                       'Molicel - General/02 Data/raw/18650-P28A/'\n",
    "p42_files = {}\n",
    "p28_files = {}\n",
    "for file_type in ['train', 'test']:\n",
    "    p42_files[file_type] = [f'{p42_data_path}/{file_type}/{x}' for x in os.listdir(f'{p42_data_path}/{file_type}/')]\n",
    "    p28_files[file_type] = [f'{p28_data_path}/{file_type}/{x}' for x in os.listdir(f'{p28_data_path}/{file_type}/')]"
   ]
  },
  {
   "cell_type": "markdown",
   "id": "822b2fa3",
   "metadata": {},
   "source": [
    "### 1.1 Dataset building"
   ]
  },
  {
   "cell_type": "code",
   "execution_count": 3,
   "id": "e362999a",
   "metadata": {},
   "outputs": [],
   "source": [
    "LABEL_COLUMN = 'Retention(%)' \n",
    "def features_and_labels(row_data):\n",
    "    label = row_data.pop(LABEL_COLUMN)\n",
    "    features=row_data\n",
    "    \n",
    "    return features, label\n",
    "    \n",
    "def create_dataset(filename):\n",
    "    discharge_class = PSeriesDischargeCPDDataset()\n",
    "    di_fe = DischargeSumFeatureGenerator()\n",
    "    en_fe = EnvelopeFeatureGenerator()\n",
    "    sn = SeversonNature(model_type=\"full\")  # set model_type to 'variance', 'discharge', or 'full'\n",
    "  \n",
    "    # instantiate top level class\n",
    "    discharge = discharge_class.load_data(data_filepaths=filename, para_filepaths=[])\n",
    "    df = discharge[0]\n",
    "    \n",
    "    # generate features from sub-level feature generators\n",
    "    discharge_sum, discharge_sum_meta = di_fe.generate_features(df)\n",
    "    env_fe, env_fe_meta = en_fe.generate_features(df)\n",
    "    severson_fe, severson_meta = sn.generate_features(df)\n",
    "    \n",
    "    # compile feature generator outputs to dataframe\n",
    "    discharge_df = pd.DataFrame(discharge_sum, columns=discharge_sum_meta['column_headers'])\n",
    "    severson_df = pd.DataFrame(data=severson_fe, columns=severson_meta[\"column_headers\"])\n",
    "    env_df = pd.DataFrame(env_fe, columns=env_fe_meta['column_headers'])\n",
    "\n",
    "    # package generated features into one dataframe\n",
    "    discharge_df_features = ['File Name', 'Cyc#', 'R', 'mAH', 'Retention(%)']\n",
    "    raw_df = env_df.merge(discharge_df[discharge_df_features], on=['File Name', 'Cyc#'])\n",
    "    raw_df = raw_df.merge(severson_df, on=['File Name'])\n",
    "    raw_df['Cyc#'] = raw_df['Cyc#'].astype(int)\n",
    "    \n",
    "    return raw_df\n",
    "\n",
    "def divide_chunks(l, num_chunks):    \n",
    "    # looping till length l\n",
    "    for i in range(0, num_chunks):\n",
    "        yield l[i::num_chunks]\n",
    "\n",
    "def df_to_tf_dataset(df, mode='eval'):\n",
    "    tf_ds = tf.data.Dataset.from_tensor_slices(dict(df.drop(columns=['File Name']).astype(float)))\n",
    "    tf_ds = tf_ds.map(features_and_labels)\n",
    "    \n",
    "    if mode == \"train\":\n",
    "        tf_ds = tf_ds.shuffle(buffer_size=1000).repeat()\n",
    "\n",
    "    return tf_ds\n",
    "\n",
    "def df_to_tfd(df, mode='eval'):\n",
    "    y = df.dropna()[LABEL_COLUMN].astype(float)\n",
    "    x = df.dropna().drop(columns=['File Name', LABEL_COLUMN]).astype(float)\n",
    "\n",
    "    # Create TensorFlow Datasets for train and test sets\n",
    "    tfd = tf.data.Dataset.from_tensor_slices((x, y))\n",
    "    return tfd\n"
   ]
  },
  {
   "cell_type": "code",
   "execution_count": 102,
   "id": "9ce6f367",
   "metadata": {},
   "outputs": [
    {
     "data": {
      "text/html": [
       "<div>\n",
       "<style scoped>\n",
       "    .dataframe tbody tr th:only-of-type {\n",
       "        vertical-align: middle;\n",
       "    }\n",
       "\n",
       "    .dataframe tbody tr th {\n",
       "        vertical-align: top;\n",
       "    }\n",
       "\n",
       "    .dataframe thead th {\n",
       "        text-align: right;\n",
       "    }\n",
       "</style>\n",
       "<table border=\"1\" class=\"dataframe\">\n",
       "  <thead>\n",
       "    <tr style=\"text-align: right;\">\n",
       "      <th></th>\n",
       "      <th>Cyc#</th>\n",
       "      <th>Volts_auc</th>\n",
       "      <th>T_auc</th>\n",
       "      <th>Amps_auc</th>\n",
       "      <th>R</th>\n",
       "      <th>mAH_x</th>\n",
       "      <th>intercept_cyc2-100</th>\n",
       "      <th>slope_cyc2-100</th>\n",
       "      <th>mean_dQV100-10</th>\n",
       "      <th>min_dQV100-10</th>\n",
       "      <th>var_dQV100-10</th>\n",
       "      <th>kurtosis_dQV100-10</th>\n",
       "      <th>skewness_dQV100-10</th>\n",
       "      <th>QV100_3</th>\n",
       "      <th>mAH_y</th>\n",
       "      <th>Rcyc3</th>\n",
       "      <th>mAH_100-3</th>\n",
       "      <th>R_100-3</th>\n",
       "      <th>T_AUC</th>\n",
       "    </tr>\n",
       "  </thead>\n",
       "  <tbody>\n",
       "    <tr>\n",
       "      <th>0</th>\n",
       "      <td>1</td>\n",
       "      <td>1247.271499</td>\n",
       "      <td>20521.926105</td>\n",
       "      <td>8772.658684</td>\n",
       "      <td>0.106</td>\n",
       "      <td>2446.551</td>\n",
       "      <td>99.464122</td>\n",
       "      <td>-0.099856</td>\n",
       "      <td>-0.053402</td>\n",
       "      <td>-0.107749</td>\n",
       "      <td>0.000135</td>\n",
       "      <td>9.631123</td>\n",
       "      <td>-1.436932</td>\n",
       "      <td>-231.642</td>\n",
       "      <td>2466.439</td>\n",
       "      <td>0.104</td>\n",
       "      <td>-231.642</td>\n",
       "      <td>0.002</td>\n",
       "      <td>8053.435833</td>\n",
       "    </tr>\n",
       "    <tr>\n",
       "      <th>1</th>\n",
       "      <td>3</td>\n",
       "      <td>1254.925117</td>\n",
       "      <td>20606.33193</td>\n",
       "      <td>8835.486822</td>\n",
       "      <td>0.104</td>\n",
       "      <td>2466.439</td>\n",
       "      <td>99.464122</td>\n",
       "      <td>-0.099856</td>\n",
       "      <td>-0.053402</td>\n",
       "      <td>-0.107749</td>\n",
       "      <td>0.000135</td>\n",
       "      <td>9.631123</td>\n",
       "      <td>-1.436932</td>\n",
       "      <td>-231.642</td>\n",
       "      <td>2466.439</td>\n",
       "      <td>0.104</td>\n",
       "      <td>-231.642</td>\n",
       "      <td>0.002</td>\n",
       "      <td>8053.435833</td>\n",
       "    </tr>\n",
       "    <tr>\n",
       "      <th>2</th>\n",
       "      <td>4</td>\n",
       "      <td>1249.850574</td>\n",
       "      <td>20574.751712</td>\n",
       "      <td>8789.156166</td>\n",
       "      <td>0.104</td>\n",
       "      <td>2453.767</td>\n",
       "      <td>99.464122</td>\n",
       "      <td>-0.099856</td>\n",
       "      <td>-0.053402</td>\n",
       "      <td>-0.107749</td>\n",
       "      <td>0.000135</td>\n",
       "      <td>9.631123</td>\n",
       "      <td>-1.436932</td>\n",
       "      <td>-231.642</td>\n",
       "      <td>2466.439</td>\n",
       "      <td>0.104</td>\n",
       "      <td>-231.642</td>\n",
       "      <td>0.002</td>\n",
       "      <td>8053.435833</td>\n",
       "    </tr>\n",
       "    <tr>\n",
       "      <th>3</th>\n",
       "      <td>5</td>\n",
       "      <td>1244.258139</td>\n",
       "      <td>20458.558507</td>\n",
       "      <td>8753.246154</td>\n",
       "      <td>0.104</td>\n",
       "      <td>2441.342</td>\n",
       "      <td>99.464122</td>\n",
       "      <td>-0.099856</td>\n",
       "      <td>-0.053402</td>\n",
       "      <td>-0.107749</td>\n",
       "      <td>0.000135</td>\n",
       "      <td>9.631123</td>\n",
       "      <td>-1.436932</td>\n",
       "      <td>-231.642</td>\n",
       "      <td>2466.439</td>\n",
       "      <td>0.104</td>\n",
       "      <td>-231.642</td>\n",
       "      <td>0.002</td>\n",
       "      <td>8053.435833</td>\n",
       "    </tr>\n",
       "    <tr>\n",
       "      <th>4</th>\n",
       "      <td>6</td>\n",
       "      <td>1240.25196</td>\n",
       "      <td>20366.921521</td>\n",
       "      <td>8724.724617</td>\n",
       "      <td>0.104</td>\n",
       "      <td>2433.363</td>\n",
       "      <td>99.464122</td>\n",
       "      <td>-0.099856</td>\n",
       "      <td>-0.053402</td>\n",
       "      <td>-0.107749</td>\n",
       "      <td>0.000135</td>\n",
       "      <td>9.631123</td>\n",
       "      <td>-1.436932</td>\n",
       "      <td>-231.642</td>\n",
       "      <td>2466.439</td>\n",
       "      <td>0.104</td>\n",
       "      <td>-231.642</td>\n",
       "      <td>0.002</td>\n",
       "      <td>8053.435833</td>\n",
       "    </tr>\n",
       "    <tr>\n",
       "      <th>...</th>\n",
       "      <td>...</td>\n",
       "      <td>...</td>\n",
       "      <td>...</td>\n",
       "      <td>...</td>\n",
       "      <td>...</td>\n",
       "      <td>...</td>\n",
       "      <td>...</td>\n",
       "      <td>...</td>\n",
       "      <td>...</td>\n",
       "      <td>...</td>\n",
       "      <td>...</td>\n",
       "      <td>...</td>\n",
       "      <td>...</td>\n",
       "      <td>...</td>\n",
       "      <td>...</td>\n",
       "      <td>...</td>\n",
       "      <td>...</td>\n",
       "      <td>...</td>\n",
       "      <td>...</td>\n",
       "    </tr>\n",
       "    <tr>\n",
       "      <th>8227</th>\n",
       "      <td>696</td>\n",
       "      <td>920.129923</td>\n",
       "      <td>14685.105021</td>\n",
       "      <td>7935.049503</td>\n",
       "      <td>0.098</td>\n",
       "      <td>2216.504</td>\n",
       "      <td>101.380719</td>\n",
       "      <td>-0.260761</td>\n",
       "      <td>-0.113046</td>\n",
       "      <td>-0.142153</td>\n",
       "      <td>0.000495</td>\n",
       "      <td>3.157559</td>\n",
       "      <td>1.187189</td>\n",
       "      <td>-643.199</td>\n",
       "      <td>3275.595</td>\n",
       "      <td>0.097</td>\n",
       "      <td>-643.199</td>\n",
       "      <td>0.0</td>\n",
       "      <td>7470.801667</td>\n",
       "    </tr>\n",
       "    <tr>\n",
       "      <th>8228</th>\n",
       "      <td>697</td>\n",
       "      <td>920.150716</td>\n",
       "      <td>14693.295074</td>\n",
       "      <td>7936.014783</td>\n",
       "      <td>0.098</td>\n",
       "      <td>2216.87</td>\n",
       "      <td>101.380719</td>\n",
       "      <td>-0.260761</td>\n",
       "      <td>-0.113046</td>\n",
       "      <td>-0.142153</td>\n",
       "      <td>0.000495</td>\n",
       "      <td>3.157559</td>\n",
       "      <td>1.187189</td>\n",
       "      <td>-643.199</td>\n",
       "      <td>3275.595</td>\n",
       "      <td>0.097</td>\n",
       "      <td>-643.199</td>\n",
       "      <td>0.0</td>\n",
       "      <td>7470.801667</td>\n",
       "    </tr>\n",
       "    <tr>\n",
       "      <th>8229</th>\n",
       "      <td>698</td>\n",
       "      <td>919.021727</td>\n",
       "      <td>14662.142648</td>\n",
       "      <td>7923.964661</td>\n",
       "      <td>0.098</td>\n",
       "      <td>2213.534</td>\n",
       "      <td>101.380719</td>\n",
       "      <td>-0.260761</td>\n",
       "      <td>-0.113046</td>\n",
       "      <td>-0.142153</td>\n",
       "      <td>0.000495</td>\n",
       "      <td>3.157559</td>\n",
       "      <td>1.187189</td>\n",
       "      <td>-643.199</td>\n",
       "      <td>3275.595</td>\n",
       "      <td>0.097</td>\n",
       "      <td>-643.199</td>\n",
       "      <td>0.0</td>\n",
       "      <td>7470.801667</td>\n",
       "    </tr>\n",
       "    <tr>\n",
       "      <th>8230</th>\n",
       "      <td>699</td>\n",
       "      <td>916.453492</td>\n",
       "      <td>14623.358858</td>\n",
       "      <td>7902.571529</td>\n",
       "      <td>0.098</td>\n",
       "      <td>2207.57</td>\n",
       "      <td>101.380719</td>\n",
       "      <td>-0.260761</td>\n",
       "      <td>-0.113046</td>\n",
       "      <td>-0.142153</td>\n",
       "      <td>0.000495</td>\n",
       "      <td>3.157559</td>\n",
       "      <td>1.187189</td>\n",
       "      <td>-643.199</td>\n",
       "      <td>3275.595</td>\n",
       "      <td>0.097</td>\n",
       "      <td>-643.199</td>\n",
       "      <td>0.0</td>\n",
       "      <td>7470.801667</td>\n",
       "    </tr>\n",
       "    <tr>\n",
       "      <th>8231</th>\n",
       "      <td>700</td>\n",
       "      <td>920.891296</td>\n",
       "      <td>14732.193081</td>\n",
       "      <td>7950.313112</td>\n",
       "      <td>0.098</td>\n",
       "      <td>2220.831</td>\n",
       "      <td>101.380719</td>\n",
       "      <td>-0.260761</td>\n",
       "      <td>-0.113046</td>\n",
       "      <td>-0.142153</td>\n",
       "      <td>0.000495</td>\n",
       "      <td>3.157559</td>\n",
       "      <td>1.187189</td>\n",
       "      <td>-643.199</td>\n",
       "      <td>3275.595</td>\n",
       "      <td>0.097</td>\n",
       "      <td>-643.199</td>\n",
       "      <td>0.0</td>\n",
       "      <td>7470.801667</td>\n",
       "    </tr>\n",
       "  </tbody>\n",
       "</table>\n",
       "<p>97113 rows × 19 columns</p>\n",
       "</div>"
      ],
      "text/plain": [
       "      Cyc#    Volts_auc         T_auc     Amps_auc      R     mAH_x  \\\n",
       "0        1  1247.271499  20521.926105  8772.658684  0.106  2446.551   \n",
       "1        3  1254.925117   20606.33193  8835.486822  0.104  2466.439   \n",
       "2        4  1249.850574  20574.751712  8789.156166  0.104  2453.767   \n",
       "3        5  1244.258139  20458.558507  8753.246154  0.104  2441.342   \n",
       "4        6   1240.25196  20366.921521  8724.724617  0.104  2433.363   \n",
       "...    ...          ...           ...          ...    ...       ...   \n",
       "8227   696   920.129923  14685.105021  7935.049503  0.098  2216.504   \n",
       "8228   697   920.150716  14693.295074  7936.014783  0.098   2216.87   \n",
       "8229   698   919.021727  14662.142648  7923.964661  0.098  2213.534   \n",
       "8230   699   916.453492  14623.358858  7902.571529  0.098   2207.57   \n",
       "8231   700   920.891296  14732.193081  7950.313112  0.098  2220.831   \n",
       "\n",
       "     intercept_cyc2-100 slope_cyc2-100 mean_dQV100-10 min_dQV100-10  \\\n",
       "0             99.464122      -0.099856      -0.053402     -0.107749   \n",
       "1             99.464122      -0.099856      -0.053402     -0.107749   \n",
       "2             99.464122      -0.099856      -0.053402     -0.107749   \n",
       "3             99.464122      -0.099856      -0.053402     -0.107749   \n",
       "4             99.464122      -0.099856      -0.053402     -0.107749   \n",
       "...                 ...            ...            ...           ...   \n",
       "8227         101.380719      -0.260761      -0.113046     -0.142153   \n",
       "8228         101.380719      -0.260761      -0.113046     -0.142153   \n",
       "8229         101.380719      -0.260761      -0.113046     -0.142153   \n",
       "8230         101.380719      -0.260761      -0.113046     -0.142153   \n",
       "8231         101.380719      -0.260761      -0.113046     -0.142153   \n",
       "\n",
       "     var_dQV100-10 kurtosis_dQV100-10 skewness_dQV100-10  QV100_3     mAH_y  \\\n",
       "0         0.000135           9.631123          -1.436932 -231.642  2466.439   \n",
       "1         0.000135           9.631123          -1.436932 -231.642  2466.439   \n",
       "2         0.000135           9.631123          -1.436932 -231.642  2466.439   \n",
       "3         0.000135           9.631123          -1.436932 -231.642  2466.439   \n",
       "4         0.000135           9.631123          -1.436932 -231.642  2466.439   \n",
       "...            ...                ...                ...      ...       ...   \n",
       "8227      0.000495           3.157559           1.187189 -643.199  3275.595   \n",
       "8228      0.000495           3.157559           1.187189 -643.199  3275.595   \n",
       "8229      0.000495           3.157559           1.187189 -643.199  3275.595   \n",
       "8230      0.000495           3.157559           1.187189 -643.199  3275.595   \n",
       "8231      0.000495           3.157559           1.187189 -643.199  3275.595   \n",
       "\n",
       "      Rcyc3 mAH_100-3 R_100-3        T_AUC  \n",
       "0     0.104  -231.642   0.002  8053.435833  \n",
       "1     0.104  -231.642   0.002  8053.435833  \n",
       "2     0.104  -231.642   0.002  8053.435833  \n",
       "3     0.104  -231.642   0.002  8053.435833  \n",
       "4     0.104  -231.642   0.002  8053.435833  \n",
       "...     ...       ...     ...          ...  \n",
       "8227  0.097  -643.199     0.0  7470.801667  \n",
       "8228  0.097  -643.199     0.0  7470.801667  \n",
       "8229  0.097  -643.199     0.0  7470.801667  \n",
       "8230  0.097  -643.199     0.0  7470.801667  \n",
       "8231  0.097  -643.199     0.0  7470.801667  \n",
       "\n",
       "[97113 rows x 19 columns]"
      ]
     },
     "execution_count": 102,
     "metadata": {},
     "output_type": "execute_result"
    }
   ],
   "source": [
    "final_df['train']"
   ]
  },
  {
   "cell_type": "code",
   "execution_count": 4,
   "id": "c54351dc",
   "metadata": {},
   "outputs": [],
   "source": [
    "# divide files up equally into lists based on cpus\n",
    "# need to divide because xlsx files process slower than csvs\n",
    "all_files = {}\n",
    "cpus_to_use = mp.cpu_count() - 1\n",
    "for file_type in ['train', 'test']:\n",
    "    p28 = list(divide_chunks(p28_files[file_type], num_chunks=cpus_to_use))\n",
    "    p42 = list(divide_chunks(p42_files[file_type], num_chunks=cpus_to_use))\n",
    "    all_files[file_type] = [p28[x] + p42[x] for x in range(0, cpus_to_use)]"
   ]
  },
  {
   "cell_type": "code",
   "execution_count": 5,
   "id": "f6cfb1c8",
   "metadata": {
    "scrolled": true
   },
   "outputs": [
    {
     "name": "stdout",
     "output_type": "stream",
     "text": [
      "Iterating over samples for base feature generation...\n",
      "Iterating over samples for base feature generation...\n",
      "Iterating over samples for base feature generation...\n",
      "Iterating over samples for base feature generation...\n",
      "Iterating over samples for base feature generation..."
     ]
    },
    {
     "name": "stderr",
     "output_type": "stream",
     "text": [
      "  0%|                                                    | 0/13 [00:00<?, ?it/s]"
     ]
    },
    {
     "name": "stdout",
     "output_type": "stream",
     "text": [
      "\n"
     ]
    },
    {
     "name": "stderr",
     "output_type": "stream",
     "text": [
      "\r",
      "  0%|                                                    | 0/13 [00:00<?, ?it/s]"
     ]
    },
    {
     "name": "stdout",
     "output_type": "stream",
     "text": [
      "Iterating over samples for base feature generation...\n"
     ]
    },
    {
     "name": "stderr",
     "output_type": "stream",
     "text": [
      "\r",
      "  0%|                                                    | 0/13 [00:00<?, ?it/s]"
     ]
    },
    {
     "name": "stdout",
     "output_type": "stream",
     "text": [
      "Iterating over samples for base feature generation...\n"
     ]
    },
    {
     "name": "stderr",
     "output_type": "stream",
     "text": [
      "\r",
      "  0%|                                                    | 0/13 [00:00<?, ?it/s]"
     ]
    },
    {
     "name": "stdout",
     "output_type": "stream",
     "text": [
      "Iterating over samples for base feature generation...Iterating over samples for base feature generation...\n"
     ]
    },
    {
     "name": "stderr",
     "output_type": "stream",
     "text": [
      "\r",
      "  0%|                                                    | 0/13 [00:00<?, ?it/s]"
     ]
    },
    {
     "name": "stdout",
     "output_type": "stream",
     "text": [
      "Iterating over samples for base feature generation...Iterating over samples for base feature generation...\n",
      "\n",
      "\n"
     ]
    },
    {
     "name": "stderr",
     "output_type": "stream",
     "text": [
      "100%|███████████████████████████████████████████| 12/12 [01:26<00:00,  7.20s/it]\n"
     ]
    },
    {
     "name": "stdout",
     "output_type": "stream",
     "text": [
      "Iterating over samples for envelope-based feature generation...\n"
     ]
    },
    {
     "name": "stderr",
     "output_type": "stream",
     "text": [
      "100%|███████████████████████████████████████████| 13/13 [02:05<00:00,  9.68s/it]\n",
      " 92%|███████████████████████████████████████▋   | 12/13 [02:06<00:02,  2.33s/it]"
     ]
    },
    {
     "name": "stdout",
     "output_type": "stream",
     "text": [
      "Iterating over samples for envelope-based feature generation...\n"
     ]
    },
    {
     "name": "stderr",
     "output_type": "stream",
     "text": [
      "100%|███████████████████████████████████████████| 13/13 [02:07<00:00,  9.80s/it]\n",
      " 92%|███████████████████████████████████████▋   | 12/13 [02:07<00:02,  2.27s/it]"
     ]
    },
    {
     "name": "stdout",
     "output_type": "stream",
     "text": [
      "Iterating over samples for envelope-based feature generation...\n"
     ]
    },
    {
     "name": "stderr",
     "output_type": "stream",
     "text": [
      "100%|███████████████████████████████████████████| 13/13 [02:08<00:00,  9.89s/it]\n",
      " 92%|███████████████████████████████████████▋   | 12/13 [02:08<00:02,  2.12s/it]"
     ]
    },
    {
     "name": "stdout",
     "output_type": "stream",
     "text": [
      "Iterating over samples for envelope-based feature generation...\n"
     ]
    },
    {
     "name": "stderr",
     "output_type": "stream",
     "text": [
      "100%|███████████████████████████████████████████| 13/13 [02:09<00:00,  9.97s/it]\n",
      "  8%|███▍                                        | 1/13 [00:02<00:24,  2.06s/it]"
     ]
    },
    {
     "name": "stdout",
     "output_type": "stream",
     "text": [
      "Iterating over samples for envelope-based feature generation...\n"
     ]
    },
    {
     "name": "stderr",
     "output_type": "stream",
     "text": [
      "100%|███████████████████████████████████████████| 13/13 [02:10<00:00, 10.02s/it]\n",
      " 15%|██████▊                                     | 2/13 [00:04<00:22,  2.05s/it]"
     ]
    },
    {
     "name": "stdout",
     "output_type": "stream",
     "text": [
      "Iterating over samples for envelope-based feature generation...\n"
     ]
    },
    {
     "name": "stderr",
     "output_type": "stream",
     "text": [
      "100%|███████████████████████████████████████████| 13/13 [02:10<00:00, 10.07s/it]\n",
      "100%|███████████████████████████████████████████| 13/13 [02:10<00:00, 10.07s/it]\n"
     ]
    },
    {
     "name": "stdout",
     "output_type": "stream",
     "text": [
      "Iterating over samples for envelope-based feature generation...\n"
     ]
    },
    {
     "name": "stderr",
     "output_type": "stream",
     "text": [
      "\r",
      "  0%|                                                    | 0/13 [00:00<?, ?it/s]"
     ]
    },
    {
     "name": "stdout",
     "output_type": "stream",
     "text": [
      "Iterating over samples for envelope-based feature generation...\n"
     ]
    },
    {
     "name": "stderr",
     "output_type": "stream",
     "text": [
      "100%|███████████████████████████████████████████| 12/12 [00:59<00:00,  4.98s/it]\n",
      " 85%|████████████████████████████████████▍      | 11/13 [00:20<00:03,  1.86s/it]"
     ]
    },
    {
     "name": "stdout",
     "output_type": "stream",
     "text": [
      "Iterating over samples for cycle slope and intercept calculation feature generation...\n"
     ]
    },
    {
     "name": "stderr",
     "output_type": "stream",
     "text": [
      "100%|██████████████████████████████████████████| 12/12 [00:00<00:00, 150.19it/s]\n"
     ]
    },
    {
     "name": "stdout",
     "output_type": "stream",
     "text": [
      "Iterating over samples for dQV difference calculation feature generation...\n"
     ]
    },
    {
     "name": "stderr",
     "output_type": "stream",
     "text": [
      "100%|███████████████████████████████████████████| 12/12 [00:01<00:00, 10.70it/s]\n"
     ]
    },
    {
     "name": "stdout",
     "output_type": "stream",
     "text": [
      "Iterating over samples for capacity change feature generation...\n"
     ]
    },
    {
     "name": "stderr",
     "output_type": "stream",
     "text": [
      "100%|██████████████████████████████████████████| 12/12 [00:00<00:00, 142.22it/s]\n",
      "100%|███████████████████████████████████████████| 13/13 [00:24<00:00,  1.85s/it]\n",
      " 92%|███████████████████████████████████████▋   | 12/13 [00:22<00:01,  1.88s/it]"
     ]
    },
    {
     "name": "stdout",
     "output_type": "stream",
     "text": [
      "Iterating over samples for cycle slope and intercept calculation feature generation...\n"
     ]
    },
    {
     "name": "stderr",
     "output_type": "stream",
     "text": [
      "100%|██████████████████████████████████████████| 13/13 [00:00<00:00, 189.85it/s]\n"
     ]
    },
    {
     "name": "stdout",
     "output_type": "stream",
     "text": [
      "Iterating over samples for dQV difference calculation feature generation...\n"
     ]
    },
    {
     "name": "stderr",
     "output_type": "stream",
     "text": [
      "100%|███████████████████████████████████████████| 13/13 [00:01<00:00, 12.18it/s]\n"
     ]
    },
    {
     "name": "stdout",
     "output_type": "stream",
     "text": [
      "Iterating over samples for capacity change feature generation...\n"
     ]
    },
    {
     "name": "stderr",
     "output_type": "stream",
     "text": [
      "100%|██████████████████████████████████████████| 13/13 [00:00<00:00, 169.52it/s]\n",
      "100%|███████████████████████████████████████████| 13/13 [00:24<00:00,  1.90s/it]\n"
     ]
    },
    {
     "name": "stdout",
     "output_type": "stream",
     "text": [
      "Iterating over samples for cycle slope and intercept calculation feature generation...\n"
     ]
    },
    {
     "name": "stderr",
     "output_type": "stream",
     "text": [
      "100%|██████████████████████████████████████████| 13/13 [00:00<00:00, 175.87it/s]\n"
     ]
    },
    {
     "name": "stdout",
     "output_type": "stream",
     "text": [
      "Iterating over samples for dQV difference calculation feature generation...\n"
     ]
    },
    {
     "name": "stderr",
     "output_type": "stream",
     "text": [
      "100%|███████████████████████████████████████████| 13/13 [00:24<00:00,  1.87s/it]\n",
      " 31%|█████████████▌                              | 4/13 [02:33<04:38, 30.94s/it]"
     ]
    },
    {
     "name": "stdout",
     "output_type": "stream",
     "text": [
      "Iterating over samples for cycle slope and intercept calculation feature generation...\n"
     ]
    },
    {
     "name": "stderr",
     "output_type": "stream",
     "text": [
      "100%|██████████████████████████████████████████| 13/13 [00:00<00:00, 174.21it/s]\n",
      " 62%|███████████████████████████                 | 8/13 [00:00<00:00, 12.70it/s]"
     ]
    },
    {
     "name": "stdout",
     "output_type": "stream",
     "text": [
      "Iterating over samples for dQV difference calculation feature generation...\n"
     ]
    },
    {
     "name": "stderr",
     "output_type": "stream",
     "text": [
      "100%|███████████████████████████████████████████| 13/13 [00:01<00:00, 12.60it/s]\n"
     ]
    },
    {
     "name": "stdout",
     "output_type": "stream",
     "text": [
      "Iterating over samples for capacity change feature generation...\n"
     ]
    },
    {
     "name": "stderr",
     "output_type": "stream",
     "text": [
      "100%|██████████████████████████████████████████| 13/13 [00:00<00:00, 221.30it/s]\n",
      "100%|███████████████████████████████████████████| 13/13 [00:00<00:00, 13.31it/s]\n"
     ]
    },
    {
     "name": "stdout",
     "output_type": "stream",
     "text": [
      "Iterating over samples for capacity change feature generation...\n"
     ]
    },
    {
     "name": "stderr",
     "output_type": "stream",
     "text": [
      "100%|███████████████████████████████████████████| 13/13 [00:24<00:00,  1.89s/it]\n",
      "100%|██████████████████████████████████████████| 13/13 [00:00<00:00, 213.63it/s]\n"
     ]
    },
    {
     "name": "stdout",
     "output_type": "stream",
     "text": [
      "Iterating over samples for cycle slope and intercept calculation feature generation...\n"
     ]
    },
    {
     "name": "stderr",
     "output_type": "stream",
     "text": [
      "100%|███████████████████████████████████████████| 13/13 [00:24<00:00,  1.84s/it]\n",
      "100%|███████████████████████████████████████████| 13/13 [00:24<00:00,  1.87s/it]\n",
      " 38%|████████████████▉                           | 5/13 [02:34<02:42, 20.33s/it]"
     ]
    },
    {
     "name": "stdout",
     "output_type": "stream",
     "text": [
      "Iterating over samples for dQV difference calculation feature generation...\n"
     ]
    },
    {
     "name": "stderr",
     "output_type": "stream",
     "text": [
      "\r",
      "  0%|                                                    | 0/13 [00:00<?, ?it/s]"
     ]
    },
    {
     "name": "stdout",
     "output_type": "stream",
     "text": [
      "Iterating over samples for cycle slope and intercept calculation feature generation...\n"
     ]
    },
    {
     "name": "stderr",
     "output_type": "stream",
     "text": [
      "100%|██████████████████████████████████████████| 13/13 [00:00<00:00, 181.40it/s]\n",
      " 15%|██████▊                                     | 2/13 [00:00<00:00, 13.58it/s]"
     ]
    },
    {
     "name": "stdout",
     "output_type": "stream",
     "text": [
      "Iterating over samples for dQV difference calculation feature generation...\n"
     ]
    },
    {
     "name": "stderr",
     "output_type": "stream",
     "text": [
      "100%|███████████████████████████████████████████| 13/13 [00:24<00:00,  1.88s/it]\n",
      "100%|███████████████████████████████████████████| 13/13 [00:24<00:00,  1.87s/it]\n",
      " 77%|█████████████████████████████████          | 10/13 [00:00<00:00, 13.73it/s]"
     ]
    },
    {
     "name": "stdout",
     "output_type": "stream",
     "text": [
      "Iterating over samples for cycle slope and intercept calculation feature generation...\n"
     ]
    },
    {
     "name": "stderr",
     "output_type": "stream",
     "text": [
      "100%|██████████████████████████████████████████| 13/13 [00:00<00:00, 204.60it/s]\n",
      " 92%|███████████████████████████████████████▋   | 12/13 [00:00<00:00, 14.35it/s]"
     ]
    },
    {
     "name": "stdout",
     "output_type": "stream",
     "text": [
      "Iterating over samples for dQV difference calculation feature generation...\n",
      "Iterating over samples for cycle slope and intercept calculation feature generation...\n"
     ]
    },
    {
     "name": "stderr",
     "output_type": "stream",
     "text": [
      "100%|███████████████████████████████████████████| 13/13 [00:00<00:00, 13.94it/s]\n"
     ]
    },
    {
     "name": "stdout",
     "output_type": "stream",
     "text": [
      "Iterating over samples for capacity change feature generation...\n"
     ]
    },
    {
     "name": "stderr",
     "output_type": "stream",
     "text": [
      "100%|██████████████████████████████████████████| 13/13 [00:00<00:00, 163.33it/s]\n",
      "100%|██████████████████████████████████████████| 13/13 [00:00<00:00, 201.63it/s]\n"
     ]
    },
    {
     "name": "stdout",
     "output_type": "stream",
     "text": [
      "Iterating over samples for dQV difference calculation feature generation...\n"
     ]
    },
    {
     "name": "stderr",
     "output_type": "stream",
     "text": [
      "100%|███████████████████████████████████████████| 13/13 [00:00<00:00, 14.28it/s]\n"
     ]
    },
    {
     "name": "stdout",
     "output_type": "stream",
     "text": [
      "Iterating over samples for capacity change feature generation...\n"
     ]
    },
    {
     "name": "stderr",
     "output_type": "stream",
     "text": [
      "100%|██████████████████████████████████████████| 13/13 [00:00<00:00, 211.63it/s]\n",
      "100%|███████████████████████████████████████████| 13/13 [00:00<00:00, 14.23it/s]\n"
     ]
    },
    {
     "name": "stdout",
     "output_type": "stream",
     "text": [
      "Iterating over samples for capacity change feature generation...\n"
     ]
    },
    {
     "name": "stderr",
     "output_type": "stream",
     "text": [
      "100%|██████████████████████████████████████████| 13/13 [00:00<00:00, 220.05it/s]\n",
      "100%|███████████████████████████████████████████| 13/13 [00:00<00:00, 14.49it/s]\n"
     ]
    },
    {
     "name": "stdout",
     "output_type": "stream",
     "text": [
      "Iterating over samples for capacity change feature generation...\n"
     ]
    },
    {
     "name": "stderr",
     "output_type": "stream",
     "text": [
      "100%|██████████████████████████████████████████| 13/13 [00:00<00:00, 250.09it/s]\n",
      "100%|███████████████████████████████████████████| 13/13 [02:41<00:00, 12.44s/it]\n"
     ]
    },
    {
     "name": "stdout",
     "output_type": "stream",
     "text": [
      "Iterating over samples for envelope-based feature generation...\n"
     ]
    },
    {
     "name": "stderr",
     "output_type": "stream",
     "text": [
      "100%|███████████████████████████████████████████| 13/13 [02:42<00:00, 12.50s/it]\n",
      "100%|███████████████████████████████████████████| 13/13 [02:42<00:00, 12.52s/it]\n"
     ]
    },
    {
     "name": "stdout",
     "output_type": "stream",
     "text": [
      "Iterating over samples for envelope-based feature generation...\n"
     ]
    },
    {
     "name": "stderr",
     "output_type": "stream",
     "text": [
      "\r",
      "  0%|                                                    | 0/13 [00:00<?, ?it/s]"
     ]
    },
    {
     "name": "stdout",
     "output_type": "stream",
     "text": [
      "Iterating over samples for envelope-based feature generation...\n"
     ]
    },
    {
     "name": "stderr",
     "output_type": "stream",
     "text": [
      "100%|███████████████████████████████████████████| 13/13 [00:12<00:00,  1.02it/s]\n"
     ]
    },
    {
     "name": "stdout",
     "output_type": "stream",
     "text": [
      "Iterating over samples for cycle slope and intercept calculation feature generation...\n"
     ]
    },
    {
     "name": "stderr",
     "output_type": "stream",
     "text": [
      "100%|██████████████████████████████████████████| 13/13 [00:00<00:00, 332.20it/s]\n"
     ]
    },
    {
     "name": "stdout",
     "output_type": "stream",
     "text": [
      "Iterating over samples for dQV difference calculation feature generation...\n"
     ]
    },
    {
     "name": "stderr",
     "output_type": "stream",
     "text": [
      "100%|███████████████████████████████████████████| 13/13 [00:00<00:00, 23.25it/s]\n"
     ]
    },
    {
     "name": "stdout",
     "output_type": "stream",
     "text": [
      "Iterating over samples for capacity change feature generation...\n"
     ]
    },
    {
     "name": "stderr",
     "output_type": "stream",
     "text": [
      "100%|██████████████████████████████████████████| 13/13 [00:00<00:00, 348.65it/s]\n",
      "100%|███████████████████████████████████████████| 13/13 [00:12<00:00,  1.03it/s]\n"
     ]
    },
    {
     "name": "stdout",
     "output_type": "stream",
     "text": [
      "Iterating over samples for cycle slope and intercept calculation feature generation...\n"
     ]
    },
    {
     "name": "stderr",
     "output_type": "stream",
     "text": [
      "100%|██████████████████████████████████████████| 13/13 [00:00<00:00, 349.53it/s]\n"
     ]
    },
    {
     "name": "stdout",
     "output_type": "stream",
     "text": [
      "Iterating over samples for dQV difference calculation feature generation...\n"
     ]
    },
    {
     "name": "stderr",
     "output_type": "stream",
     "text": [
      "100%|███████████████████████████████████████████| 13/13 [00:00<00:00, 23.74it/s]\n"
     ]
    },
    {
     "name": "stdout",
     "output_type": "stream",
     "text": [
      "Iterating over samples for capacity change feature generation...\n"
     ]
    },
    {
     "name": "stderr",
     "output_type": "stream",
     "text": [
      "100%|██████████████████████████████████████████| 13/13 [00:00<00:00, 314.40it/s]\n",
      "100%|███████████████████████████████████████████| 13/13 [00:29<00:00,  2.27s/it]\n"
     ]
    },
    {
     "name": "stdout",
     "output_type": "stream",
     "text": [
      "Iterating over samples for cycle slope and intercept calculation feature generation...\n"
     ]
    },
    {
     "name": "stderr",
     "output_type": "stream",
     "text": [
      "100%|██████████████████████████████████████████| 13/13 [00:00<00:00, 246.74it/s]\n"
     ]
    },
    {
     "name": "stdout",
     "output_type": "stream",
     "text": [
      "Iterating over samples for dQV difference calculation feature generation...\n"
     ]
    },
    {
     "name": "stderr",
     "output_type": "stream",
     "text": [
      "100%|███████████████████████████████████████████| 13/13 [00:00<00:00, 18.93it/s]\n"
     ]
    },
    {
     "name": "stdout",
     "output_type": "stream",
     "text": [
      "Iterating over samples for capacity change feature generation...\n"
     ]
    },
    {
     "name": "stderr",
     "output_type": "stream",
     "text": [
      "100%|██████████████████████████████████████████| 13/13 [00:00<00:00, 270.16it/s]\n"
     ]
    },
    {
     "name": "stdout",
     "output_type": "stream",
     "text": [
      "Iterating over samples for base feature generation...\n"
     ]
    },
    {
     "name": "stderr",
     "output_type": "stream",
     "text": [
      "\r",
      "  0%|                                                    | 0/13 [00:00<?, ?it/s]"
     ]
    },
    {
     "name": "stdout",
     "output_type": "stream",
     "text": [
      "Iterating over samples for base feature generation...\n"
     ]
    },
    {
     "name": "stderr",
     "output_type": "stream",
     "text": [
      "\r",
      "  0%|                                                    | 0/13 [00:00<?, ?it/s]"
     ]
    },
    {
     "name": "stdout",
     "output_type": "stream",
     "text": [
      "Iterating over samples for base feature generation...\n"
     ]
    },
    {
     "name": "stderr",
     "output_type": "stream",
     "text": [
      "\r",
      "  0%|                                                    | 0/13 [00:00<?, ?it/s]"
     ]
    },
    {
     "name": "stdout",
     "output_type": "stream",
     "text": [
      "Iterating over samples for base feature generation...\n"
     ]
    },
    {
     "name": "stderr",
     "output_type": "stream",
     "text": [
      "\r",
      "  0%|                                                    | 0/13 [00:00<?, ?it/s]"
     ]
    },
    {
     "name": "stdout",
     "output_type": "stream",
     "text": [
      "Iterating over samples for base feature generation...\n"
     ]
    },
    {
     "name": "stderr",
     "output_type": "stream",
     "text": [
      "\r",
      "  0%|                                                    | 0/13 [00:00<?, ?it/s]"
     ]
    },
    {
     "name": "stdout",
     "output_type": "stream",
     "text": [
      "Iterating over samples for base feature generation...\n"
     ]
    },
    {
     "name": "stderr",
     "output_type": "stream",
     "text": [
      "\r",
      "  0%|                                                    | 0/13 [00:00<?, ?it/s]"
     ]
    },
    {
     "name": "stdout",
     "output_type": "stream",
     "text": [
      "Iterating over samples for base feature generation...\n"
     ]
    },
    {
     "name": "stderr",
     "output_type": "stream",
     "text": [
      "\r",
      "  0%|                                                    | 0/13 [00:00<?, ?it/s]"
     ]
    },
    {
     "name": "stdout",
     "output_type": "stream",
     "text": [
      "Iterating over samples for base feature generation...\n"
     ]
    },
    {
     "name": "stderr",
     "output_type": "stream",
     "text": [
      "\r",
      "  0%|                                                    | 0/13 [00:00<?, ?it/s]"
     ]
    },
    {
     "name": "stdout",
     "output_type": "stream",
     "text": [
      "Iterating over samples for base feature generation...\n"
     ]
    },
    {
     "name": "stderr",
     "output_type": "stream",
     "text": [
      "\r",
      "  0%|                                                    | 0/13 [00:00<?, ?it/s]"
     ]
    },
    {
     "name": "stdout",
     "output_type": "stream",
     "text": [
      "Iterating over samples for base feature generation...\n",
      "Iterating over samples for base feature generation..."
     ]
    },
    {
     "name": "stderr",
     "output_type": "stream",
     "text": [
      "\r",
      "  0%|                                                    | 0/13 [00:00<?, ?it/s]"
     ]
    },
    {
     "name": "stdout",
     "output_type": "stream",
     "text": [
      "\n"
     ]
    },
    {
     "name": "stderr",
     "output_type": "stream",
     "text": [
      "100%|███████████████████████████████████████████| 12/12 [01:25<00:00,  7.12s/it]\n"
     ]
    },
    {
     "name": "stdout",
     "output_type": "stream",
     "text": [
      "Iterating over samples for envelope-based feature generation...\n"
     ]
    },
    {
     "name": "stderr",
     "output_type": "stream",
     "text": [
      "100%|███████████████████████████████████████████| 13/13 [02:05<00:00,  9.65s/it]\n",
      " 85%|████████████████████████████████████▍      | 11/13 [02:05<00:05,  2.93s/it]"
     ]
    },
    {
     "name": "stdout",
     "output_type": "stream",
     "text": [
      "Iterating over samples for envelope-based feature generation...\n"
     ]
    },
    {
     "name": "stderr",
     "output_type": "stream",
     "text": [
      "100%|███████████████████████████████████████████| 13/13 [02:06<00:00,  9.75s/it]\n",
      " 85%|████████████████████████████████████▍      | 11/13 [02:06<00:05,  2.74s/it]"
     ]
    },
    {
     "name": "stdout",
     "output_type": "stream",
     "text": [
      "Iterating over samples for envelope-based feature generation...\n"
     ]
    },
    {
     "name": "stderr",
     "output_type": "stream",
     "text": [
      "100%|███████████████████████████████████████████| 13/13 [02:07<00:00,  9.80s/it]\n",
      " 92%|███████████████████████████████████████▋   | 12/13 [02:07<00:02,  2.15s/it]"
     ]
    },
    {
     "name": "stdout",
     "output_type": "stream",
     "text": [
      "Iterating over samples for envelope-based feature generation...\n"
     ]
    },
    {
     "name": "stderr",
     "output_type": "stream",
     "text": [
      "100%|███████████████████████████████████████████| 13/13 [02:08<00:00,  9.89s/it]\n",
      " 92%|███████████████████████████████████████▋   | 12/13 [02:08<00:02,  2.54s/it]"
     ]
    },
    {
     "name": "stdout",
     "output_type": "stream",
     "text": [
      "Iterating over samples for envelope-based feature generation...\n"
     ]
    },
    {
     "name": "stderr",
     "output_type": "stream",
     "text": [
      "100%|███████████████████████████████████████████| 13/13 [02:09<00:00,  9.98s/it]\n",
      "100%|███████████████████████████████████████████| 13/13 [02:09<00:00,  9.99s/it]\n",
      "100%|███████████████████████████████████████████| 13/13 [02:09<00:00,  9.98s/it]\n"
     ]
    },
    {
     "name": "stdout",
     "output_type": "stream",
     "text": [
      "Iterating over samples for envelope-based feature generation...\n"
     ]
    },
    {
     "name": "stderr",
     "output_type": "stream",
     "text": [
      "  0%|                                                    | 0/13 [00:00<?, ?it/s]"
     ]
    },
    {
     "name": "stdout",
     "output_type": "stream",
     "text": [
      "Iterating over samples for envelope-based feature generation...\n",
      "Iterating over samples for envelope-based feature generation...\n"
     ]
    },
    {
     "name": "stderr",
     "output_type": "stream",
     "text": [
      "100%|███████████████████████████████████████████| 12/12 [01:00<00:00,  5.04s/it]\n"
     ]
    },
    {
     "name": "stdout",
     "output_type": "stream",
     "text": [
      "Iterating over samples for cycle slope and intercept calculation feature generation...\n"
     ]
    },
    {
     "name": "stderr",
     "output_type": "stream",
     "text": [
      "100%|██████████████████████████████████████████| 12/12 [00:00<00:00, 155.66it/s]\n"
     ]
    },
    {
     "name": "stdout",
     "output_type": "stream",
     "text": [
      "Iterating over samples for dQV difference calculation feature generation...\n"
     ]
    },
    {
     "name": "stderr",
     "output_type": "stream",
     "text": [
      "100%|███████████████████████████████████████████| 12/12 [00:01<00:00, 10.76it/s]\n"
     ]
    },
    {
     "name": "stdout",
     "output_type": "stream",
     "text": [
      "Iterating over samples for capacity change feature generation...\n"
     ]
    },
    {
     "name": "stderr",
     "output_type": "stream",
     "text": [
      "100%|██████████████████████████████████████████| 12/12 [00:00<00:00, 144.42it/s]\n",
      "100%|███████████████████████████████████████████| 13/13 [00:24<00:00,  1.89s/it]\n",
      " 92%|███████████████████████████████████████▋   | 12/13 [00:23<00:01,  1.96s/it]"
     ]
    },
    {
     "name": "stdout",
     "output_type": "stream",
     "text": [
      "Iterating over samples for cycle slope and intercept calculation feature generation...\n"
     ]
    },
    {
     "name": "stderr",
     "output_type": "stream",
     "text": [
      "100%|██████████████████████████████████████████| 13/13 [00:00<00:00, 162.07it/s]\n",
      " 92%|███████████████████████████████████████▋   | 12/13 [00:23<00:01,  1.93s/it]"
     ]
    },
    {
     "name": "stdout",
     "output_type": "stream",
     "text": [
      "Iterating over samples for dQV difference calculation feature generation...\n"
     ]
    },
    {
     "name": "stderr",
     "output_type": "stream",
     "text": [
      "100%|███████████████████████████████████████████| 13/13 [00:01<00:00, 11.53it/s]\n"
     ]
    },
    {
     "name": "stdout",
     "output_type": "stream",
     "text": [
      "Iterating over samples for capacity change feature generation...\n"
     ]
    },
    {
     "name": "stderr",
     "output_type": "stream",
     "text": [
      "100%|██████████████████████████████████████████| 13/13 [00:00<00:00, 172.57it/s]\n",
      "100%|███████████████████████████████████████████| 13/13 [00:25<00:00,  1.96s/it]\n"
     ]
    },
    {
     "name": "stdout",
     "output_type": "stream",
     "text": [
      "Iterating over samples for cycle slope and intercept calculation feature generation...\n"
     ]
    },
    {
     "name": "stderr",
     "output_type": "stream",
     "text": [
      "100%|███████████████████████████████████████████| 13/13 [00:25<00:00,  1.93s/it]\n",
      "100%|██████████████████████████████████████████| 13/13 [00:00<00:00, 159.87it/s]\n"
     ]
    },
    {
     "name": "stdout",
     "output_type": "stream",
     "text": [
      "Iterating over samples for dQV difference calculation feature generation...\n"
     ]
    },
    {
     "name": "stderr",
     "output_type": "stream",
     "text": [
      "\r",
      "  0%|                                                    | 0/13 [00:00<?, ?it/s]"
     ]
    },
    {
     "name": "stdout",
     "output_type": "stream",
     "text": [
      "Iterating over samples for cycle slope and intercept calculation feature generation...\n"
     ]
    },
    {
     "name": "stderr",
     "output_type": "stream",
     "text": [
      "100%|██████████████████████████████████████████| 13/13 [00:00<00:00, 183.75it/s]\n",
      " 15%|██████▊                                     | 2/13 [00:00<00:00, 11.92it/s]"
     ]
    },
    {
     "name": "stdout",
     "output_type": "stream",
     "text": [
      "Iterating over samples for dQV difference calculation feature generation...\n"
     ]
    },
    {
     "name": "stderr",
     "output_type": "stream",
     "text": [
      "100%|███████████████████████████████████████████| 13/13 [00:01<00:00, 12.43it/s]\n"
     ]
    },
    {
     "name": "stdout",
     "output_type": "stream",
     "text": [
      "Iterating over samples for capacity change feature generation...\n"
     ]
    },
    {
     "name": "stderr",
     "output_type": "stream",
     "text": [
      "100%|██████████████████████████████████████████| 13/13 [00:00<00:00, 182.33it/s]\n",
      "100%|███████████████████████████████████████████| 13/13 [00:25<00:00,  1.94s/it]\n",
      "100%|███████████████████████████████████████████| 13/13 [00:01<00:00, 12.66it/s]\n"
     ]
    },
    {
     "name": "stdout",
     "output_type": "stream",
     "text": [
      "Iterating over samples for capacity change feature generation...\n"
     ]
    },
    {
     "name": "stderr",
     "output_type": "stream",
     "text": [
      "\r",
      "  0%|                                                    | 0/13 [00:00<?, ?it/s]"
     ]
    },
    {
     "name": "stdout",
     "output_type": "stream",
     "text": [
      "Iterating over samples for cycle slope and intercept calculation feature generation...\n"
     ]
    },
    {
     "name": "stderr",
     "output_type": "stream",
     "text": [
      "100%|██████████████████████████████████████████| 13/13 [00:00<00:00, 175.35it/s]\n",
      "100%|██████████████████████████████████████████| 13/13 [00:00<00:00, 173.45it/s]\n",
      " 38%|████████████████▉                           | 5/13 [02:34<02:42, 20.36s/it]"
     ]
    },
    {
     "name": "stdout",
     "output_type": "stream",
     "text": [
      "Iterating over samples for dQV difference calculation feature generation...\n"
     ]
    },
    {
     "name": "stderr",
     "output_type": "stream",
     "text": [
      "100%|███████████████████████████████████████████| 13/13 [00:25<00:00,  1.93s/it]\n",
      "100%|███████████████████████████████████████████| 13/13 [00:24<00:00,  1.92s/it]\n",
      "100%|███████████████████████████████████████████| 13/13 [00:25<00:00,  1.93s/it]\n"
     ]
    },
    {
     "name": "stdout",
     "output_type": "stream",
     "text": [
      "Iterating over samples for cycle slope and intercept calculation feature generation...\n"
     ]
    },
    {
     "name": "stderr",
     "output_type": "stream",
     "text": [
      " 77%|█████████████████████████████████          | 10/13 [00:00<00:00, 13.91it/s]"
     ]
    },
    {
     "name": "stdout",
     "output_type": "stream",
     "text": [
      "Iterating over samples for cycle slope and intercept calculation feature generation...\n"
     ]
    },
    {
     "name": "stderr",
     "output_type": "stream",
     "text": [
      "100%|██████████████████████████████████████████| 13/13 [00:00<00:00, 196.35it/s]\n"
     ]
    },
    {
     "name": "stdout",
     "output_type": "stream",
     "text": [
      "Iterating over samples for cycle slope and intercept calculation feature generation...\n"
     ]
    },
    {
     "name": "stderr",
     "output_type": "stream",
     "text": [
      "\r",
      "  0%|                                                    | 0/13 [00:00<?, ?it/s]"
     ]
    },
    {
     "name": "stdout",
     "output_type": "stream",
     "text": [
      "Iterating over samples for dQV difference calculation feature generation...\n"
     ]
    },
    {
     "name": "stderr",
     "output_type": "stream",
     "text": [
      "100%|██████████████████████████████████████████| 13/13 [00:00<00:00, 192.69it/s]\n",
      " 92%|███████████████████████████████████████▋   | 12/13 [00:00<00:00, 13.62it/s]\n"
     ]
    },
    {
     "name": "stdout",
     "output_type": "stream",
     "text": [
      "Iterating over samples for dQV difference calculation feature generation...\n",
      "Iterating over samples for dQV difference calculation feature generation...\n"
     ]
    },
    {
     "name": "stderr",
     "output_type": "stream",
     "text": [
      "100%|███████████████████████████████████████████| 13/13 [00:00<00:00, 14.03it/s]\n"
     ]
    },
    {
     "name": "stdout",
     "output_type": "stream",
     "text": [
      "Iterating over samples for capacity change feature generation...\n"
     ]
    },
    {
     "name": "stderr",
     "output_type": "stream",
     "text": [
      "100%|██████████████████████████████████████████| 13/13 [00:00<00:00, 247.00it/s]\n",
      "100%|███████████████████████████████████████████| 13/13 [00:00<00:00, 15.32it/s]\n"
     ]
    },
    {
     "name": "stdout",
     "output_type": "stream",
     "text": [
      "Iterating over samples for capacity change feature generation...\n"
     ]
    },
    {
     "name": "stderr",
     "output_type": "stream",
     "text": [
      "100%|███████████████████████████████████████████| 13/13 [00:00<00:00, 15.19it/s]\n",
      "100%|███████████████████████████████████████████| 13/13 [00:00<00:00, 15.88it/s]\n"
     ]
    },
    {
     "name": "stdout",
     "output_type": "stream",
     "text": [
      "Iterating over samples for capacity change feature generation...\n"
     ]
    },
    {
     "name": "stderr",
     "output_type": "stream",
     "text": [
      "\r",
      "100%|██████████████████████████████████████████| 13/13 [00:00<00:00, 227.33it/s]"
     ]
    },
    {
     "name": "stdout",
     "output_type": "stream",
     "text": [
      "Iterating over samples for capacity change feature generation..."
     ]
    },
    {
     "name": "stderr",
     "output_type": "stream",
     "text": [
      "  0%|                                                    | 0/13 [00:00<?, ?it/s]\n"
     ]
    },
    {
     "name": "stdout",
     "output_type": "stream",
     "text": [
      "\n"
     ]
    },
    {
     "name": "stderr",
     "output_type": "stream",
     "text": [
      "100%|██████████████████████████████████████████| 13/13 [00:00<00:00, 226.83it/s]\n",
      "100%|██████████████████████████████████████████| 13/13 [00:00<00:00, 234.56it/s]\n",
      "100%|███████████████████████████████████████████| 13/13 [02:41<00:00, 12.44s/it]\n"
     ]
    },
    {
     "name": "stdout",
     "output_type": "stream",
     "text": [
      "Iterating over samples for envelope-based feature generation...\n"
     ]
    },
    {
     "name": "stderr",
     "output_type": "stream",
     "text": [
      "100%|███████████████████████████████████████████| 13/13 [02:41<00:00, 12.46s/it]\n",
      "  0%|                                                    | 0/13 [00:00<?, ?it/s]"
     ]
    },
    {
     "name": "stdout",
     "output_type": "stream",
     "text": [
      "Iterating over samples for envelope-based feature generation...\n"
     ]
    },
    {
     "name": "stderr",
     "output_type": "stream",
     "text": [
      "100%|███████████████████████████████████████████| 13/13 [02:42<00:00, 12.50s/it]\n"
     ]
    },
    {
     "name": "stdout",
     "output_type": "stream",
     "text": [
      "Iterating over samples for envelope-based feature generation...\n"
     ]
    },
    {
     "name": "stderr",
     "output_type": "stream",
     "text": [
      "100%|███████████████████████████████████████████| 13/13 [00:12<00:00,  1.02it/s]\n"
     ]
    },
    {
     "name": "stdout",
     "output_type": "stream",
     "text": [
      "Iterating over samples for cycle slope and intercept calculation feature generation...\n"
     ]
    },
    {
     "name": "stderr",
     "output_type": "stream",
     "text": [
      "100%|██████████████████████████████████████████| 13/13 [00:00<00:00, 289.59it/s]\n"
     ]
    },
    {
     "name": "stdout",
     "output_type": "stream",
     "text": [
      "Iterating over samples for dQV difference calculation feature generation...\n"
     ]
    },
    {
     "name": "stderr",
     "output_type": "stream",
     "text": [
      "100%|███████████████████████████████████████████| 13/13 [00:12<00:00,  1.03it/s]\n"
     ]
    },
    {
     "name": "stdout",
     "output_type": "stream",
     "text": [
      "Iterating over samples for cycle slope and intercept calculation feature generation...\n"
     ]
    },
    {
     "name": "stderr",
     "output_type": "stream",
     "text": [
      "100%|██████████████████████████████████████████| 13/13 [00:00<00:00, 293.20it/s]\n",
      "100%|███████████████████████████████████████████| 13/13 [00:00<00:00, 21.14it/s]\n"
     ]
    },
    {
     "name": "stdout",
     "output_type": "stream",
     "text": [
      "Iterating over samples for capacity change feature generation...\n"
     ]
    },
    {
     "name": "stderr",
     "output_type": "stream",
     "text": [
      "\r",
      "  0%|                                                    | 0/13 [00:00<?, ?it/s]"
     ]
    },
    {
     "name": "stdout",
     "output_type": "stream",
     "text": [
      "Iterating over samples for dQV difference calculation feature generation...\n"
     ]
    },
    {
     "name": "stderr",
     "output_type": "stream",
     "text": [
      "100%|██████████████████████████████████████████| 13/13 [00:00<00:00, 309.44it/s]\n",
      "100%|███████████████████████████████████████████| 13/13 [00:00<00:00, 22.40it/s]\n"
     ]
    },
    {
     "name": "stdout",
     "output_type": "stream",
     "text": [
      "Iterating over samples for capacity change feature generation...\n"
     ]
    },
    {
     "name": "stderr",
     "output_type": "stream",
     "text": [
      "100%|██████████████████████████████████████████| 13/13 [00:00<00:00, 340.88it/s]\n",
      "100%|███████████████████████████████████████████| 13/13 [00:29<00:00,  2.28s/it]\n"
     ]
    },
    {
     "name": "stdout",
     "output_type": "stream",
     "text": [
      "Iterating over samples for cycle slope and intercept calculation feature generation...\n"
     ]
    },
    {
     "name": "stderr",
     "output_type": "stream",
     "text": [
      "100%|██████████████████████████████████████████| 13/13 [00:00<00:00, 244.24it/s]\n"
     ]
    },
    {
     "name": "stdout",
     "output_type": "stream",
     "text": [
      "Iterating over samples for dQV difference calculation feature generation...\n"
     ]
    },
    {
     "name": "stderr",
     "output_type": "stream",
     "text": [
      "100%|███████████████████████████████████████████| 13/13 [00:00<00:00, 17.90it/s]\n"
     ]
    },
    {
     "name": "stdout",
     "output_type": "stream",
     "text": [
      "Iterating over samples for capacity change feature generation...\n"
     ]
    },
    {
     "name": "stderr",
     "output_type": "stream",
     "text": [
      "100%|██████████████████████████████████████████| 13/13 [00:00<00:00, 305.68it/s]\n",
      "/usr/local/Cellar/python@3.9/3.9.15/Frameworks/Python.framework/Versions/3.9/lib/python3.9/multiprocessing/resource_tracker.py:216: UserWarning: resource_tracker: There appear to be 1 leaked semaphore objects to clean up at shutdown\n",
      "  warnings.warn('resource_tracker: There appear to be %d '\n",
      "/usr/local/Cellar/python@3.9/3.9.15/Frameworks/Python.framework/Versions/3.9/lib/python3.9/multiprocessing/resource_tracker.py:216: UserWarning: resource_tracker: There appear to be 1 leaked semaphore objects to clean up at shutdown\n",
      "  warnings.warn('resource_tracker: There appear to be %d '\n",
      "/usr/local/Cellar/python@3.9/3.9.15/Frameworks/Python.framework/Versions/3.9/lib/python3.9/multiprocessing/resource_tracker.py:216: UserWarning: resource_tracker: There appear to be 1 leaked semaphore objects to clean up at shutdown\n",
      "  warnings.warn('resource_tracker: There appear to be %d '\n",
      "/usr/local/Cellar/python@3.9/3.9.15/Frameworks/Python.framework/Versions/3.9/lib/python3.9/multiprocessing/resource_tracker.py:216: UserWarning: resource_tracker: There appear to be 1 leaked semaphore objects to clean up at shutdown\n",
      "  warnings.warn('resource_tracker: There appear to be %d '\n",
      "/usr/local/Cellar/python@3.9/3.9.15/Frameworks/Python.framework/Versions/3.9/lib/python3.9/multiprocessing/resource_tracker.py:216: UserWarning: resource_tracker: There appear to be 1 leaked semaphore objects to clean up at shutdown\n",
      "  warnings.warn('resource_tracker: There appear to be %d '\n",
      "/usr/local/Cellar/python@3.9/3.9.15/Frameworks/Python.framework/Versions/3.9/lib/python3.9/multiprocessing/resource_tracker.py:216: UserWarning: resource_tracker: There appear to be 1 leaked semaphore objects to clean up at shutdown\n",
      "  warnings.warn('resource_tracker: There appear to be %d '\n",
      "/usr/local/Cellar/python@3.9/3.9.15/Frameworks/Python.framework/Versions/3.9/lib/python3.9/multiprocessing/resource_tracker.py:216: UserWarning: resource_tracker: There appear to be 1 leaked semaphore objects to clean up at shutdown\n",
      "  warnings.warn('resource_tracker: There appear to be %d '\n",
      "/usr/local/Cellar/python@3.9/3.9.15/Frameworks/Python.framework/Versions/3.9/lib/python3.9/multiprocessing/resource_tracker.py:216: UserWarning: resource_tracker: There appear to be 1 leaked semaphore objects to clean up at shutdown\n",
      "  warnings.warn('resource_tracker: There appear to be %d '\n",
      "/usr/local/Cellar/python@3.9/3.9.15/Frameworks/Python.framework/Versions/3.9/lib/python3.9/multiprocessing/resource_tracker.py:216: UserWarning: resource_tracker: There appear to be 1 leaked semaphore objects to clean up at shutdown\n",
      "  warnings.warn('resource_tracker: There appear to be %d '\n",
      "/usr/local/Cellar/python@3.9/3.9.15/Frameworks/Python.framework/Versions/3.9/lib/python3.9/multiprocessing/resource_tracker.py:216: UserWarning: resource_tracker: There appear to be 1 leaked semaphore objects to clean up at shutdown\n",
      "  warnings.warn('resource_tracker: There appear to be %d '\n",
      "/usr/local/Cellar/python@3.9/3.9.15/Frameworks/Python.framework/Versions/3.9/lib/python3.9/multiprocessing/resource_tracker.py:216: UserWarning: resource_tracker: There appear to be 1 leaked semaphore objects to clean up at shutdown\n",
      "  warnings.warn('resource_tracker: There appear to be %d '\n"
     ]
    }
   ],
   "source": [
    "# running in parallel completes in 418s (7 mins)\n",
    "# running in serial completes in 1660s (27 mins)\n",
    "# 4x speed increase by running in parallel \n",
    "start = time.time()\n",
    "final_df = {}\n",
    "with mp.Pool(processes=cpus_to_use) as pool:\n",
    "    for file_type in ['train', 'test']:\n",
    "        results = pool.map(create_dataset, all_files['train'])\n",
    "        final_df[file_type] = pd.concat(results)\n",
    "end_parallel = time.time() - start"
   ]
  },
  {
   "cell_type": "code",
   "execution_count": 14,
   "id": "8d78bf3a",
   "metadata": {},
   "outputs": [],
   "source": [
    "final_df['test'][['Cyc#', 'File Name', 'Retention(%)']].to_csv('test.csv', header=True, index=False)"
   ]
  },
  {
   "cell_type": "markdown",
   "id": "fcede275",
   "metadata": {},
   "source": [
    "### 1.2 Dataset Validation"
   ]
  },
  {
   "cell_type": "code",
   "execution_count": null,
   "id": "23b34d0e",
   "metadata": {},
   "outputs": [],
   "source": [
    "train_stats = tfdv.generate_statistics_from_dataframe(dataframe=final_df['train'])\n",
    "test_stats = tfdv.generate_statistics_from_dataframe(dataframe=final_df['test'])\n",
    "\n",
    "tfdv.visualize_statistics(\n",
    "  lhs_statistics=train_stats, lhs_name='TRAIN_DATASET',\n",
    "  rhs_statistics=test_stats, rhs_name='TEST_DATASET')\n"
   ]
  },
  {
   "cell_type": "code",
   "execution_count": null,
   "id": "99ae3474",
   "metadata": {},
   "outputs": [],
   "source": [
    "train_schema = tfdv.infer_schema(statistics=train_stats)"
   ]
  },
  {
   "cell_type": "code",
   "execution_count": null,
   "id": "b1cae78e",
   "metadata": {},
   "outputs": [],
   "source": [
    "print(train_schema)"
   ]
  },
  {
   "cell_type": "code",
   "execution_count": null,
   "id": "2e9df3fd",
   "metadata": {},
   "outputs": [],
   "source": [
    "tfdv.get_feature(train_schema,'__index_level_0__')"
   ]
  },
  {
   "cell_type": "markdown",
   "id": "4d78a1a3",
   "metadata": {},
   "source": [
    "### 1.3 Training"
   ]
  },
  {
   "cell_type": "code",
   "execution_count": 87,
   "id": "36c3af30",
   "metadata": {},
   "outputs": [],
   "source": [
    "import scipy.optimize\n",
    "def monoExp(x, m, t, b):\n",
    "    return m * np.exp(-t * x) + b\n",
    "fit_df = final_df['train'][['Cyc#', 'Retention(%)']].sort_values('Cyc#')\n",
    "xs = fit_df['Cyc#']\n",
    "ys = fit_df['Retention(%)']\n",
    "p0 = (0, 0, 50) # start with values near those we expect\n",
    "params, cv = scipy.optimize.curve_fit(monoExp, xs, ys, p0)\n",
    "m, t, b = params"
   ]
  },
  {
   "cell_type": "code",
   "execution_count": 88,
   "id": "2b9f1ca5",
   "metadata": {},
   "outputs": [
    {
     "name": "stdout",
     "output_type": "stream",
     "text": [
      "R² = 0.7635463681830357\n"
     ]
    },
    {
     "data": {
      "image/png": "[encoded data removed]",
      "text/plain": [
       "<Figure size 720x360 with 2 Axes>"
      ]
     },
     "metadata": {
      "needs_background": "light"
     },
     "output_type": "display_data"
    }
   ],
   "source": [
    "# determine quality of the fit\n",
    "squaredDiffs = np.square(ys - monoExp(xs, m, t, b))\n",
    "squaredDiffsFromMean = np.square(ys - np.mean(ys))\n",
    "rSquared = 1 - np.sum(squaredDiffs) / np.sum(squaredDiffsFromMean)\n",
    "print(f\"R² = {rSquared}\")\n",
    "\n",
    "plt.figure(figsize=(10,5))\n",
    "# plot the results\n",
    "ax1 =plt.subplot(121)\n",
    "plt.scatter(xs, ys, s=.5, alpha=.5, label=\"data\")\n",
    "plt.plot(xs, monoExp(xs, m, t, b), '--', label=\"fitted\", color='orange')\n",
    "plt.title(\"Fitted Exponential Curve\")\n",
    "plt.xlabel('Cycle number')\n",
    "\n",
    "# predict future values from 0 to 3000 \n",
    "xs2 = np.arange(2000)\n",
    "ys2 = monoExp(xs2, m, t, b)\n",
    "ax2 = plt.subplot(122, sharey=ax1)\n",
    "plt.scatter(xs, ys, s=.5, alpha=.5, label=\"data\")\n",
    "plt.plot(xs2, ys2, '--', label=\"fitted\", color='orange')\n",
    "plt.title(\"Extrapolated Exponential Curve\")\n",
    "plt.xlim([600, 2000])\n",
    "plt.xlabel('Cycle number')\n",
    "plt.show()"
   ]
  },
  {
   "cell_type": "code",
   "execution_count": 150,
   "id": "7016b28e",
   "metadata": {
    "scrolled": true
   },
   "outputs": [],
   "source": [
    "train_tf_ds = df_to_tfd(final_df['train'])\n",
    "test_tf_ds = df_to_tfd(final_df['test'])"
   ]
  },
  {
   "cell_type": "code",
   "execution_count": 146,
   "id": "34fa4cb0",
   "metadata": {},
   "outputs": [
    {
     "data": {
      "text/html": [
       "<div>\n",
       "<style scoped>\n",
       "    .dataframe tbody tr th:only-of-type {\n",
       "        vertical-align: middle;\n",
       "    }\n",
       "\n",
       "    .dataframe tbody tr th {\n",
       "        vertical-align: top;\n",
       "    }\n",
       "\n",
       "    .dataframe thead th {\n",
       "        text-align: right;\n",
       "    }\n",
       "</style>\n",
       "<table border=\"1\" class=\"dataframe\">\n",
       "  <thead>\n",
       "    <tr style=\"text-align: right;\">\n",
       "      <th></th>\n",
       "      <th>Cyc#</th>\n",
       "      <th>Volts_auc</th>\n",
       "      <th>T_auc</th>\n",
       "      <th>Amps_auc</th>\n",
       "      <th>File Name</th>\n",
       "      <th>R</th>\n",
       "      <th>mAH_x</th>\n",
       "      <th>Retention(%)</th>\n",
       "      <th>intercept_cyc2-100</th>\n",
       "      <th>slope_cyc2-100</th>\n",
       "      <th>...</th>\n",
       "      <th>min_dQV100-10</th>\n",
       "      <th>var_dQV100-10</th>\n",
       "      <th>kurtosis_dQV100-10</th>\n",
       "      <th>skewness_dQV100-10</th>\n",
       "      <th>QV100_3</th>\n",
       "      <th>mAH_y</th>\n",
       "      <th>Rcyc3</th>\n",
       "      <th>mAH_100-3</th>\n",
       "      <th>R_100-3</th>\n",
       "      <th>T_AUC</th>\n",
       "    </tr>\n",
       "  </thead>\n",
       "  <tbody>\n",
       "    <tr>\n",
       "      <th>0</th>\n",
       "      <td>1</td>\n",
       "      <td>1247.271499</td>\n",
       "      <td>20521.926105</td>\n",
       "      <td>8772.658684</td>\n",
       "      <td>210821-80W-0811~ 005 210917_142113.xlsx</td>\n",
       "      <td>0.106</td>\n",
       "      <td>2446.551</td>\n",
       "      <td>99.31</td>\n",
       "      <td>99.464122</td>\n",
       "      <td>-0.099856</td>\n",
       "      <td>...</td>\n",
       "      <td>-0.107749</td>\n",
       "      <td>0.000135</td>\n",
       "      <td>9.631123</td>\n",
       "      <td>-1.436932</td>\n",
       "      <td>-231.642</td>\n",
       "      <td>2466.439</td>\n",
       "      <td>0.104</td>\n",
       "      <td>-231.642</td>\n",
       "      <td>0.002</td>\n",
       "      <td>8053.435833</td>\n",
       "    </tr>\n",
       "    <tr>\n",
       "      <th>1</th>\n",
       "      <td>3</td>\n",
       "      <td>1254.925117</td>\n",
       "      <td>20606.33193</td>\n",
       "      <td>8835.486822</td>\n",
       "      <td>210821-80W-0811~ 005 210917_142113.xlsx</td>\n",
       "      <td>0.104</td>\n",
       "      <td>2466.439</td>\n",
       "      <td>100.0</td>\n",
       "      <td>99.464122</td>\n",
       "      <td>-0.099856</td>\n",
       "      <td>...</td>\n",
       "      <td>-0.107749</td>\n",
       "      <td>0.000135</td>\n",
       "      <td>9.631123</td>\n",
       "      <td>-1.436932</td>\n",
       "      <td>-231.642</td>\n",
       "      <td>2466.439</td>\n",
       "      <td>0.104</td>\n",
       "      <td>-231.642</td>\n",
       "      <td>0.002</td>\n",
       "      <td>8053.435833</td>\n",
       "    </tr>\n",
       "    <tr>\n",
       "      <th>2</th>\n",
       "      <td>4</td>\n",
       "      <td>1249.850574</td>\n",
       "      <td>20574.751712</td>\n",
       "      <td>8789.156166</td>\n",
       "      <td>210821-80W-0811~ 005 210917_142113.xlsx</td>\n",
       "      <td>0.104</td>\n",
       "      <td>2453.767</td>\n",
       "      <td>99.54</td>\n",
       "      <td>99.464122</td>\n",
       "      <td>-0.099856</td>\n",
       "      <td>...</td>\n",
       "      <td>-0.107749</td>\n",
       "      <td>0.000135</td>\n",
       "      <td>9.631123</td>\n",
       "      <td>-1.436932</td>\n",
       "      <td>-231.642</td>\n",
       "      <td>2466.439</td>\n",
       "      <td>0.104</td>\n",
       "      <td>-231.642</td>\n",
       "      <td>0.002</td>\n",
       "      <td>8053.435833</td>\n",
       "    </tr>\n",
       "    <tr>\n",
       "      <th>3</th>\n",
       "      <td>5</td>\n",
       "      <td>1244.258139</td>\n",
       "      <td>20458.558507</td>\n",
       "      <td>8753.246154</td>\n",
       "      <td>210821-80W-0811~ 005 210917_142113.xlsx</td>\n",
       "      <td>0.104</td>\n",
       "      <td>2441.342</td>\n",
       "      <td>99.07</td>\n",
       "      <td>99.464122</td>\n",
       "      <td>-0.099856</td>\n",
       "      <td>...</td>\n",
       "      <td>-0.107749</td>\n",
       "      <td>0.000135</td>\n",
       "      <td>9.631123</td>\n",
       "      <td>-1.436932</td>\n",
       "      <td>-231.642</td>\n",
       "      <td>2466.439</td>\n",
       "      <td>0.104</td>\n",
       "      <td>-231.642</td>\n",
       "      <td>0.002</td>\n",
       "      <td>8053.435833</td>\n",
       "    </tr>\n",
       "    <tr>\n",
       "      <th>4</th>\n",
       "      <td>6</td>\n",
       "      <td>1240.25196</td>\n",
       "      <td>20366.921521</td>\n",
       "      <td>8724.724617</td>\n",
       "      <td>210821-80W-0811~ 005 210917_142113.xlsx</td>\n",
       "      <td>0.104</td>\n",
       "      <td>2433.363</td>\n",
       "      <td>98.75</td>\n",
       "      <td>99.464122</td>\n",
       "      <td>-0.099856</td>\n",
       "      <td>...</td>\n",
       "      <td>-0.107749</td>\n",
       "      <td>0.000135</td>\n",
       "      <td>9.631123</td>\n",
       "      <td>-1.436932</td>\n",
       "      <td>-231.642</td>\n",
       "      <td>2466.439</td>\n",
       "      <td>0.104</td>\n",
       "      <td>-231.642</td>\n",
       "      <td>0.002</td>\n",
       "      <td>8053.435833</td>\n",
       "    </tr>\n",
       "    <tr>\n",
       "      <th>...</th>\n",
       "      <td>...</td>\n",
       "      <td>...</td>\n",
       "      <td>...</td>\n",
       "      <td>...</td>\n",
       "      <td>...</td>\n",
       "      <td>...</td>\n",
       "      <td>...</td>\n",
       "      <td>...</td>\n",
       "      <td>...</td>\n",
       "      <td>...</td>\n",
       "      <td>...</td>\n",
       "      <td>...</td>\n",
       "      <td>...</td>\n",
       "      <td>...</td>\n",
       "      <td>...</td>\n",
       "      <td>...</td>\n",
       "      <td>...</td>\n",
       "      <td>...</td>\n",
       "      <td>...</td>\n",
       "      <td>...</td>\n",
       "      <td>...</td>\n",
       "    </tr>\n",
       "    <tr>\n",
       "      <th>8227</th>\n",
       "      <td>696</td>\n",
       "      <td>920.129923</td>\n",
       "      <td>14685.105021</td>\n",
       "      <td>7935.049503</td>\n",
       "      <td>210801-95W-0211 016 210813_142438.csv</td>\n",
       "      <td>0.098</td>\n",
       "      <td>2216.504</td>\n",
       "      <td>65.75</td>\n",
       "      <td>101.380719</td>\n",
       "      <td>-0.260761</td>\n",
       "      <td>...</td>\n",
       "      <td>-0.142153</td>\n",
       "      <td>0.000495</td>\n",
       "      <td>3.157559</td>\n",
       "      <td>1.187189</td>\n",
       "      <td>-643.199</td>\n",
       "      <td>3275.595</td>\n",
       "      <td>0.097</td>\n",
       "      <td>-643.199</td>\n",
       "      <td>0.0</td>\n",
       "      <td>7470.801667</td>\n",
       "    </tr>\n",
       "    <tr>\n",
       "      <th>8228</th>\n",
       "      <td>697</td>\n",
       "      <td>920.150716</td>\n",
       "      <td>14693.295074</td>\n",
       "      <td>7936.014783</td>\n",
       "      <td>210801-95W-0211 016 210813_142438.csv</td>\n",
       "      <td>0.098</td>\n",
       "      <td>2216.87</td>\n",
       "      <td>65.75</td>\n",
       "      <td>101.380719</td>\n",
       "      <td>-0.260761</td>\n",
       "      <td>...</td>\n",
       "      <td>-0.142153</td>\n",
       "      <td>0.000495</td>\n",
       "      <td>3.157559</td>\n",
       "      <td>1.187189</td>\n",
       "      <td>-643.199</td>\n",
       "      <td>3275.595</td>\n",
       "      <td>0.097</td>\n",
       "      <td>-643.199</td>\n",
       "      <td>0.0</td>\n",
       "      <td>7470.801667</td>\n",
       "    </tr>\n",
       "    <tr>\n",
       "      <th>8229</th>\n",
       "      <td>698</td>\n",
       "      <td>919.021727</td>\n",
       "      <td>14662.142648</td>\n",
       "      <td>7923.964661</td>\n",
       "      <td>210801-95W-0211 016 210813_142438.csv</td>\n",
       "      <td>0.098</td>\n",
       "      <td>2213.534</td>\n",
       "      <td>65.66</td>\n",
       "      <td>101.380719</td>\n",
       "      <td>-0.260761</td>\n",
       "      <td>...</td>\n",
       "      <td>-0.142153</td>\n",
       "      <td>0.000495</td>\n",
       "      <td>3.157559</td>\n",
       "      <td>1.187189</td>\n",
       "      <td>-643.199</td>\n",
       "      <td>3275.595</td>\n",
       "      <td>0.097</td>\n",
       "      <td>-643.199</td>\n",
       "      <td>0.0</td>\n",
       "      <td>7470.801667</td>\n",
       "    </tr>\n",
       "    <tr>\n",
       "      <th>8230</th>\n",
       "      <td>699</td>\n",
       "      <td>916.453492</td>\n",
       "      <td>14623.358858</td>\n",
       "      <td>7902.571529</td>\n",
       "      <td>210801-95W-0211 016 210813_142438.csv</td>\n",
       "      <td>0.098</td>\n",
       "      <td>2207.57</td>\n",
       "      <td>65.48</td>\n",
       "      <td>101.380719</td>\n",
       "      <td>-0.260761</td>\n",
       "      <td>...</td>\n",
       "      <td>-0.142153</td>\n",
       "      <td>0.000495</td>\n",
       "      <td>3.157559</td>\n",
       "      <td>1.187189</td>\n",
       "      <td>-643.199</td>\n",
       "      <td>3275.595</td>\n",
       "      <td>0.097</td>\n",
       "      <td>-643.199</td>\n",
       "      <td>0.0</td>\n",
       "      <td>7470.801667</td>\n",
       "    </tr>\n",
       "    <tr>\n",
       "      <th>8231</th>\n",
       "      <td>700</td>\n",
       "      <td>920.891296</td>\n",
       "      <td>14732.193081</td>\n",
       "      <td>7950.313112</td>\n",
       "      <td>210801-95W-0211 016 210813_142438.csv</td>\n",
       "      <td>0.098</td>\n",
       "      <td>2220.831</td>\n",
       "      <td>65.84</td>\n",
       "      <td>101.380719</td>\n",
       "      <td>-0.260761</td>\n",
       "      <td>...</td>\n",
       "      <td>-0.142153</td>\n",
       "      <td>0.000495</td>\n",
       "      <td>3.157559</td>\n",
       "      <td>1.187189</td>\n",
       "      <td>-643.199</td>\n",
       "      <td>3275.595</td>\n",
       "      <td>0.097</td>\n",
       "      <td>-643.199</td>\n",
       "      <td>0.0</td>\n",
       "      <td>7470.801667</td>\n",
       "    </tr>\n",
       "  </tbody>\n",
       "</table>\n",
       "<p>97112 rows × 21 columns</p>\n",
       "</div>"
      ],
      "text/plain": [
       "      Cyc#    Volts_auc         T_auc     Amps_auc  \\\n",
       "0        1  1247.271499  20521.926105  8772.658684   \n",
       "1        3  1254.925117   20606.33193  8835.486822   \n",
       "2        4  1249.850574  20574.751712  8789.156166   \n",
       "3        5  1244.258139  20458.558507  8753.246154   \n",
       "4        6   1240.25196  20366.921521  8724.724617   \n",
       "...    ...          ...           ...          ...   \n",
       "8227   696   920.129923  14685.105021  7935.049503   \n",
       "8228   697   920.150716  14693.295074  7936.014783   \n",
       "8229   698   919.021727  14662.142648  7923.964661   \n",
       "8230   699   916.453492  14623.358858  7902.571529   \n",
       "8231   700   920.891296  14732.193081  7950.313112   \n",
       "\n",
       "                                    File Name      R     mAH_x Retention(%)  \\\n",
       "0     210821-80W-0811~ 005 210917_142113.xlsx  0.106  2446.551        99.31   \n",
       "1     210821-80W-0811~ 005 210917_142113.xlsx  0.104  2466.439        100.0   \n",
       "2     210821-80W-0811~ 005 210917_142113.xlsx  0.104  2453.767        99.54   \n",
       "3     210821-80W-0811~ 005 210917_142113.xlsx  0.104  2441.342        99.07   \n",
       "4     210821-80W-0811~ 005 210917_142113.xlsx  0.104  2433.363        98.75   \n",
       "...                                       ...    ...       ...          ...   \n",
       "8227    210801-95W-0211 016 210813_142438.csv  0.098  2216.504        65.75   \n",
       "8228    210801-95W-0211 016 210813_142438.csv  0.098   2216.87        65.75   \n",
       "8229    210801-95W-0211 016 210813_142438.csv  0.098  2213.534        65.66   \n",
       "8230    210801-95W-0211 016 210813_142438.csv  0.098   2207.57        65.48   \n",
       "8231    210801-95W-0211 016 210813_142438.csv  0.098  2220.831        65.84   \n",
       "\n",
       "     intercept_cyc2-100 slope_cyc2-100  ... min_dQV100-10 var_dQV100-10  \\\n",
       "0             99.464122      -0.099856  ...     -0.107749      0.000135   \n",
       "1             99.464122      -0.099856  ...     -0.107749      0.000135   \n",
       "2             99.464122      -0.099856  ...     -0.107749      0.000135   \n",
       "3             99.464122      -0.099856  ...     -0.107749      0.000135   \n",
       "4             99.464122      -0.099856  ...     -0.107749      0.000135   \n",
       "...                 ...            ...  ...           ...           ...   \n",
       "8227         101.380719      -0.260761  ...     -0.142153      0.000495   \n",
       "8228         101.380719      -0.260761  ...     -0.142153      0.000495   \n",
       "8229         101.380719      -0.260761  ...     -0.142153      0.000495   \n",
       "8230         101.380719      -0.260761  ...     -0.142153      0.000495   \n",
       "8231         101.380719      -0.260761  ...     -0.142153      0.000495   \n",
       "\n",
       "     kurtosis_dQV100-10 skewness_dQV100-10  QV100_3     mAH_y  Rcyc3  \\\n",
       "0              9.631123          -1.436932 -231.642  2466.439  0.104   \n",
       "1              9.631123          -1.436932 -231.642  2466.439  0.104   \n",
       "2              9.631123          -1.436932 -231.642  2466.439  0.104   \n",
       "3              9.631123          -1.436932 -231.642  2466.439  0.104   \n",
       "4              9.631123          -1.436932 -231.642  2466.439  0.104   \n",
       "...                 ...                ...      ...       ...    ...   \n",
       "8227           3.157559           1.187189 -643.199  3275.595  0.097   \n",
       "8228           3.157559           1.187189 -643.199  3275.595  0.097   \n",
       "8229           3.157559           1.187189 -643.199  3275.595  0.097   \n",
       "8230           3.157559           1.187189 -643.199  3275.595  0.097   \n",
       "8231           3.157559           1.187189 -643.199  3275.595  0.097   \n",
       "\n",
       "     mAH_100-3 R_100-3        T_AUC  \n",
       "0     -231.642   0.002  8053.435833  \n",
       "1     -231.642   0.002  8053.435833  \n",
       "2     -231.642   0.002  8053.435833  \n",
       "3     -231.642   0.002  8053.435833  \n",
       "4     -231.642   0.002  8053.435833  \n",
       "...        ...     ...          ...  \n",
       "8227  -643.199     0.0  7470.801667  \n",
       "8228  -643.199     0.0  7470.801667  \n",
       "8229  -643.199     0.0  7470.801667  \n",
       "8230  -643.199     0.0  7470.801667  \n",
       "8231  -643.199     0.0  7470.801667  \n",
       "\n",
       "[97112 rows x 21 columns]"
      ]
     },
     "execution_count": 146,
     "metadata": {},
     "output_type": "execute_result"
    }
   ],
   "source": []
  },
  {
   "cell_type": "code",
   "execution_count": 138,
   "id": "ea4e52e4",
   "metadata": {},
   "outputs": [
    {
     "name": "stdout",
     "output_type": "stream",
     "text": [
      "[(<tf.Tensor: shape=(19,), dtype=float64, numpy=\n",
      "array([ 1.00000000e+00,  1.24727150e+03,  2.05219261e+04,  8.77265868e+03,\n",
      "        1.06000000e-01,  2.44655100e+03,  9.94641223e+01, -9.98558580e-02,\n",
      "       -5.34024716e-02, -1.07748837e-01,  1.35210730e-04,  9.63112338e+00,\n",
      "       -1.43693183e+00, -2.31642000e+02,  2.46643900e+03,  1.04000000e-01,\n",
      "       -2.31642000e+02,  2.00000000e-03,  8.05343583e+03])>,\n",
      "  <tf.Tensor: shape=(), dtype=float64, numpy=99.31>)]\n"
     ]
    }
   ],
   "source": [
    "pprint(list(train_tf_ds.take(1)))"
   ]
  },
  {
   "cell_type": "code",
   "execution_count": 158,
   "id": "f6a0377a",
   "metadata": {},
   "outputs": [
    {
     "ename": "ValueError",
     "evalue": "This model has not yet been built. Build the model first by calling `build()` or by calling the model on a batch of data.",
     "output_type": "error",
     "traceback": [
      "\u001b[0;31m---------------------------------------------------------------------------\u001b[0m",
      "\u001b[0;31mValueError\u001b[0m                                Traceback (most recent call last)",
      "Input \u001b[0;32mIn [158]\u001b[0m, in \u001b[0;36m<cell line: 17>\u001b[0;34m()\u001b[0m\n\u001b[1;32m      7\u001b[0m feature_columns \u001b[38;5;241m=\u001b[39m {\n\u001b[1;32m      8\u001b[0m     colname: tf\u001b[38;5;241m.\u001b[39mfeature_column\u001b[38;5;241m.\u001b[39mnumeric_column(colname) \u001b[38;5;28;01mfor\u001b[39;00m colname \u001b[38;5;129;01min\u001b[39;00m INPUT_COLS\n\u001b[1;32m      9\u001b[0m }\n\u001b[1;32m     11\u001b[0m model \u001b[38;5;241m=\u001b[39m tf\u001b[38;5;241m.\u001b[39mkeras\u001b[38;5;241m.\u001b[39mSequential([\n\u001b[1;32m     12\u001b[0m     DenseFeatures(feature_columns\u001b[38;5;241m=\u001b[39mfeature_columns\u001b[38;5;241m.\u001b[39mvalues()),\n\u001b[1;32m     13\u001b[0m     tf\u001b[38;5;241m.\u001b[39mkeras\u001b[38;5;241m.\u001b[39mlayers\u001b[38;5;241m.\u001b[39mDense(units\u001b[38;5;241m=\u001b[39m\u001b[38;5;241m50\u001b[39m, activation\u001b[38;5;241m=\u001b[39m\u001b[38;5;124m'\u001b[39m\u001b[38;5;124mrelu\u001b[39m\u001b[38;5;124m'\u001b[39m, input_shape\u001b[38;5;241m=\u001b[39m(final_df[\u001b[38;5;124m'\u001b[39m\u001b[38;5;124mtrain\u001b[39m\u001b[38;5;124m'\u001b[39m]\u001b[38;5;241m.\u001b[39mshape[\u001b[38;5;241m1\u001b[39m]\u001b[38;5;241m-\u001b[39m\u001b[38;5;241m2\u001b[39m, )),\n\u001b[1;32m     14\u001b[0m     tf\u001b[38;5;241m.\u001b[39mkeras\u001b[38;5;241m.\u001b[39mlayers\u001b[38;5;241m.\u001b[39mDense(\u001b[38;5;241m50\u001b[39m, activation\u001b[38;5;241m=\u001b[39m\u001b[38;5;124m'\u001b[39m\u001b[38;5;124mrelu\u001b[39m\u001b[38;5;124m'\u001b[39m),\n\u001b[1;32m     15\u001b[0m     tf\u001b[38;5;241m.\u001b[39mkeras\u001b[38;5;241m.\u001b[39mlayers\u001b[38;5;241m.\u001b[39mDense(\u001b[38;5;241m1\u001b[39m)\n\u001b[1;32m     16\u001b[0m ])\n\u001b[0;32m---> 17\u001b[0m \u001b[43mmodel\u001b[49m\u001b[38;5;241;43m.\u001b[39;49m\u001b[43msummary\u001b[49m\u001b[43m(\u001b[49m\u001b[43m)\u001b[49m\n",
      "File \u001b[0;32m~/.virtualenvs/molicel-li-ion-cycle-life-prediction/lib/python3.9/site-packages/keras/engine/training.py:3292\u001b[0m, in \u001b[0;36mModel.summary\u001b[0;34m(self, line_length, positions, print_fn, expand_nested, show_trainable, layer_range)\u001b[0m\n\u001b[1;32m   3262\u001b[0m \u001b[38;5;124;03m\"\"\"Prints a string summary of the network.\u001b[39;00m\n\u001b[1;32m   3263\u001b[0m \n\u001b[1;32m   3264\u001b[0m \u001b[38;5;124;03mArgs:\u001b[39;00m\n\u001b[0;32m   (...)\u001b[0m\n\u001b[1;32m   3289\u001b[0m \u001b[38;5;124;03m    ValueError: if `summary()` is called before the model is built.\u001b[39;00m\n\u001b[1;32m   3290\u001b[0m \u001b[38;5;124;03m\"\"\"\u001b[39;00m\n\u001b[1;32m   3291\u001b[0m \u001b[38;5;28;01mif\u001b[39;00m \u001b[38;5;129;01mnot\u001b[39;00m \u001b[38;5;28mself\u001b[39m\u001b[38;5;241m.\u001b[39mbuilt:\n\u001b[0;32m-> 3292\u001b[0m     \u001b[38;5;28;01mraise\u001b[39;00m \u001b[38;5;167;01mValueError\u001b[39;00m(\n\u001b[1;32m   3293\u001b[0m         \u001b[38;5;124m\"\u001b[39m\u001b[38;5;124mThis model has not yet been built. \u001b[39m\u001b[38;5;124m\"\u001b[39m\n\u001b[1;32m   3294\u001b[0m         \u001b[38;5;124m\"\u001b[39m\u001b[38;5;124mBuild the model first by calling `build()` or by calling \u001b[39m\u001b[38;5;124m\"\u001b[39m\n\u001b[1;32m   3295\u001b[0m         \u001b[38;5;124m\"\u001b[39m\u001b[38;5;124mthe model on a batch of data.\u001b[39m\u001b[38;5;124m\"\u001b[39m\n\u001b[1;32m   3296\u001b[0m     )\n\u001b[1;32m   3297\u001b[0m layer_utils\u001b[38;5;241m.\u001b[39mprint_summary(\n\u001b[1;32m   3298\u001b[0m     \u001b[38;5;28mself\u001b[39m,\n\u001b[1;32m   3299\u001b[0m     line_length\u001b[38;5;241m=\u001b[39mline_length,\n\u001b[0;32m   (...)\u001b[0m\n\u001b[1;32m   3304\u001b[0m     layer_range\u001b[38;5;241m=\u001b[39mlayer_range,\n\u001b[1;32m   3305\u001b[0m )\n",
      "\u001b[0;31mValueError\u001b[0m: This model has not yet been built. Build the model first by calling `build()` or by calling the model on a batch of data."
     ]
    }
   ],
   "source": [
    "INPUT_COLS = ['Cyc#', 'Volts_auc', 'T_auc', 'Amps_auc', 'R', 'mAH_x',\n",
    "       'Retention(%)', 'intercept_cyc2-100', 'slope_cyc2-100',\n",
    "       'mean_dQV100-10', 'min_dQV100-10', 'var_dQV100-10',\n",
    "       'kurtosis_dQV100-10', 'skewness_dQV100-10', 'QV100_3', 'mAH_y', 'Rcyc3',\n",
    "       'mAH_100-3', 'R_100-3', 'T_AUC']\n",
    "\n",
    "feature_columns = {\n",
    "    colname: tf.feature_column.numeric_column(colname) for colname in INPUT_COLS\n",
    "}\n",
    "\n",
    "model = tf.keras.Sequential([n\n",
    "    DenseFeatures(feature_columns=feature_columns.values()),\n",
    "    tf.keras.layers.Dense(units=50, activation='relu', input_shape=(final_df['train'].shape[1]-2, )),\n",
    "    tf.keras.layers.Dense(50, activation='relu'),\n",
    "    tf.keras.layers.Dense(1)\n",
    "])\n",
    "model.summary()"
   ]
  },
  {
   "cell_type": "code",
   "execution_count": 155,
   "id": "d680d648",
   "metadata": {},
   "outputs": [
    {
     "name": "stdout",
     "output_type": "stream",
     "text": [
      "Epoch 1/20\n",
      "WARNING:tensorflow:Model was constructed with shape (None, 19) for input KerasTensor(type_spec=TensorSpec(shape=(None, 19), dtype=tf.float32, name='dense_56_input'), name='dense_56_input', description=\"created by layer 'dense_56_input'\"), but it was called on an input with incompatible shape (19,).\n"
     ]
    },
    {
     "ename": "ValueError",
     "evalue": "in user code:\n\n    File \"/Users/jcheung/.virtualenvs/molicel-li-ion-cycle-life-prediction/lib/python3.9/site-packages/keras/engine/training.py\", line 1249, in train_function  *\n        return step_function(self, iterator)\n    File \"/Users/jcheung/.virtualenvs/molicel-li-ion-cycle-life-prediction/lib/python3.9/site-packages/keras/engine/training.py\", line 1233, in step_function  **\n        outputs = model.distribute_strategy.run(run_step, args=(data,))\n    File \"/Users/jcheung/.virtualenvs/molicel-li-ion-cycle-life-prediction/lib/python3.9/site-packages/keras/engine/training.py\", line 1222, in run_step  **\n        outputs = model.train_step(data)\n    File \"/Users/jcheung/.virtualenvs/molicel-li-ion-cycle-life-prediction/lib/python3.9/site-packages/keras/engine/training.py\", line 1023, in train_step\n        y_pred = self(x, training=True)\n    File \"/Users/jcheung/.virtualenvs/molicel-li-ion-cycle-life-prediction/lib/python3.9/site-packages/keras/utils/traceback_utils.py\", line 70, in error_handler\n        raise e.with_traceback(filtered_tb) from None\n    File \"/Users/jcheung/.virtualenvs/molicel-li-ion-cycle-life-prediction/lib/python3.9/site-packages/keras/engine/input_spec.py\", line 250, in assert_input_compatibility\n        raise ValueError(\n\n    ValueError: Exception encountered when calling layer 'sequential_19' (type Sequential).\n    \n    Input 0 of layer \"dense_56\" is incompatible with the layer: expected min_ndim=2, found ndim=1. Full shape received: (19,)\n    \n    Call arguments received by layer 'sequential_19' (type Sequential):\n      • inputs=tf.Tensor(shape=(19,), dtype=float64)\n      • training=True\n      • mask=None\n",
     "output_type": "error",
     "traceback": [
      "\u001b[0;31m---------------------------------------------------------------------------\u001b[0m",
      "\u001b[0;31mValueError\u001b[0m                                Traceback (most recent call last)",
      "Input \u001b[0;32mIn [155]\u001b[0m, in \u001b[0;36m<cell line: 9>\u001b[0;34m()\u001b[0m\n\u001b[1;32m      7\u001b[0m \u001b[38;5;66;03m# Compile the model\u001b[39;00m\n\u001b[1;32m      8\u001b[0m model\u001b[38;5;241m.\u001b[39mcompile(optimizer\u001b[38;5;241m=\u001b[39m\u001b[38;5;124m'\u001b[39m\u001b[38;5;124madam\u001b[39m\u001b[38;5;124m'\u001b[39m, loss\u001b[38;5;241m=\u001b[39m\u001b[38;5;124m'\u001b[39m\u001b[38;5;124mmean_squared_error\u001b[39m\u001b[38;5;124m'\u001b[39m)\n\u001b[0;32m----> 9\u001b[0m \u001b[43mmodel\u001b[49m\u001b[38;5;241;43m.\u001b[39;49m\u001b[43mfit\u001b[49m\u001b[43m(\u001b[49m\u001b[43mtrain_tf_ds\u001b[49m\u001b[43m,\u001b[49m\u001b[43m \u001b[49m\u001b[43mepochs\u001b[49m\u001b[38;5;241;43m=\u001b[39;49m\u001b[38;5;241;43m20\u001b[39;49m\u001b[43m,\u001b[49m\u001b[43m \u001b[49m\u001b[43mbatch_size\u001b[49m\u001b[38;5;241;43m=\u001b[39;49m\u001b[38;5;241;43m32\u001b[39;49m\u001b[43m,\u001b[49m\u001b[43m)\u001b[49m\n",
      "File \u001b[0;32m~/.virtualenvs/molicel-li-ion-cycle-life-prediction/lib/python3.9/site-packages/keras/utils/traceback_utils.py:70\u001b[0m, in \u001b[0;36mfilter_traceback.<locals>.error_handler\u001b[0;34m(*args, **kwargs)\u001b[0m\n\u001b[1;32m     67\u001b[0m     filtered_tb \u001b[38;5;241m=\u001b[39m _process_traceback_frames(e\u001b[38;5;241m.\u001b[39m__traceback__)\n\u001b[1;32m     68\u001b[0m     \u001b[38;5;66;03m# To get the full stack trace, call:\u001b[39;00m\n\u001b[1;32m     69\u001b[0m     \u001b[38;5;66;03m# `tf.debugging.disable_traceback_filtering()`\u001b[39;00m\n\u001b[0;32m---> 70\u001b[0m     \u001b[38;5;28;01mraise\u001b[39;00m e\u001b[38;5;241m.\u001b[39mwith_traceback(filtered_tb) \u001b[38;5;28;01mfrom\u001b[39;00m \u001b[38;5;28mNone\u001b[39m\n\u001b[1;32m     71\u001b[0m \u001b[38;5;28;01mfinally\u001b[39;00m:\n\u001b[1;32m     72\u001b[0m     \u001b[38;5;28;01mdel\u001b[39;00m filtered_tb\n",
      "File \u001b[0;32m/var/folders/7k/0g6mnyq964z2cp592lvzfn480000gr/T/__autograph_generated_filewo2a3tpv.py:15\u001b[0m, in \u001b[0;36mouter_factory.<locals>.inner_factory.<locals>.tf__train_function\u001b[0;34m(iterator)\u001b[0m\n\u001b[1;32m     13\u001b[0m \u001b[38;5;28;01mtry\u001b[39;00m:\n\u001b[1;32m     14\u001b[0m     do_return \u001b[38;5;241m=\u001b[39m \u001b[38;5;28;01mTrue\u001b[39;00m\n\u001b[0;32m---> 15\u001b[0m     retval_ \u001b[38;5;241m=\u001b[39m ag__\u001b[38;5;241m.\u001b[39mconverted_call(ag__\u001b[38;5;241m.\u001b[39mld(step_function), (ag__\u001b[38;5;241m.\u001b[39mld(\u001b[38;5;28mself\u001b[39m), ag__\u001b[38;5;241m.\u001b[39mld(iterator)), \u001b[38;5;28;01mNone\u001b[39;00m, fscope)\n\u001b[1;32m     16\u001b[0m \u001b[38;5;28;01mexcept\u001b[39;00m:\n\u001b[1;32m     17\u001b[0m     do_return \u001b[38;5;241m=\u001b[39m \u001b[38;5;28;01mFalse\u001b[39;00m\n",
      "\u001b[0;31mValueError\u001b[0m: in user code:\n\n    File \"/Users/jcheung/.virtualenvs/molicel-li-ion-cycle-life-prediction/lib/python3.9/site-packages/keras/engine/training.py\", line 1249, in train_function  *\n        return step_function(self, iterator)\n    File \"/Users/jcheung/.virtualenvs/molicel-li-ion-cycle-life-prediction/lib/python3.9/site-packages/keras/engine/training.py\", line 1233, in step_function  **\n        outputs = model.distribute_strategy.run(run_step, args=(data,))\n    File \"/Users/jcheung/.virtualenvs/molicel-li-ion-cycle-life-prediction/lib/python3.9/site-packages/keras/engine/training.py\", line 1222, in run_step  **\n        outputs = model.train_step(data)\n    File \"/Users/jcheung/.virtualenvs/molicel-li-ion-cycle-life-prediction/lib/python3.9/site-packages/keras/engine/training.py\", line 1023, in train_step\n        y_pred = self(x, training=True)\n    File \"/Users/jcheung/.virtualenvs/molicel-li-ion-cycle-life-prediction/lib/python3.9/site-packages/keras/utils/traceback_utils.py\", line 70, in error_handler\n        raise e.with_traceback(filtered_tb) from None\n    File \"/Users/jcheung/.virtualenvs/molicel-li-ion-cycle-life-prediction/lib/python3.9/site-packages/keras/engine/input_spec.py\", line 250, in assert_input_compatibility\n        raise ValueError(\n\n    ValueError: Exception encountered when calling layer 'sequential_19' (type Sequential).\n    \n    Input 0 of layer \"dense_56\" is incompatible with the layer: expected min_ndim=2, found ndim=1. Full shape received: (19,)\n    \n    Call arguments received by layer 'sequential_19' (type Sequential):\n      • inputs=tf.Tensor(shape=(19,), dtype=float64)\n      • training=True\n      • mask=None\n"
     ]
    }
   ],
   "source": [
    "# Compile the model\n",
    "model.compile(optimizer='adam', loss='mean_squared_error')\n",
    "model.fit(train_tf_ds, epochs=20, batch_size=32,)"
   ]
  },
  {
   "cell_type": "code",
   "execution_count": null,
   "id": "e432d22f",
   "metadata": {},
   "outputs": [],
   "source": []
  },
  {
   "cell_type": "code",
   "execution_count": null,
   "id": "fc549665",
   "metadata": {},
   "outputs": [],
   "source": [
    "history = model.fit(epochs=100, x=train_features, y=train_labels,\n",
    "          validation_data=(test_features, test_labels), verbose=0)"
   ]
  },
  {
   "cell_type": "code",
   "execution_count": null,
   "id": "f4974b17",
   "metadata": {},
   "outputs": [],
   "source": [
    "pprint(list(train_tf_ds.take(2)))"
   ]
  },
  {
   "cell_type": "code",
   "execution_count": 12,
   "id": "f04ca37d",
   "metadata": {},
   "outputs": [],
   "source": [
    "INPUT_COLS = ['Cyc#', 'Volts_auc', 'T_auc', 'Amps_auc', 'R', 'mAH_x',\n",
    "       'Retention(%)', 'intercept_cyc2-100', 'slope_cyc2-100',\n",
    "       'mean_dQV100-10', 'min_dQV100-10', 'var_dQV100-10',\n",
    "       'kurtosis_dQV100-10', 'skewness_dQV100-10', 'QV100_3', 'mAH_y', 'Rcyc3',\n",
    "       'mAH_100-3', 'R_100-3', 'T_AUC']\n",
    "\n",
    "feature_columns = {\n",
    "    colname: tf.feature_column.numeric_column(colname) for colname in INPUT_COLS\n",
    "}"
   ]
  },
  {
   "cell_type": "code",
   "execution_count": 16,
   "id": "f8c12ddc",
   "metadata": {},
   "outputs": [
    {
     "data": {
      "text/plain": [
       "<TakeDataset element_spec=({'Cyc#': TensorSpec(shape=(), dtype=tf.float64, name=None), 'Volts_auc': TensorSpec(shape=(), dtype=tf.float64, name=None), 'T_auc': TensorSpec(shape=(), dtype=tf.float64, name=None), 'Amps_auc': TensorSpec(shape=(), dtype=tf.float64, name=None), 'R': TensorSpec(shape=(), dtype=tf.float64, name=None), 'mAH_x': TensorSpec(shape=(), dtype=tf.float64, name=None), 'intercept_cyc2-100': TensorSpec(shape=(), dtype=tf.float64, name=None), 'slope_cyc2-100': TensorSpec(shape=(), dtype=tf.float64, name=None), 'mean_dQV100-10': TensorSpec(shape=(), dtype=tf.float64, name=None), 'min_dQV100-10': TensorSpec(shape=(), dtype=tf.float64, name=None), 'var_dQV100-10': TensorSpec(shape=(), dtype=tf.float64, name=None), 'kurtosis_dQV100-10': TensorSpec(shape=(), dtype=tf.float64, name=None), 'skewness_dQV100-10': TensorSpec(shape=(), dtype=tf.float64, name=None), 'QV100_3': TensorSpec(shape=(), dtype=tf.float64, name=None), 'mAH_y': TensorSpec(shape=(), dtype=tf.float64, name=None), 'Rcyc3': TensorSpec(shape=(), dtype=tf.float64, name=None), 'mAH_100-3': TensorSpec(shape=(), dtype=tf.float64, name=None), 'R_100-3': TensorSpec(shape=(), dtype=tf.float64, name=None), 'T_AUC': TensorSpec(shape=(), dtype=tf.float64, name=None)}, TensorSpec(shape=(), dtype=tf.float64, name=None))>"
      ]
     },
     "execution_count": 16,
     "metadata": {},
     "output_type": "execute_result"
    }
   ],
   "source": [
    "train_tf_ds.take(1)"
   ]
  },
  {
   "cell_type": "code",
   "execution_count": 13,
   "id": "019c8777",
   "metadata": {},
   "outputs": [],
   "source": [
    "model = Sequential(\n",
    "    [\n",
    "        DenseFeatures(feature_columns=feature_columns.values()),\n",
    "        Dense(units=32, activation=\"relu\", name=\"h1\"),\n",
    "        Dense(units=8, activation=\"relu\", name=\"h2\"),\n",
    "        Dense(units=1, activation=\"linear\", name=\"output\"),\n",
    "    ]\n",
    ")\n",
    "\n",
    "def rmse(y_true, y_pred):\n",
    "    return tf.sqrt(tf.reduce_mean(tf.square(y_pred - y_true)))\n",
    "\n",
    "\n",
    "# Compile the keras model\n",
    "model.compile(optimizer=\"adam\", loss=\"mse\", metrics=[rmse, \"mse\"])"
   ]
  },
  {
   "cell_type": "code",
   "execution_count": 14,
   "id": "565d54a6",
   "metadata": {},
   "outputs": [],
   "source": [
    "TRAIN_BATCH_SIZE = 1000\n",
    "NUM_TRAIN_EXAMPLES = 10000 * 5  # training dataset will repeat, wrap around\n",
    "NUM_EVALS = 50  # how many times to evaluate\n",
    "NUM_EVAL_EXAMPLES = 10000  # enough to get a reasonable sample"
   ]
  },
  {
   "cell_type": "code",
   "execution_count": 15,
   "id": "bb652049",
   "metadata": {
    "collapsed": true
   },
   "outputs": [
    {
     "name": "stdout",
     "output_type": "stream",
     "text": [
      "Epoch 1/50\n",
      "WARNING:tensorflow:Layers in a Sequential model should only have a single input tensor. Received: inputs={'Cyc#': <tf.Tensor 'IteratorGetNext:1' shape=() dtype=float64>, 'Volts_auc': <tf.Tensor 'IteratorGetNext:8' shape=() dtype=float64>, 'T_auc': <tf.Tensor 'IteratorGetNext:7' shape=() dtype=float64>, 'Amps_auc': <tf.Tensor 'IteratorGetNext:0' shape=() dtype=float64>, 'R': <tf.Tensor 'IteratorGetNext:3' shape=() dtype=float64>, 'mAH_x': <tf.Tensor 'IteratorGetNext:12' shape=() dtype=float64>, 'intercept_cyc2-100': <tf.Tensor 'IteratorGetNext:9' shape=() dtype=float64>, 'slope_cyc2-100': <tf.Tensor 'IteratorGetNext:17' shape=() dtype=float64>, 'mean_dQV100-10': <tf.Tensor 'IteratorGetNext:14' shape=() dtype=float64>, 'min_dQV100-10': <tf.Tensor 'IteratorGetNext:15' shape=() dtype=float64>, 'var_dQV100-10': <tf.Tensor 'IteratorGetNext:18' shape=() dtype=float64>, 'kurtosis_dQV100-10': <tf.Tensor 'IteratorGetNext:10' shape=() dtype=float64>, 'skewness_dQV100-10': <tf.Tensor 'IteratorGetNext:16' shape=() dtype=float64>, 'QV100_3': <tf.Tensor 'IteratorGetNext:2' shape=() dtype=float64>, 'mAH_y': <tf.Tensor 'IteratorGetNext:13' shape=() dtype=float64>, 'Rcyc3': <tf.Tensor 'IteratorGetNext:5' shape=() dtype=float64>, 'mAH_100-3': <tf.Tensor 'IteratorGetNext:11' shape=() dtype=float64>, 'R_100-3': <tf.Tensor 'IteratorGetNext:4' shape=() dtype=float64>, 'T_AUC': <tf.Tensor 'IteratorGetNext:6' shape=() dtype=float64>}. Consider rewriting this model with the Functional API.\n"
     ]
    },
    {
     "ename": "ValueError",
     "evalue": "in user code:\n\n    File \"/Users/jcheung/.virtualenvs/molicel-li-ion-cycle-life-prediction/lib/python3.9/site-packages/keras/engine/training.py\", line 1249, in train_function  *\n        return step_function(self, iterator)\n    File \"/Users/jcheung/.virtualenvs/molicel-li-ion-cycle-life-prediction/lib/python3.9/site-packages/keras/engine/training.py\", line 1233, in step_function  **\n        outputs = model.distribute_strategy.run(run_step, args=(data,))\n    File \"/Users/jcheung/.virtualenvs/molicel-li-ion-cycle-life-prediction/lib/python3.9/site-packages/keras/engine/training.py\", line 1222, in run_step  **\n        outputs = model.train_step(data)\n    File \"/Users/jcheung/.virtualenvs/molicel-li-ion-cycle-life-prediction/lib/python3.9/site-packages/keras/engine/training.py\", line 1023, in train_step\n        y_pred = self(x, training=True)\n    File \"/Users/jcheung/.virtualenvs/molicel-li-ion-cycle-life-prediction/lib/python3.9/site-packages/keras/utils/traceback_utils.py\", line 70, in error_handler\n        raise e.with_traceback(filtered_tb) from None\n\n    ValueError: Exception encountered when calling layer 'dense_features' (type DenseFeatures).\n    \n    Feature (key: Amps_auc) cannot have rank 0. Given: Tensor(\"sequential/dense_features/Cast:0\", shape=(), dtype=float32)\n    \n    Call arguments received by layer 'dense_features' (type DenseFeatures):\n      • features={'Cyc#': 'tf.Tensor(shape=(), dtype=float32)', 'Volts_auc': 'tf.Tensor(shape=(), dtype=float32)', 'T_auc': 'tf.Tensor(shape=(), dtype=float32)', 'Amps_auc': 'tf.Tensor(shape=(), dtype=float32)', 'R': 'tf.Tensor(shape=(), dtype=float32)', 'mAH_x': 'tf.Tensor(shape=(), dtype=float32)', 'intercept_cyc2-100': 'tf.Tensor(shape=(), dtype=float32)', 'slope_cyc2-100': 'tf.Tensor(shape=(), dtype=float32)', 'mean_dQV100-10': 'tf.Tensor(shape=(), dtype=float32)', 'min_dQV100-10': 'tf.Tensor(shape=(), dtype=float32)', 'var_dQV100-10': 'tf.Tensor(shape=(), dtype=float32)', 'kurtosis_dQV100-10': 'tf.Tensor(shape=(), dtype=float32)', 'skewness_dQV100-10': 'tf.Tensor(shape=(), dtype=float32)', 'QV100_3': 'tf.Tensor(shape=(), dtype=float32)', 'mAH_y': 'tf.Tensor(shape=(), dtype=float32)', 'Rcyc3': 'tf.Tensor(shape=(), dtype=float32)', 'mAH_100-3': 'tf.Tensor(shape=(), dtype=float32)', 'R_100-3': 'tf.Tensor(shape=(), dtype=float32)', 'T_AUC': 'tf.Tensor(shape=(), dtype=float32)'}\n      • cols_to_output_tensors=None\n      • training=True\n",
     "output_type": "error",
     "traceback": [
      "\u001b[0;31m---------------------------------------------------------------------------\u001b[0m",
      "\u001b[0;31mValueError\u001b[0m                                Traceback (most recent call last)",
      "Input \u001b[0;32mIn [15]\u001b[0m, in \u001b[0;36m<cell line: 3>\u001b[0;34m()\u001b[0m\n\u001b[1;32m      1\u001b[0m steps_per_epoch \u001b[38;5;241m=\u001b[39m NUM_TRAIN_EXAMPLES \u001b[38;5;241m/\u001b[39m\u001b[38;5;241m/\u001b[39m (TRAIN_BATCH_SIZE \u001b[38;5;241m*\u001b[39m NUM_EVALS)\n\u001b[0;32m----> 3\u001b[0m history \u001b[38;5;241m=\u001b[39m \u001b[43mmodel\u001b[49m\u001b[38;5;241;43m.\u001b[39;49m\u001b[43mfit\u001b[49m\u001b[43m(\u001b[49m\n\u001b[1;32m      4\u001b[0m \u001b[43m    \u001b[49m\u001b[43mx\u001b[49m\u001b[38;5;241;43m=\u001b[39;49m\u001b[43mtrain_tf_ds\u001b[49m\u001b[43m \u001b[49m\u001b[43m,\u001b[49m\n\u001b[1;32m      5\u001b[0m \u001b[43m    \u001b[49m\u001b[43msteps_per_epoch\u001b[49m\u001b[38;5;241;43m=\u001b[39;49m\u001b[43msteps_per_epoch\u001b[49m\u001b[43m,\u001b[49m\n\u001b[1;32m      6\u001b[0m \u001b[43m    \u001b[49m\u001b[43mepochs\u001b[49m\u001b[38;5;241;43m=\u001b[39;49m\u001b[43mNUM_EVALS\u001b[49m\n\u001b[1;32m      7\u001b[0m \u001b[43m)\u001b[49m\n",
      "File \u001b[0;32m~/.virtualenvs/molicel-li-ion-cycle-life-prediction/lib/python3.9/site-packages/keras/utils/traceback_utils.py:70\u001b[0m, in \u001b[0;36mfilter_traceback.<locals>.error_handler\u001b[0;34m(*args, **kwargs)\u001b[0m\n\u001b[1;32m     67\u001b[0m     filtered_tb \u001b[38;5;241m=\u001b[39m _process_traceback_frames(e\u001b[38;5;241m.\u001b[39m__traceback__)\n\u001b[1;32m     68\u001b[0m     \u001b[38;5;66;03m# To get the full stack trace, call:\u001b[39;00m\n\u001b[1;32m     69\u001b[0m     \u001b[38;5;66;03m# `tf.debugging.disable_traceback_filtering()`\u001b[39;00m\n\u001b[0;32m---> 70\u001b[0m     \u001b[38;5;28;01mraise\u001b[39;00m e\u001b[38;5;241m.\u001b[39mwith_traceback(filtered_tb) \u001b[38;5;28;01mfrom\u001b[39;00m \u001b[38;5;28mNone\u001b[39m\n\u001b[1;32m     71\u001b[0m \u001b[38;5;28;01mfinally\u001b[39;00m:\n\u001b[1;32m     72\u001b[0m     \u001b[38;5;28;01mdel\u001b[39;00m filtered_tb\n",
      "File \u001b[0;32m/var/folders/7k/0g6mnyq964z2cp592lvzfn480000gr/T/__autograph_generated_filewo2a3tpv.py:15\u001b[0m, in \u001b[0;36mouter_factory.<locals>.inner_factory.<locals>.tf__train_function\u001b[0;34m(iterator)\u001b[0m\n\u001b[1;32m     13\u001b[0m \u001b[38;5;28;01mtry\u001b[39;00m:\n\u001b[1;32m     14\u001b[0m     do_return \u001b[38;5;241m=\u001b[39m \u001b[38;5;28;01mTrue\u001b[39;00m\n\u001b[0;32m---> 15\u001b[0m     retval_ \u001b[38;5;241m=\u001b[39m ag__\u001b[38;5;241m.\u001b[39mconverted_call(ag__\u001b[38;5;241m.\u001b[39mld(step_function), (ag__\u001b[38;5;241m.\u001b[39mld(\u001b[38;5;28mself\u001b[39m), ag__\u001b[38;5;241m.\u001b[39mld(iterator)), \u001b[38;5;28;01mNone\u001b[39;00m, fscope)\n\u001b[1;32m     16\u001b[0m \u001b[38;5;28;01mexcept\u001b[39;00m:\n\u001b[1;32m     17\u001b[0m     do_return \u001b[38;5;241m=\u001b[39m \u001b[38;5;28;01mFalse\u001b[39;00m\n",
      "\u001b[0;31mValueError\u001b[0m: in user code:\n\n    File \"/Users/jcheung/.virtualenvs/molicel-li-ion-cycle-life-prediction/lib/python3.9/site-packages/keras/engine/training.py\", line 1249, in train_function  *\n        return step_function(self, iterator)\n    File \"/Users/jcheung/.virtualenvs/molicel-li-ion-cycle-life-prediction/lib/python3.9/site-packages/keras/engine/training.py\", line 1233, in step_function  **\n        outputs = model.distribute_strategy.run(run_step, args=(data,))\n    File \"/Users/jcheung/.virtualenvs/molicel-li-ion-cycle-life-prediction/lib/python3.9/site-packages/keras/engine/training.py\", line 1222, in run_step  **\n        outputs = model.train_step(data)\n    File \"/Users/jcheung/.virtualenvs/molicel-li-ion-cycle-life-prediction/lib/python3.9/site-packages/keras/engine/training.py\", line 1023, in train_step\n        y_pred = self(x, training=True)\n    File \"/Users/jcheung/.virtualenvs/molicel-li-ion-cycle-life-prediction/lib/python3.9/site-packages/keras/utils/traceback_utils.py\", line 70, in error_handler\n        raise e.with_traceback(filtered_tb) from None\n\n    ValueError: Exception encountered when calling layer 'dense_features' (type DenseFeatures).\n    \n    Feature (key: Amps_auc) cannot have rank 0. Given: Tensor(\"sequential/dense_features/Cast:0\", shape=(), dtype=float32)\n    \n    Call arguments received by layer 'dense_features' (type DenseFeatures):\n      • features={'Cyc#': 'tf.Tensor(shape=(), dtype=float32)', 'Volts_auc': 'tf.Tensor(shape=(), dtype=float32)', 'T_auc': 'tf.Tensor(shape=(), dtype=float32)', 'Amps_auc': 'tf.Tensor(shape=(), dtype=float32)', 'R': 'tf.Tensor(shape=(), dtype=float32)', 'mAH_x': 'tf.Tensor(shape=(), dtype=float32)', 'intercept_cyc2-100': 'tf.Tensor(shape=(), dtype=float32)', 'slope_cyc2-100': 'tf.Tensor(shape=(), dtype=float32)', 'mean_dQV100-10': 'tf.Tensor(shape=(), dtype=float32)', 'min_dQV100-10': 'tf.Tensor(shape=(), dtype=float32)', 'var_dQV100-10': 'tf.Tensor(shape=(), dtype=float32)', 'kurtosis_dQV100-10': 'tf.Tensor(shape=(), dtype=float32)', 'skewness_dQV100-10': 'tf.Tensor(shape=(), dtype=float32)', 'QV100_3': 'tf.Tensor(shape=(), dtype=float32)', 'mAH_y': 'tf.Tensor(shape=(), dtype=float32)', 'Rcyc3': 'tf.Tensor(shape=(), dtype=float32)', 'mAH_100-3': 'tf.Tensor(shape=(), dtype=float32)', 'R_100-3': 'tf.Tensor(shape=(), dtype=float32)', 'T_AUC': 'tf.Tensor(shape=(), dtype=float32)'}\n      • cols_to_output_tensors=None\n      • training=True\n"
     ]
    }
   ],
   "source": [
    "steps_per_epoch = NUM_TRAIN_EXAMPLES // (TRAIN_BATCH_SIZE * NUM_EVALS)\n",
    "\n",
    "history = model.fit(\n",
    "    x=train_tf_ds ,\n",
    "    steps_per_epoch=steps_per_epoch,\n",
    "    epochs=NUM_EVALS\n",
    ")"
   ]
  },
  {
   "cell_type": "code",
   "execution_count": null,
   "id": "3228ec68",
   "metadata": {},
   "outputs": [],
   "source": []
  }
 ],
 "metadata": {
  "kernelspec": {
   "display_name": "molicel-venv",
   "language": "python",
   "name": "molicel-venv"
  },
  "language_info": {
   "codemirror_mode": {
    "name": "ipython",
    "version": 3
   },
   "file_extension": ".py",
   "mimetype": "text/x-python",
   "name": "python",
   "nbconvert_exporter": "python",
   "pygments_lexer": "ipython3",
   "version": "3.9.15"
  }
 },
 "nbformat": 4,
 "nbformat_minor": 5
}
