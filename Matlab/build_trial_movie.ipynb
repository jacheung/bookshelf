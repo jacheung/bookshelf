{
 "cells": [
  {
   "cell_type": "markdown",
   "metadata": {},
   "source": [
    "# Build trial movie\n",
    "In the Hires lab, we pride ourselves in the precision and depth of quantification.  We record brain activity at 10kHz and video at 1kHz (1000 fps) and develop software to track motion and quantify touch and associated forces. The code below will transform a single trial into a movie that highlights these details. \n",
    "\n",
    "This code is used to transform data from an exported Matlab structure of Hires Lab data into a trial animation. You will need to use export_for_moviepy.mat to transform your data into a valid structure for Python. In the below, list the directory for the videos and and load the .mat file for the transformed Matlab struct. "
   ]
  },
  {
   "cell_type": "code",
   "execution_count": 1,
   "metadata": {},
   "outputs": [],
   "source": [
    "import numpy as np\n",
    "import scipy.io as sio\n",
    "import moviepy as mpy\n",
    "from moviepy.editor import VideoClip, VideoFileClip, clips_array\n",
    "from moviepy.video.io.bindings import mplfig_to_npimage\n",
    "import matplotlib.pyplot as plt"
   ]
  },
  {
   "cell_type": "code",
   "execution_count": null,
   "metadata": {},
   "outputs": [],
   "source": [
    "# Install a pip package in the current Jupyter kernel if package isnt installed \n",
    "import sys\n",
    "!{sys.executable} -m pip install moviepy"
   ]
  },
  {
   "cell_type": "code",
   "execution_count": 25,
   "metadata": {},
   "outputs": [],
   "source": [
    "# set top level parameters and load data\n",
    "animation_duration = 20 # in seconds\n",
    "# video_directory = \n",
    "\n",
    "ds = sio.loadmat('cell_29.mat')['export_struct'][0,0]\n",
    "trial = np.random.choice(ds['thetaAtBase'].shape[1],1)[0] # sample a random trial "
   ]
  },
  {
   "cell_type": "markdown",
   "metadata": {},
   "source": [
    "### Compose parts for trial clip\n",
    "- clip 1 : video from one single trial\n",
    "- clip 2 : tracked components into time-series "
   ]
  },
  {
   "cell_type": "code",
   "execution_count": 44,
   "metadata": {},
   "outputs": [],
   "source": [
    "# Load data and define variables for clip 1\n",
    "# need directory for video then we gucci to use the reference below\n",
    "\n",
    "# video_clip_name = ds['video_file_names'][:,trial][0][0]\n",
    "# video_clip = VideoFileClip(video_clip_name + \".mp4\", audio=False)\n",
    "\n",
    "video_clip = VideoFileClip(\"test_video.mp4\",  audio=False)\n",
    "\n",
    "# video editing via rotation and forcing clip size\n",
    "video_clip = mpy.video.fx.all.speedx(video_clip,final_duration = animation_duration)\n",
    "video_clip = mpy.video.fx.all.rotate(video_clip, -90, unit='deg')\n",
    "video_clip = mpy.video.fx.all.mirror_x(video_clip)\n",
    "video_clip = mpy.video.fx.all.resize(video_clip,0.8)\n",
    "# video_clip.ipython_display(maxduration = 200) #use this to view video "
   ]
  },
  {
   "cell_type": "code",
   "execution_count": 45,
   "metadata": {
    "scrolled": true
   },
   "outputs": [],
   "source": [
    "# Define variables for clip 2 time-series\n",
    "x = np.arange(0,len(ds['thetaAtBase']))\n",
    "# amplitude_mask = ds['amplitude'][:,trial]<5\n",
    "# filtered_phase = ds['phase'][:,trial]\n",
    "# filtered_phase[amplitude_mask] = np.nan \n",
    "\n",
    "y0 = ds['thetaAtBase'][:,trial]\n",
    "y1 = ds['amplitude'][:,trial]\n",
    "y2 = ds['setpoint'][:,trial]\n",
    "y3 = ds['phase'][:,trial]\n",
    "y4 = ds['spikes_trace'][:,trial]"
   ]
  },
  {
   "cell_type": "code",
   "execution_count": 47,
   "metadata": {},
   "outputs": [
    {
     "data": {
      "image/png": "[encoded data removed]",
      "text/plain": [
       "<Figure size 432x445.2 with 5 Axes>"
      ]
     },
     "metadata": {
      "needs_background": "light"
     },
     "output_type": "display_data"
    }
   ],
   "source": [
    "# top level definitions \n",
    "duration= animation_duration # duration of animation in seconds\n",
    "my_dpi = 120 # find here https://www.infobyip.com/detectmonitordpi.php\n",
    "fig_size = np.array(video_clip.size)/my_dpi # time-series to match video size\n",
    "plt.rcParams.update({'font.size':12})\n",
    "\n",
    "# Set up plots for animation \n",
    "fig, ax = plt.subplots(5,1, figsize = (6,fig_size[1]*2))\n",
    "# fig.set_figheight(img_height)\n",
    "# fig.set_figwidth(img_width)\n",
    "l0, = ax[0].plot(x, y0, lw=1, c='k')\n",
    "l1, = ax[1].plot(x, y1, lw=1, c='k')\n",
    "l2, = ax[2].plot(x, y2, lw=1, c='k')\n",
    "l3, = ax[3].plot(x, y3, 'k.',markersize=5)\n",
    "l4, = ax[4].plot(x, y4, lw=1, c='k')\n",
    "\n",
    "labels = ['angle', 'amplitude', 'midpoint', 'phase', 'mV']\n",
    "for ix,k in enumerate(ax):\n",
    "    ax[ix].set_xticks([])\n",
    "    ax[ix].set_ylabel(labels[ix])\n",
    "ax[3].set_yticks([-3.14, 0, 3.14])\n",
    "ax[3].set_yticklabels(['-$\\pi$',0,'$\\pi$'])\n",
    "ax[4].set_xticks([0,1000,2000,3000,4000])\n",
    "ax[4].set_xticklabels([0,1,2,3,4])\n",
    "ax[4].set_xlabel(\"Time from trial start (s)\")\n",
    "fig.tight_layout() \n",
    "\n",
    "# Animate figure with moviepy \n",
    "def make_frames(t):\n",
    "    t_idx = int((len(x)/duration) * t) #size of each step \n",
    "    for idx,val in enumerate(ax):\n",
    "        exec('l' + str(idx) + '.set_xdata(x[:t_idx])')\n",
    "        exec('l' + str(idx) + '.set_ydata(y' + str(idx) +'[:t_idx])')\n",
    "    return mplfig_to_npimage(fig)\n",
    "\n",
    "plot_clip = VideoClip(make_frames, duration=duration)\n",
    "# plotclip.write_videofile('trial_animation.mp4', fps=20, codec='libx264', ffmpeg_params = ['-preset', 'veryslow','-crf','17'])\n",
    "# plotclip.write_gif('trial_parameters.gif', fps=25)\n",
    "# plotclip.ipython_display(fps=20, loop=True, autoplay=True,progress_bar=False)"
   ]
  },
  {
   "cell_type": "code",
   "execution_count": 49,
   "metadata": {},
   "outputs": [
    {
     "name": "stderr",
     "output_type": "stream",
     "text": [
      "t:   0%|          | 2/400 [00:00<00:26, 14.94it/s, now=None]"
     ]
    },
    {
     "name": "stdout",
     "output_type": "stream",
     "text": [
      "MoviePy - Building file trial_animation.gif with imageio.\n"
     ]
    },
    {
     "name": "stderr",
     "output_type": "stream",
     "text": [
      "                                                              \r"
     ]
    }
   ],
   "source": [
    "# stitch together final clip side by side. \n",
    "# clips_array requires margins to be added \n",
    "final_clip = clips_array([[clip.margin(2, color=[255,255,255]) for clip in\n",
    "                [video_clip, plot_clip]]],\n",
    "                bg_color=[255,255,255])\n",
    "\n",
    "final_clip.write_gif(\"trial_animation.gif\",fps=20)\n",
    "# final_clip.write_videofile('trial_animation.mp4', fps=20)\n"
   ]
  }
 ],
 "metadata": {
  "kernelspec": {
   "display_name": "Python 3",
   "language": "python",
   "name": "python3"
  },
  "language_info": {
   "codemirror_mode": {
    "name": "ipython",
    "version": 3
   },
   "file_extension": ".py",
   "mimetype": "text/x-python",
   "name": "python",
   "nbconvert_exporter": "python",
   "pygments_lexer": "ipython3",
   "version": "3.8.3"
  }
 },
 "nbformat": 4,
 "nbformat_minor": 4
}
