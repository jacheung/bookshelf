{
 "cells": [
  {
   "cell_type": "code",
   "execution_count": 1,
   "metadata": {},
   "outputs": [],
   "source": [
    "\n",
    "import os\n",
    "import pandas as pd\n",
    "from simple_salesforce import Salesforce"
   ]
  },
  {
   "cell_type": "code",
   "execution_count": 2,
   "metadata": {},
   "outputs": [],
   "source": [
    "doc_directory = os.path.dirname(os.path.dirname(os.getcwd()))\n",
    "doc_file = 'claris.txt'\n",
    "doc_location = doc_directory + '\\\\' + doc_file\n",
    "doc = open(doc_location,'r')\n",
    "inputs = doc.read().split(',')"
   ]
  },
  {
   "cell_type": "code",
   "execution_count": 4,
   "metadata": {},
   "outputs": [
    {
     "data": {
      "text/plain": [
       "['executive@clarishealth.org', 'claris570']"
      ]
     },
     "execution_count": 4,
     "metadata": {},
     "output_type": "execute_result"
    }
   ],
   "source": [
    "inputs"
   ]
  },
  {
   "cell_type": "code",
   "execution_count": 5,
   "metadata": {},
   "outputs": [
    {
     "ename": "SalesforceAuthenticationFailed",
     "evalue": "INVALID_LOGIN: Invalid username, password, security token; or user locked out.",
     "output_type": "error",
     "traceback": [
      "\u001b[1;31m---------------------------------------------------------------------------\u001b[0m",
      "\u001b[1;31mSalesforceAuthenticationFailed\u001b[0m            Traceback (most recent call last)",
      "\u001b[1;32m<ipython-input-5-a9884687e23b>\u001b[0m in \u001b[0;36m<module>\u001b[1;34m\u001b[0m\n\u001b[1;32m----> 1\u001b[1;33m \u001b[0msf\u001b[0m \u001b[1;33m=\u001b[0m \u001b[0mSalesforce\u001b[0m\u001b[1;33m(\u001b[0m\u001b[0musername\u001b[0m\u001b[1;33m=\u001b[0m\u001b[0minputs\u001b[0m\u001b[1;33m[\u001b[0m\u001b[1;36m0\u001b[0m\u001b[1;33m]\u001b[0m\u001b[1;33m,\u001b[0m \u001b[0mpassword\u001b[0m\u001b[1;33m=\u001b[0m\u001b[0minputs\u001b[0m\u001b[1;33m[\u001b[0m\u001b[1;36m1\u001b[0m\u001b[1;33m]\u001b[0m\u001b[1;33m,\u001b[0m \u001b[0msecurity_token\u001b[0m\u001b[1;33m=\u001b[0m\u001b[1;34m'OrgId'\u001b[0m\u001b[1;33m)\u001b[0m\u001b[1;33m\u001b[0m\u001b[1;33m\u001b[0m\u001b[0m\n\u001b[0m",
      "\u001b[1;32m~\\Anaconda3\\lib\\site-packages\\simple_salesforce\\api.py\u001b[0m in \u001b[0;36m__init__\u001b[1;34m(self, username, password, security_token, session_id, instance, instance_url, organizationId, version, proxies, session, client_id, domain, consumer_key, privatekey_file)\u001b[0m\n\u001b[0;32m    120\u001b[0m \u001b[1;33m\u001b[0m\u001b[0m\n\u001b[0;32m    121\u001b[0m             \u001b[1;31m# Pass along the username/password to our login helper\u001b[0m\u001b[1;33m\u001b[0m\u001b[1;33m\u001b[0m\u001b[1;33m\u001b[0m\u001b[0m\n\u001b[1;32m--> 122\u001b[1;33m             self.session_id, self.sf_instance = SalesforceLogin(\n\u001b[0m\u001b[0;32m    123\u001b[0m                 \u001b[0msession\u001b[0m\u001b[1;33m=\u001b[0m\u001b[0mself\u001b[0m\u001b[1;33m.\u001b[0m\u001b[0msession\u001b[0m\u001b[1;33m,\u001b[0m\u001b[1;33m\u001b[0m\u001b[1;33m\u001b[0m\u001b[0m\n\u001b[0;32m    124\u001b[0m                 \u001b[0musername\u001b[0m\u001b[1;33m=\u001b[0m\u001b[0musername\u001b[0m\u001b[1;33m,\u001b[0m\u001b[1;33m\u001b[0m\u001b[1;33m\u001b[0m\u001b[0m\n",
      "\u001b[1;32m~\\Anaconda3\\lib\\site-packages\\simple_salesforce\\login.py\u001b[0m in \u001b[0;36mSalesforceLogin\u001b[1;34m(username, password, security_token, organizationId, sf_version, proxies, session, client_id, domain, consumer_key, privatekey_file)\u001b[0m\n\u001b[0;32m    192\u001b[0m     }\n\u001b[0;32m    193\u001b[0m \u001b[1;33m\u001b[0m\u001b[0m\n\u001b[1;32m--> 194\u001b[1;33m     return soap_login(soap_url, login_soap_request_body,\n\u001b[0m\u001b[0;32m    195\u001b[0m         login_soap_request_headers, proxies, session)\n\u001b[0;32m    196\u001b[0m \u001b[1;33m\u001b[0m\u001b[0m\n",
      "\u001b[1;32m~\\Anaconda3\\lib\\site-packages\\simple_salesforce\\login.py\u001b[0m in \u001b[0;36msoap_login\u001b[1;34m(soap_url, request_body, headers, proxies, session)\u001b[0m\n\u001b[0;32m    206\u001b[0m         except_msg = getUniqueElementValueFromXmlString(\n\u001b[0;32m    207\u001b[0m             response.content, 'sf:exceptionMessage')\n\u001b[1;32m--> 208\u001b[1;33m         \u001b[1;32mraise\u001b[0m \u001b[0mSalesforceAuthenticationFailed\u001b[0m\u001b[1;33m(\u001b[0m\u001b[0mexcept_code\u001b[0m\u001b[1;33m,\u001b[0m \u001b[0mexcept_msg\u001b[0m\u001b[1;33m)\u001b[0m\u001b[1;33m\u001b[0m\u001b[1;33m\u001b[0m\u001b[0m\n\u001b[0m\u001b[0;32m    209\u001b[0m \u001b[1;33m\u001b[0m\u001b[0m\n\u001b[0;32m    210\u001b[0m     session_id = getUniqueElementValueFromXmlString(\n",
      "\u001b[1;31mSalesforceAuthenticationFailed\u001b[0m: INVALID_LOGIN: Invalid username, password, security token; or user locked out."
     ]
    }
   ],
   "source": [
    "sf = Salesforce(username=inputs[0], password=inputs[1], security_token='OrgId')"
   ]
  }
 ],
 "metadata": {
  "kernelspec": {
   "display_name": "Python 3",
   "language": "python",
   "name": "python3"
  },
  "language_info": {
   "codemirror_mode": {
    "name": "ipython",
    "version": 3
   },
   "file_extension": ".py",
   "mimetype": "text/x-python",
   "name": "python",
   "nbconvert_exporter": "python",
   "pygments_lexer": "ipython3",
   "version": "3.8.5"
  }
 },
 "nbformat": 4,
 "nbformat_minor": 4
}
