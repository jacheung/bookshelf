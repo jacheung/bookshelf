{
 "cells": [
  {
   "cell_type": "code",
   "execution_count": 119,
   "metadata": {},
   "outputs": [],
   "source": [
    "import pandas as pd\n",
    "import re\n",
    "import os"
   ]
  },
  {
   "cell_type": "code",
   "execution_count": 120,
   "metadata": {},
   "outputs": [],
   "source": [
    "df = pd.read_csv('prayers_raw.csv')"
   ]
  },
  {
   "cell_type": "code",
   "execution_count": 121,
   "metadata": {},
   "outputs": [],
   "source": [
    "# loops through all the prayers and places all prayers into a dictonary list\n",
    "prayers = {}\n",
    "for k in df['2020']:\n",
    "    if ':' not in k:\n",
    "        current_date = k\n",
    "    if ':' in k:\n",
    "        name = k.split(':')[0].strip()\n",
    "        if name == 'Ed':\n",
    "            name = 'Edward'\n",
    "        elif name == 'Jess':\n",
    "            name = 'Jessica'\n",
    "        prayer = \"\".join(k.split(':')[1:])\n",
    "        prayer = prayer.replace(u'\\xa0', u' ')\n",
    "        \n",
    "        if name in prayers.keys():\n",
    "            prayers[name].append(current_date + ' : ' + prayer)\n",
    "        else:\n",
    "            prayers[name] = [current_date + ' : ' + prayer]\n"
   ]
  },
  {
   "cell_type": "code",
   "execution_count": 122,
   "metadata": {
    "scrolled": true
   },
   "outputs": [],
   "source": [
    "save_directory = '2020_prayers/'\n",
    "for names in prayers.keys():\n",
    "    with open(save_directory + names + '.txt', 'w') as f:\n",
    "        for item in prayers[names]:   \n",
    "            f.write(\"%s\\n\" % item)\n",
    "            f.write(\"\\n\")\n",
    "            "
   ]
  },
  {
   "cell_type": "code",
   "execution_count": null,
   "metadata": {},
   "outputs": [],
   "source": []
  }
 ],
 "metadata": {
  "kernelspec": {
   "display_name": "Python 3",
   "language": "python",
   "name": "python3"
  },
  "language_info": {
   "codemirror_mode": {
    "name": "ipython",
    "version": 3
   },
   "file_extension": ".py",
   "mimetype": "text/x-python",
   "name": "python",
   "nbconvert_exporter": "python",
   "pygments_lexer": "ipython3",
   "version": "3.7.6"
  }
 },
 "nbformat": 4,
 "nbformat_minor": 4
}
