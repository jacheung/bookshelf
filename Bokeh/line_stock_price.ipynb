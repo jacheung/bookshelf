{
 "cells": [
  {
   "cell_type": "code",
   "execution_count": 26,
   "metadata": {},
   "outputs": [],
   "source": [
    "import yfinance as yf\n",
    "import pandas as pd\n",
    "from datetime import datetime as dt\n",
    "import numpy as np\n",
    "\n",
    "from bokeh.plotting import figure\n",
    "from bokeh.io import output_file, show\n",
    "from bokeh.models import HoverTool, CategoricalColorMapper, ColumnDataSource"
   ]
  },
  {
   "cell_type": "code",
   "execution_count": null,
   "metadata": {
    "scrolled": true
   },
   "outputs": [],
   "source": [
    "# load some financial data\n",
    "ticker_symbol = 'AMD'\n",
    "ticker_data = yf.Ticker(ticker_symbol)\n",
    "\n",
    "# get prices at specified time resolution\n",
    "start_date = dt(2010,1,1)\n",
    "end_date = dt.now()\n",
    "yf_df = ticker_data.history(period='1mo', start='2010-1-1', end=dt.now())\n",
    "ticker_df = pd.DataFrame(yf_df).reset_index()\n",
    "# use \"period\" instead of start/end\n",
    "# valid periods: 1d,5d,1mo,3mo,6mo,1y,2y,5y,10y,ytd,max\n",
    "# (optional, default is '1mo')\n",
    "\n",
    "# test some plots with bokeh \n",
    "source = ColumnDataSource(ticker_df)\n",
    "source.add(ticker_df['Date'].apply(lambda d: d.strftime('%Y-%m-%d')), 'event_date_formatted')\n",
    "p = figure(title = ticker_symbol, x_axis_type = 'datetime', \n",
    "           x_axis_label = 'Date', y_axis_label = 'Stock Price',\n",
    "           x_range=(start_date, end_date),)\n",
    "# p.line(ticker_df.index, ticker_df['Open'], color = 'gray')\n",
    "p.line(ticker_df.index, ticker_df['Close'], color = 'black')\n",
    "\n",
    "p.circle('Date', 'Close', source=source, color = 'black',alpha=0.1,\n",
    "         hover_fill_color='firebrick', hover_alpha=1,\n",
    "         hover_line_color='white', size = 6)\n",
    "\n",
    "\n",
    "hover = HoverTool(tooltips = [\n",
    "                ('Date', '@event_date_formatted'),\n",
    "                ('Close Price', '@Close')])\n",
    "p.add_tools(hover)\n",
    "\n",
    "output_file('./images/' + ticker_symbol + '.html')\n",
    "show(p)"
   ]
  },
  {
   "cell_type": "markdown",
   "metadata": {},
   "source": [
    "## Tabbed layouts\n",
    "Listed below are tabs for FAANG and semi-conductor chip companies "
   ]
  },
  {
   "cell_type": "code",
   "execution_count": 43,
   "metadata": {},
   "outputs": [],
   "source": [
    "#Build ticker data file \n",
    "def build_bokeh_figure(tickers):\n",
    "    for ticker_symbol in tickers: \n",
    "        ticker_data = yf.Ticker(ticker_symbol)\n",
    "        yf_df = pd.DataFrame(ticker_data.history(period='1D', start='1970-1-1', end=dt.now()))\n",
    "        dates_list.append(yf_df.index)\n",
    "    start_date = min(set(dates_list[0]).intersection(*dates_list))\n",
    "    \n",
    "    full_df = pd.DataFrame()\n",
    "    for ticker_symbol in tickers: \n",
    "        ticker_data = yf.Ticker(ticker_symbol)\n",
    "        yf_df = pd.DataFrame(ticker_data.history(period='1mo', start=start_date, end=dt.now()))\n",
    "        yf_df['Close_pct'] = yf_df['Close']/yf_df['Close'][0]\n",
    "        yf_df['ticker'] = ticker_symbol\n",
    "        full_df = pd.concat([full_df, yf_df], axis=0)\n",
    "        \n",
    "        \n",
    "    \n",
    "    # collect data into ColumnDataSource and ColorMapper\n",
    "    source = ColumnDataSource(full_df.reset_index())\n",
    "    color_mapper = CategoricalColorMapper(factors=tickers,\n",
    "                                          palette=['red', 'green', 'blue','orange','black','cyan'])\n",
    "    # figure set up\n",
    "    p = figure(x_axis_type = 'datetime', x_axis_label = 'Date', \n",
    "               y_axis_type = 'log', y_axis_label = 'Change from inception (%)')\n",
    "\n",
    "    # figure scatter using CategoricalColorMapper\n",
    "    p.circle('Date', 'Close_pct', source=source, size =3, \n",
    "            color= dict(field = 'ticker', transform = color_mapper),\n",
    "            legend ='ticker')\n",
    "\n",
    "    p.legend.location = \"top_left\"\n",
    "    \n",
    "    return p "
   ]
  },
  {
   "cell_type": "code",
   "execution_count": 48,
   "metadata": {},
   "outputs": [
    {
     "name": "stderr",
     "output_type": "stream",
     "text": [
      "BokehDeprecationWarning: 'legend' keyword is deprecated, use explicit 'legend_label', 'legend_field', or 'legend_group' keywords instead\n"
     ]
    }
   ],
   "source": [
    "# Collect figures into a tabs\n",
    "from bokeh.models.widgets import Tabs, Panel\n",
    "\n",
    "p1 = build_bokeh_figure(['QQQJ', 'QQQ', 'QQQM'])\n",
    "# p2 = build_bokeh_figure( ['WORK', 'LULU', 'COUP', 'HQY', 'ABM', 'PHR'])\n",
    "\n",
    "# Create tab1 from plot p1: tab1\n",
    "tab1 = Panel(child=p1, title='Mutual fund compare')\n",
    "# tab2 = Panel(child=p2, title='Tuesday After Close')\n",
    "\n",
    "# Create a Tabs layout: layout\n",
    "layout = Tabs(tabs=[tab1])\n",
    "\n",
    "output_file('./images/multi_ticker_scatter.html')\n",
    "show(layout)"
   ]
  }
 ],
 "metadata": {
  "kernelspec": {
   "display_name": "Python 3",
   "language": "python",
   "name": "python3"
  },
  "language_info": {
   "codemirror_mode": {
    "name": "ipython",
    "version": 3
   },
   "file_extension": ".py",
   "mimetype": "text/x-python",
   "name": "python",
   "nbconvert_exporter": "python",
   "pygments_lexer": "ipython3",
   "version": "3.8.5"
  }
 },
 "nbformat": 4,
 "nbformat_minor": 4
}
