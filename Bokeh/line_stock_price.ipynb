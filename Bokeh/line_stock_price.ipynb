{
 "cells": [
  {
   "cell_type": "code",
   "execution_count": 1,
   "metadata": {},
   "outputs": [
    {
     "ename": "ModuleNotFoundError",
     "evalue": "No module named 'yfinance'",
     "output_type": "error",
     "traceback": [
      "\u001b[1;31m---------------------------------------------------------------------------\u001b[0m",
      "\u001b[1;31mModuleNotFoundError\u001b[0m                       Traceback (most recent call last)",
      "\u001b[1;32m<ipython-input-1-03cb3d0e3c9a>\u001b[0m in \u001b[0;36m<module>\u001b[1;34m\u001b[0m\n\u001b[1;32m----> 1\u001b[1;33m \u001b[1;32mimport\u001b[0m \u001b[0myfinance\u001b[0m \u001b[1;32mas\u001b[0m \u001b[0myf\u001b[0m\u001b[1;33m\u001b[0m\u001b[1;33m\u001b[0m\u001b[0m\n\u001b[0m\u001b[0;32m      2\u001b[0m \u001b[1;32mimport\u001b[0m \u001b[0mpandas\u001b[0m \u001b[1;32mas\u001b[0m \u001b[0mpd\u001b[0m\u001b[1;33m\u001b[0m\u001b[1;33m\u001b[0m\u001b[0m\n\u001b[0;32m      3\u001b[0m \u001b[1;32mfrom\u001b[0m \u001b[0mdatetime\u001b[0m \u001b[1;32mimport\u001b[0m \u001b[0mdatetime\u001b[0m \u001b[1;32mas\u001b[0m \u001b[0mdt\u001b[0m\u001b[1;33m\u001b[0m\u001b[1;33m\u001b[0m\u001b[0m\n\u001b[0;32m      4\u001b[0m \u001b[1;33m\u001b[0m\u001b[0m\n\u001b[0;32m      5\u001b[0m \u001b[1;32mfrom\u001b[0m \u001b[0mbokeh\u001b[0m\u001b[1;33m.\u001b[0m\u001b[0mplotting\u001b[0m \u001b[1;32mimport\u001b[0m \u001b[0mfigure\u001b[0m\u001b[1;33m\u001b[0m\u001b[1;33m\u001b[0m\u001b[0m\n",
      "\u001b[1;31mModuleNotFoundError\u001b[0m: No module named 'yfinance'"
     ]
    }
   ],
   "source": [
    "import yfinance as yf\n",
    "import pandas as pd\n",
    "from datetime import datetime as dt\n",
    "\n",
    "from bokeh.plotting import figure\n",
    "from bokeh.io import output_file, show\n",
    "from bokeh.models import HoverTool, CategoricalColorMapper, ColumnDataSource"
   ]
  },
  {
   "cell_type": "code",
   "execution_count": 2,
   "metadata": {
    "scrolled": true
   },
   "outputs": [
    {
     "ename": "NameError",
     "evalue": "name 'yf' is not defined",
     "output_type": "error",
     "traceback": [
      "\u001b[1;31m---------------------------------------------------------------------------\u001b[0m",
      "\u001b[1;31mNameError\u001b[0m                                 Traceback (most recent call last)",
      "\u001b[1;32m<ipython-input-2-051bf7355a0b>\u001b[0m in \u001b[0;36m<module>\u001b[1;34m\u001b[0m\n\u001b[0;32m      1\u001b[0m \u001b[1;31m# load some financial data\u001b[0m\u001b[1;33m\u001b[0m\u001b[1;33m\u001b[0m\u001b[1;33m\u001b[0m\u001b[0m\n\u001b[0;32m      2\u001b[0m \u001b[0mticker_symbol\u001b[0m \u001b[1;33m=\u001b[0m \u001b[1;34m'AMD'\u001b[0m\u001b[1;33m\u001b[0m\u001b[1;33m\u001b[0m\u001b[0m\n\u001b[1;32m----> 3\u001b[1;33m \u001b[0mticker_data\u001b[0m \u001b[1;33m=\u001b[0m \u001b[0myf\u001b[0m\u001b[1;33m.\u001b[0m\u001b[0mTicker\u001b[0m\u001b[1;33m(\u001b[0m\u001b[0mticker_symbol\u001b[0m\u001b[1;33m)\u001b[0m\u001b[1;33m\u001b[0m\u001b[1;33m\u001b[0m\u001b[0m\n\u001b[0m\u001b[0;32m      4\u001b[0m \u001b[1;33m\u001b[0m\u001b[0m\n\u001b[0;32m      5\u001b[0m \u001b[1;31m# get prices at specified time resolution\u001b[0m\u001b[1;33m\u001b[0m\u001b[1;33m\u001b[0m\u001b[1;33m\u001b[0m\u001b[0m\n",
      "\u001b[1;31mNameError\u001b[0m: name 'yf' is not defined"
     ]
    }
   ],
   "source": [
    "# load some financial data\n",
    "ticker_symbol = 'AMD'\n",
    "ticker_data = yf.Ticker(ticker_symbol)\n",
    "\n",
    "# get prices at specified time resolution\n",
    "start_date = dt(2010,1,1)\n",
    "end_date = dt.now()\n",
    "yf_df = ticker_data.history(period='1mo', start='2010-1-1', end=dt.now())\n",
    "ticker_df = pd.DataFrame(yf_df).reset_index()\n",
    "# use \"period\" instead of start/end\n",
    "# valid periods: 1d,5d,1mo,3mo,6mo,1y,2y,5y,10y,ytd,max\n",
    "# (optional, default is '1mo')\n",
    "\n",
    "# test some plots with bokeh \n",
    "source = ColumnDataSource(ticker_df)\n",
    "source.add(ticker_df['Date'].apply(lambda d: d.strftime('%Y-%m-%d')), 'event_date_formatted')\n",
    "p = figure(title = ticker_symbol, x_axis_type = 'datetime', \n",
    "           x_axis_label = 'Date', y_axis_label = 'Stock Price',\n",
    "           x_range=(start_date, end_date),)\n",
    "# p.line(ticker_df.index, ticker_df['Open'], color = 'gray')\n",
    "p.line(ticker_df.index, ticker_df['Close'], color = 'black')\n",
    "\n",
    "p.circle('Date', 'Close', source=source, color = 'black',alpha=0.1,\n",
    "         hover_fill_color='firebrick', hover_alpha=1,\n",
    "         hover_line_color='white', size = 6)\n",
    "\n",
    "\n",
    "hover = HoverTool(tooltips = [\n",
    "                ('Date', '@event_date_formatted'),\n",
    "                ('Close Price', '@Close')])\n",
    "p.add_tools(hover)\n",
    "\n",
    "output_file('./images/' + ticker_symbol + '.html')\n",
    "show(p)"
   ]
  },
  {
   "cell_type": "markdown",
   "metadata": {},
   "source": [
    "## Tabbed layouts\n",
    "Listed below are tabs for FAANG and semi-conductor chip companies "
   ]
  },
  {
   "cell_type": "code",
   "execution_count": null,
   "metadata": {},
   "outputs": [],
   "source": [
    "#Build ticker data file \n",
    "def build_bokeh_figure(tickers):\n",
    "    full_df = pd.DataFrame()\n",
    "    for ticker_symbol in tickers: \n",
    "        ticker_data = yf.Ticker(ticker_symbol)\n",
    "        yf_df = pd.DataFrame(ticker_data.history(period='1mo', start='1970-1-1', end=dt.now()))\n",
    "        yf_df['Close_pct'] = yf_df['Close']/yf_df['Close'][0]\n",
    "        yf_df['ticker'] = ticker_symbol\n",
    "        full_df = pd.concat([full_df, yf_df], axis=0)\n",
    "\n",
    "    # collect data into ColumnDataSource and ColorMapper\n",
    "    source = ColumnDataSource(full_df.reset_index())\n",
    "    color_mapper = CategoricalColorMapper(factors=tickers,\n",
    "                                          palette=['red', 'green', 'blue','orange','black','cyan'])\n",
    "    # figure set up\n",
    "    p = figure(x_axis_type = 'datetime', x_axis_label = 'Date', \n",
    "               y_axis_type = 'log', y_axis_label = 'Change from inception (%)')\n",
    "\n",
    "    # figure scatter using CategoricalColorMapper\n",
    "    p.circle('Date', 'Close_pct', source=source, size =3, \n",
    "            color= dict(field = 'ticker', transform = color_mapper),\n",
    "            legend ='ticker')\n",
    "\n",
    "    p.legend.location = \"top_left\"\n",
    "    \n",
    "    return p "
   ]
  },
  {
   "cell_type": "code",
   "execution_count": null,
   "metadata": {},
   "outputs": [],
   "source": [
    "# Collect figures into a tabs\n",
    "from bokeh.models.widgets import Tabs, Panel\n",
    "\n",
    "p1 = build_bokeh_figure(['UXIN', 'GFN', 'NSSC'])\n",
    "p2 = build_bokeh_figure( ['WORK', 'LULU', 'COUP', 'HQY', 'ABM', 'PHR'])\n",
    "\n",
    "# Create tab1 from plot p1: tab1\n",
    "tab1 = Panel(child=p1, title='Tuesday Before Open')\n",
    "tab2 = Panel(child=p2, title='Tuesday After Close')\n",
    "\n",
    "# Create a Tabs layout: layout\n",
    "layout = Tabs(tabs=[tab1, tab2])\n",
    "\n",
    "output_file('./images/multi_ticker_scatter.html')\n",
    "show(layout)"
   ]
  }
 ],
 "metadata": {
  "kernelspec": {
   "display_name": "Python 3",
   "language": "python",
   "name": "python3"
  },
  "language_info": {
   "codemirror_mode": {
    "name": "ipython",
    "version": 3
   },
   "file_extension": ".py",
   "mimetype": "text/x-python",
   "name": "python",
   "nbconvert_exporter": "python",
   "pygments_lexer": "ipython3",
   "version": "3.8.3"
  }
 },
 "nbformat": 4,
 "nbformat_minor": 4
}
