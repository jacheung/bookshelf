{
 "cells": [
  {
   "cell_type": "code",
   "execution_count": 113,
   "metadata": {},
   "outputs": [],
   "source": [
    "import json\n",
    "from urllib.request import urlopen, Request\n",
    "import pandas as pd"
   ]
  },
  {
   "cell_type": "code",
   "execution_count": 105,
   "metadata": {},
   "outputs": [],
   "source": [
    "def read_url(url):\n",
    "    headers = {'User-Agent': 'Mozilla/5.0 (Windows NT 6.1) AppleWebKit/537.36 (KHTML, like Gecko) Chrome/41.0.2228.0 Safari/537.3'}\n",
    "    req_url = Request(url=url, headers=headers)\n",
    "    json_txt = json.loads(urlopen(req_url).read())\n",
    "    return json_txt\n",
    "\n",
    "def get_coin_info(coin_name):\n",
    "    coin_map = read_url('https://whattomine.com/calculators.json')\n",
    "    try:\n",
    "        map_id = coin_map['coins'][coin_name]['id']\n",
    "        coin_json = read_json_url('https://whattomine.com/coins/' + str(map_id) + '.json')\n",
    "        return coin_json\n",
    "    except KeyError:\n",
    "        print('Select from list of available coins:')\n",
    "        print(coin_map['coins'].keys())\n",
    "\n",
    "def get_coin_with_algorithm(algorithm):\n",
    "    coin_map = read_url('https://whattomine.com/calculators.json')\n",
    "    algo_list = []\n",
    "    coin_list = []\n",
    "    for coin in coin_map['coins'].keys():\n",
    "        algo = coin_map['coins'][coin]['algorithm']\n",
    "        algo_list.append(algo)\n",
    "        if algo == algorithm:\n",
    "            coin_list.append(coin)\n",
    "    if not coin_list:\n",
    "        print('No coins available with selected algorithm.')\n",
    "        print('Available algorithms are:')\n",
    "        print(sorted(set(algo_list)))\n",
    "        return set(algo_list)\n",
    "    return coin_list\n",
    "        "
   ]
  },
  {
   "cell_type": "code",
   "execution_count": 114,
   "metadata": {},
   "outputs": [],
   "source": [
    "df = pd.json_normalize(get_coin_info('Bitcoin'))"
   ]
  },
  {
   "cell_type": "code",
   "execution_count": 115,
   "metadata": {},
   "outputs": [
    {
     "data": {
      "text/html": [
       "<div>\n",
       "<style scoped>\n",
       "    .dataframe tbody tr th:only-of-type {\n",
       "        vertical-align: middle;\n",
       "    }\n",
       "\n",
       "    .dataframe tbody tr th {\n",
       "        vertical-align: top;\n",
       "    }\n",
       "\n",
       "    .dataframe thead th {\n",
       "        text-align: right;\n",
       "    }\n",
       "</style>\n",
       "<table border=\"1\" class=\"dataframe\">\n",
       "  <thead>\n",
       "    <tr style=\"text-align: right;\">\n",
       "      <th></th>\n",
       "      <th>id</th>\n",
       "      <th>name</th>\n",
       "      <th>tag</th>\n",
       "      <th>algorithm</th>\n",
       "      <th>block_time</th>\n",
       "      <th>block_reward</th>\n",
       "      <th>block_reward24</th>\n",
       "      <th>block_reward3</th>\n",
       "      <th>block_reward7</th>\n",
       "      <th>last_block</th>\n",
       "      <th>...</th>\n",
       "      <th>estimated_rewards</th>\n",
       "      <th>btc_revenue</th>\n",
       "      <th>revenue</th>\n",
       "      <th>cost</th>\n",
       "      <th>profit</th>\n",
       "      <th>status</th>\n",
       "      <th>lagging</th>\n",
       "      <th>testing</th>\n",
       "      <th>listed</th>\n",
       "      <th>timestamp</th>\n",
       "    </tr>\n",
       "  </thead>\n",
       "  <tbody>\n",
       "    <tr>\n",
       "      <th>0</th>\n",
       "      <td>1</td>\n",
       "      <td>Bitcoin</td>\n",
       "      <td>BTC</td>\n",
       "      <td>SHA-256</td>\n",
       "      <td>552.0</td>\n",
       "      <td>6.32539</td>\n",
       "      <td>6.312327</td>\n",
       "      <td>6.317897</td>\n",
       "      <td>6.329951</td>\n",
       "      <td>695003</td>\n",
       "      <td>...</td>\n",
       "      <td>0.000614</td>\n",
       "      <td>0.00061444</td>\n",
       "      <td>$28.29</td>\n",
       "      <td>$6.72</td>\n",
       "      <td>$21.57</td>\n",
       "      <td>Active</td>\n",
       "      <td>False</td>\n",
       "      <td>False</td>\n",
       "      <td>True</td>\n",
       "      <td>1628538168</td>\n",
       "    </tr>\n",
       "  </tbody>\n",
       "</table>\n",
       "<p>1 rows × 33 columns</p>\n",
       "</div>"
      ],
      "text/plain": [
       "   id     name  tag algorithm block_time  block_reward  block_reward24  \\\n",
       "0   1  Bitcoin  BTC   SHA-256      552.0       6.32539        6.312327   \n",
       "\n",
       "   block_reward3  block_reward7  last_block  ...  estimated_rewards  \\\n",
       "0       6.317897       6.329951      695003  ...           0.000614   \n",
       "\n",
       "   btc_revenue  revenue   cost  profit  status  lagging  testing  listed  \\\n",
       "0   0.00061444   $28.29  $6.72  $21.57  Active    False    False    True   \n",
       "\n",
       "    timestamp  \n",
       "0  1628538168  \n",
       "\n",
       "[1 rows x 33 columns]"
      ]
     },
     "execution_count": 115,
     "metadata": {},
     "output_type": "execute_result"
    }
   ],
   "source": [
    "df"
   ]
  }
 ],
 "metadata": {
  "kernelspec": {
   "display_name": "Python 3",
   "language": "python",
   "name": "python3"
  },
  "language_info": {
   "codemirror_mode": {
    "name": "ipython",
    "version": 3
   },
   "file_extension": ".py",
   "mimetype": "text/x-python",
   "name": "python",
   "nbconvert_exporter": "python",
   "pygments_lexer": "ipython3",
   "version": "3.8.5"
  }
 },
 "nbformat": 4,
 "nbformat_minor": 4
}
