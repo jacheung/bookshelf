{
 "cells": [
  {
   "cell_type": "code",
   "execution_count": 146,
   "metadata": {},
   "outputs": [],
   "source": [
    "import json\n",
    "from urllib.request import urlopen, Request\n",
    "import pandas as pd"
   ]
  },
  {
   "cell_type": "code",
   "execution_count": 147,
   "metadata": {},
   "outputs": [],
   "source": [
    "def read_url(url):\n",
    "    headers = {'User-Agent': 'Mozilla/5.0 (Windows NT 6.1) AppleWebKit/537.36 (KHTML, like Gecko) Chrome/41.0.2228.0 Safari/537.3'}\n",
    "    req_url = Request(url=url, headers=headers)\n",
    "    json_txt = json.loads(urlopen(req_url).read())\n",
    "    return json_txt\n",
    "\n",
    "def get_coin_info(coin_name):\n",
    "    coin_map = read_url('https://whattomine.com/calculators.json')\n",
    "    try:\n",
    "        map_id = coin_map['coins'][coin_name]['id']\n",
    "        coin_json = read_json_url('https://whattomine.com/coins/' + str(map_id) + '.json')\n",
    "        return coin_json\n",
    "    except KeyError:\n",
    "        print('Select from list of available coins:')\n",
    "        print(coin_map['coins'].keys())\n",
    "        return coin_map['coins'].keys()\n",
    "\n",
    "def get_coin_with_algorithm(algorithm):\n",
    "    coin_map = read_url('https://whattomine.com/calculators.json')\n",
    "    algo_list = []\n",
    "    coin_list = []\n",
    "    for coin in coin_map['coins'].keys():\n",
    "        algo = coin_map['coins'][coin]['algorithm']\n",
    "        algo_list.append(algo)\n",
    "        if algo == algorithm:\n",
    "            coin_list.append(coin)\n",
    "    if not coin_list:\n",
    "        print('No coins available with selected algorithm.')\n",
    "        print('Available algorithms are:')\n",
    "        print(sorted(set(algo_list)))\n",
    "        return set(algo_list)\n",
    "    return coin_list\n",
    "        "
   ]
  },
  {
   "cell_type": "code",
   "execution_count": 150,
   "metadata": {},
   "outputs": [
    {
     "name": "stdout",
     "output_type": "stream",
     "text": [
      "Select from list of available coins:\n",
      "dict_keys(['0xBitcoin', '365Coin', 'Aced', 'Actinium', 'Aiden', 'Adzcoin', 'Aeternity', 'Aeon', 'Argoneum', 'Aion', 'Ambercoin', 'Amsterdamcoin', 'Anon', 'ARG-SHA', 'ARG-Scrypt', 'Aricoin', 'Pirate', 'AUR-Scrypt', 'AUR-SHA', 'Axe', 'Azart', 'BitcoinDiamond', 'BitcoinCash', 'Bitcoin Interest', 'Bytecoin', 'Beam', 'Belacoin', 'Bitgesell', 'Bipcoin', 'Bismuth', 'BitCash', 'Bloc', 'Dobbscoin', 'BitSend', 'BlockStamp', 'GlobalBoost-Y', 'BitcoinSV', 'Bata', 'Bitcoin', 'BitcoinPrivate', 'BitcoinZ', 'BitcoinGold', 'Bytom', 'Bitmark', 'Bitcore', 'Burnercoin', 'Bulwark', 'Cachecoin', 'Cannabiscoin', 'BottleCaps', 'Litecash', 'Catcoin', 'Bullion', 'Conceal', 'Conflux', 'X-Children', 'Nervos', 'Checkcoin', 'Callisto', 'Cloakcoin', 'Commercium', 'CRowdCLassic', 'Creativecoin', 'Creamcoin', 'CrocodileCash', 'Crown', 'Cryptcoin', 'Crypto', 'Cortex', 'Curecoin', 'Denarius', 'Dash', 'Dubaicoin', 'Decred', 'Dinastycoin', 'Deutsche eMark', 'Dero', 'DGB-Scrypt', 'DGB-Qubit', 'DGB-Odocrypt', 'DGB-SHA', 'DGB-Skein', 'DGC-X11', 'DGC-Scrypt', 'DGC-SHA', 'Dinero', 'Diamond', 'Darknet', 'Dogecoin', 'DopeCoin', 'DigitalpriceClassic', 'Dashcoin', 'Parallel-Scrypt', 'Parallel-SHA', 'Earthcoin', 'EtherGem', 'Ellaism', 'Elliot', 'Einsteinium', 'Entropycoin', 'Experiencecoin', 'Ergo', 'EtherSocial', 'EthereumClassic', 'Ethereum', 'Etho', 'Electroneum', 'Electronero', 'Metaverse', 'Euno', 'Execoin', 'Exosis', 'Expanse', 'Fantomcoin', 'Firo', 'Folm', 'Florin', 'Fluttercoin', 'Flux', 'Freshcoin', 'Fastcoin', 'Feathercoin', 'GameCredits', 'Goldblocks', 'GoByte', 'GDenomination', 'Geocoin', 'Gexan', 'Gincoin', 'Globalcoin', 'Goalcoin', 'Graft', 'Grimm', 'Grin-CR29', 'Grin-CT31', 'Grin-CT32', 'Garlicoin', 'GroestlCoin', 'Gravium', 'Gentarium', 'Halcyon', 'Hanacoin', 'Heldcoin', 'Hirocoin', 'Hilux', 'Handshake', 'HelpTheHomeless', 'Hush', 'Heavycoin', 'Ivugeocoin', 'Imagecoin', 'Influxcoin', 'Innova', 'Jackpotcoin', 'Karmacoin', 'Kadena', 'Komodo', 'Krypton', 'Karbo', 'LBRY', 'LitecoinCash', 'LitecoinPlus', 'Logicoin', 'Legendarycoin', 'LimecoinX', 'Linx', 'Loki', 'Litecoin', 'LitecoinX', 'Lethean', 'Luxcoin', 'Magnet', 'Mano', 'Marucoin ', 'Maxcoin', 'Maza', 'MCT+', 'Megacoin', 'Kittehcoin', 'Millionaire', 'Mindcoin', 'Minex', 'Monacoin', 'Mooncoin', 'microCoin', 'Masari', 'MonetaryUnit', 'Muniti', 'Musicoin', 'MWC-CT31', 'MWC-CR29', 'Nautiluscoin', 'Nimiq', 'Nix', 'Gulden', 'Namecoin', 'Noblecoin', 'DNotes', 'Energi', 'Novacoin', 'Nexus', 'Nyancoin', 'DeepOnion', 'Onix', 'Orbitcoin', 'Galactrum', 'Paccoin', 'Pascalcoin', 'PascalLite', 'Pigeoncoin', 'Pengolincoin', 'Pinkcoin', 'Pirl', 'Potcoin', 'Peercoin', 'Phoenixcoin', 'Prime-XI', 'Québecoin', 'Quazarcoin', 'QuarkChain', 'Qyno', 'Quark', 'Quantum R L', 'Rubycoin', 'Reddcoin', 'Ripoffcoin', 'Rito', 'RonPaulCoin', 'Rupee', 'Ravencoin', 'Ryo', 'Razor', 'Saturn2coin', 'Sia', 'Scorecoin', 'Seraph', 'Sero', 'Shift', 'Sibcoin', 'Signatum', 'Sinovate', 'Skeincoin', 'Sterlingcoin', 'SmartCash', 'Smartcoin', 'Soilcoin', 'Sono', 'Spaincoin', 'Savecoin', 'Spider', 'SimpleBank', 'Securecoin', 'Straks', 'Startcoin', 'Sumokoin', 'Talkcoin', 'Tecra', 'Tent', 'Fedoracoin', 'Traid', 'Turtlecoin', 'BitTubeCash', 'Trezarcoin', 'Ubiq', 'Unbreakable', 'Universal', 'Unobtanium', 'eUtopium', 'uPlexa', 'Urocoin', 'USDe', 'Ultracoin', 'Vidulum', 'Veil-SHA', 'Veil-RandomX', 'Veil-ProgPow', 'Veilcoin', 'Viacoin', 'Vivo', 'VirtualMining', 'Verus', 'Vertcoin', 'Vertical', 'Worldcoin', 'X11', 'Cryptonite', 'DigitalNote', 'XDNA', 'Equilibria', 'Honorcoin', 'HavenProtocol', 'Scala', 'Solaris', 'Monoeci', 'Motion', 'MoneroOriginal', 'Monero', 'Myriad-Argon2d', 'Myriad-SHA', 'Myriad-Scrypt', 'Myriad-Groestl', 'Myriad-Yescrypt', 'Paycoin', 'xRhodium', 'Vcash', 'Verge-Lyra2REv2', 'Verge-X17', 'Verge-Blake (2s)', 'Verge-Groestl', 'Verge-Scrypt', 'Swap', 'YACoin', 'Ycash', 'Zano', 'Zclassic', 'Zcash', 'Horizen', 'Zero', 'Zetacoin', '01coin'])\n"
     ]
    },
    {
     "ename": "AttributeError",
     "evalue": "'str' object has no attribute 'values'",
     "output_type": "error",
     "traceback": [
      "\u001b[1;31m---------------------------------------------------------------------------\u001b[0m",
      "\u001b[1;31mAttributeError\u001b[0m                            Traceback (most recent call last)",
      "\u001b[1;32m<ipython-input-150-ef8e7b5e10b4>\u001b[0m in \u001b[0;36m<module>\u001b[1;34m\u001b[0m\n\u001b[1;32m----> 1\u001b[1;33m \u001b[0mdf\u001b[0m \u001b[1;33m=\u001b[0m \u001b[0mpd\u001b[0m\u001b[1;33m.\u001b[0m\u001b[0mjson_normalize\u001b[0m\u001b[1;33m(\u001b[0m\u001b[0mget_coin_info\u001b[0m\u001b[1;33m(\u001b[0m\u001b[1;34m'Cardano'\u001b[0m\u001b[1;33m)\u001b[0m\u001b[1;33m)\u001b[0m\u001b[1;33m\u001b[0m\u001b[1;33m\u001b[0m\u001b[0m\n\u001b[0m",
      "\u001b[1;32m~\\Anaconda3\\lib\\site-packages\\pandas\\io\\json\\_normalize.py\u001b[0m in \u001b[0;36m_json_normalize\u001b[1;34m(data, record_path, meta, meta_prefix, record_prefix, errors, sep, max_level)\u001b[0m\n\u001b[0;32m    268\u001b[0m \u001b[1;33m\u001b[0m\u001b[0m\n\u001b[0;32m    269\u001b[0m     \u001b[1;32mif\u001b[0m \u001b[0mrecord_path\u001b[0m \u001b[1;32mis\u001b[0m \u001b[1;32mNone\u001b[0m\u001b[1;33m:\u001b[0m\u001b[1;33m\u001b[0m\u001b[1;33m\u001b[0m\u001b[0m\n\u001b[1;32m--> 270\u001b[1;33m         \u001b[1;32mif\u001b[0m \u001b[0many\u001b[0m\u001b[1;33m(\u001b[0m\u001b[1;33m[\u001b[0m\u001b[0misinstance\u001b[0m\u001b[1;33m(\u001b[0m\u001b[0mx\u001b[0m\u001b[1;33m,\u001b[0m \u001b[0mdict\u001b[0m\u001b[1;33m)\u001b[0m \u001b[1;32mfor\u001b[0m \u001b[0mx\u001b[0m \u001b[1;32min\u001b[0m \u001b[0my\u001b[0m\u001b[1;33m.\u001b[0m\u001b[0mvalues\u001b[0m\u001b[1;33m(\u001b[0m\u001b[1;33m)\u001b[0m\u001b[1;33m]\u001b[0m \u001b[1;32mfor\u001b[0m \u001b[0my\u001b[0m \u001b[1;32min\u001b[0m \u001b[0mdata\u001b[0m\u001b[1;33m)\u001b[0m\u001b[1;33m:\u001b[0m\u001b[1;33m\u001b[0m\u001b[1;33m\u001b[0m\u001b[0m\n\u001b[0m\u001b[0;32m    271\u001b[0m             \u001b[1;31m# naive normalization, this is idempotent for flat records\u001b[0m\u001b[1;33m\u001b[0m\u001b[1;33m\u001b[0m\u001b[1;33m\u001b[0m\u001b[0m\n\u001b[0;32m    272\u001b[0m             \u001b[1;31m# and potentially will inflate the data considerably for\u001b[0m\u001b[1;33m\u001b[0m\u001b[1;33m\u001b[0m\u001b[1;33m\u001b[0m\u001b[0m\n",
      "\u001b[1;32m~\\Anaconda3\\lib\\site-packages\\pandas\\io\\json\\_normalize.py\u001b[0m in \u001b[0;36m<genexpr>\u001b[1;34m(.0)\u001b[0m\n\u001b[0;32m    268\u001b[0m \u001b[1;33m\u001b[0m\u001b[0m\n\u001b[0;32m    269\u001b[0m     \u001b[1;32mif\u001b[0m \u001b[0mrecord_path\u001b[0m \u001b[1;32mis\u001b[0m \u001b[1;32mNone\u001b[0m\u001b[1;33m:\u001b[0m\u001b[1;33m\u001b[0m\u001b[1;33m\u001b[0m\u001b[0m\n\u001b[1;32m--> 270\u001b[1;33m         \u001b[1;32mif\u001b[0m \u001b[0many\u001b[0m\u001b[1;33m(\u001b[0m\u001b[1;33m[\u001b[0m\u001b[0misinstance\u001b[0m\u001b[1;33m(\u001b[0m\u001b[0mx\u001b[0m\u001b[1;33m,\u001b[0m \u001b[0mdict\u001b[0m\u001b[1;33m)\u001b[0m \u001b[1;32mfor\u001b[0m \u001b[0mx\u001b[0m \u001b[1;32min\u001b[0m \u001b[0my\u001b[0m\u001b[1;33m.\u001b[0m\u001b[0mvalues\u001b[0m\u001b[1;33m(\u001b[0m\u001b[1;33m)\u001b[0m\u001b[1;33m]\u001b[0m \u001b[1;32mfor\u001b[0m \u001b[0my\u001b[0m \u001b[1;32min\u001b[0m \u001b[0mdata\u001b[0m\u001b[1;33m)\u001b[0m\u001b[1;33m:\u001b[0m\u001b[1;33m\u001b[0m\u001b[1;33m\u001b[0m\u001b[0m\n\u001b[0m\u001b[0;32m    271\u001b[0m             \u001b[1;31m# naive normalization, this is idempotent for flat records\u001b[0m\u001b[1;33m\u001b[0m\u001b[1;33m\u001b[0m\u001b[1;33m\u001b[0m\u001b[0m\n\u001b[0;32m    272\u001b[0m             \u001b[1;31m# and potentially will inflate the data considerably for\u001b[0m\u001b[1;33m\u001b[0m\u001b[1;33m\u001b[0m\u001b[1;33m\u001b[0m\u001b[0m\n",
      "\u001b[1;31mAttributeError\u001b[0m: 'str' object has no attribute 'values'"
     ]
    }
   ],
   "source": [
    "df = pd.json_normalize(get_coin_info('Cardano'))\n"
   ]
  },
  {
   "cell_type": "code",
   "execution_count": 149,
   "metadata": {},
   "outputs": [
    {
     "data": {
      "text/html": [
       "<div>\n",
       "<style scoped>\n",
       "    .dataframe tbody tr th:only-of-type {\n",
       "        vertical-align: middle;\n",
       "    }\n",
       "\n",
       "    .dataframe tbody tr th {\n",
       "        vertical-align: top;\n",
       "    }\n",
       "\n",
       "    .dataframe thead th {\n",
       "        text-align: right;\n",
       "    }\n",
       "</style>\n",
       "<table border=\"1\" class=\"dataframe\">\n",
       "  <thead>\n",
       "    <tr style=\"text-align: right;\">\n",
       "      <th></th>\n",
       "      <th>id</th>\n",
       "      <th>name</th>\n",
       "      <th>tag</th>\n",
       "      <th>algorithm</th>\n",
       "      <th>block_time</th>\n",
       "      <th>block_reward</th>\n",
       "      <th>block_reward24</th>\n",
       "      <th>block_reward3</th>\n",
       "      <th>block_reward7</th>\n",
       "      <th>last_block</th>\n",
       "      <th>...</th>\n",
       "      <th>estimated_rewards</th>\n",
       "      <th>btc_revenue</th>\n",
       "      <th>revenue</th>\n",
       "      <th>cost</th>\n",
       "      <th>profit</th>\n",
       "      <th>status</th>\n",
       "      <th>lagging</th>\n",
       "      <th>testing</th>\n",
       "      <th>listed</th>\n",
       "      <th>timestamp</th>\n",
       "    </tr>\n",
       "  </thead>\n",
       "  <tbody>\n",
       "    <tr>\n",
       "      <th>0</th>\n",
       "      <td>1</td>\n",
       "      <td>Bitcoin</td>\n",
       "      <td>BTC</td>\n",
       "      <td>SHA-256</td>\n",
       "      <td>478.0</td>\n",
       "      <td>6.300364</td>\n",
       "      <td>6.303379</td>\n",
       "      <td>6.344516</td>\n",
       "      <td>6.33721</td>\n",
       "      <td>696003</td>\n",
       "      <td>...</td>\n",
       "      <td>0.000570</td>\n",
       "      <td>0.00057032</td>\n",
       "      <td>$27.03</td>\n",
       "      <td>$6.72</td>\n",
       "      <td>$20.31</td>\n",
       "      <td>Active</td>\n",
       "      <td>False</td>\n",
       "      <td>False</td>\n",
       "      <td>True</td>\n",
       "      <td>1629085256</td>\n",
       "    </tr>\n",
       "  </tbody>\n",
       "</table>\n",
       "<p>1 rows × 33 columns</p>\n",
       "</div>"
      ],
      "text/plain": [
       "   id     name  tag algorithm block_time  block_reward  block_reward24  \\\n",
       "0   1  Bitcoin  BTC   SHA-256      478.0      6.300364        6.303379   \n",
       "\n",
       "   block_reward3  block_reward7  last_block  ...  estimated_rewards  \\\n",
       "0       6.344516        6.33721      696003  ...           0.000570   \n",
       "\n",
       "   btc_revenue  revenue   cost  profit  status  lagging  testing  listed  \\\n",
       "0   0.00057032   $27.03  $6.72  $20.31  Active    False    False    True   \n",
       "\n",
       "    timestamp  \n",
       "0  1629085256  \n",
       "\n",
       "[1 rows x 33 columns]"
      ]
     },
     "execution_count": 149,
     "metadata": {},
     "output_type": "execute_result"
    }
   ],
   "source": [
    "df"
   ]
  },
  {
   "cell_type": "code",
   "execution_count": 145,
   "metadata": {},
   "outputs": [
    {
     "ename": "NameError",
     "evalue": "name 'pause' is not defined",
     "output_type": "error",
     "traceback": [
      "\u001b[1;31m---------------------------------------------------------------------------\u001b[0m",
      "\u001b[1;31mHTTPError\u001b[0m                                 Traceback (most recent call last)",
      "\u001b[1;32m<ipython-input-145-077ae6895534>\u001b[0m in \u001b[0;36m<module>\u001b[1;34m\u001b[0m\n\u001b[0;32m      3\u001b[0m     \u001b[1;32mtry\u001b[0m\u001b[1;33m:\u001b[0m\u001b[1;33m\u001b[0m\u001b[1;33m\u001b[0m\u001b[0m\n\u001b[1;32m----> 4\u001b[1;33m         \u001b[0mdf\u001b[0m \u001b[1;33m=\u001b[0m \u001b[0mpd\u001b[0m\u001b[1;33m.\u001b[0m\u001b[0mconcat\u001b[0m\u001b[1;33m(\u001b[0m\u001b[1;33m[\u001b[0m\u001b[0mdf\u001b[0m\u001b[1;33m,\u001b[0m \u001b[0mpd\u001b[0m\u001b[1;33m.\u001b[0m\u001b[0mjson_normalize\u001b[0m\u001b[1;33m(\u001b[0m\u001b[0mget_coin_info\u001b[0m\u001b[1;33m(\u001b[0m\u001b[0mcoin\u001b[0m\u001b[1;33m)\u001b[0m\u001b[1;33m)\u001b[0m\u001b[1;33m]\u001b[0m\u001b[1;33m)\u001b[0m\u001b[1;33m\u001b[0m\u001b[1;33m\u001b[0m\u001b[0m\n\u001b[0m\u001b[0;32m      5\u001b[0m     \u001b[1;32mexcept\u001b[0m\u001b[1;33m:\u001b[0m\u001b[1;33m\u001b[0m\u001b[1;33m\u001b[0m\u001b[0m\n",
      "\u001b[1;32m<ipython-input-122-2c079c0300d9>\u001b[0m in \u001b[0;36mget_coin_info\u001b[1;34m(coin_name)\u001b[0m\n\u001b[0;32m     10\u001b[0m         \u001b[0mmap_id\u001b[0m \u001b[1;33m=\u001b[0m \u001b[0mcoin_map\u001b[0m\u001b[1;33m[\u001b[0m\u001b[1;34m'coins'\u001b[0m\u001b[1;33m]\u001b[0m\u001b[1;33m[\u001b[0m\u001b[0mcoin_name\u001b[0m\u001b[1;33m]\u001b[0m\u001b[1;33m[\u001b[0m\u001b[1;34m'id'\u001b[0m\u001b[1;33m]\u001b[0m\u001b[1;33m\u001b[0m\u001b[1;33m\u001b[0m\u001b[0m\n\u001b[1;32m---> 11\u001b[1;33m         \u001b[0mcoin_json\u001b[0m \u001b[1;33m=\u001b[0m \u001b[0mread_json_url\u001b[0m\u001b[1;33m(\u001b[0m\u001b[1;34m'https://whattomine.com/coins/'\u001b[0m \u001b[1;33m+\u001b[0m \u001b[0mstr\u001b[0m\u001b[1;33m(\u001b[0m\u001b[0mmap_id\u001b[0m\u001b[1;33m)\u001b[0m \u001b[1;33m+\u001b[0m \u001b[1;34m'.json'\u001b[0m\u001b[1;33m)\u001b[0m\u001b[1;33m\u001b[0m\u001b[1;33m\u001b[0m\u001b[0m\n\u001b[0m\u001b[0;32m     12\u001b[0m         \u001b[1;32mreturn\u001b[0m \u001b[0mcoin_json\u001b[0m\u001b[1;33m\u001b[0m\u001b[1;33m\u001b[0m\u001b[0m\n",
      "\u001b[1;32m<ipython-input-22-817b36263237>\u001b[0m in \u001b[0;36mread_json_url\u001b[1;34m(url)\u001b[0m\n\u001b[0;32m      3\u001b[0m     \u001b[0mreq_url\u001b[0m \u001b[1;33m=\u001b[0m \u001b[0mRequest\u001b[0m\u001b[1;33m(\u001b[0m\u001b[0murl\u001b[0m\u001b[1;33m=\u001b[0m\u001b[0murl\u001b[0m\u001b[1;33m,\u001b[0m \u001b[0mheaders\u001b[0m\u001b[1;33m=\u001b[0m\u001b[0mheaders\u001b[0m\u001b[1;33m)\u001b[0m\u001b[1;33m\u001b[0m\u001b[1;33m\u001b[0m\u001b[0m\n\u001b[1;32m----> 4\u001b[1;33m     \u001b[0mjson_txt\u001b[0m \u001b[1;33m=\u001b[0m \u001b[0mjson\u001b[0m\u001b[1;33m.\u001b[0m\u001b[0mloads\u001b[0m\u001b[1;33m(\u001b[0m\u001b[0murlopen\u001b[0m\u001b[1;33m(\u001b[0m\u001b[0mreq_url\u001b[0m\u001b[1;33m)\u001b[0m\u001b[1;33m.\u001b[0m\u001b[0mread\u001b[0m\u001b[1;33m(\u001b[0m\u001b[1;33m)\u001b[0m\u001b[1;33m)\u001b[0m\u001b[1;33m\u001b[0m\u001b[1;33m\u001b[0m\u001b[0m\n\u001b[0m\u001b[0;32m      5\u001b[0m     \u001b[1;32mreturn\u001b[0m \u001b[0mjson_txt\u001b[0m\u001b[1;33m\u001b[0m\u001b[1;33m\u001b[0m\u001b[0m\n",
      "\u001b[1;32m~\\Anaconda3\\lib\\urllib\\request.py\u001b[0m in \u001b[0;36murlopen\u001b[1;34m(url, data, timeout, cafile, capath, cadefault, context)\u001b[0m\n\u001b[0;32m    221\u001b[0m         \u001b[0mopener\u001b[0m \u001b[1;33m=\u001b[0m \u001b[0m_opener\u001b[0m\u001b[1;33m\u001b[0m\u001b[1;33m\u001b[0m\u001b[0m\n\u001b[1;32m--> 222\u001b[1;33m     \u001b[1;32mreturn\u001b[0m \u001b[0mopener\u001b[0m\u001b[1;33m.\u001b[0m\u001b[0mopen\u001b[0m\u001b[1;33m(\u001b[0m\u001b[0murl\u001b[0m\u001b[1;33m,\u001b[0m \u001b[0mdata\u001b[0m\u001b[1;33m,\u001b[0m \u001b[0mtimeout\u001b[0m\u001b[1;33m)\u001b[0m\u001b[1;33m\u001b[0m\u001b[1;33m\u001b[0m\u001b[0m\n\u001b[0m\u001b[0;32m    223\u001b[0m \u001b[1;33m\u001b[0m\u001b[0m\n",
      "\u001b[1;32m~\\Anaconda3\\lib\\urllib\\request.py\u001b[0m in \u001b[0;36mopen\u001b[1;34m(self, fullurl, data, timeout)\u001b[0m\n\u001b[0;32m    530\u001b[0m             \u001b[0mmeth\u001b[0m \u001b[1;33m=\u001b[0m \u001b[0mgetattr\u001b[0m\u001b[1;33m(\u001b[0m\u001b[0mprocessor\u001b[0m\u001b[1;33m,\u001b[0m \u001b[0mmeth_name\u001b[0m\u001b[1;33m)\u001b[0m\u001b[1;33m\u001b[0m\u001b[1;33m\u001b[0m\u001b[0m\n\u001b[1;32m--> 531\u001b[1;33m             \u001b[0mresponse\u001b[0m \u001b[1;33m=\u001b[0m \u001b[0mmeth\u001b[0m\u001b[1;33m(\u001b[0m\u001b[0mreq\u001b[0m\u001b[1;33m,\u001b[0m \u001b[0mresponse\u001b[0m\u001b[1;33m)\u001b[0m\u001b[1;33m\u001b[0m\u001b[1;33m\u001b[0m\u001b[0m\n\u001b[0m\u001b[0;32m    532\u001b[0m \u001b[1;33m\u001b[0m\u001b[0m\n",
      "\u001b[1;32m~\\Anaconda3\\lib\\urllib\\request.py\u001b[0m in \u001b[0;36mhttp_response\u001b[1;34m(self, request, response)\u001b[0m\n\u001b[0;32m    639\u001b[0m         \u001b[1;32mif\u001b[0m \u001b[1;32mnot\u001b[0m \u001b[1;33m(\u001b[0m\u001b[1;36m200\u001b[0m \u001b[1;33m<=\u001b[0m \u001b[0mcode\u001b[0m \u001b[1;33m<\u001b[0m \u001b[1;36m300\u001b[0m\u001b[1;33m)\u001b[0m\u001b[1;33m:\u001b[0m\u001b[1;33m\u001b[0m\u001b[1;33m\u001b[0m\u001b[0m\n\u001b[1;32m--> 640\u001b[1;33m             response = self.parent.error(\n\u001b[0m\u001b[0;32m    641\u001b[0m                 'http', request, response, code, msg, hdrs)\n",
      "\u001b[1;32m~\\Anaconda3\\lib\\urllib\\request.py\u001b[0m in \u001b[0;36merror\u001b[1;34m(self, proto, *args)\u001b[0m\n\u001b[0;32m    568\u001b[0m             \u001b[0margs\u001b[0m \u001b[1;33m=\u001b[0m \u001b[1;33m(\u001b[0m\u001b[0mdict\u001b[0m\u001b[1;33m,\u001b[0m \u001b[1;34m'default'\u001b[0m\u001b[1;33m,\u001b[0m \u001b[1;34m'http_error_default'\u001b[0m\u001b[1;33m)\u001b[0m \u001b[1;33m+\u001b[0m \u001b[0morig_args\u001b[0m\u001b[1;33m\u001b[0m\u001b[1;33m\u001b[0m\u001b[0m\n\u001b[1;32m--> 569\u001b[1;33m             \u001b[1;32mreturn\u001b[0m \u001b[0mself\u001b[0m\u001b[1;33m.\u001b[0m\u001b[0m_call_chain\u001b[0m\u001b[1;33m(\u001b[0m\u001b[1;33m*\u001b[0m\u001b[0margs\u001b[0m\u001b[1;33m)\u001b[0m\u001b[1;33m\u001b[0m\u001b[1;33m\u001b[0m\u001b[0m\n\u001b[0m\u001b[0;32m    570\u001b[0m \u001b[1;33m\u001b[0m\u001b[0m\n",
      "\u001b[1;32m~\\Anaconda3\\lib\\urllib\\request.py\u001b[0m in \u001b[0;36m_call_chain\u001b[1;34m(self, chain, kind, meth_name, *args)\u001b[0m\n\u001b[0;32m    501\u001b[0m             \u001b[0mfunc\u001b[0m \u001b[1;33m=\u001b[0m \u001b[0mgetattr\u001b[0m\u001b[1;33m(\u001b[0m\u001b[0mhandler\u001b[0m\u001b[1;33m,\u001b[0m \u001b[0mmeth_name\u001b[0m\u001b[1;33m)\u001b[0m\u001b[1;33m\u001b[0m\u001b[1;33m\u001b[0m\u001b[0m\n\u001b[1;32m--> 502\u001b[1;33m             \u001b[0mresult\u001b[0m \u001b[1;33m=\u001b[0m \u001b[0mfunc\u001b[0m\u001b[1;33m(\u001b[0m\u001b[1;33m*\u001b[0m\u001b[0margs\u001b[0m\u001b[1;33m)\u001b[0m\u001b[1;33m\u001b[0m\u001b[1;33m\u001b[0m\u001b[0m\n\u001b[0m\u001b[0;32m    503\u001b[0m             \u001b[1;32mif\u001b[0m \u001b[0mresult\u001b[0m \u001b[1;32mis\u001b[0m \u001b[1;32mnot\u001b[0m \u001b[1;32mNone\u001b[0m\u001b[1;33m:\u001b[0m\u001b[1;33m\u001b[0m\u001b[1;33m\u001b[0m\u001b[0m\n",
      "\u001b[1;32m~\\Anaconda3\\lib\\urllib\\request.py\u001b[0m in \u001b[0;36mhttp_error_default\u001b[1;34m(self, req, fp, code, msg, hdrs)\u001b[0m\n\u001b[0;32m    648\u001b[0m     \u001b[1;32mdef\u001b[0m \u001b[0mhttp_error_default\u001b[0m\u001b[1;33m(\u001b[0m\u001b[0mself\u001b[0m\u001b[1;33m,\u001b[0m \u001b[0mreq\u001b[0m\u001b[1;33m,\u001b[0m \u001b[0mfp\u001b[0m\u001b[1;33m,\u001b[0m \u001b[0mcode\u001b[0m\u001b[1;33m,\u001b[0m \u001b[0mmsg\u001b[0m\u001b[1;33m,\u001b[0m \u001b[0mhdrs\u001b[0m\u001b[1;33m)\u001b[0m\u001b[1;33m:\u001b[0m\u001b[1;33m\u001b[0m\u001b[1;33m\u001b[0m\u001b[0m\n\u001b[1;32m--> 649\u001b[1;33m         \u001b[1;32mraise\u001b[0m \u001b[0mHTTPError\u001b[0m\u001b[1;33m(\u001b[0m\u001b[0mreq\u001b[0m\u001b[1;33m.\u001b[0m\u001b[0mfull_url\u001b[0m\u001b[1;33m,\u001b[0m \u001b[0mcode\u001b[0m\u001b[1;33m,\u001b[0m \u001b[0mmsg\u001b[0m\u001b[1;33m,\u001b[0m \u001b[0mhdrs\u001b[0m\u001b[1;33m,\u001b[0m \u001b[0mfp\u001b[0m\u001b[1;33m)\u001b[0m\u001b[1;33m\u001b[0m\u001b[1;33m\u001b[0m\u001b[0m\n\u001b[0m\u001b[0;32m    650\u001b[0m \u001b[1;33m\u001b[0m\u001b[0m\n",
      "\u001b[1;31mHTTPError\u001b[0m: HTTP Error 403: Forbidden",
      "\nDuring handling of the above exception, another exception occurred:\n",
      "\u001b[1;31mNameError\u001b[0m                                 Traceback (most recent call last)",
      "\u001b[1;32m<ipython-input-145-077ae6895534>\u001b[0m in \u001b[0;36m<module>\u001b[1;34m\u001b[0m\n\u001b[0;32m      4\u001b[0m         \u001b[0mdf\u001b[0m \u001b[1;33m=\u001b[0m \u001b[0mpd\u001b[0m\u001b[1;33m.\u001b[0m\u001b[0mconcat\u001b[0m\u001b[1;33m(\u001b[0m\u001b[1;33m[\u001b[0m\u001b[0mdf\u001b[0m\u001b[1;33m,\u001b[0m \u001b[0mpd\u001b[0m\u001b[1;33m.\u001b[0m\u001b[0mjson_normalize\u001b[0m\u001b[1;33m(\u001b[0m\u001b[0mget_coin_info\u001b[0m\u001b[1;33m(\u001b[0m\u001b[0mcoin\u001b[0m\u001b[1;33m)\u001b[0m\u001b[1;33m)\u001b[0m\u001b[1;33m]\u001b[0m\u001b[1;33m)\u001b[0m\u001b[1;33m\u001b[0m\u001b[1;33m\u001b[0m\u001b[0m\n\u001b[0;32m      5\u001b[0m     \u001b[1;32mexcept\u001b[0m\u001b[1;33m:\u001b[0m\u001b[1;33m\u001b[0m\u001b[1;33m\u001b[0m\u001b[0m\n\u001b[1;32m----> 6\u001b[1;33m         \u001b[0mpause\u001b[0m\u001b[1;33m(\u001b[0m\u001b[1;36m5\u001b[0m\u001b[1;33m)\u001b[0m\u001b[1;33m\u001b[0m\u001b[1;33m\u001b[0m\u001b[0m\n\u001b[0m\u001b[0;32m      7\u001b[0m         \u001b[0mprint\u001b[0m\u001b[1;33m(\u001b[0m\u001b[1;34m'skipping'\u001b[0m\u001b[1;33m,\u001b[0m \u001b[0mcoin\u001b[0m\u001b[1;33m,\u001b[0m\u001b[1;34m'...'\u001b[0m\u001b[1;33m)\u001b[0m\u001b[1;33m\u001b[0m\u001b[1;33m\u001b[0m\u001b[0m\n",
      "\u001b[1;31mNameError\u001b[0m: name 'pause' is not defined"
     ]
    }
   ],
   "source": [
    "df = pd.DataFrame()\n",
    "for coin in coin_map['coins'].keys():\n",
    "    try:\n",
    "        df = pd.concat([df, pd.json_normalize(get_coin_info(coin))])\n",
    "    except:\n",
    "        pause(5)\n",
    "        print('skipping', coin,'...')"
   ]
  },
  {
   "cell_type": "code",
   "execution_count": 144,
   "metadata": {},
   "outputs": [
    {
     "data": {
      "text/plain": [
       "{'id': 101,\n",
       " 'name': 'Monero',\n",
       " 'tag': 'XMR',\n",
       " 'algorithm': 'RandomX',\n",
       " 'block_time': '119.0',\n",
       " 'block_reward': 0.911317566201,\n",
       " 'block_reward24': 0.916563102139242,\n",
       " 'block_reward3': 0.9171761797870848,\n",
       " 'block_reward7': 0.9209552874018085,\n",
       " 'last_block': 2424167,\n",
       " 'difficulty': 319294256740.0,\n",
       " 'difficulty24': 318141654164.922,\n",
       " 'difficulty3': 320686656573.5353,\n",
       " 'difficulty7': 318520252375.7229,\n",
       " 'nethash': 2683145014,\n",
       " 'exchange_rate': 0.005791,\n",
       " 'exchange_rate24': 0.00582912952646239,\n",
       " 'exchange_rate3': 0.005929617712524504,\n",
       " 'exchange_rate7': 0.0060471724720343074,\n",
       " 'exchange_rate_vol': 228.53420368,\n",
       " 'exchange_rate_curr': 'BTC',\n",
       " 'market_cap': '$4,686,349,263',\n",
       " 'pool_fee': '0.000000',\n",
       " 'estimated_rewards': '0.000349',\n",
       " 'btc_revenue': '0.00000202',\n",
       " 'revenue': '$0.09',\n",
       " 'cost': '$0.65',\n",
       " 'profit': '-$0.56',\n",
       " 'status': 'Active',\n",
       " 'lagging': False,\n",
       " 'testing': False,\n",
       " 'listed': True,\n",
       " 'timestamp': 1628618064}"
      ]
     },
     "execution_count": 144,
     "metadata": {},
     "output_type": "execute_result"
    }
   ],
   "source": [
    "get_coin_info('Monero')"
   ]
  },
  {
   "cell_type": "code",
   "execution_count": 139,
   "metadata": {},
   "outputs": [
    {
     "data": {
      "image/png": "[encoded data removed]",
      "text/plain": [
       "<Figure size 432x288 with 1 Axes>"
      ]
     },
     "metadata": {
      "needs_background": "light"
     },
     "output_type": "display_data"
    }
   ],
   "source": [
    "import matplotlib.pyplot as plt\n",
    "import seaborn as sns\n",
    "\n",
    "sns.scatterplot(x='difficulty', y='btc_revenue', data=df)\n",
    "plt.xscale('log')\n",
    "plt.yscale('log')\n",
    "plt.show()"
   ]
  }
 ],
 "metadata": {
  "kernelspec": {
   "display_name": "Python 3",
   "language": "python",
   "name": "python3"
  },
  "language_info": {
   "codemirror_mode": {
    "name": "ipython",
    "version": 3
   },
   "file_extension": ".py",
   "mimetype": "text/x-python",
   "name": "python",
   "nbconvert_exporter": "python",
   "pygments_lexer": "ipython3",
   "version": "3.8.5"
  }
 },
 "nbformat": 4,
 "nbformat_minor": 4
}
