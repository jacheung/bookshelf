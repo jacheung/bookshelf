{
 "cells": [
  {
   "cell_type": "markdown",
   "metadata": {},
   "source": [
    "problem 1-1 asymptotic practice\n",
    "\n",
    "a) \n",
    "- f1 = O(nlogn)\n",
    "- f2 = O(n)\n",
    "- f3 = O(1**n)\n",
    "- f4 = O(n2)\n",
    "\n",
    "increasing order... \n",
    "f3 > f4 > f1 > f2 \n",
    "\n",
    "b) \n",
    "- f1 = O(1)\n",
    "- f2 = O(2**n)\n",
    "- f3 = O(n!)\n",
    "- f4 = O(n)\n",
    "\n",
    "f3 > f2 > f4 > f1 \n",
    "\n",
    "c)\n",
    "- f1 = O(n**(n**1/2))\n",
    "- f2 = O(2**n)\n",
    "- f3 = O(n**10)\n",
    "- f4 = O(n)\n",
    "\n",
    "f2 > f1 > f3 > f4"
   ]
  }
 ],
 "metadata": {
  "kernelspec": {
   "display_name": "Python 3",
   "language": "python",
   "name": "python3"
  },
  "language_info": {
   "codemirror_mode": {
    "name": "ipython",
    "version": 3
   },
   "file_extension": ".py",
   "mimetype": "text/x-python",
   "name": "python",
   "nbconvert_exporter": "python",
   "pygments_lexer": "ipython3",
   "version": "3.8.5"
  }
 },
 "nbformat": 4,
 "nbformat_minor": 4
}
