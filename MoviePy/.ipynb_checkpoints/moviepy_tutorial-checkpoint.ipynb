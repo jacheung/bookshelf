{
 "cells": [
  {
   "cell_type": "markdown",
   "metadata": {},
   "source": [
    "# Option 1) Create movie from image stack"
   ]
  },
  {
   "cell_type": "code",
   "execution_count": null,
   "metadata": {},
   "outputs": [],
   "source": [
    "# import necessary libraries \n",
    "import os\n",
    "from moviepy.editor import ImageClip, concatenate_videoclips\n",
    "from IPython.display import Image"
   ]
  },
  {
   "cell_type": "code",
   "execution_count": null,
   "metadata": {},
   "outputs": [],
   "source": [
    "# image directory and find all file names within there\n",
    "img_dir = os.getcwd() + '\\\\MSAI_cycle_change\\\\raw_images\\\\ANA_new\\\\'\n",
    "img_names = os.listdir(img_dir)\n",
    "img_files = [img_dir + k for k in img_names]\n",
    "\n",
    "# view one image\n",
    "Image(filename = img_files[0])"
   ]
  },
  {
   "cell_type": "code",
   "execution_count": null,
   "metadata": {},
   "outputs": [],
   "source": [
    "# set duration for each image to be 2 seconds\n",
    "clips = [ImageClip(m).set_duration(2) for m in img_files]\n",
    "\n",
    "# stack clips and save video file\n",
    "concat_clip = concatenate_videoclips(clips)\n",
    "concat_clip.write_videofile(os.getcwd() + '\\\\MSAI_cycle_change\\\\ANA_new.mp4', fps = 24)"
   ]
  },
  {
   "cell_type": "markdown",
   "metadata": {},
   "source": [
    "# Option 2: Animate a time-series plot\n"
   ]
  },
  {
   "cell_type": "code",
   "execution_count": null,
   "metadata": {},
   "outputs": [],
   "source": [
    "import os\n",
    "\n",
    "# scientific computing and plotting tools\n",
    "import numpy as np\n",
    "import scipy.io as sio\n",
    "import matplotlib.pyplot as plt\n",
    "\n",
    "# moviepy functions\n",
    "import moviepy as mpy\n",
    "from moviepy.editor import VideoClip, VideoFileClip, clips_array\n",
    "from moviepy.video.io.bindings import mplfig_to_npimage"
   ]
  },
  {
   "cell_type": "code",
   "execution_count": null,
   "metadata": {},
   "outputs": [],
   "source": [
    "# top level parameters for data/video directory and video length\n",
    "animation_duration = 20 # in seconds\n",
    "video_directory = os.getcwd() + '\\\\localization_trial_animation\\\\raw\\\\test_video.mp4'\n",
    "ds = sio.loadmat(os.getcwd() + '\\\\localization_trial_animation\\\\raw\\\\cell_29.mat')['export_struct'][0,0]\n",
    "trial = np.random.choice(ds['thetaAtBase'].shape[1],1)[0] # sample a random trial "
   ]
  },
  {
   "cell_type": "code",
   "execution_count": null,
   "metadata": {
    "scrolled": false
   },
   "outputs": [],
   "source": [
    "# step 1) load and edit video clip\n",
    "video_clip = VideoFileClip(video_directory,  audio=False)\n",
    "\n",
    "# video editing via rotation and forcing clip size\n",
    "video_clip = mpy.video.fx.all.speedx(video_clip,final_duration = animation_duration)\n",
    "video_clip = mpy.video.fx.all.rotate(video_clip, -90, unit='deg')\n",
    "video_clip = mpy.video.fx.all.mirror_x(video_clip)\n",
    "video_clip = mpy.video.fx.all.resize(video_clip,0.8)\n",
    "\n",
    "#use this to view video \n",
    "video_clip.ipython_display(maxduration = 200) "
   ]
  },
  {
   "cell_type": "code",
   "execution_count": null,
   "metadata": {},
   "outputs": [],
   "source": [
    "# step 2) load and edit time-series plots\n",
    "\n",
    "# top level definitions \n",
    "duration= animation_duration # duration of animation in seconds\n",
    "my_dpi = 168 # find here https://www.infobyip.com/detectmonitordpi.php\n",
    "fig_size = np.array(video_clip.size)/my_dpi # time-series to match video size\n",
    "plt.rcParams.update({'font.size':10})\n",
    "\n",
    "# Define variables for clip 2 time-series\n",
    "x = np.arange(0,len(ds['thetaAtBase']))\n",
    "y0 = ds['thetaAtBase'][:,trial]\n",
    "y1 = ds['amplitude'][:,trial]\n",
    "y2 = ds['setpoint'][:,trial]\n",
    "y3 = ds['phase'][:,trial]\n",
    "y4 = ds['spikes_trace'][:,trial]\n",
    "\n",
    "# Set up plots for animation \n",
    "fig, ax = plt.subplots(5,1, figsize = (6,fig_size[1]*2))\n",
    "l0, = ax[0].plot(x, y0, lw=1, c='k')\n",
    "l1, = ax[1].plot(x, y1, lw=1, c='k')\n",
    "l2, = ax[2].plot(x, y2, lw=1, c='k')\n",
    "l3, = ax[3].plot(x, y3, 'k.',markersize=5)\n",
    "l4, = ax[4].plot(x, y4, lw=1, c='k')\n",
    "\n",
    "labels = ['angle', 'amplitude', 'midpoint', 'phase', 'mV']\n",
    "for ix, k in enumerate(ax):\n",
    "    ax[ix].set_xticks([])\n",
    "    ax[ix].set_ylabel(labels[ix])\n",
    "ax[3].set_yticks([-3.14, 0, 3.14])\n",
    "ax[3].set_yticklabels(['-$\\pi$',0,'$\\pi$'])\n",
    "ax[4].set_xticks([0,1000,2000,3000,4000])\n",
    "ax[4].set_xticklabels([0,1,2,3,4])\n",
    "ax[4].set_xlabel(\"Time from trial start (s)\")\n",
    "fig.tight_layout() "
   ]
  },
  {
   "cell_type": "code",
   "execution_count": null,
   "metadata": {},
   "outputs": [],
   "source": [
    "# Animate figure with moviepy \n",
    "def make_frames(t):\n",
    "    t_idx = int((len(x)/duration) * t) #size of each step \n",
    "    for idx,val in enumerate(ax):\n",
    "        exec('l' + str(idx) + '.set_xdata(x[:t_idx])')\n",
    "        exec('l' + str(idx) + '.set_ydata(y' + str(idx) +'[:t_idx])')\n",
    "    return mplfig_to_npimage(fig)\n",
    "\n",
    "plot_clip = VideoClip(make_frames, duration=duration)"
   ]
  },
  {
   "cell_type": "code",
   "execution_count": null,
   "metadata": {},
   "outputs": [],
   "source": [
    "# Step 3) stitch together final clip side by side. \n",
    "# clips_array requires margins to be added \n",
    "final_clip = clips_array([[clip.margin(2, color=[255,255,255]) for clip in\n",
    "                [video_clip, plot_clip]]],\n",
    "                bg_color=[255,255,255])\n",
    "\n",
    "final_clip.write_videofile(os.getcwd() + '\\\\trial_animation.mp4', fps=20)"
   ]
  }
 ],
 "metadata": {
  "kernelspec": {
   "display_name": "Python 3",
   "language": "python",
   "name": "python3"
  },
  "language_info": {
   "codemirror_mode": {
    "name": "ipython",
    "version": 3
   },
   "file_extension": ".py",
   "mimetype": "text/x-python",
   "name": "python",
   "nbconvert_exporter": "python",
   "pygments_lexer": "ipython3",
   "version": "3.8.5"
  }
 },
 "nbformat": 4,
 "nbformat_minor": 4
}
