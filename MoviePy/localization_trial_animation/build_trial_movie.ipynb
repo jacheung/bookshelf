{
 "cells": [
  {
   "cell_type": "markdown",
   "metadata": {},
   "source": [
    "# Build trial movie\n",
    "In the Hires lab, we pride ourselves on the precision and depth of quantification.  We record brain activity at 10kHz and video at 1kHz (1000 fps) and develop software to track motion and quantify touch and associated forces. The code below will transform a single trial into a movie that highlights these details. \n",
    "\n",
    "This code is used to transform data from an exported Matlab structure of Hires Lab data into a trial animation. You will need to use export_for_moviepy.mat to transform your data into a valid structure for Python. In the below, list the directory for the videos and and load the .mat file for the transformed Matlab struct. "
   ]
  },
  {
   "cell_type": "code",
   "execution_count": 11,
   "metadata": {},
   "outputs": [],
   "source": [
    "import os\n",
    "import numpy as np\n",
    "import scipy.io as sio\n",
    "import moviepy as mpy\n",
    "from moviepy.editor import VideoClip, VideoFileClip, clips_array\n",
    "from moviepy.video.io.bindings import mplfig_to_npimage\n",
    "import matplotlib.pyplot as plt"
   ]
  },
  {
   "cell_type": "code",
   "execution_count": 10,
   "metadata": {},
   "outputs": [
    {
     "name": "stdout",
     "output_type": "stream",
     "text": [
      "Collecting moviepy\n",
      "  Downloading moviepy-1.0.3.tar.gz (388 kB)\n",
      "Requirement already satisfied: decorator<5.0,>=4.0.2 in c:\\users\\jcheung1\\anaconda3\\lib\\site-packages (from moviepy) (4.4.2)\n",
      "Requirement already satisfied: tqdm<5.0,>=4.11.2 in c:\\users\\jcheung1\\anaconda3\\lib\\site-packages (from moviepy) (4.50.2)\n",
      "Requirement already satisfied: requests<3.0,>=2.8.1 in c:\\users\\jcheung1\\anaconda3\\lib\\site-packages (from moviepy) (2.24.0)\n",
      "Collecting proglog<=1.0.0\n",
      "  Downloading proglog-0.1.9.tar.gz (10 kB)\n",
      "Requirement already satisfied: numpy>=1.17.3 in c:\\users\\jcheung1\\anaconda3\\lib\\site-packages (from moviepy) (1.19.2)\n",
      "Requirement already satisfied: imageio<3.0,>=2.5 in c:\\users\\jcheung1\\anaconda3\\lib\\site-packages (from moviepy) (2.9.0)\n",
      "Collecting imageio_ffmpeg>=0.2.0\n",
      "  Downloading imageio_ffmpeg-0.4.3-py3-none-win_amd64.whl (22.6 MB)\n",
      "Requirement already satisfied: idna<3,>=2.5 in c:\\users\\jcheung1\\anaconda3\\lib\\site-packages (from requests<3.0,>=2.8.1->moviepy) (2.10)\n",
      "Requirement already satisfied: urllib3!=1.25.0,!=1.25.1,<1.26,>=1.21.1 in c:\\users\\jcheung1\\anaconda3\\lib\\site-packages (from requests<3.0,>=2.8.1->moviepy) (1.25.11)\n",
      "Requirement already satisfied: certifi>=2017.4.17 in c:\\users\\jcheung1\\anaconda3\\lib\\site-packages (from requests<3.0,>=2.8.1->moviepy) (2020.6.20)\n",
      "Requirement already satisfied: chardet<4,>=3.0.2 in c:\\users\\jcheung1\\anaconda3\\lib\\site-packages (from requests<3.0,>=2.8.1->moviepy) (3.0.4)\n",
      "Requirement already satisfied: pillow in c:\\users\\jcheung1\\anaconda3\\lib\\site-packages (from imageio<3.0,>=2.5->moviepy) (8.0.1)\n",
      "Building wheels for collected packages: moviepy, proglog\n",
      "  Building wheel for moviepy (setup.py): started\n",
      "  Building wheel for moviepy (setup.py): finished with status 'done'\n",
      "  Created wheel for moviepy: filename=moviepy-1.0.3-py3-none-any.whl size=110731 sha256=787ab0bf434b565822222dacc3fc13fda2e6fec6fc008b998b8c96e2e4b07f7b\n",
      "  Stored in directory: c:\\users\\jcheung1\\appdata\\local\\pip\\cache\\wheels\\e4\\a4\\db\\0368d3a04033da662e13926594b3a8cf1aa4ffeefe570cfac1\n",
      "  Building wheel for proglog (setup.py): started\n",
      "  Building wheel for proglog (setup.py): finished with status 'done'\n",
      "  Created wheel for proglog: filename=proglog-0.1.9-py3-none-any.whl size=6151 sha256=dca4a72a69afa958096b59cb313ad3aaa39b48555b5985e8468a11bc1cf9bcb8\n",
      "  Stored in directory: c:\\users\\jcheung1\\appdata\\local\\pip\\cache\\wheels\\22\\82\\ff\\56950e4b223a69eda3a2bdeaef2ae4b274c3d1ced9b5814c99\n",
      "Successfully built moviepy proglog\n",
      "Installing collected packages: proglog, imageio-ffmpeg, moviepy\n",
      "Successfully installed imageio-ffmpeg-0.4.3 moviepy-1.0.3 proglog-0.1.9\n"
     ]
    }
   ],
   "source": [
    "# Install a pip package in the current Jupyter kernel if package isnt installed \n",
    "import sys\n",
    "!{sys.executable} -m pip install moviepy"
   ]
  },
  {
   "cell_type": "code",
   "execution_count": 3,
   "metadata": {},
   "outputs": [],
   "source": [
    "# set top level parameters and load data\n",
    "animation_duration = 20 # in seconds\n",
    "# video_directory = \n",
    "\n",
    "ds = sio.loadmat(os.getcwd() + '/raw/cell_29.mat')['export_struct'][0,0]\n",
    "trial = np.random.choice(ds['thetaAtBase'].shape[1],1)[0] # sample a random trial "
   ]
  },
  {
   "cell_type": "markdown",
   "metadata": {},
   "source": [
    "### Compose parts for trial clip\n",
    "- clip 1 : video from one single trial\n",
    "- clip 2 : tracked components into time-series "
   ]
  },
  {
   "cell_type": "code",
   "execution_count": null,
   "metadata": {},
   "outputs": [],
   "source": [
    "# Load data and define variables for clip 1\n",
    "# need directory for video then we gucci to use the reference below\n",
    "\n",
    "# video_clip_name = ds['video_file_names'][:,trial][0][0]\n",
    "# video_clip = VideoFileClip(video_clip_name + \".mp4\", audio=False)\n",
    "\n",
    "video_clip = VideoFileClip(os.getcwd() + '/raw/test_video.mp4',  audio=False)\n",
    "\n",
    "# video editing via rotation and forcing clip size\n",
    "video_clip = mpy.video.fx.all.speedx(video_clip,final_duration = animation_duration)\n",
    "video_clip = mpy.video.fx.all.rotate(video_clip, -90, unit='deg')\n",
    "video_clip = mpy.video.fx.all.mirror_x(video_clip)\n",
    "video_clip = mpy.video.fx.all.resize(video_clip,0.8)\n",
    "# video_clip.ipython_display(maxduration = 200) #use this to view video "
   ]
  },
  {
   "cell_type": "code",
   "execution_count": 5,
   "metadata": {
    "scrolled": true
   },
   "outputs": [],
   "source": [
    "# Define variables for clip 2 time-series\n",
    "x = np.arange(0,len(ds['thetaAtBase']))\n",
    "# amplitude_mask = ds['amplitude'][:,trial]<5\n",
    "# filtered_phase = ds['phase'][:,trial]\n",
    "# filtered_phase[amplitude_mask] = np.nan \n",
    "\n",
    "y0 = ds['thetaAtBase'][:,trial]\n",
    "y1 = ds['amplitude'][:,trial]\n",
    "y2 = ds['setpoint'][:,trial]\n",
    "y3 = ds['phase'][:,trial]\n",
    "y4 = ds['spikes_trace'][:,trial]"
   ]
  },
  {
   "cell_type": "code",
   "execution_count": null,
   "metadata": {},
   "outputs": [],
   "source": [
    "# top level definitions \n",
    "duration= animation_duration # duration of animation in seconds\n",
    "my_dpi = 120 # find here https://www.infobyip.com/detectmonitordpi.php\n",
    "fig_size = np.array(video_clip.size)/my_dpi # time-series to match video size\n",
    "plt.rcParams.update({'font.size':12})\n",
    "\n",
    "# Set up plots for animation \n",
    "fig, ax = plt.subplots(5,1, figsize = (6,fig_size[1]*2))\n",
    "# fig.set_figheight(img_height)\n",
    "# fig.set_figwidth(img_width)\n",
    "l0, = ax[0].plot(x, y0, lw=1, c='k')\n",
    "l1, = ax[1].plot(x, y1, lw=1, c='k')\n",
    "l2, = ax[2].plot(x, y2, lw=1, c='k')\n",
    "l3, = ax[3].plot(x, y3, 'k.',markersize=5)\n",
    "l4, = ax[4].plot(x, y4, lw=1, c='k')\n",
    "\n",
    "labels = ['angle', 'amplitude', 'midpoint', 'phase', 'mV']\n",
    "for ix,k in enumerate(ax):\n",
    "    ax[ix].set_xticks([])\n",
    "    ax[ix].set_ylabel(labels[ix])\n",
    "ax[3].set_yticks([-3.14, 0, 3.14])\n",
    "ax[3].set_yticklabels(['-$\\pi$',0,'$\\pi$'])\n",
    "ax[4].set_xticks([0,1000,2000,3000,4000])\n",
    "ax[4].set_xticklabels([0,1,2,3,4])\n",
    "ax[4].set_xlabel(\"Time from trial start (s)\")\n",
    "fig.tight_layout() \n",
    "\n",
    "# Animate figure with moviepy \n",
    "def make_frames(t):\n",
    "    t_idx = int((len(x)/duration) * t) #size of each step \n",
    "    for idx,val in enumerate(ax):\n",
    "        exec('l' + str(idx) + '.set_xdata(x[:t_idx])')\n",
    "        exec('l' + str(idx) + '.set_ydata(y' + str(idx) +'[:t_idx])')\n",
    "    return mplfig_to_npimage(fig)\n",
    "\n",
    "plot_clip = VideoClip(make_frames, duration=duration)\n",
    "# plotclip.write_videofile('trial_animation.mp4', fps=20, codec='libx264', ffmpeg_params = ['-preset', 'veryslow','-crf','17'])\n",
    "# plotclip.write_gif('trial_parameters.gif', fps=25)\n",
    "# plotclip.ipython_display(fps=20, loop=True, autoplay=True,progress_bar=False)"
   ]
  },
  {
   "cell_type": "code",
   "execution_count": null,
   "metadata": {},
   "outputs": [],
   "source": [
    "# stitch together final clip side by side. \n",
    "# clips_array requires margins to be added \n",
    "final_clip = clips_array([[clip.margin(2, color=[255,255,255]) for clip in\n",
    "                [video_clip, plot_clip]]],\n",
    "                bg_color=[255,255,255])\n",
    "\n",
    "final_clip.write_gif(os.getcwd() + '/products/trial_animation.gif',fps=20)\n",
    "# final_clip.write_videofile('trial_animation.mp4', fps=20)\n"
   ]
  },
  {
   "cell_type": "code",
   "execution_count": null,
   "metadata": {},
   "outputs": [],
   "source": []
  }
 ],
 "metadata": {
  "kernelspec": {
   "display_name": "Python 3",
   "language": "python",
   "name": "python3"
  },
  "language_info": {
   "codemirror_mode": {
    "name": "ipython",
    "version": 3
   },
   "file_extension": ".py",
   "mimetype": "text/x-python",
   "name": "python",
   "nbconvert_exporter": "python",
   "pygments_lexer": "ipython3",
   "version": "3.8.5"
  }
 },
 "nbformat": 4,
 "nbformat_minor": 4
}
