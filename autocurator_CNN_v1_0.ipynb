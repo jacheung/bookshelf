{
  "nbformat": 4,
  "nbformat_minor": 0,
  "metadata": {
    "colab": {
      "name": "autocurator_CNN_v1.0",
      "provenance": [],
      "collapsed_sections": [],
      "authorship_tag": "ABX9TyPaXlFiIwjNFEQRHAwaYHS4",
      "include_colab_link": true
    },
    "kernelspec": {
      "name": "python3",
      "display_name": "Python 3"
    }
  },
  "cells": [
    {
      "cell_type": "markdown",
      "metadata": {
        "id": "view-in-github",
        "colab_type": "text"
      },
      "source": [
        "<a href=\"https://colab.research.google.com/github/jacheung/still-learning/blob/master/autocurator_CNN_v1_0.ipynb\" target=\"_parent\"><img src=\"https://colab.research.google.com/assets/colab-badge.svg\" alt=\"Open In Colab\"/></a>"
      ]
    },
    {
      "cell_type": "code",
      "metadata": {
        "id": "uNlIH-omODQl",
        "colab_type": "code",
        "colab": {}
      },
      "source": [
        "# import libraries\n",
        "import tensorflow as tf\n",
        "import numpy as np\n"
      ],
      "execution_count": 1,
      "outputs": []
    },
    {
      "cell_type": "code",
      "metadata": {
        "id": "CbdTdazYOI5_",
        "colab_type": "code",
        "colab": {}
      },
      "source": [
        "# load dataset "
      ],
      "execution_count": 2,
      "outputs": []
    },
    {
      "cell_type": "code",
      "metadata": {
        "id": "n4jBnTnMOeoa",
        "colab_type": "code",
        "colab": {}
      },
      "source": [
        "# data cleaning and packaging into tensors\n"
      ],
      "execution_count": 3,
      "outputs": []
    },
    {
      "cell_type": "code",
      "metadata": {
        "id": "HI-vg_XDOgK2",
        "colab_type": "code",
        "colab": {}
      },
      "source": [
        "# build CNN (let's load a pretrained model)"
      ],
      "execution_count": 4,
      "outputs": []
    },
    {
      "cell_type": "code",
      "metadata": {
        "id": "MqoabrriOkfQ",
        "colab_type": "code",
        "colab": {}
      },
      "source": [
        "# train and test CNN "
      ],
      "execution_count": 5,
      "outputs": []
    },
    {
      "cell_type": "code",
      "metadata": {
        "id": "jI_mX9OpOne4",
        "colab_type": "code",
        "colab": {}
      },
      "source": [
        ""
      ],
      "execution_count": null,
      "outputs": []
    }
  ]
}