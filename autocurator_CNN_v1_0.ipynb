{
  "nbformat": 4,
  "nbformat_minor": 0,
  "metadata": {
    "colab": {
      "name": "autocurator_CNN_v1.0",
      "provenance": [],
      "collapsed_sections": [],
      "authorship_tag": "ABX9TyOq8fzVXI5irj4fQc2YvZ3O",
      "include_colab_link": true
    },
    "kernelspec": {
      "name": "python3",
      "display_name": "Python 3"
    }
  },
  "cells": [
    {
      "cell_type": "markdown",
      "metadata": {
        "id": "view-in-github",
        "colab_type": "text"
      },
      "source": [
        "<a href=\"https://colab.research.google.com/github/jacheung/still-learning/blob/master/autocurator_CNN_v1_0.ipynb\" target=\"_parent\"><img src=\"https://colab.research.google.com/assets/colab-badge.svg\" alt=\"Open In Colab\"/></a>"
      ]
    },
    {
      "cell_type": "code",
      "metadata": {
        "id": "WBEOUJuANrQK",
        "colab_type": "code",
        "colab": {
          "base_uri": "https://localhost:8080/",
          "height": 34
        },
        "outputId": "179a9164-7af3-477f-b94d-ad845c45e8ec"
      },
      "source": [
        "# import necessary libraries\n",
        "import tensorflow as tf \n",
        "import numpy as np\n",
        "from scipy.io import loadmat\n",
        "from google.colab import drive\n",
        "\n",
        "drive.mount('/content/gdrive')"
      ],
      "execution_count": 15,
      "outputs": [
        {
          "output_type": "stream",
          "text": [
            "Drive already mounted at /content/gdrive; to attempt to forcibly remount, call drive.mount(\"/content/gdrive\", force_remount=True).\n"
          ],
          "name": "stdout"
        }
      ]
    },
    {
      "cell_type": "code",
      "metadata": {
        "id": "Ls0klmrRNy0r",
        "colab_type": "code",
        "colab": {
          "base_uri": "https://localhost:8080/",
          "height": 198
        },
        "outputId": "10bdc90c-1423-49d2-a0f5-9cdd9288a4c5"
      },
      "source": [
        "raw_X = np.load('/content/gdrive/My Drive/Colab Notebooks/AH0000x000000-190_dataset.npy')\n",
        "raw_Y = np.load('/content/gdrive/My Drive/Colab Notebooks/AH0000x000000-190__curated_labels.npy')\n",
        "idx_Y = loadmat('/content/gdrive/My Drive/Colab Notebooks/AH0000x000000-190_frameIndex.mat')\n",
        "\n",
        "xy, xIdx, yIdx = np.intersect1d(raw_Y,idx_Y['relevantIdx'])\n"
      ],
      "execution_count": 20,
      "outputs": [
        {
          "output_type": "error",
          "ename": "ValueError",
          "evalue": "ignored",
          "traceback": [
            "\u001b[0;31m---------------------------------------------------------------------------\u001b[0m",
            "\u001b[0;31mValueError\u001b[0m                                Traceback (most recent call last)",
            "\u001b[0;32m<ipython-input-20-5bc584d7b774>\u001b[0m in \u001b[0;36m<module>\u001b[0;34m()\u001b[0m\n\u001b[1;32m      3\u001b[0m \u001b[0midx_Y\u001b[0m \u001b[0;34m=\u001b[0m \u001b[0mloadmat\u001b[0m\u001b[0;34m(\u001b[0m\u001b[0;34m'/content/gdrive/My Drive/Colab Notebooks/AH0000x000000-190_frameIndex.mat'\u001b[0m\u001b[0;34m)\u001b[0m\u001b[0;34m\u001b[0m\u001b[0;34m\u001b[0m\u001b[0m\n\u001b[1;32m      4\u001b[0m \u001b[0;34m\u001b[0m\u001b[0m\n\u001b[0;32m----> 5\u001b[0;31m \u001b[0mxy\u001b[0m\u001b[0;34m,\u001b[0m \u001b[0mxIdx\u001b[0m\u001b[0;34m,\u001b[0m \u001b[0myIdx\u001b[0m \u001b[0;34m=\u001b[0m \u001b[0mnp\u001b[0m\u001b[0;34m.\u001b[0m\u001b[0mintersect1d\u001b[0m\u001b[0;34m(\u001b[0m\u001b[0mraw_Y\u001b[0m\u001b[0;34m,\u001b[0m\u001b[0midx_Y\u001b[0m\u001b[0;34m[\u001b[0m\u001b[0;34m'relevantIdx'\u001b[0m\u001b[0;34m]\u001b[0m\u001b[0;34m)\u001b[0m\u001b[0;34m\u001b[0m\u001b[0;34m\u001b[0m\u001b[0m\n\u001b[0m",
            "\u001b[0;31mValueError\u001b[0m: not enough values to unpack (expected 3, got 0)"
          ]
        }
      ]
    },
    {
      "cell_type": "code",
      "metadata": {
        "id": "1NQ3T_kyoTmk",
        "colab_type": "code",
        "colab": {
          "base_uri": "https://localhost:8080/",
          "height": 136
        },
        "outputId": "af0ce30a-9b7c-4f78-c5bb-dd7393da04eb"
      },
      "source": [
        "raw_Y"
      ],
      "execution_count": 25,
      "outputs": [
        {
          "output_type": "execute_result",
          "data": {
            "text/plain": [
              "array([[0.9975957 , 0.00240426],\n",
              "       [0.39155796, 0.60844207],\n",
              "       [0.40698344, 0.59301656],\n",
              "       ...,\n",
              "       [0.9886258 , 0.01137418],\n",
              "       [0.9919659 , 0.0080341 ],\n",
              "       [0.9801247 , 0.01987532]], dtype=float32)"
            ]
          },
          "metadata": {
            "tags": []
          },
          "execution_count": 25
        }
      ]
    },
    {
      "cell_type": "code",
      "metadata": {
        "id": "xOfFjdZbqXoS",
        "colab_type": "code",
        "colab": {}
      },
      "source": [
        ""
      ],
      "execution_count": null,
      "outputs": []
    }
  ]
}