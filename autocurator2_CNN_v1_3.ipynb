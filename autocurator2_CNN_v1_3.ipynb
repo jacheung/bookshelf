{
  "nbformat": 4,
  "nbformat_minor": 0,
  "metadata": {
    "colab": {
      "name": "autocurator2_CNN_v1_3.ipynb",
      "provenance": [],
      "collapsed_sections": [],
      "toc_visible": true,
      "include_colab_link": true
    },
    "kernelspec": {
      "name": "python3",
      "display_name": "Python 3"
    },
    "accelerator": "GPU"
  },
  "cells": [
    {
      "cell_type": "markdown",
      "metadata": {
        "id": "view-in-github",
        "colab_type": "text"
      },
      "source": [
        "<a href=\"https://colab.research.google.com/github/jacheung/still-learning/blob/master/autocurator2_CNN_v1_3.ipynb\" target=\"_parent\"><img src=\"https://colab.research.google.com/assets/colab-badge.svg\" alt=\"Open In Colab\"/></a>"
      ]
    },
    {
      "cell_type": "code",
      "metadata": {
        "id": "WBEOUJuANrQK",
        "colab_type": "code",
        "colab": {
          "base_uri": "https://localhost:8080/",
          "height": 122
        },
        "outputId": "b856dacf-f1ab-4551-f0f2-5165fe26a658"
      },
      "source": [
        "# Import necessary libraries and set up image libraries in Google drive\n",
        "import numpy as np\n",
        "import scipy.io\n",
        "import tensorflow as tf \n",
        "from tensorflow import keras\n",
        "from sklearn.utils import class_weight\n",
        "import sklearn.model_selection as ms\n",
        "\n",
        "from google.colab import drive\n",
        "import glob\n",
        "\n",
        "import matplotlib.pyplot as plt\n",
        "\n",
        "# Mount google drive and grab images and labels names \n",
        "drive.mount('/content/gdrive')\n",
        "base_dir = \"/content/gdrive/My Drive/Colab data/trialFramesNPY/\"\n",
        "T_class = glob.glob(base_dir + \"*touchClass.mat\")\n",
        "frames = glob.glob(base_dir + \"*dataset.mat\")"
      ],
      "execution_count": 2,
      "outputs": [
        {
          "output_type": "stream",
          "text": [
            "Go to this URL in a browser: https://accounts.google.com/o/oauth2/auth?client_id=947318989803-6bn6qk8qdgf4n4g3pfee6491hc0brc4i.apps.googleusercontent.com&redirect_uri=urn%3aietf%3awg%3aoauth%3a2.0%3aoob&response_type=code&scope=email%20https%3a%2f%2fwww.googleapis.com%2fauth%2fdocs.test%20https%3a%2f%2fwww.googleapis.com%2fauth%2fdrive%20https%3a%2f%2fwww.googleapis.com%2fauth%2fdrive.photos.readonly%20https%3a%2f%2fwww.googleapis.com%2fauth%2fpeopleapi.readonly\n",
            "\n",
            "Enter your authorization code:\n",
            "··········\n",
            "Mounted at /content/gdrive\n"
          ],
          "name": "stdout"
        }
      ]
    },
    {
      "cell_type": "code",
      "metadata": {
        "id": "ABj6WXPSJ84x",
        "colab_type": "code",
        "colab": {}
      },
      "source": [
        "\n",
        "base_dir = \"/content/gdrive/My Drive/Colab data/trialFramesNPY/\"\n",
        "T_class = glob.glob(base_dir + \"*touchClass.mat\")\n",
        "frames = glob.glob(base_dir + \"*dataset.mat\")"
      ],
      "execution_count": 6,
      "outputs": []
    },
    {
      "cell_type": "code",
      "metadata": {
        "id": "-tyz1Qriw2a4",
        "colab_type": "code",
        "colab": {
          "base_uri": "https://localhost:8080/",
          "height": 34
        },
        "outputId": "ed2c315f-3fae-4bbc-9146-08dcc06b9330"
      },
      "source": [
        "T_class"
      ],
      "execution_count": 7,
      "outputs": [
        {
          "output_type": "execute_result",
          "data": {
            "text/plain": [
              "[]"
            ]
          },
          "metadata": {
            "tags": []
          },
          "execution_count": 7
        }
      ]
    },
    {
      "cell_type": "markdown",
      "metadata": {
        "id": "GPgTLRh9WKgd",
        "colab_type": "text"
      },
      "source": [
        "Cut the ends off so we can match them"
      ]
    },
    {
      "cell_type": "code",
      "metadata": {
        "id": "aXFWPKw6on2f",
        "colab_type": "code",
        "colab": {}
      },
      "source": [
        "frame_nums = []\n",
        "for i in range(len(frames)):\n",
        "  # print(i)\n",
        "  frame_nums.append(frames[i][1:-11])\n",
        "T_class_nums = [];\n",
        "for i in range(len(T_class)):\n",
        "  # print(i)\n",
        "  T_class_nums.append(T_class[i][1:-14])"
      ],
      "execution_count": 8,
      "outputs": []
    },
    {
      "cell_type": "code",
      "metadata": {
        "id": "71cwrQ8LIca4",
        "colab_type": "code",
        "colab": {
          "base_uri": "https://localhost:8080/",
          "height": 35
        },
        "outputId": "7e9afd76-6f14-468f-e5ae-faacea4dde0b"
      },
      "source": [
        "T_class_nums[0]"
      ],
      "execution_count": null,
      "outputs": [
        {
          "output_type": "execute_result",
          "data": {
            "application/vnd.google.colaboratory.intrinsic+json": {
              "type": "string"
            },
            "text/plain": [
              "'content/gdrive/My Drive/Colab data/trialFramesNPY/AH0000x000000-103_'"
            ]
          },
          "metadata": {
            "tags": []
          },
          "execution_count": 19
        }
      ]
    },
    {
      "cell_type": "markdown",
      "metadata": {
        "id": "ODnz2aJLTQew",
        "colab_type": "text"
      },
      "source": [
        "match all the label and frame files\n"
      ]
    },
    {
      "cell_type": "code",
      "metadata": {
        "id": "L_JezT3C_6EE",
        "colab_type": "code",
        "colab": {
          "base_uri": "https://localhost:8080/",
          "height": 51
        },
        "outputId": "cbfe36f8-bc82-4d4f-d2ca-17f7c6f97f50"
      },
      "source": [
        "indices = []\n",
        "for k in range(len(frame_nums)):\n",
        "  indices.append([i for i, s in enumerate(T_class_nums) if frame_nums[k] in s])\n",
        "\n",
        "indices = [x for x in indices if x != []]\n",
        "T_class_reordered = []\n",
        "for k in range(len(indices)):\n",
        "    T_class_reordered.append(T_class[indices[k][0]])\n",
        "\n",
        "# test that this is matched\n",
        "print(T_class_reordered[0])\n",
        "print(frames[0])"
      ],
      "execution_count": null,
      "outputs": [
        {
          "output_type": "stream",
          "text": [
            "/content/gdrive/My Drive/Colab data/trialFramesNPY/AH0000x000000-35_touchClass.mat\n",
            "/content/gdrive/My Drive/Colab data/trialFramesNPY/AH0000x000000-35_dataset.mat\n"
          ],
          "name": "stdout"
        }
      ]
    },
    {
      "cell_type": "markdown",
      "metadata": {
        "id": "Sr7GDc0X3WE9",
        "colab_type": "text"
      },
      "source": [
        "load in all of the lables and also count how many data points are in each file. each file represents a trial so for us this could be anywhere between 1 and 4000 data points. most often somewhere between 200-600"
      ]
    },
    {
      "cell_type": "code",
      "metadata": {
        "id": "xGem5Qao1cYz",
        "colab_type": "code",
        "colab": {}
      },
      "source": [
        "raw_Y_set = []\n",
        "frame_num_in_Y_set = []\n",
        "for cnt1 in range(len(frames)):\n",
        "  tmp2 = scipy.io.loadmat(T_class_reordered[cnt1])\n",
        "  raw_Y_set.append(tmp2['touchClass'])\n",
        "  frame_num_in_Y_set.append(len(raw_Y_set[cnt1]))"
      ],
      "execution_count": null,
      "outputs": []
    },
    {
      "cell_type": "markdown",
      "metadata": {
        "id": "nX1TKm3-yQrB",
        "colab_type": "text"
      },
      "source": [
        "# build_data \n",
        "to generate an image tensor and corresponding label array "
      ]
    },
    {
      "cell_type": "code",
      "metadata": {
        "id": "Ls0klmrRNy0r",
        "colab_type": "code",
        "colab": {}
      },
      "source": [
        "from psutil import virtual_memory\n",
        "import sys\n",
        "import time\n",
        "\n",
        "def build_data( x_files, y_files) :\n",
        "  to_del = 0\n",
        "  start = time.time()\n",
        "\n",
        "  cnt1 = -1;\n",
        "  mem_free = 9999\n",
        "\n",
        "  for k in range(len(y_files)):\n",
        "    cnt1 = cnt1 + 1\n",
        "    tmp1 = scipy.io.loadmat(x_files[cnt1])\n",
        "    tmp2 = scipy.io.loadmat(y_files[cnt1])\n",
        "\n",
        "    Xtmp = tmp1['finalMat']\n",
        "    Ytmp = tmp2['touchClass']\n",
        "    if cnt1==0:\n",
        "      raw_X = Xtmp\n",
        "      raw_Y = Ytmp\n",
        "    else:\n",
        "      \n",
        "      # print(raw_Y.shape)\n",
        "      # print(\"\\r\")\n",
        "      raw_X = np.concatenate((raw_X,Xtmp), axis=0)\n",
        "      raw_Y = np.concatenate((raw_Y,Ytmp), axis=0)\n",
        "    if ((time.time() - start) > 2) or cnt1>=len(x_files)-1:# update every 2 seconds or when loop ends\n",
        "      mem = virtual_memory()\n",
        "      mem_free = mem.free/1024**3;\n",
        "      start = time.time()\n",
        "\n",
        "      # print('\\b'* (to_del+2))\n",
        "      # to_print = (\"X shape = \" + str(raw_X.shape)+'\\n'+\n",
        "      #             \"Y shape = \" + str(raw_Y.shape)+'\\n'+\n",
        "      #             str(round(mem_free, 2)) + \"GB free\"+'\\n'+\n",
        "      #            \"iter \" + str(cnt1+1) + ' of ' + str(len(y_files)))\n",
        "      # print(to_print)\n",
        "      # to_del = len(to_print)\n",
        "  return raw_X, raw_Y\n",
        "\n"
      ],
      "execution_count": null,
      "outputs": []
    },
    {
      "cell_type": "markdown",
      "metadata": {
        "id": "Qasu3Qg73pcL",
        "colab_type": "text"
      },
      "source": [
        "make a custom class to help load in the data to prevent crashing due to over using RAM \n",
        "This class will \n",
        "- chunk the files based on the total frames contained in them based on \"batch_size\" variable \n"
      ]
    },
    {
      "cell_type": "code",
      "metadata": {
        "id": "OkN3VJIA5XEV",
        "colab_type": "code",
        "colab": {}
      },
      "source": [
        "class My_Custom_Generator(keras.utils.Sequence) :\n",
        "  \n",
        "  def __init__(self, file_trial_list, file_Y_list, num_in_each, batch_size) :\n",
        "    cnt = 0\n",
        "    extract_inds = []\n",
        "    # num_in_each contains the number of frames in each file I am loading, ie\n",
        "    # for trial/file 1 there are 200 frames , trial/file 2 has 215 frames etc\n",
        "    for k, elem in enumerate(num_in_each) :\n",
        "      tot_frame_nums = sum(num_in_each[cnt: k+1]) # used to test if the number of frames in \n",
        "      # all these files exceded the \"batch_size\" limit \n",
        "      if tot_frame_nums>batch_size or len(num_in_each)-1 == k: # condition met, these files together \n",
        "      # meet the max requirment to load together as a batch \n",
        "        extract_inds.append([cnt, k+1])\n",
        "        cnt = k+1 # reset to the current iter\n",
        "        if np.diff(extract_inds[-1]) > 1: # if there is more than one file then we want to take off the last file \n",
        "        # because it excedes the set number of frames\n",
        "          extract_inds[-1][-1] = extract_inds[-1][-1]-1\n",
        "          cnt = cnt-1\n",
        "    \n",
        "    file_list_chunks = []\n",
        "    file_Y_list_chunks = []\n",
        "    for i, ii in enumerate(extract_inds):\n",
        "      file_list_chunks.append(file_trial_list[ii[0]:ii[1]])\n",
        "      file_Y_list_chunks.append(file_Y_list[ii[0]:ii[1]])\n",
        "\n",
        "\n",
        "    self.file_trial_list = file_trial_list\n",
        "    self.file_Y_list = file_Y_list\n",
        "    self.batch_size = batch_size\n",
        "    self.extract_inds = extract_inds\n",
        "    self.num_in_each = num_in_each\n",
        "    self.file_list_chunks = file_list_chunks\n",
        "    self.file_Y_list_chunks = file_Y_list_chunks\n",
        "    \n",
        "    \n",
        "    # for i, ii in enumerate(extract_inds):\n",
        "    #   file_list_chunks.append(self.file_trial_list[ii[0]:ii[1]])\n",
        "    #   file_Y_list_chunks.append(self.file_Y_list[ii[0]:ii[1]])\n",
        "    \n",
        "\n",
        "  # def print_ind_frame_info(self) :\n",
        "\n",
        "  #   for i, ii in enumerate(self.extract_inds):\n",
        "  #       # num_in_each[extract_inds[i][1]:extract_inds[i][-1]]\n",
        "  #       tmp1 = self.num_in_each[self.extract_inds[i][0]: self.extract_inds[i][-1]]\n",
        "  #       print('frames in EACH of these '+str(len(tmp1)) + ' files are '+str(tmp1))\n",
        "  #       print('   frames in all of these '+ str(len(tmp1)) + ' of these files = ' + \n",
        "  #             str(sum(tmp1)) + ' which is less than batch limit of '+str(self.batch_size)+\n",
        "  #             ' unless a single files exedes this limit ')  \n",
        "    \n",
        "  def __len__(self) :\n",
        "    return len(self.extract_inds)\n",
        "  \n",
        "  # def unbunch_files(self, num_2_extract) :\n",
        "  #   xout2, yout2 = build_data(self.file_list_chunks[num_2_extract], \n",
        "  #                         self.file_Y_list_chunks[num_2_extract])\n",
        "  #   return xout2, yout2\n",
        "  def __getitem__(self, num_2_extract) :\n",
        "    raw_X, raw_Y = build_data(self.file_list_chunks[num_2_extract], \n",
        "                          self.file_Y_list_chunks[num_2_extract])\n",
        "    # return xout2, yout2\n",
        "    rgb_batch = np.repeat(raw_X[..., np.newaxis], 3, -1)\n",
        "    IMG_SIZE = 96 # All images will be resized to 160x160. This is the size of MobileNetV2 input sizes\n",
        "\n",
        "    rgb_tensor = tf.cast(rgb_batch, tf.float32) # convert to tf tensor with float32 dtypes\n",
        "    rgb_tensor = (rgb_tensor/127.5) - 1 # /127.5 = 0:2, -1 = -1:1 requirement for mobilenetV2\n",
        "    rgb_tensor = tf.image.resize(rgb_tensor, (IMG_SIZE, IMG_SIZE)) # resizing\n",
        "\n",
        "    self.IMG_SHAPE = (IMG_SIZE, IMG_SIZE, 3)\n",
        "\n",
        "    samp_weights = np.mean(raw_Y)\n",
        "\n",
        "    return rgb_tensor, raw_Y\n",
        "    # batch_x = self.image_filenames[idx * self.batch_size : (idx+1) * self.batch_size]\n",
        "    # batch_y = self.labels[idx * self.batch_size : (idx+1) * self.batch_size]\n",
        "    \n",
        "    # return np.array([\n",
        "    #         resize(imread('/content/all_images/' + str(file_name)), (80, 80, 3))\n",
        "    #            for file_name in batch_x])/255.0, np.array(batch_y)"
      ],
      "execution_count": null,
      "outputs": []
    },
    {
      "cell_type": "code",
      "metadata": {
        "id": "f7awsjgz6z_N",
        "colab_type": "code",
        "colab": {
          "base_uri": "https://localhost:8080/",
          "height": 34
        },
        "outputId": "b54a393b-7fa7-418d-c9de-40e9edbab6d5"
      },
      "source": [
        "# np.mean(raw_Y_2)"
      ],
      "execution_count": null,
      "outputs": [
        {
          "output_type": "execute_result",
          "data": {
            "text/plain": [
              "0.23432071387084852"
            ]
          },
          "metadata": {
            "tags": []
          },
          "execution_count": 76
        }
      ]
    },
    {
      "cell_type": "markdown",
      "metadata": {
        "id": "TQKE1y9YBVyQ",
        "colab_type": "text"
      },
      "source": [
        "# 3) Feature engineering and test/train/validation splits"
      ]
    },
    {
      "cell_type": "code",
      "metadata": {
        "colab_type": "code",
        "id": "88LvgZIUBTXV",
        "colab": {}
      },
      "source": [
        "batch_size = 2000\n",
        "my_training_batch_generator = My_Custom_Generator(frames, T_class_reordered, frame_num_in_Y_set,  batch_size)\n",
        "my_validation_batch_generator = My_Custom_Generator(frames, T_class_reordered, frame_num_in_Y_set,  batch_size)\n"
      ],
      "execution_count": null,
      "outputs": []
    },
    {
      "cell_type": "code",
      "metadata": {
        "id": "L0LNCqs96cO2",
        "colab_type": "code",
        "colab": {}
      },
      "source": [
        "# Y vectorization and class weight calculation \n",
        "to_del = 0\n",
        "start = time.time()\n",
        "\n",
        "cnt1 = -1;\n",
        "mem_free = 9999\n",
        "y_files = my_training_batch_generator.file_Y_list\n",
        "for k in range(len(y_files)):\n",
        "  cnt1 = cnt1 + 1\n",
        "  tmp2 = scipy.io.loadmat(y_files[cnt1])\n",
        "\n",
        "  Ytmp = tmp2['touchClass']\n",
        "  if cnt1==0:\n",
        "    raw_Y_2 = Ytmp\n",
        "  else:\n",
        "    raw_Y_2 = np.concatenate((raw_Y_2,Ytmp), axis=0)\n"
      ],
      "execution_count": null,
      "outputs": []
    },
    {
      "cell_type": "markdown",
      "metadata": {
        "id": "JIWvXzxw37a7",
        "colab_type": "text"
      },
      "source": [
        "# 4) Deploy and selection of base model\n",
        "In this section we're going to use MobileNetV2 as the base model.\n",
        "We're going to run two variations of the model.  \n",
        "a. basemodel with frozen layers and output classifer changes   \n",
        "b. basemodel with final 100 layers unfrozen to optimize prediction \n"
      ]
    },
    {
      "cell_type": "code",
      "metadata": {
        "id": "xOfFjdZbqXoS",
        "colab_type": "code",
        "colab": {
          "base_uri": "https://localhost:8080/",
          "height": 377
        },
        "outputId": "cb0e684f-b36b-422f-e88c-aa02c6e2f167"
      },
      "source": [
        "# Create base model \n",
        "\n",
        "# First, instantiate a MobileNet V2 model pre-loaded with weights trained on ImageNet. By specifying the include_top=False argument, \n",
        "# you load a network that doesn't include the classification layers at the top, which is ideal for feature extraction\n",
        "\n",
        "# Create the base model from the pre-trained model MobileNet V2\n",
        "IMG_SIZE = 96 # All images will be resized to 160x160. This is the size of MobileNetV2 input sizes\n",
        "IMG_SHAPE = (IMG_SIZE, IMG_SIZE, 3)\n",
        "\n",
        "base_model = tf.keras.applications.MobileNetV2(input_shape=IMG_SHAPE,\n",
        "                                               include_top=False,\n",
        "                                               weights='imagenet')\n",
        "\n",
        "base_model.trainable = False\n",
        "\n",
        "feature_batch = base_model.output\n",
        "print(feature_batch.shape)\n",
        "\n",
        "# Adding Classification head\n",
        "global_average_layer = tf.keras.layers.GlobalAveragePooling2D()\n",
        "feature_batch_average = global_average_layer(feature_batch)\n",
        "print(feature_batch_average.shape)\n",
        "\n",
        "prediction_layer = tf.keras.layers.Dense(1, activation='sigmoid')\n",
        "prediction_batch = prediction_layer(feature_batch_average)\n",
        "print(prediction_batch.shape)\n",
        "\n",
        "# Model Stacking\n",
        "model = tf.keras.Sequential([\n",
        "  base_model,\n",
        "  global_average_layer,\n",
        "  prediction_layer\n",
        "])\n",
        "\n",
        "print(model.summary())\n",
        "\n",
        "# Compile model with specific metrics\n",
        "# Metrics below are for evaluating imbalanced datasets\n",
        "METRICS = [\n",
        "      keras.metrics.TruePositives(name='tp'),\n",
        "      keras.metrics.FalsePositives(name='fp'),\n",
        "      keras.metrics.TrueNegatives(name='tn'),\n",
        "      keras.metrics.FalseNegatives(name='fn'), \n",
        "      keras.metrics.Precision(name='precision'),\n",
        "      keras.metrics.Recall(name='recall'),\n",
        "      keras.metrics.AUC(name = 'auc')\n",
        "]\n",
        "\n",
        "base_learning_rate = 0.0001\n",
        "model.compile(optimizer=tf.keras.optimizers.RMSprop(lr=base_learning_rate),\n",
        "              loss=tf.keras.losses.BinaryCrossentropy(),\n",
        "              metrics=METRICS)"
      ],
      "execution_count": null,
      "outputs": [
        {
          "output_type": "stream",
          "text": [
            "Downloading data from https://storage.googleapis.com/tensorflow/keras-applications/mobilenet_v2/mobilenet_v2_weights_tf_dim_ordering_tf_kernels_1.0_96_no_top.h5\n",
            "9412608/9406464 [==============================] - 0s 0us/step\n",
            "(None, 3, 3, 1280)\n",
            "(None, 1280)\n",
            "(None, 1)\n",
            "Model: \"sequential\"\n",
            "_________________________________________________________________\n",
            "Layer (type)                 Output Shape              Param #   \n",
            "=================================================================\n",
            "mobilenetv2_1.00_96 (Model)  (None, 3, 3, 1280)        2257984   \n",
            "_________________________________________________________________\n",
            "global_average_pooling2d (Gl (None, 1280)              0         \n",
            "_________________________________________________________________\n",
            "dense (Dense)                (None, 1)                 1281      \n",
            "=================================================================\n",
            "Total params: 2,259,265\n",
            "Trainable params: 1,281\n",
            "Non-trainable params: 2,257,984\n",
            "_________________________________________________________________\n",
            "None\n"
          ],
          "name": "stdout"
        }
      ]
    },
    {
      "cell_type": "code",
      "metadata": {
        "colab_type": "code",
        "id": "gt0G74FsB6_i",
        "colab": {
          "base_uri": "https://localhost:8080/",
          "height": 717
        },
        "outputId": "a18cede3-57d8-4ec6-b739-142ced0968fa"
      },
      "source": [
        "# Fit model with a couple parameters\n",
        "EPOCHS = 20\n",
        "\n",
        "# Class imbalance weighting\n",
        "rebalance = class_weight.compute_class_weight('balanced',\n",
        "                                  [0, 1], raw_Y_2.flatten())\n",
        "class_weights = {i : rebalance[i] for i in range(2)}\n",
        "\n",
        "# Early stopping \n",
        "callbacks = [keras.callbacks.EarlyStopping (monitor = 'val_loss',\n",
        "                                            patience = 2)]\n",
        "\n",
        "history = model.fit(my_training_batch_generator, epochs=EPOCHS,\n",
        "              validation_data= my_validation_batch_generator,\n",
        "              callbacks = callbacks,\n",
        "              class_weight = class_weights)\n"
      ],
      "execution_count": null,
      "outputs": [
        {
          "output_type": "stream",
          "text": [
            "Epoch 1/20\n",
            "49/49 [==============================] - 184s 4s/step - loss: 0.5324 - tp: 14879.0000 - fp: 7206.0000 - tn: 62857.0000 - fn: 7014.0000 - precision: 0.6737 - recall: 0.6796 - auc: 0.8630 - val_loss: 0.4735 - val_tp: 16277.0000 - val_fp: 7048.0000 - val_tn: 63015.0000 - val_fn: 5616.0000 - val_precision: 0.6978 - val_recall: 0.7435 - val_auc: 0.9073\n",
            "Epoch 2/20\n",
            "49/49 [==============================] - 48s 987ms/step - loss: 0.4638 - tp: 16581.0000 - fp: 5611.0000 - tn: 64452.0000 - fn: 5312.0000 - precision: 0.7472 - recall: 0.7574 - auc: 0.9315 - val_loss: 0.4800 - val_tp: 19485.0000 - val_fp: 13258.0000 - val_tn: 56805.0000 - val_fn: 2408.0000 - val_precision: 0.5951 - val_recall: 0.8900 - val_auc: 0.9378\n",
            "Epoch 3/20\n",
            "49/49 [==============================] - 49s 994ms/step - loss: 0.4226 - tp: 18882.0000 - fp: 9024.0000 - tn: 61039.0000 - fn: 3011.0000 - precision: 0.6766 - recall: 0.8625 - auc: 0.9437 - val_loss: 0.3914 - val_tp: 18776.0000 - val_fp: 6164.0000 - val_tn: 63899.0000 - val_fn: 3117.0000 - val_precision: 0.7528 - val_recall: 0.8576 - val_auc: 0.9526\n",
            "Epoch 4/20\n",
            "49/49 [==============================] - 49s 992ms/step - loss: 0.3813 - tp: 19367.0000 - fp: 7221.0000 - tn: 62842.0000 - fn: 2526.0000 - precision: 0.7284 - recall: 0.8846 - auc: 0.9552 - val_loss: 0.3552 - val_tp: 19321.0000 - val_fp: 5544.0000 - val_tn: 64519.0000 - val_fn: 2572.0000 - val_precision: 0.7770 - val_recall: 0.8825 - val_auc: 0.9605\n",
            "Epoch 5/20\n",
            "49/49 [==============================] - 49s 993ms/step - loss: 0.3504 - tp: 19529.0000 - fp: 5700.0000 - tn: 64363.0000 - fn: 2364.0000 - precision: 0.7741 - recall: 0.8920 - auc: 0.9608 - val_loss: 0.3358 - val_tp: 20090.0000 - val_fp: 5826.0000 - val_tn: 64237.0000 - val_fn: 1803.0000 - val_precision: 0.7752 - val_recall: 0.9176 - val_auc: 0.9653\n",
            "Epoch 6/20\n",
            "49/49 [==============================] - 49s 991ms/step - loss: 0.3232 - tp: 20286.0000 - fp: 6108.0000 - tn: 63955.0000 - fn: 1607.0000 - precision: 0.7686 - recall: 0.9266 - auc: 0.9657 - val_loss: 0.3063 - val_tp: 20220.0000 - val_fp: 5309.0000 - val_tn: 64754.0000 - val_fn: 1673.0000 - val_precision: 0.7920 - val_recall: 0.9236 - val_auc: 0.9683\n",
            "Epoch 7/20\n",
            "49/49 [==============================] - 49s 991ms/step - loss: 0.3003 - tp: 20498.0000 - fp: 5886.0000 - tn: 64177.0000 - fn: 1395.0000 - precision: 0.7769 - recall: 0.9363 - auc: 0.9681 - val_loss: 0.2949 - val_tp: 20643.0000 - val_fp: 5618.0000 - val_tn: 64445.0000 - val_fn: 1250.0000 - val_precision: 0.7861 - val_recall: 0.9429 - val_auc: 0.9705\n",
            "Epoch 8/20\n",
            "49/49 [==============================] - 48s 987ms/step - loss: 0.2826 - tp: 20723.0000 - fp: 6022.0000 - tn: 64041.0000 - fn: 1170.0000 - precision: 0.7748 - recall: 0.9466 - auc: 0.9707 - val_loss: 0.2702 - val_tp: 20585.0000 - val_fp: 5152.0000 - val_tn: 64911.0000 - val_fn: 1308.0000 - val_precision: 0.7998 - val_recall: 0.9403 - val_auc: 0.9720\n",
            "Epoch 9/20\n",
            "49/49 [==============================] - 48s 986ms/step - loss: 0.2674 - tp: 20834.0000 - fp: 5824.0000 - tn: 64239.0000 - fn: 1059.0000 - precision: 0.7815 - recall: 0.9516 - auc: 0.9718 - val_loss: 0.2495 - val_tp: 20525.0000 - val_fp: 4803.0000 - val_tn: 65260.0000 - val_fn: 1368.0000 - val_precision: 0.8104 - val_recall: 0.9375 - val_auc: 0.9732\n",
            "Epoch 10/20\n",
            "49/49 [==============================] - 48s 988ms/step - loss: 0.2554 - tp: 20733.0000 - fp: 5411.0000 - tn: 64652.0000 - fn: 1160.0000 - precision: 0.7930 - recall: 0.9470 - auc: 0.9726 - val_loss: 0.2509 - val_tp: 20834.0000 - val_fp: 5262.0000 - val_tn: 64801.0000 - val_fn: 1059.0000 - val_precision: 0.7984 - val_recall: 0.9516 - val_auc: 0.9744\n",
            "Epoch 11/20\n",
            "49/49 [==============================] - 48s 988ms/step - loss: 0.2432 - tp: 20858.0000 - fp: 5418.0000 - tn: 64645.0000 - fn: 1035.0000 - precision: 0.7938 - recall: 0.9527 - auc: 0.9742 - val_loss: 0.2387 - val_tp: 20843.0000 - val_fp: 5121.0000 - val_tn: 64942.0000 - val_fn: 1050.0000 - val_precision: 0.8028 - val_recall: 0.9520 - val_auc: 0.9753\n",
            "Epoch 12/20\n",
            "49/49 [==============================] - 48s 985ms/step - loss: 0.2331 - tp: 20836.0000 - fp: 5183.0000 - tn: 64880.0000 - fn: 1057.0000 - precision: 0.8008 - recall: 0.9517 - auc: 0.9753 - val_loss: 0.2334 - val_tp: 20911.0000 - val_fp: 5200.0000 - val_tn: 64863.0000 - val_fn: 982.0000 - val_precision: 0.8009 - val_recall: 0.9551 - val_auc: 0.9762\n",
            "Epoch 13/20\n",
            "49/49 [==============================] - 48s 984ms/step - loss: 0.2253 - tp: 20934.0000 - fp: 5260.0000 - tn: 64803.0000 - fn: 959.0000 - precision: 0.7992 - recall: 0.9562 - auc: 0.9757 - val_loss: 0.2332 - val_tp: 21028.0000 - val_fp: 5428.0000 - val_tn: 64635.0000 - val_fn: 865.0000 - val_precision: 0.7948 - val_recall: 0.9605 - val_auc: 0.9771\n",
            "Epoch 14/20\n",
            "49/49 [==============================] - 48s 987ms/step - loss: 0.2179 - tp: 20985.0000 - fp: 5362.0000 - tn: 64701.0000 - fn: 908.0000 - precision: 0.7965 - recall: 0.9585 - auc: 0.9768 - val_loss: 0.2258 - val_tp: 21037.0000 - val_fp: 5351.0000 - val_tn: 64712.0000 - val_fn: 856.0000 - val_precision: 0.7972 - val_recall: 0.9609 - val_auc: 0.9778\n",
            "Epoch 15/20\n",
            "49/49 [==============================] - 48s 981ms/step - loss: 0.2111 - tp: 21047.0000 - fp: 5418.0000 - tn: 64645.0000 - fn: 846.0000 - precision: 0.7953 - recall: 0.9614 - auc: 0.9775 - val_loss: 0.2113 - val_tp: 20972.0000 - val_fp: 5003.0000 - val_tn: 65060.0000 - val_fn: 921.0000 - val_precision: 0.8074 - val_recall: 0.9579 - val_auc: 0.9784\n",
            "Epoch 16/20\n",
            "49/49 [==============================] - 48s 987ms/step - loss: 0.2053 - tp: 21003.0000 - fp: 5205.0000 - tn: 64858.0000 - fn: 890.0000 - precision: 0.8014 - recall: 0.9593 - auc: 0.9782 - val_loss: 0.2087 - val_tp: 21009.0000 - val_fp: 5048.0000 - val_tn: 65015.0000 - val_fn: 884.0000 - val_precision: 0.8063 - val_recall: 0.9596 - val_auc: 0.9790\n",
            "Epoch 17/20\n",
            "49/49 [==============================] - 48s 986ms/step - loss: 0.1996 - tp: 21015.0000 - fp: 5071.0000 - tn: 64992.0000 - fn: 878.0000 - precision: 0.8056 - recall: 0.9599 - auc: 0.9787 - val_loss: 0.2108 - val_tp: 21086.0000 - val_fp: 5242.0000 - val_tn: 64821.0000 - val_fn: 807.0000 - val_precision: 0.8009 - val_recall: 0.9631 - val_auc: 0.9796\n",
            "Epoch 18/20\n",
            "49/49 [==============================] - 48s 985ms/step - loss: 0.1947 - tp: 21055.0000 - fp: 5134.0000 - tn: 64929.0000 - fn: 838.0000 - precision: 0.8040 - recall: 0.9617 - auc: 0.9795 - val_loss: 0.1971 - val_tp: 21011.0000 - val_fp: 4853.0000 - val_tn: 65210.0000 - val_fn: 882.0000 - val_precision: 0.8124 - val_recall: 0.9597 - val_auc: 0.9800\n",
            "Epoch 19/20\n",
            "49/49 [==============================] - 48s 987ms/step - loss: 0.1904 - tp: 21020.0000 - fp: 4896.0000 - tn: 65167.0000 - fn: 873.0000 - precision: 0.8111 - recall: 0.9601 - auc: 0.9798 - val_loss: 0.2000 - val_tp: 21090.0000 - val_fp: 5053.0000 - val_tn: 65010.0000 - val_fn: 803.0000 - val_precision: 0.8067 - val_recall: 0.9633 - val_auc: 0.9806\n",
            "Epoch 20/20\n",
            "49/49 [==============================] - 48s 986ms/step - loss: 0.1864 - tp: 21091.0000 - fp: 5116.0000 - tn: 64947.0000 - fn: 802.0000 - precision: 0.8048 - recall: 0.9634 - auc: 0.9802 - val_loss: 0.1931 - val_tp: 21073.0000 - val_fp: 4898.0000 - val_tn: 65165.0000 - val_fn: 820.0000 - val_precision: 0.8114 - val_recall: 0.9625 - val_auc: 0.9810\n"
          ],
          "name": "stdout"
        }
      ]
    },
    {
      "cell_type": "code",
      "metadata": {
        "id": "TMGd5RW2VDaz",
        "colab_type": "code",
        "colab": {
          "base_uri": "https://localhost:8080/",
          "height": 297
        },
        "outputId": "8d55657f-e743-486c-a17d-ff59e83b4e77"
      },
      "source": [
        "# Model evaluation\n",
        "colors = plt.rcParams['axes.prop_cycle'].by_key()['color']\n",
        "def plot_metrics(history):\n",
        "  metrics =  ['loss', 'auc', 'precision', 'recall']\n",
        "  for n, metric in enumerate(metrics):\n",
        "    name = metric.replace(\"_\",\" \").capitalize()\n",
        "    plt.subplot(2,2,n+1)\n",
        "    plt.plot(history.epoch,  history.history[metric], color=colors[0], label='Train')\n",
        "    plt.plot(history.epoch, history.history['val_'+metric],\n",
        "             color=colors[0], linestyle=\"--\", label='Val')\n",
        "    plt.xlabel('Epoch')\n",
        "    plt.ylabel(name)\n",
        "    if metric == 'loss':\n",
        "      plt.ylim([0, plt.ylim()[1]])\n",
        "    elif metric == 'auc':\n",
        "      plt.ylim([0.8,1])\n",
        "    else:\n",
        "      plt.ylim([0,1.1])\n",
        "\n",
        "    plt.legend()\n",
        "    plt.tight_layout()\n",
        "\n",
        "plot_metrics(history)"
      ],
      "execution_count": null,
      "outputs": [
        {
          "output_type": "display_data",
          "data": {
            "image/png": "[encoded data removed]",
            "text/plain": [
              "<Figure size 432x288 with 4 Axes>"
            ]
          },
          "metadata": {
            "tags": [],
            "needs_background": "light"
          }
        }
      ]
    },
    {
      "cell_type": "markdown",
      "metadata": {
        "id": "fR4oHmidBh-X",
        "colab_type": "text"
      },
      "source": [
        "# ---- DONE ---- "
      ]
    },
    {
      "cell_type": "code",
      "metadata": {
        "id": "qbjkJct_N6fw",
        "colab_type": "code",
        "colab": {
          "base_uri": "https://localhost:8080/",
          "height": 34
        },
        "outputId": "f3cd9a47-db28-4ed4-80b6-5614423a46da"
      },
      "source": [
        "model.predit()"
      ],
      "execution_count": null,
      "outputs": [
        {
          "output_type": "execute_result",
          "data": {
            "text/plain": [
              "<tensorflow.python.keras.engine.sequential.Sequential at 0x7ff24a6a3860>"
            ]
          },
          "metadata": {
            "tags": []
          },
          "execution_count": 21
        }
      ]
    },
    {
      "cell_type": "code",
      "metadata": {
        "id": "cUWWopCdN6mv",
        "colab_type": "code",
        "colab": {}
      },
      "source": [
        "dmatx,true_y = my_validation_batch_generator.__getitem__(1)\n",
        "\n",
        "pred_y = model.predict(dmatx)"
      ],
      "execution_count": null,
      "outputs": []
    },
    {
      "cell_type": "code",
      "metadata": {
        "id": "haPmWYjSOT7M",
        "colab_type": "code",
        "colab": {}
      },
      "source": [
        "from sklearn.metrics import confusion_matrix as cm\n",
        "\n",
        "cm2 = cm(true_y, pred_y>.5)\n",
        "# TN FN TP FP "
      ],
      "execution_count": null,
      "outputs": []
    },
    {
      "cell_type": "code",
      "metadata": {
        "id": "CNDJW1yMRjPy",
        "colab_type": "code",
        "colab": {}
      },
      "source": [
        "def perf_measure(y_actual, y_hat):\n",
        "    TP = 0\n",
        "    FP = 0\n",
        "    TN = 0\n",
        "    FN = 0\n",
        "\n",
        "    for i in range(len(y_hat)): \n",
        "        if y_actual[i]==y_hat[i]==1:\n",
        "           TP += 1\n",
        "        if y_hat[i]==1 and y_actual[i]!=y_hat[i]:\n",
        "           FP += 1\n",
        "        if y_actual[i]==y_hat[i]==0:\n",
        "           TN += 1\n",
        "        if y_hat[i]==0 and y_actual[i]!=y_hat[i]:\n",
        "           FN += 1\n",
        "\n",
        "    return(TP, FP, TN, FN)"
      ],
      "execution_count": null,
      "outputs": []
    },
    {
      "cell_type": "code",
      "metadata": {
        "id": "zSgwdkoCQbAq",
        "colab_type": "code",
        "colab": {}
      },
      "source": [
        "t2 = true_y*2\n",
        "\n",
        "pred_binary = pred_y>.5 \n",
        "\n",
        "\n"
      ],
      "execution_count": null,
      "outputs": []
    },
    {
      "cell_type": "markdown",
      "metadata": {
        "id": "KfWkx8I_VqMu",
        "colab_type": "text"
      },
      "source": [
        "create video of data types and sorted by prediction number and print the prediction number on the video to assess if there is a trend in the error type. "
      ]
    },
    {
      "cell_type": "code",
      "metadata": {
        "id": "ce215NguRrxh",
        "colab_type": "code",
        "colab": {}
      },
      "source": [
        "TP, FP, TN, FN = perf_measure(true_y, pred_binary)"
      ],
      "execution_count": null,
      "outputs": []
    },
    {
      "cell_type": "code",
      "metadata": {
        "id": "5St6posiSYr5",
        "colab_type": "code",
        "colab": {
          "base_uri": "https://localhost:8080/",
          "height": 34
        },
        "outputId": "45036ecf-5bdb-4de7-d7c5-e7cffb80211c"
      },
      "source": [
        "TP"
      ],
      "execution_count": null,
      "outputs": [
        {
          "output_type": "execute_result",
          "data": {
            "text/plain": [
              "510"
            ]
          },
          "metadata": {
            "tags": []
          },
          "execution_count": 56
        }
      ]
    },
    {
      "cell_type": "code",
      "metadata": {
        "id": "TPV8oZ7EQxpP",
        "colab_type": "code",
        "colab": {
          "base_uri": "https://localhost:8080/",
          "height": 51
        },
        "outputId": "fa306eb6-bb0b-4573-9be2-1d53a7dbc3a8"
      },
      "source": [
        "p2[0:2]"
      ],
      "execution_count": null,
      "outputs": [
        {
          "output_type": "execute_result",
          "data": {
            "text/plain": [
              "array([[-1],\n",
              "       [-1]])"
            ]
          },
          "metadata": {
            "tags": []
          },
          "execution_count": 53
        }
      ]
    },
    {
      "cell_type": "code",
      "metadata": {
        "id": "umtBid_i1p4Y",
        "colab_type": "code",
        "colab": {}
      },
      "source": [
        "# Fit model with a couple parameters\n",
        "EPOCHS = 20\n",
        "\n",
        "# Class imbalance weighting\n",
        "rebalance = class_weight.compute_class_weight('balanced',\n",
        "                                  [0, 1], raw_Y_2.flatten())\n",
        "class_weights = {i : rebalance[i] for i in range(2)}\n",
        "\n",
        "# Early stopping \n",
        "callbacks = [keras.callbacks.EarlyStopping (monitor = 'val_loss',\n",
        "                                            patience = 2)]\n",
        "\n",
        "history = model.fit(my_training_batch_generator, epochs=EPOCHS,\n",
        "              validation_data= my_validation_batch_generator,\n",
        "              callbacks = callbacks)\n",
        "\n",
        "\n",
        "#  can use below to see how many positive labels there are\n",
        "# np.mean(raw_Y_2)"
      ],
      "execution_count": null,
      "outputs": []
    },
    {
      "cell_type": "markdown",
      "metadata": {
        "id": "PuyDVv3x4yIf",
        "colab_type": "text"
      },
      "source": [
        "## 1) Data cleaning  \n",
        "In this section we're going to convert the images to the right channels and dimensions for MobileNetV2. \n",
        "\n",
        "a. many of the pre-trained models require 3 channels instead of 1  \n",
        "b. many of the pre-trained models also require specific image dimensions "
      ]
    },
    {
      "cell_type": "code",
      "metadata": {
        "id": "bYb1wnarMHNC",
        "colab_type": "code",
        "colab": {}
      },
      "source": [
        "# a. 3 channel conversion - convert grayscale image (1 channel) to rgb image (3 channel) for pretrained networks\n",
        "# # REDUCING SIZE OF IMAGE TENSOR AND OTHER ARRAY TO PREVENT CRASHING FOR NOW\n",
        "\n",
        "\n",
        "# # raw_X = raw_X[0:999, :, :]\n",
        "# # raw_Y = raw_Y[0:999, :]\n",
        "# print('raw image size = ' + str(raw_X.shape))  # (64, 224, 224)\n",
        "# rgb_batch = np.repeat(raw_X[..., np.newaxis], 3, -1)\n",
        "# print('converted rgb image size = ' + str(rgb_batch.shape))"
      ],
      "execution_count": null,
      "outputs": []
    },
    {
      "cell_type": "code",
      "metadata": {
        "id": "QeIVhHvshlpz",
        "colab_type": "code",
        "colab": {}
      },
      "source": [
        "# rgb_batch = np.repeat(raw_X[..., np.newaxis], 3, -1)\n",
        "# IMG_SIZE = 96 # All images will be resized to 160x160. This is the size of MobileNetV2 input sizes\n",
        "\n",
        "# rgb_tensor = tf.cast(rgb_batch, tf.float32) # convert to tf tensor with float32 dtypes\n",
        "# rgb_tensor = (rgb_tensor/127.5) - 1 # /127.5 = 0:2, -1 = -1:1 requirement for mobilenetV2\n",
        "# rgb_tensor = tf.image.resize(rgb_tensor, (IMG_SIZE, IMG_SIZE)) # resizing\n",
        "\n",
        "# IMG_SHAPE = (IMG_SIZE, IMG_SIZE, 3)\n",
        "\n"
      ],
      "execution_count": null,
      "outputs": []
    },
    {
      "cell_type": "markdown",
      "metadata": {
        "id": "JxN3zAwg3yL8",
        "colab_type": "text"
      },
      "source": [
        "# 2) Basic EDA  \n",
        "We're going to verify that the data looks good by eye. \n",
        "\n"
      ]
    },
    {
      "cell_type": "code",
      "metadata": {
        "id": "fWvMd5Mpe2t3",
        "colab_type": "code",
        "colab": {
          "base_uri": "https://localhost:8080/",
          "height": 484
        },
        "outputId": "b14480ae-a592-4674-bf44-5f3470097892"
      },
      "source": [
        "# Look at the distribution of classes\n",
        "fig, axs = plt.subplots(1, 3)\n",
        "axs[0].hist(raw_Y)\n",
        "axs[0].set_title('class distribution')\n",
        "axs[0].set_xticks([0,1])\n",
        "axs[0].set_xticklabels(['neg class', 'pos class'])\n",
        "axs[0].set_ylabel('number of examples')\n",
        "\n",
        "# Look at some images of positive and negative\n",
        "neg_class = [i for i, val in enumerate(raw_Y) if val==0]\n",
        "pos_class = [i for i, val in enumerate(raw_Y) if val==1]\n",
        "axs[1].imshow(rgb_tensor[np.random.choice(neg_class,1)[0]])\n",
        "axs[1].set_title('neg frame ' + str(np.random.choice(neg_class,1)[0]))\n",
        "axs[2].imshow(rgb_tensor[np.random.choice(pos_class,1)[0]])\n",
        "axs[2].set_title('pos frame ' + str(np.random.choice(pos_class,1)[0]))\n",
        "plt.tight_layout()"
      ],
      "execution_count": null,
      "outputs": [
        {
          "output_type": "error",
          "ename": "NameError",
          "evalue": "ignored",
          "traceback": [
            "\u001b[0;31m---------------------------------------------------------------------------\u001b[0m",
            "\u001b[0;31mNameError\u001b[0m                                 Traceback (most recent call last)",
            "\u001b[0;32m<ipython-input-81-c902cbaa41a9>\u001b[0m in \u001b[0;36m<module>\u001b[0;34m()\u001b[0m\n\u001b[1;32m      1\u001b[0m \u001b[0;31m# Look at the distribution of classes\u001b[0m\u001b[0;34m\u001b[0m\u001b[0;34m\u001b[0m\u001b[0;34m\u001b[0m\u001b[0m\n\u001b[1;32m      2\u001b[0m \u001b[0mfig\u001b[0m\u001b[0;34m,\u001b[0m \u001b[0maxs\u001b[0m \u001b[0;34m=\u001b[0m \u001b[0mplt\u001b[0m\u001b[0;34m.\u001b[0m\u001b[0msubplots\u001b[0m\u001b[0;34m(\u001b[0m\u001b[0;36m1\u001b[0m\u001b[0;34m,\u001b[0m \u001b[0;36m3\u001b[0m\u001b[0;34m)\u001b[0m\u001b[0;34m\u001b[0m\u001b[0;34m\u001b[0m\u001b[0m\n\u001b[0;32m----> 3\u001b[0;31m \u001b[0maxs\u001b[0m\u001b[0;34m[\u001b[0m\u001b[0;36m0\u001b[0m\u001b[0;34m]\u001b[0m\u001b[0;34m.\u001b[0m\u001b[0mhist\u001b[0m\u001b[0;34m(\u001b[0m\u001b[0mraw_Y\u001b[0m\u001b[0;34m)\u001b[0m\u001b[0;34m\u001b[0m\u001b[0;34m\u001b[0m\u001b[0m\n\u001b[0m\u001b[1;32m      4\u001b[0m \u001b[0maxs\u001b[0m\u001b[0;34m[\u001b[0m\u001b[0;36m0\u001b[0m\u001b[0;34m]\u001b[0m\u001b[0;34m.\u001b[0m\u001b[0mset_title\u001b[0m\u001b[0;34m(\u001b[0m\u001b[0;34m'class distribution'\u001b[0m\u001b[0;34m)\u001b[0m\u001b[0;34m\u001b[0m\u001b[0;34m\u001b[0m\u001b[0m\n\u001b[1;32m      5\u001b[0m \u001b[0maxs\u001b[0m\u001b[0;34m[\u001b[0m\u001b[0;36m0\u001b[0m\u001b[0;34m]\u001b[0m\u001b[0;34m.\u001b[0m\u001b[0mset_xticks\u001b[0m\u001b[0;34m(\u001b[0m\u001b[0;34m[\u001b[0m\u001b[0;36m0\u001b[0m\u001b[0;34m,\u001b[0m\u001b[0;36m1\u001b[0m\u001b[0;34m]\u001b[0m\u001b[0;34m)\u001b[0m\u001b[0;34m\u001b[0m\u001b[0;34m\u001b[0m\u001b[0m\n",
            "\u001b[0;31mNameError\u001b[0m: name 'raw_Y' is not defined"
          ]
        },
        {
          "output_type": "display_data",
          "data": {
            "image/png": "[encoded data removed]",
            "text/plain": [
              "<Figure size 432x288 with 3 Axes>"
            ]
          },
          "metadata": {
            "tags": [],
            "needs_background": "light"
          }
        }
      ]
    },
    {
      "cell_type": "code",
      "metadata": {
        "id": "8LyI6trlu0IN",
        "colab_type": "code",
        "colab": {}
      },
      "source": [
        "# Plot first 25 trials and see what they look like \n",
        "plt.figure(figsize=(10,10))\n",
        "for i in range(25):\n",
        "    plt.subplot(5,5,i+1)\n",
        "    plt.xticks([])\n",
        "    plt.yticks([])\n",
        "    plt.grid(False)\n",
        "    plt.imshow(rgb_tensor[i])\n",
        "    plt.xlabel(str(raw_Y[i]))\n",
        "plt.show()"
      ],
      "execution_count": null,
      "outputs": []
    },
    {
      "cell_type": "markdown",
      "metadata": {
        "id": "nNlmNktD5flN",
        "colab_type": "text"
      },
      "source": [
        "#3) Feature engineering and test/train splits"
      ]
    },
    {
      "cell_type": "code",
      "metadata": {
        "id": "8isaD7QviHex",
        "colab_type": "code",
        "colab": {}
      },
      "source": [
        "#3) Feature engineering and train test split\n",
        "\n",
        "X_train,X_test,Y_train,Y_test = ms.train_test_split(rgb_tensor.numpy(), raw_Y , test_size=0.2)\n",
        "X_train,X_val,Y_train,Y_val= ms.train_test_split(X_train, Y_train, test_size=0.2)\n",
        "\n",
        "print('train = ' + str(X_train.shape[0]))\n",
        "print('test = ' + str(X_val.shape[0]))\n",
        "print('validation = ' + str(X_test.shape[0]))"
      ],
      "execution_count": null,
      "outputs": []
    },
    {
      "cell_type": "code",
      "metadata": {
        "id": "i4w-An99-cWh",
        "colab_type": "code",
        "colab": {
          "base_uri": "https://localhost:8080/",
          "height": 34
        },
        "outputId": "53db5170-18b8-48c6-fc7a-2979c818e6b4"
      },
      "source": [
        "rebalance"
      ],
      "execution_count": null,
      "outputs": [
        {
          "output_type": "execute_result",
          "data": {
            "text/plain": [
              "array([0.65301492, 2.13382757])"
            ]
          },
          "metadata": {
            "tags": []
          },
          "execution_count": 57
        }
      ]
    },
    {
      "cell_type": "code",
      "metadata": {
        "id": "WC-FjSRQnzSz",
        "colab_type": "code",
        "colab": {}
      },
      "source": [
        "# Model prediction\n",
        "\n",
        "prediction = model.predict(X_test)\n"
      ],
      "execution_count": null,
      "outputs": []
    },
    {
      "cell_type": "markdown",
      "metadata": {
        "id": "kDLbRuvJ8mg4",
        "colab_type": "text"
      },
      "source": [
        "#5) Hyperparameter tuning of best base model "
      ]
    },
    {
      "cell_type": "code",
      "metadata": {
        "id": "dCFirRoha_Kj",
        "colab_type": "code",
        "colab": {}
      },
      "source": [
        "# Fine-tuning model by unfreezing layers and allowing them to be trainable\n",
        "\n",
        "model.trainable = True\n",
        "\n",
        "# Let's take a look to see how many layers are in the base model\n",
        "print(\"Number of layers in the base model: \", len(model.layers))\n",
        "\n",
        "# Fine-tune from this layer onwards\n",
        "fine_tune_at = 100\n",
        "\n",
        "# Freeze all the layers before the `fine_tune_at` layer\n",
        "for layer in model.layers[:fine_tune_at]:\n",
        "  layer.trainable =  False\n",
        "\n",
        "# Compile model with specific metrics\n",
        "# Metrics below are for evaluating imbalanced datasets\n",
        "METRICS = [\n",
        "      keras.metrics.TruePositives(name='tp'),\n",
        "      keras.metrics.FalsePositives(name='fp'),\n",
        "      keras.metrics.TrueNegatives(name='tn'),\n",
        "      keras.metrics.FalseNegatives(name='fn'), \n",
        "      keras.metrics.Precision(name='precision'),\n",
        "      keras.metrics.Recall(name='recall'),\n",
        "      keras.metrics.AUC(name = 'auc')\n",
        "]\n",
        "\n",
        "# compile model with a much slower learning rate \n",
        "base_learning_rate = 0.0001\n",
        "model.compile(optimizer=tf.keras.optimizers.RMSprop(lr=base_learning_rate/10),\n",
        "              loss=tf.keras.losses.BinaryCrossentropy(),\n",
        "              metrics=METRICS)\n"
      ],
      "execution_count": null,
      "outputs": []
    },
    {
      "cell_type": "code",
      "metadata": {
        "id": "2vjSTEJRmrmS",
        "colab_type": "code",
        "colab": {}
      },
      "source": [
        "# Fit model with class imbalance weighting\n",
        "\n",
        "rebalance = class_weight.compute_class_weight('balanced',\n",
        "                                  np.unique(Y_train), Y_train.flatten())\n",
        "class_weights = {i : rebalance[i] for i in range(2)}\n",
        "\n",
        "history = model.fit(X_train, Y_train, epochs=10,\n",
        "              validation_data=(X_val, Y_val),\n",
        "              class_weight=class_weights)"
      ],
      "execution_count": null,
      "outputs": []
    },
    {
      "cell_type": "code",
      "metadata": {
        "id": "tpJVra0Tga-Q",
        "colab_type": "code",
        "colab": {}
      },
      "source": [
        "pred_Y = model.predict(rgb_tensor)\n",
        "\n",
        "\n"
      ],
      "execution_count": null,
      "outputs": []
    },
    {
      "cell_type": "code",
      "metadata": {
        "id": "ctihSG49mwz3",
        "colab_type": "code",
        "colab": {}
      },
      "source": [
        "fail_pred = raw_Y == pred_Y\n",
        "# tmp3 = \n",
        "tmp3 = np.argwhere(fail_pred==False)\n",
        "\n",
        "tmp3[:, 0]\n",
        "# print(fail_pred)\n",
        "print(raw_Y[1:10])\n",
        "print(pred_Y[1:10])"
      ],
      "execution_count": null,
      "outputs": []
    },
    {
      "cell_type": "code",
      "metadata": {
        "id": "HT-9itTmptWm",
        "colab_type": "code",
        "colab": {}
      },
      "source": [
        ""
      ],
      "execution_count": null,
      "outputs": []
    },
    {
      "cell_type": "code",
      "metadata": {
        "id": "gdMS2pitI5uM",
        "colab_type": "code",
        "colab": {}
      },
      "source": [
        "import numpy as np\n",
        "\n",
        "num_in_each = [1, 233, 430, 2008, 600, 1, 40]\n",
        "max_batch_size = 600\n",
        "cnt = 0\n",
        "extract_inds = []\n",
        "# num_in_each contains the number of frames in each file I am loading, ie\n",
        "# for trial/file 1 there are 200 frames , trial/file 2 has 215 frames etc\n",
        "for k, elem in enumerate(num_in_each) :\n",
        "  tot_frame_nums = sum(num_in_each[cnt: k+1]) # used to test if the number of frames in \n",
        "  # all these files exceded the \"max_batch_size\" limit \n",
        "  if tot_frame_nums>max_batch_size or len(num_in_each)-1 == k: # condition met, these files together \n",
        "  # meet the max requirment to load together as a batch \n",
        "    print(tot_frame_nums)\n",
        "    print(cnt, k+1)\n",
        "    extract_inds.append([cnt, k+1])\n",
        "    cnt = k+1 # reset to the current iter\n",
        "    if np.diff(extract_inds[-1]) > 1: # if there is more than one file then we want to take off the last file \n",
        "    # because it excedes the set number of frames\n",
        "      extract_inds[-1][-1] = extract_inds[-1][-1]-1\n",
        "      cnt = cnt-1"
      ],
      "execution_count": null,
      "outputs": []
    }
  ]
}