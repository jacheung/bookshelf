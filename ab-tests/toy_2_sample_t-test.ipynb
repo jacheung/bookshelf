{
 "cells": [
  {
   "cell_type": "code",
   "execution_count": null,
   "metadata": {},
   "outputs": [],
   "source": [
    "import random\n",
    "import numpy as np\n",
    "import scipy.stats as stats\n",
    "import pandas as pd\n",
    "\n",
    "# We are going to create a toy dataset\n",
    "n_customers = 1000\n",
    "\n",
    "# Create a toy dataset to randomly assign visitor to either version A or B of the homepage\n",
    "treatment_group = []\n",
    "while len(treatment_group) < n_customers:\n",
    "    if random.random() > 0.5:\n",
    "        treatment_group.append('A')\n",
    "    else: \n",
    "        treatment_group.append('B') \n",
    "\n",
    "# For this toy dataset we set a lower threshold for conversion for B. \n",
    "converted = []\n",
    "for x in treatment_group:\n",
    "    threshold = 0.5\n",
    "    if x == 'B': \n",
    "        threshold = 0.2\n",
    "    if random.random() > threshold: \n",
    "        converted.append(True)\n",
    "    else:\n",
    "        converted.append(False)\n",
    "\n",
    "# Package your dataset into a dataframe\n",
    "dataset = {'treatment_group': treatment_group,\n",
    "           'converted': converted}\n",
    "toy_dataset = pd.DataFrame(dataset)\n",
    "a_data = toy_dataset.loc[toy_dataset['treatment_group'] == 'A']['converted'].values\n",
    "b_data = toy_dataset.loc[toy_dataset['treatment_group'] == 'B']['converted'].values\n",
    "\n",
    "# Perform a test for significance\n",
    "# 1) test for variance ratio between the two groups. If ratio is greater than 4:1, the t-test equal variance assumption is not passed\n",
    "if (np.var(a_data)/ np.var(b_data)) > 4:\n",
    "    print('Variance between groups falls outside boundaries of t-test assumptions.')\n",
    "    equal_var = False\n",
    "else: \n",
    "    equal_var = True\n",
    "# 2) Perform the two sample t-test at an alpha level of 0.05\n",
    "alpha = 0.05\n",
    "test_results = stats.ttest_ind(a=a_data, b=b_data, equal_var=True)\n",
    "\n",
    "# Analyze the results and determine which version of the homepage converts more customers.\n",
    "# As expected, we see that B is significantly different from A\n",
    "if test_results.pvalue < alpha:\n",
    "    print('The test is passed! Treatment A and B are significantly different!')\n",
    "    if a_data.mean() > b_data.mean(): \n",
    "        print('Further, A converts more customers than B!')\n",
    "    else: \n",
    "        print('Further, B converts more customers than A!')\n",
    "else:\n",
    "    print('The test has failed! Treatment A and B are NOT significantly different.')"
   ]
  },
  {
   "cell_type": "code",
   "execution_count": 5,
   "metadata": {},
   "outputs": [
    {
     "name": "stdout",
     "output_type": "stream",
     "text": [
      "string indices must be integers\n"
     ]
    }
   ],
   "source": [
    "x = \"asd\"\n",
    "try:\n",
    "    formatted_string = '{x[1:3]}'.format(x=x)\n",
    "except TypeError as e:\n",
    "    print(e)  # Output: 'string indices must be integers'\n"
   ]
  }
 ],
 "metadata": {
  "kernelspec": {
   "display_name": "sandbox",
   "language": "python",
   "name": "python3"
  },
  "language_info": {
   "codemirror_mode": {
    "name": "ipython",
    "version": 3
   },
   "file_extension": ".py",
   "mimetype": "text/x-python",
   "name": "python",
   "nbconvert_exporter": "python",
   "pygments_lexer": "ipython3",
   "version": "3.9.6"
  },
  "orig_nbformat": 4
 },
 "nbformat": 4,
 "nbformat_minor": 2
}
