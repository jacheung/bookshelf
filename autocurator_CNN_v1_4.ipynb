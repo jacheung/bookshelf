{
  "nbformat": 4,
  "nbformat_minor": 0,
  "metadata": {
    "colab": {
      "name": "autocurator_CNN_v1_4.ipynb",
      "provenance": [],
      "collapsed_sections": [],
      "toc_visible": true,
      "include_colab_link": true
    },
    "kernelspec": {
      "name": "python3",
      "display_name": "Python 3"
    },
    "accelerator": "GPU"
  },
  "cells": [
    {
      "cell_type": "markdown",
      "metadata": {
        "id": "view-in-github",
        "colab_type": "text"
      },
      "source": [
        "<a href=\"https://colab.research.google.com/github/jacheung/still-learning/blob/master/autocurator_CNN_v1_4.ipynb\" target=\"_parent\"><img src=\"https://colab.research.google.com/assets/colab-badge.svg\" alt=\"Open In Colab\"/></a>"
      ]
    },
    {
      "cell_type": "code",
      "metadata": {
        "id": "WBEOUJuANrQK",
        "colab_type": "code",
        "colab": {
          "base_uri": "https://localhost:8080/",
          "height": 122
        },
        "outputId": "cb273de0-f442-41b6-ba84-1cef8171e9ee"
      },
      "source": [
        "# Import necessary libraries and set up image libraries in Google drive\n",
        "import numpy as np\n",
        "import scipy.io\n",
        "import tensorflow as tf \n",
        "from tensorflow import keras\n",
        "from sklearn.utils import class_weight\n",
        "import sklearn.model_selection as ms\n",
        "\n",
        "from google.colab import drive\n",
        "import glob\n",
        "\n",
        "import matplotlib.pyplot as plt\n",
        "\n",
        "# Mount google drive and grab images and labels names \n",
        "drive.mount('/content/gdrive')\n",
        "base_dir = \"/content/gdrive/My Drive/Colab data/trialFramesNPY/\"\n",
        "T_class = glob.glob(base_dir + \"*touchClass.mat\")\n",
        "frames = glob.glob(base_dir + \"*dataset.mat\")"
      ],
      "execution_count": null,
      "outputs": [
        {
          "output_type": "stream",
          "text": [
            "Go to this URL in a browser: https://accounts.google.com/o/oauth2/auth?client_id=947318989803-6bn6qk8qdgf4n4g3pfee6491hc0brc4i.apps.googleusercontent.com&redirect_uri=urn%3aietf%3awg%3aoauth%3a2.0%3aoob&response_type=code&scope=email%20https%3a%2f%2fwww.googleapis.com%2fauth%2fdocs.test%20https%3a%2f%2fwww.googleapis.com%2fauth%2fdrive%20https%3a%2f%2fwww.googleapis.com%2fauth%2fdrive.photos.readonly%20https%3a%2f%2fwww.googleapis.com%2fauth%2fpeopleapi.readonly\n",
            "\n",
            "Enter your authorization code:\n",
            "··········\n",
            "Mounted at /content/gdrive\n"
          ],
          "name": "stdout"
        }
      ]
    },
    {
      "cell_type": "markdown",
      "metadata": {
        "id": "dJzQ9d1ZzXyX",
        "colab_type": "text"
      },
      "source": [
        "# 1) Data cleaning\n"
      ]
    },
    {
      "cell_type": "markdown",
      "metadata": {
        "id": "d0XkvNfc1-yf",
        "colab_type": "text"
      },
      "source": [
        "## 1.1 Matching frames and labels"
      ]
    },
    {
      "cell_type": "code",
      "metadata": {
        "id": "aXFWPKw6on2f",
        "colab_type": "code",
        "colab": {}
      },
      "source": [
        "# Trim frames and labels names to make the names the same to match them\n",
        "frame_nums = []\n",
        "T_class_nums = []\n",
        "\n",
        "for i in range(len(frames)):\n",
        "  frame_nums.append(frames[i][1:-11])\n",
        "\n",
        "for i in range(len(T_class)):\n",
        "  T_class_nums.append(T_class[i][1:-14])"
      ],
      "execution_count": null,
      "outputs": []
    },
    {
      "cell_type": "code",
      "metadata": {
        "id": "L_JezT3C_6EE",
        "colab_type": "code",
        "colab": {
          "base_uri": "https://localhost:8080/",
          "height": 51
        },
        "outputId": "7267af24-db16-4479-a6e8-174384923417"
      },
      "source": [
        "# Match and reorder all frames and label files\n",
        "indices = []\n",
        "T_class_reordered = []\n",
        "\n",
        "for k in range(len(frame_nums)):\n",
        "  indices.append([i for i, s in enumerate(T_class_nums) if frame_nums[k] in s])\n",
        "\n",
        "indices = [x for x in indices if x != []]\n",
        "\n",
        "for k in range(len(indices)):\n",
        "    T_class_reordered.append(T_class[indices[k][0]])\n",
        "\n",
        "# test that this is matched\n",
        "print(T_class_reordered[-1])\n",
        "print(frames[-1])"
      ],
      "execution_count": null,
      "outputs": [
        {
          "output_type": "stream",
          "text": [
            "/content/gdrive/My Drive/Colab data/trialFramesNPY/AH0000x000000-291_touchClass.mat\n",
            "/content/gdrive/My Drive/Colab data/trialFramesNPY/AH0000x000000-291_dataset.mat\n"
          ],
          "name": "stdout"
        }
      ]
    },
    {
      "cell_type": "code",
      "metadata": {
        "id": "xGem5Qao1cYz",
        "colab_type": "code",
        "colab": {}
      },
      "source": [
        "# load in labels and count how many data points are in each file. \n",
        "# each file represents a trial so for us this could be anywhere between 1 and 4000 data points. \n",
        "# most often somewhere between 200-600\n",
        "\n",
        "raw_Y_set = []\n",
        "frame_num_in_Y_set = []\n",
        "for cnt1 in range(len(frames)):\n",
        "  tmp2 = scipy.io.loadmat(T_class_reordered[cnt1])\n",
        "  raw_Y_set.append(tmp2['touchClass'])\n",
        "  frame_num_in_Y_set.append(len(raw_Y_set[cnt1]))"
      ],
      "execution_count": null,
      "outputs": []
    },
    {
      "cell_type": "markdown",
      "metadata": {
        "id": "nX1TKm3-yQrB",
        "colab_type": "text"
      },
      "source": [
        "## 1.2 Build Keras Image Generator \n",
        " "
      ]
    },
    {
      "cell_type": "code",
      "metadata": {
        "id": "Ls0klmrRNy0r",
        "colab_type": "code",
        "colab": {}
      },
      "source": [
        "# Function to generate an image tensor and corresponding label array\n",
        "from psutil import virtual_memory\n",
        "import sys\n",
        "import time\n",
        "\n",
        "def build_data( x_files, y_files) :\n",
        "  to_del = 0\n",
        "  start = time.time()\n",
        "\n",
        "  cnt1 = -1;\n",
        "  mem_free = 9999\n",
        "\n",
        "  for k in range(len(y_files)):\n",
        "    cnt1 = cnt1 + 1\n",
        "    tmp1 = scipy.io.loadmat(x_files[cnt1])\n",
        "    tmp2 = scipy.io.loadmat(y_files[cnt1])\n",
        "\n",
        "    Xtmp = tmp1['finalMat']\n",
        "    Ytmp = tmp2['touchClass']\n",
        "    if cnt1==0:\n",
        "      raw_X = Xtmp\n",
        "      raw_Y = Ytmp\n",
        "    else:\n",
        "      \n",
        "      # print(raw_Y.shape)\n",
        "      # print(\"\\r\")\n",
        "      raw_X = np.concatenate((raw_X,Xtmp), axis=0)\n",
        "      raw_Y = np.concatenate((raw_Y,Ytmp), axis=0)\n",
        "    if ((time.time() - start) > 2) or cnt1>=len(x_files)-1:# update every 2 seconds or when loop ends\n",
        "      mem = virtual_memory()\n",
        "      mem_free = mem.free/1024**3;\n",
        "      start = time.time()\n",
        "\n",
        "      # print('\\b'* (to_del+2))\n",
        "      # to_print = (\"X shape = \" + str(raw_X.shape)+'\\n'+\n",
        "      #             \"Y shape = \" + str(raw_Y.shape)+'\\n'+\n",
        "      #             str(round(mem_free, 2)) + \"GB free\"+'\\n'+\n",
        "      #            \"iter \" + str(cnt1+1) + ' of ' + str(len(y_files)))\n",
        "      # print(to_print)\n",
        "      # to_del = len(to_print)\n",
        "  return raw_X, raw_Y\n",
        "\n"
      ],
      "execution_count": null,
      "outputs": []
    },
    {
      "cell_type": "markdown",
      "metadata": {
        "id": "Qasu3Qg73pcL",
        "colab_type": "text"
      },
      "source": [
        "make a custom class to help load in the data to prevent crashing due to over using RAM \n",
        "This class will \n",
        "- chunk the files based on the total frames contained in them based on \"batch_size\" variable \n"
      ]
    },
    {
      "cell_type": "code",
      "metadata": {
        "id": "OkN3VJIA5XEV",
        "colab_type": "code",
        "colab": {}
      },
      "source": [
        "class My_Custom_Generator(keras.utils.Sequence) :\n",
        "  \n",
        "  def __init__(self, file_trial_list, file_Y_list, num_in_each, batch_size) :\n",
        "    cnt = 0\n",
        "    extract_inds = []\n",
        "    # num_in_each contains the number of frames in each file I am loading, ie\n",
        "    # for trial/file 1 there are 200 frames , trial/file 2 has 215 frames etc\n",
        "    for k, elem in enumerate(num_in_each) :\n",
        "      tot_frame_nums = sum(num_in_each[cnt: k+1]) # used to test if the number of frames in \n",
        "      # all these files exceded the \"batch_size\" limit \n",
        "      if tot_frame_nums>batch_size or len(num_in_each)-1 == k: # condition met, these files together \n",
        "      # meet the max requirment to load together as a batch \n",
        "        extract_inds.append([cnt, k+1])\n",
        "        cnt = k+1 # reset to the current iter\n",
        "        if np.diff(extract_inds[-1]) > 1: # if there is more than one file then we want to take off the last file \n",
        "        # because it excedes the set number of frames\n",
        "          extract_inds[-1][-1] = extract_inds[-1][-1]-1\n",
        "          cnt = cnt-1\n",
        "    \n",
        "    file_list_chunks = []\n",
        "    file_Y_list_chunks = []\n",
        "    for i, ii in enumerate(extract_inds):\n",
        "      file_list_chunks.append(file_trial_list[ii[0]:ii[1]])\n",
        "      file_Y_list_chunks.append(file_Y_list[ii[0]:ii[1]])\n",
        "\n",
        "\n",
        "    self.file_trial_list = file_trial_list\n",
        "    self.file_Y_list = file_Y_list\n",
        "    self.batch_size = batch_size\n",
        "    self.extract_inds = extract_inds\n",
        "    self.num_in_each = num_in_each\n",
        "    self.file_list_chunks = file_list_chunks\n",
        "    self.file_Y_list_chunks = file_Y_list_chunks\n",
        "    \n",
        "    \n",
        "    # for i, ii in enumerate(extract_inds):\n",
        "    #   file_list_chunks.append(self.file_trial_list[ii[0]:ii[1]])\n",
        "    #   file_Y_list_chunks.append(self.file_Y_list[ii[0]:ii[1]])\n",
        "    \n",
        "\n",
        "  # def print_ind_frame_info(self) :\n",
        "\n",
        "  #   for i, ii in enumerate(self.extract_inds):\n",
        "  #       # num_in_each[extract_inds[i][1]:extract_inds[i][-1]]\n",
        "  #       tmp1 = self.num_in_each[self.extract_inds[i][0]: self.extract_inds[i][-1]]\n",
        "  #       print('frames in EACH of these '+str(len(tmp1)) + ' files are '+str(tmp1))\n",
        "  #       print('   frames in all of these '+ str(len(tmp1)) + ' of these files = ' + \n",
        "  #             str(sum(tmp1)) + ' which is less than batch limit of '+str(self.batch_size)+\n",
        "  #             ' unless a single files exedes this limit ')  \n",
        "    \n",
        "  def __len__(self) :\n",
        "    return len(self.extract_inds)\n",
        "  \n",
        "  # def unbunch_files(self, num_2_extract) :\n",
        "  #   xout2, yout2 = build_data(self.file_list_chunks[num_2_extract], \n",
        "  #                         self.file_Y_list_chunks[num_2_extract])\n",
        "  #   return xout2, yout2\n",
        "  def __getitem__(self, num_2_extract) :\n",
        "    raw_X, raw_Y = build_data(self.file_list_chunks[num_2_extract], \n",
        "                          self.file_Y_list_chunks[num_2_extract])\n",
        "    # return xout2, yout2\n",
        "\n",
        "    rgb_batch = np.repeat(raw_X[..., np.newaxis], 3, -1)\n",
        "    IMG_SIZE = 96 # All images will be resized to 160x160. This is the size of MobileNetV2 input sizes\n",
        "\n",
        "    rgb_tensor = tf.cast(rgb_batch, tf.float32) # convert to tf tensor with float32 dtypes\n",
        "    rgb_tensor = (rgb_tensor/127.5) - 1 # /127.5 = 0:2, -1 = -1:1 requirement for mobilenetV2\n",
        "    rgb_tensor = tf.image.resize(rgb_tensor, (IMG_SIZE, IMG_SIZE)) # resizing\n",
        "\n",
        "    self.IMG_SHAPE = (IMG_SIZE, IMG_SIZE, 3)\n",
        "\n",
        "    return rgb_tensor, raw_Y\n",
        "    # batch_x = self.image_filenames[idx * self.batch_size : (idx+1) * self.batch_size]\n",
        "    # batch_y = self.labels[idx * self.batch_size : (idx+1) * self.batch_size]\n",
        "    \n",
        "    # return np.array([\n",
        "    #         resize(imread('/content/all_images/' + str(file_name)), (80, 80, 3))\n",
        "    #            for file_name in batch_x])/255.0, np.array(batch_y)"
      ],
      "execution_count": 160,
      "outputs": []
    },
    {
      "cell_type": "code",
      "metadata": {
        "id": "Qa2BV1BoRDJM",
        "colab_type": "code",
        "colab": {}
      },
      "source": [
        "# Data splits to train/test/validation sets \n",
        "\n",
        "# *** need to get actual data split here\n",
        "batch_size = 2000\n",
        "validate_fraction = .3\n",
        "\n",
        "# for now we will split based on num files not number of frames becasue its easier and shouldnt make\n",
        "#  too much of a difference -- can fix later if we care to \n",
        "mixed_inds = np.random.choice(len(frames), len(frames), replace=False)\n",
        "validate_count = round(validate_fraction*len(frames))\n",
        "\n",
        "\n",
        "my_training_batch_generator = My_Custom_Generator(frames[validate_count+1:-1], T_class_reordered[validate_count+1:-1], frame_num_in_Y_set[validate_count+1:-1],  batch_size)\n",
        "my_validation_batch_generator = My_Custom_Generator(frames[0:validate_count], T_class_reordered[0:validate_count], frame_num_in_Y_set[0:validate_count],  batch_size)\n"
      ],
      "execution_count": 161,
      "outputs": []
    },
    {
      "cell_type": "markdown",
      "metadata": {
        "id": "uAQfCvkC2uPD",
        "colab_type": "text"
      },
      "source": [
        "#2) Exploratory Data Analysis "
      ]
    },
    {
      "cell_type": "code",
      "metadata": {
        "id": "mZgvKS5GQtAi",
        "colab_type": "code",
        "colab": {
          "base_uri": "https://localhost:8080/",
          "height": 789
        },
        "outputId": "933cd923-90ea-4aed-fff5-6d4f6b1df8de"
      },
      "source": [
        "batch_num = np.random.choice(np.arange(0,len(my_training_batch_generator.file_list_chunks)))\n",
        "\n",
        "samp_x, samp_y = my_training_batch_generator.__getitem__(batch_num)\n",
        "\n",
        "# Look at the distribution of classes\n",
        "fig, axs = plt.subplots(1, 1)\n",
        "plt.hist(samp_y)\n",
        "plt.title('class distribution from batch ' + str(batch_num))\n",
        "plt.xticks([0,1],['neg class', 'pos class'])\n",
        "plt.ylabel('number of examples')\n",
        "\n",
        "plt.show()\n",
        "\n",
        "neg_class = [i for i, val in enumerate(samp_y) if val==0]\n",
        "pos_class = [i for i, val in enumerate(samp_y) if val==1]\n",
        "\n",
        "images_to_sample = 20\n",
        "neg_index = np.random.choice(neg_class,images_to_sample)\n",
        "pos_index = np.random.choice(pos_class,images_to_sample)\n",
        "\n",
        "plt.figure(figsize=(10,10))\n",
        "for i in range(images_to_sample):\n",
        "    plt.subplot(5,10,i+1)\n",
        "    plt.xticks([])\n",
        "    plt.yticks([])\n",
        "    plt.grid(False)\n",
        "    _ = plt.imshow(samp_x[neg_index[i]])\n",
        "    plt.xlabel('0')\n",
        "\n",
        "    plt.subplot(5,10,images_to_sample+i+1)\n",
        "    plt.xticks([])\n",
        "    plt.yticks([])\n",
        "    plt.grid(False)\n",
        "    plt.imshow(samp_x[pos_index[i]])\n",
        "    plt.xlabel('1')\n",
        "\n",
        "\n",
        "plt.suptitle('sample images from batch  ' + str(batch_num))\n",
        "plt.show()"
      ],
      "execution_count": 163,
      "outputs": [
        {
          "output_type": "display_data",
          "data": {
            "image/png": "[encoded data removed]",
            "text/plain": [
              "<Figure size 432x288 with 1 Axes>"
            ]
          },
          "metadata": {
            "tags": [],
            "needs_background": "light"
          }
        },
        {
          "output_type": "display_data",
          "data": {
            "image/png": "[encoded data removed]",
            "text/plain": [
              "<Figure size 720x720 with 40 Axes>"
            ]
          },
          "metadata": {
            "tags": []
          }
        }
      ]
    },
    {
      "cell_type": "markdown",
      "metadata": {
        "id": "TQKE1y9YBVyQ",
        "colab_type": "text"
      },
      "source": [
        "# 3) Feature engineering\n"
      ]
    },
    {
      "cell_type": "code",
      "metadata": {
        "id": "L0LNCqs96cO2",
        "colab_type": "code",
        "colab": {}
      },
      "source": [
        "# Y vectorization and class weight calculation \n",
        "to_del = 0\n",
        "start = time.time()\n",
        "\n",
        "cnt1 = -1;\n",
        "mem_free = 9999\n",
        "y_files = my_training_batch_generator.file_Y_list\n",
        "for k in range(len(y_files)):\n",
        "  cnt1 = cnt1 + 1\n",
        "  tmp2 = scipy.io.loadmat(y_files[cnt1])\n",
        "\n",
        "  Ytmp = tmp2['touchClass']\n",
        "  if cnt1==0:\n",
        "    raw_Y_2 = Ytmp\n",
        "  else:\n",
        "    raw_Y_2 = np.concatenate((raw_Y_2,Ytmp), axis=0)\n"
      ],
      "execution_count": 164,
      "outputs": []
    },
    {
      "cell_type": "markdown",
      "metadata": {
        "id": "JIWvXzxw37a7",
        "colab_type": "text"
      },
      "source": [
        "# 4) Deploy and selection of base model\n",
        "In this section we're going to use MobileNetV2 as the base model.\n",
        "We're going to run two variations of the model.  \n",
        "a. basemodel with frozen layers and output classifer changes   \n",
        "b. basemodel with final 100 layers unfrozen to optimize prediction \n"
      ]
    },
    {
      "cell_type": "code",
      "metadata": {
        "id": "xOfFjdZbqXoS",
        "colab_type": "code",
        "colab": {
          "base_uri": "https://localhost:8080/",
          "height": 377
        },
        "outputId": "99caaad8-e309-4764-8658-58de123f2391"
      },
      "source": [
        "# Create base model \n",
        "\n",
        "# First, instantiate a MobileNet V2 model pre-loaded with weights trained on ImageNet. By specifying the include_top=False argument, \n",
        "# you load a network that doesn't include the classification layers at the top, which is ideal for feature extraction\n",
        "\n",
        "# Create the base model from the pre-trained model MobileNet V2\n",
        "IMG_SIZE = 96 # All images will be resized to 160x160. This is the size of MobileNetV2 input sizes\n",
        "IMG_SHAPE = (IMG_SIZE, IMG_SIZE, 3)\n",
        "\n",
        "base_model = tf.keras.applications.MobileNetV2(input_shape=IMG_SHAPE,\n",
        "                                               include_top=False,\n",
        "                                               weights='imagenet')\n",
        "\n",
        "base_model.trainable = False\n",
        "\n",
        "feature_batch = base_model.output\n",
        "print(feature_batch.shape)\n",
        "\n",
        "# Adding Classification head\n",
        "global_average_layer = tf.keras.layers.GlobalAveragePooling2D()\n",
        "feature_batch_average = global_average_layer(feature_batch)\n",
        "print(feature_batch_average.shape)\n",
        "\n",
        "prediction_layer = tf.keras.layers.Dense(1, activation='sigmoid')\n",
        "prediction_batch = prediction_layer(feature_batch_average)\n",
        "print(prediction_batch.shape)\n",
        "\n",
        "# Model Stacking\n",
        "model = tf.keras.Sequential([\n",
        "  base_model,\n",
        "  global_average_layer,\n",
        "  prediction_layer\n",
        "])\n",
        "\n",
        "print(model.summary())\n",
        "\n",
        "# Compile model with specific metrics\n",
        "# Metrics below are for evaluating imbalanced datasets\n",
        "METRICS = [\n",
        "      keras.metrics.TruePositives(name='tp'),\n",
        "      keras.metrics.FalsePositives(name='fp'),\n",
        "      keras.metrics.TrueNegatives(name='tn'),\n",
        "      keras.metrics.FalseNegatives(name='fn'), \n",
        "      keras.metrics.Precision(name='precision'),\n",
        "      keras.metrics.Recall(name='recall'),\n",
        "      keras.metrics.AUC(name = 'auc')\n",
        "]\n",
        "\n",
        "base_learning_rate = 0.0001\n",
        "model.compile(optimizer=tf.keras.optimizers.RMSprop(lr=base_learning_rate),\n",
        "              loss=tf.keras.losses.BinaryCrossentropy(),\n",
        "              metrics=METRICS)"
      ],
      "execution_count": 165,
      "outputs": [
        {
          "output_type": "stream",
          "text": [
            "Downloading data from https://storage.googleapis.com/tensorflow/keras-applications/mobilenet_v2/mobilenet_v2_weights_tf_dim_ordering_tf_kernels_1.0_96_no_top.h5\n",
            "9412608/9406464 [==============================] - 0s 0us/step\n",
            "(None, 3, 3, 1280)\n",
            "(None, 1280)\n",
            "(None, 1)\n",
            "Model: \"sequential\"\n",
            "_________________________________________________________________\n",
            "Layer (type)                 Output Shape              Param #   \n",
            "=================================================================\n",
            "mobilenetv2_1.00_96 (Functio (None, 3, 3, 1280)        2257984   \n",
            "_________________________________________________________________\n",
            "global_average_pooling2d (Gl (None, 1280)              0         \n",
            "_________________________________________________________________\n",
            "dense (Dense)                (None, 1)                 1281      \n",
            "=================================================================\n",
            "Total params: 2,259,265\n",
            "Trainable params: 1,281\n",
            "Non-trainable params: 2,257,984\n",
            "_________________________________________________________________\n",
            "None\n"
          ],
          "name": "stdout"
        }
      ]
    },
    {
      "cell_type": "code",
      "metadata": {
        "colab_type": "code",
        "id": "gt0G74FsB6_i",
        "colab": {
          "base_uri": "https://localhost:8080/",
          "height": 734
        },
        "outputId": "f47bfb5c-7e37-46a5-9a74-0421e9af6b63"
      },
      "source": [
        "import time \n",
        "start = time.time()\n",
        "\n",
        "# Fit model with a couple parameters\n",
        "EPOCHS = 20\n",
        "\n",
        "# Class imbalance weighting\n",
        "rebalance = class_weight.compute_class_weight('balanced',\n",
        "                                  [0, 1], raw_Y_2.flatten())\n",
        "class_weights = {i : rebalance[i] for i in range(2)}\n",
        "\n",
        "# Early stopping \n",
        "callbacks = [keras.callbacks.EarlyStopping (monitor = 'val_loss',\n",
        "                                            patience = 2)]\n",
        "\n",
        "history = model.fit(my_training_batch_generator, epochs=EPOCHS,\n",
        "              validation_data= my_validation_batch_generator,\n",
        "              callbacks = callbacks,\n",
        "              class_weight = class_weights)\n",
        "\n",
        "\n",
        "total_seconds = time.time() - start\n",
        "print('total time took ' + str(round(total_seconds/60)), ' minutes')"
      ],
      "execution_count": 166,
      "outputs": [
        {
          "output_type": "stream",
          "text": [
            "Epoch 1/20\n",
            "28/28 [==============================] - 66s 2s/step - loss: 0.8041 - tp: 10028.0000 - fp: 30249.0000 - tn: 3634.0000 - fn: 4926.0000 - precision: 0.2490 - recall: 0.6706 - auc: 0.3491 - val_loss: 0.8196 - val_tp: 3093.0000 - val_fp: 28180.0000 - val_tn: 8271.0000 - val_fn: 3583.0000 - val_precision: 0.0989 - val_recall: 0.4633 - val_auc: 0.2193\n",
            "Epoch 2/20\n",
            "28/28 [==============================] - 17s 609ms/step - loss: 0.7384 - tp: 7293.0000 - fp: 24489.0000 - tn: 9394.0000 - fn: 7661.0000 - precision: 0.2295 - recall: 0.4877 - auc: 0.3968 - val_loss: 0.7287 - val_tp: 2042.0000 - val_fp: 24432.0000 - val_tn: 12019.0000 - val_fn: 4634.0000 - val_precision: 0.0771 - val_recall: 0.3059 - val_auc: 0.3106\n",
            "Epoch 3/20\n",
            "28/28 [==============================] - 17s 610ms/step - loss: 0.6948 - tp: 6722.0000 - fp: 16066.0000 - tn: 17817.0000 - fn: 8232.0000 - precision: 0.2950 - recall: 0.4495 - auc: 0.5166 - val_loss: 0.6816 - val_tp: 2538.0000 - val_fp: 16880.0000 - val_tn: 19571.0000 - val_fn: 4138.0000 - val_precision: 0.1307 - val_recall: 0.3802 - val_auc: 0.4677\n",
            "Epoch 4/20\n",
            "28/28 [==============================] - 17s 603ms/step - loss: 0.6544 - tp: 8218.0000 - fp: 12233.0000 - tn: 21650.0000 - fn: 6736.0000 - precision: 0.4018 - recall: 0.5496 - auc: 0.6560 - val_loss: 0.6349 - val_tp: 2877.0000 - val_fp: 11213.0000 - val_tn: 25238.0000 - val_fn: 3799.0000 - val_precision: 0.2042 - val_recall: 0.4309 - val_auc: 0.6443\n",
            "Epoch 5/20\n",
            "28/28 [==============================] - 17s 608ms/step - loss: 0.6169 - tp: 9405.0000 - fp: 6146.0000 - tn: 27737.0000 - fn: 5549.0000 - precision: 0.6048 - recall: 0.6289 - auc: 0.8037 - val_loss: 0.6071 - val_tp: 3889.0000 - val_fp: 9671.0000 - val_tn: 26780.0000 - val_fn: 2787.0000 - val_precision: 0.2868 - val_recall: 0.5825 - val_auc: 0.7723\n",
            "Epoch 6/20\n",
            "28/28 [==============================] - 17s 604ms/step - loss: 0.5847 - tp: 10811.0000 - fp: 4322.0000 - tn: 29561.0000 - fn: 4143.0000 - precision: 0.7144 - recall: 0.7230 - auc: 0.8728 - val_loss: 0.5741 - val_tp: 4447.0000 - val_fp: 6293.0000 - val_tn: 30158.0000 - val_fn: 2229.0000 - val_precision: 0.4141 - val_recall: 0.6661 - val_auc: 0.8516\n",
            "Epoch 7/20\n",
            "28/28 [==============================] - 17s 608ms/step - loss: 0.5545 - tp: 11883.0000 - fp: 3780.0000 - tn: 30103.0000 - fn: 3071.0000 - precision: 0.7587 - recall: 0.7946 - auc: 0.9133 - val_loss: 0.5430 - val_tp: 4699.0000 - val_fp: 4074.0000 - val_tn: 32377.0000 - val_fn: 1977.0000 - val_precision: 0.5356 - val_recall: 0.7039 - val_auc: 0.8896\n",
            "Epoch 8/20\n",
            "28/28 [==============================] - 17s 604ms/step - loss: 0.5276 - tp: 12359.0000 - fp: 2849.0000 - tn: 31034.0000 - fn: 2595.0000 - precision: 0.8127 - recall: 0.8265 - auc: 0.9319 - val_loss: 0.5100 - val_tp: 4764.0000 - val_fp: 2450.0000 - val_tn: 34001.0000 - val_fn: 1912.0000 - val_precision: 0.6604 - val_recall: 0.7136 - val_auc: 0.9104\n",
            "Epoch 9/20\n",
            "28/28 [==============================] - 17s 595ms/step - loss: 0.5035 - tp: 12075.0000 - fp: 2595.0000 - tn: 31288.0000 - fn: 2879.0000 - precision: 0.8231 - recall: 0.8075 - auc: 0.9382 - val_loss: 0.5034 - val_tp: 5252.0000 - val_fp: 3246.0000 - val_tn: 33205.0000 - val_fn: 1424.0000 - val_precision: 0.6180 - val_recall: 0.7867 - val_auc: 0.9229\n",
            "Epoch 10/20\n",
            "28/28 [==============================] - 17s 604ms/step - loss: 0.4821 - tp: 12754.0000 - fp: 3105.0000 - tn: 30778.0000 - fn: 2200.0000 - precision: 0.8042 - recall: 0.8529 - auc: 0.9406 - val_loss: 0.4638 - val_tp: 5007.0000 - val_fp: 2249.0000 - val_tn: 34202.0000 - val_fn: 1669.0000 - val_precision: 0.6900 - val_recall: 0.7500 - val_auc: 0.9308\n",
            "Epoch 11/20\n",
            "28/28 [==============================] - 17s 595ms/step - loss: 0.4626 - tp: 12769.0000 - fp: 3030.0000 - tn: 30853.0000 - fn: 2185.0000 - precision: 0.8082 - recall: 0.8539 - auc: 0.9448 - val_loss: 0.4507 - val_tp: 5202.0000 - val_fp: 2389.0000 - val_tn: 34062.0000 - val_fn: 1474.0000 - val_precision: 0.6853 - val_recall: 0.7792 - val_auc: 0.9359\n",
            "Epoch 12/20\n",
            "28/28 [==============================] - 17s 604ms/step - loss: 0.4451 - tp: 12631.0000 - fp: 3042.0000 - tn: 30841.0000 - fn: 2323.0000 - precision: 0.8059 - recall: 0.8447 - auc: 0.9460 - val_loss: 0.4486 - val_tp: 5545.0000 - val_fp: 2752.0000 - val_tn: 33699.0000 - val_fn: 1131.0000 - val_precision: 0.6683 - val_recall: 0.8306 - val_auc: 0.9403\n",
            "Epoch 13/20\n",
            "28/28 [==============================] - 17s 606ms/step - loss: 0.4297 - tp: 12989.0000 - fp: 3339.0000 - tn: 30544.0000 - fn: 1965.0000 - precision: 0.7955 - recall: 0.8686 - auc: 0.9475 - val_loss: 0.4287 - val_tp: 5529.0000 - val_fp: 2645.0000 - val_tn: 33806.0000 - val_fn: 1147.0000 - val_precision: 0.6764 - val_recall: 0.8282 - val_auc: 0.9432\n",
            "Epoch 14/20\n",
            "28/28 [==============================] - 17s 606ms/step - loss: 0.4166 - tp: 13091.0000 - fp: 3409.0000 - tn: 30474.0000 - fn: 1863.0000 - precision: 0.7934 - recall: 0.8754 - auc: 0.9489 - val_loss: 0.4120 - val_tp: 5528.0000 - val_fp: 2607.0000 - val_tn: 33844.0000 - val_fn: 1148.0000 - val_precision: 0.6795 - val_recall: 0.8280 - val_auc: 0.9457\n",
            "Epoch 15/20\n",
            "28/28 [==============================] - 17s 609ms/step - loss: 0.4045 - tp: 12996.0000 - fp: 3330.0000 - tn: 30553.0000 - fn: 1958.0000 - precision: 0.7960 - recall: 0.8691 - auc: 0.9506 - val_loss: 0.4038 - val_tp: 5623.0000 - val_fp: 2712.0000 - val_tn: 33739.0000 - val_fn: 1053.0000 - val_precision: 0.6746 - val_recall: 0.8423 - val_auc: 0.9478\n",
            "Epoch 16/20\n",
            "28/28 [==============================] - 17s 599ms/step - loss: 0.3935 - tp: 13173.0000 - fp: 3513.0000 - tn: 30370.0000 - fn: 1781.0000 - precision: 0.7895 - recall: 0.8809 - auc: 0.9505 - val_loss: 0.3880 - val_tp: 5593.0000 - val_fp: 2662.0000 - val_tn: 33789.0000 - val_fn: 1083.0000 - val_precision: 0.6775 - val_recall: 0.8378 - val_auc: 0.9496\n",
            "Epoch 17/20\n",
            "28/28 [==============================] - 17s 599ms/step - loss: 0.3829 - tp: 13056.0000 - fp: 3388.0000 - tn: 30495.0000 - fn: 1898.0000 - precision: 0.7940 - recall: 0.8731 - auc: 0.9515 - val_loss: 0.3835 - val_tp: 5723.0000 - val_fp: 2778.0000 - val_tn: 33673.0000 - val_fn: 953.0000 - val_precision: 0.6732 - val_recall: 0.8572 - val_auc: 0.9514\n",
            "Epoch 18/20\n",
            "28/28 [==============================] - 17s 601ms/step - loss: 0.3738 - tp: 13196.0000 - fp: 3474.0000 - tn: 30409.0000 - fn: 1758.0000 - precision: 0.7916 - recall: 0.8824 - auc: 0.9522 - val_loss: 0.3711 - val_tp: 5719.0000 - val_fp: 2723.0000 - val_tn: 33728.0000 - val_fn: 957.0000 - val_precision: 0.6774 - val_recall: 0.8567 - val_auc: 0.9529\n",
            "Epoch 19/20\n",
            "28/28 [==============================] - 17s 603ms/step - loss: 0.3651 - tp: 13137.0000 - fp: 3372.0000 - tn: 30511.0000 - fn: 1817.0000 - precision: 0.7957 - recall: 0.8785 - auc: 0.9541 - val_loss: 0.3663 - val_tp: 5796.0000 - val_fp: 2780.0000 - val_tn: 33671.0000 - val_fn: 880.0000 - val_precision: 0.6758 - val_recall: 0.8682 - val_auc: 0.9542\n",
            "Epoch 20/20\n",
            "28/28 [==============================] - 17s 599ms/step - loss: 0.3575 - tp: 13133.0000 - fp: 3357.0000 - tn: 30526.0000 - fn: 1821.0000 - precision: 0.7964 - recall: 0.8782 - auc: 0.9542 - val_loss: 0.3651 - val_tp: 5900.0000 - val_fp: 2923.0000 - val_tn: 33528.0000 - val_fn: 776.0000 - val_precision: 0.6687 - val_recall: 0.8838 - val_auc: 0.9555\n",
            "total time tooke 7  minutes\n"
          ],
          "name": "stdout"
        }
      ]
    },
    {
      "cell_type": "code",
      "metadata": {
        "id": "TMGd5RW2VDaz",
        "colab_type": "code",
        "colab": {
          "base_uri": "https://localhost:8080/",
          "height": 297
        },
        "outputId": "ff09f850-bda9-48f0-dfbc-97918dc02f63"
      },
      "source": [
        "# Model evaluation\n",
        "colors = plt.rcParams['axes.prop_cycle'].by_key()['color']\n",
        "def plot_metrics(history):\n",
        "  metrics =  ['loss', 'auc', 'precision', 'recall']\n",
        "  for n, metric in enumerate(metrics):\n",
        "    name = metric.replace(\"_\",\" \").capitalize()\n",
        "    plt.subplot(2,2,n+1)\n",
        "    plt.plot(history.epoch,  history.history[metric], color=colors[0], label='Train')\n",
        "    plt.plot(history.epoch, history.history['val_'+metric],\n",
        "             color=colors[0], linestyle=\"--\", label='Val')\n",
        "    plt.xlabel('Epoch')\n",
        "    plt.ylabel(name)\n",
        "    if metric == 'loss':\n",
        "      plt.ylim([0, plt.ylim()[1]])\n",
        "    elif metric == 'auc':\n",
        "      plt.ylim([0.8,1])\n",
        "    else:\n",
        "      plt.ylim([0,1.1])\n",
        "\n",
        "    plt.legend()\n",
        "    plt.tight_layout()\n",
        "\n",
        "plot_metrics(history)"
      ],
      "execution_count": 167,
      "outputs": [
        {
          "output_type": "display_data",
          "data": {
            "image/png": "[encoded data removed]",
            "text/plain": [
              "<Figure size 432x288 with 4 Axes>"
            ]
          },
          "metadata": {
            "tags": [],
            "needs_background": "light"
          }
        }
      ]
    },
    {
      "cell_type": "markdown",
      "metadata": {
        "id": "C4qjuZs-T_9Z",
        "colab_type": "text"
      },
      "source": [
        "## 4.1) Model evaluation of failed images"
      ]
    },
    {
      "cell_type": "code",
      "metadata": {
        "id": "ZvyS7RL2T-VZ",
        "colab_type": "code",
        "colab": {
          "base_uri": "https://localhost:8080/",
          "height": 136
        },
        "outputId": "a85360e9-2508-4262-ed93-36d43b5f3079"
      },
      "source": [
        "dmatx, dmaty = my_validation_batch_generator.__getitem__(1)\n",
        "\n",
        "predy = model.predict(dmatx)\n",
        "prob_diff = dmaty - predy\n",
        "\n",
        "\n",
        "# get index of > .5 (FN) and <-.5 (FP) and plot random frames within there\n",
        "threshold = .75\n",
        "prob_diff"
      ],
      "execution_count": 170,
      "outputs": [
        {
          "output_type": "execute_result",
          "data": {
            "text/plain": [
              "array([[-0.23497738],\n",
              "       [-0.24939899],\n",
              "       [-0.3960499 ],\n",
              "       ...,\n",
              "       [-0.32266754],\n",
              "       [-0.32167518],\n",
              "       [-0.30193555]], dtype=float32)"
            ]
          },
          "metadata": {
            "tags": []
          },
          "execution_count": 170
        }
      ]
    },
    {
      "cell_type": "markdown",
      "metadata": {
        "id": "FEIdWwHA5ELy",
        "colab_type": "text"
      },
      "source": [
        "# 5) Hyperparameter tuning \n",
        " Here we'll loosen up a couple of the top layers for training to see if we can boost performance \n",
        "\n",
        "\"In most convolutional networks, the higher up a layer is, the more specialized it is. The first few layers learn very simple and generic features that generalize to almost all types of images. As you go higher up, the features are increasingly more specific to the dataset on which the model was trained. The goal of fine-tuning is to adapt these specialized features to work with the new dataset, rather than overwrite the generic learning\""
      ]
    },
    {
      "cell_type": "code",
      "metadata": {
        "colab_type": "code",
        "id": "gHqPAt_944CI",
        "colab": {
          "base_uri": "https://localhost:8080/",
          "height": 232
        },
        "outputId": "d9a3fdd0-637e-467b-e67e-5c0d46acea7e"
      },
      "source": [
        "# Fine-tuning model by unfreezing layers and allowing them to be trainable\n",
        "\n",
        "model.trainable = True\n",
        "\n",
        "# Let's take a look to see how many layers are in the base model\n",
        "print(\"Number of layers in the base model: \", len(model.layers))\n",
        "\n",
        "# Fine-tune from this layer onwards\n",
        "fine_tune_at = 50\n",
        "\n",
        "# Freeze all the layers before the `fine_tune_at` layer\n",
        "for layer in model.layers[:fine_tune_at]:\n",
        "  layer.trainable =  False\n",
        "\n",
        "# Compile model with specific metrics\n",
        "# Metrics below are for evaluating imbalanced datasets\n",
        "METRICS = [\n",
        "      keras.metrics.TruePositives(name='tp'),\n",
        "      keras.metrics.FalsePositives(name='fp'),\n",
        "      keras.metrics.TrueNegatives(name='tn'),\n",
        "      keras.metrics.FalseNegatives(name='fn'), \n",
        "      keras.metrics.Precision(name='precision'),\n",
        "      keras.metrics.Recall(name='recall'),\n",
        "      keras.metrics.AUC(name = 'auc')\n",
        "]\n",
        "\n",
        "# compile model with a much slower learning rate \n",
        "base_learning_rate = 0.0001\n",
        "model.compile(optimizer=tf.keras.optimizers.RMSprop(lr=base_learning_rate/10),\n",
        "              loss=tf.keras.losses.BinaryCrossentropy(),\n",
        "              metrics=METRICS)\n"
      ],
      "execution_count": null,
      "outputs": [
        {
          "output_type": "error",
          "ename": "NameError",
          "evalue": "ignored",
          "traceback": [
            "\u001b[0;31m---------------------------------------------------------------------------\u001b[0m",
            "\u001b[0;31mNameError\u001b[0m                                 Traceback (most recent call last)",
            "\u001b[0;32m<ipython-input-84-c6fc842c7c0b>\u001b[0m in \u001b[0;36m<module>\u001b[0;34m()\u001b[0m\n\u001b[1;32m      1\u001b[0m \u001b[0;31m# Fine-tuning model by unfreezing layers and allowing them to be trainable\u001b[0m\u001b[0;34m\u001b[0m\u001b[0;34m\u001b[0m\u001b[0;34m\u001b[0m\u001b[0m\n\u001b[1;32m      2\u001b[0m \u001b[0;34m\u001b[0m\u001b[0m\n\u001b[0;32m----> 3\u001b[0;31m \u001b[0mmodel\u001b[0m\u001b[0;34m.\u001b[0m\u001b[0mtrainable\u001b[0m \u001b[0;34m=\u001b[0m \u001b[0;32mTrue\u001b[0m\u001b[0;34m\u001b[0m\u001b[0;34m\u001b[0m\u001b[0m\n\u001b[0m\u001b[1;32m      4\u001b[0m \u001b[0;34m\u001b[0m\u001b[0m\n\u001b[1;32m      5\u001b[0m \u001b[0;31m# Let's take a look to see how many layers are in the base model\u001b[0m\u001b[0;34m\u001b[0m\u001b[0;34m\u001b[0m\u001b[0;34m\u001b[0m\u001b[0m\n",
            "\u001b[0;31mNameError\u001b[0m: name 'model' is not defined"
          ]
        }
      ]
    },
    {
      "cell_type": "code",
      "metadata": {
        "colab_type": "code",
        "id": "7mTLXuRr44CO",
        "colab": {
          "base_uri": "https://localhost:8080/",
          "height": 156
        },
        "outputId": "043e7688-9ca9-435b-d191-0403fd06f92c"
      },
      "source": [
        "start = time.time()\n",
        "\n",
        "# Fit model with a couple parameters\n",
        "EPOCHS = 20\n",
        "\n",
        "# Class imbalance weighting\n",
        "rebalance = class_weight.compute_class_weight('balanced',\n",
        "                                  [0, 1], raw_Y_2.flatten())\n",
        "class_weights = {i : rebalance[i] for i in range(2)}\n",
        "\n",
        "# Early stopping \n",
        "callbacks = [keras.callbacks.EarlyStopping (monitor = 'val_loss',\n",
        "                                            patience = 2)]\n",
        "\n",
        "history = model.fit(my_training_batch_generator, epochs=EPOCHS,\n",
        "              validation_data= my_validation_batch_generator,\n",
        "              callbacks = callbacks,\n",
        "              class_weight = class_weights)\n",
        "\n",
        "total_seconds = time.time() - start\n",
        "print('total time took ' + str(round(total_seconds/60)), ' minutes')"
      ],
      "execution_count": null,
      "outputs": [
        {
          "output_type": "stream",
          "text": [
            "Epoch 1/20\n",
            "38/38 [==============================] - 25s 656ms/step - loss: 0.2337 - tp: 15596.0000 - fp: 4986.0000 - tn: 48872.0000 - fn: 704.0000 - precision: 0.7577 - recall: 0.9568 - auc: 0.9738 - val_loss: 0.1822 - val_tp: 5104.0000 - val_fp: 812.0000 - val_tn: 12604.0000 - val_fn: 168.0000 - val_precision: 0.8627 - val_recall: 0.9681 - val_auc: 0.9836\n",
            "Epoch 2/20\n",
            "38/38 [==============================] - 23s 610ms/step - loss: 0.2337 - tp: 15596.0000 - fp: 4986.0000 - tn: 48872.0000 - fn: 704.0000 - precision: 0.7577 - recall: 0.9568 - auc: 0.9738 - val_loss: 0.1822 - val_tp: 5104.0000 - val_fp: 812.0000 - val_tn: 12604.0000 - val_fn: 168.0000 - val_precision: 0.8627 - val_recall: 0.9681 - val_auc: 0.9836\n",
            "Epoch 3/20\n",
            "38/38 [==============================] - 23s 607ms/step - loss: 0.2337 - tp: 15596.0000 - fp: 4986.0000 - tn: 48872.0000 - fn: 704.0000 - precision: 0.7577 - recall: 0.9568 - auc: 0.9738 - val_loss: 0.1822 - val_tp: 5104.0000 - val_fp: 812.0000 - val_tn: 12604.0000 - val_fn: 168.0000 - val_precision: 0.8627 - val_recall: 0.9681 - val_auc: 0.9836\n",
            "total time tooke 1  minutes\n"
          ],
          "name": "stdout"
        }
      ]
    },
    {
      "cell_type": "markdown",
      "metadata": {
        "id": "fR4oHmidBh-X",
        "colab_type": "text"
      },
      "source": [
        "# ---- DONE ---- "
      ]
    },
    {
      "cell_type": "code",
      "metadata": {
        "id": "cUWWopCdN6mv",
        "colab_type": "code",
        "colab": {}
      },
      "source": [
        "dmatx,true_y = my_validation_batch_generator.__getitem__(1)\n",
        "\n",
        "pred_y = model.predict(dmatx)"
      ],
      "execution_count": null,
      "outputs": []
    },
    {
      "cell_type": "code",
      "metadata": {
        "id": "haPmWYjSOT7M",
        "colab_type": "code",
        "colab": {}
      },
      "source": [
        "from sklearn.metrics import confusion_matrix as cm\n",
        "\n",
        "cm2 = cm(true_y, pred_y>.5)\n",
        "# TN FN TP FP "
      ],
      "execution_count": null,
      "outputs": []
    },
    {
      "cell_type": "markdown",
      "metadata": {
        "id": "PuyDVv3x4yIf",
        "colab_type": "text"
      },
      "source": [
        "# (DEP) 1) Data cleaning  \n",
        "In this section we're going to convert the images to the right channels and dimensions for MobileNetV2. \n",
        "\n",
        "a. many of the pre-trained models require 3 channels instead of 1  \n",
        "b. many of the pre-trained models also require specific image dimensions "
      ]
    },
    {
      "cell_type": "code",
      "metadata": {
        "id": "bYb1wnarMHNC",
        "colab_type": "code",
        "colab": {}
      },
      "source": [
        "# a. 3 channel conversion - convert grayscale image (1 channel) to rgb image (3 channel) for pretrained networks\n",
        "# # REDUCING SIZE OF IMAGE TENSOR AND OTHER ARRAY TO PREVENT CRASHING FOR NOW\n",
        "\n",
        "\n",
        "# # raw_X = raw_X[0:999, :, :]\n",
        "# # raw_Y = raw_Y[0:999, :]\n",
        "# print('raw image size = ' + str(raw_X.shape))  # (64, 224, 224)\n",
        "# rgb_batch = np.repeat(raw_X[..., np.newaxis], 3, -1)\n",
        "# print('converted rgb image size = ' + str(rgb_batch.shape))"
      ],
      "execution_count": null,
      "outputs": []
    },
    {
      "cell_type": "code",
      "metadata": {
        "id": "QeIVhHvshlpz",
        "colab_type": "code",
        "colab": {}
      },
      "source": [
        "# rgb_batch = np.repeat(raw_X[..., np.newaxis], 3, -1)\n",
        "# IMG_SIZE = 96 # All images will be resized to 160x160. This is the size of MobileNetV2 input sizes\n",
        "\n",
        "# rgb_tensor = tf.cast(rgb_batch, tf.float32) # convert to tf tensor with float32 dtypes\n",
        "# rgb_tensor = (rgb_tensor/127.5) - 1 # /127.5 = 0:2, -1 = -1:1 requirement for mobilenetV2\n",
        "# rgb_tensor = tf.image.resize(rgb_tensor, (IMG_SIZE, IMG_SIZE)) # resizing\n",
        "\n",
        "# IMG_SHAPE = (IMG_SIZE, IMG_SIZE, 3)\n",
        "\n"
      ],
      "execution_count": null,
      "outputs": []
    },
    {
      "cell_type": "markdown",
      "metadata": {
        "id": "JxN3zAwg3yL8",
        "colab_type": "text"
      },
      "source": [
        "#(DEP) 2) Basic EDA  \n",
        "We're going to verify that the data looks good by eye. \n",
        "\n"
      ]
    },
    {
      "cell_type": "code",
      "metadata": {
        "id": "fWvMd5Mpe2t3",
        "colab_type": "code",
        "colab": {
          "base_uri": "https://localhost:8080/",
          "height": 484
        },
        "outputId": "b14480ae-a592-4674-bf44-5f3470097892"
      },
      "source": [
        "# Look at the distribution of classes\n",
        "fig, axs = plt.subplots(1, 3)\n",
        "axs[0].hist(raw_Y)\n",
        "axs[0].set_title('class distribution')\n",
        "axs[0].set_xticks([0,1])\n",
        "axs[0].set_xticklabels(['neg class', 'pos class'])\n",
        "axs[0].set_ylabel('number of examples')\n",
        "\n",
        "# Look at some images of positive and negative\n",
        "neg_class = [i for i, val in enumerate(raw_Y) if val==0]\n",
        "pos_class = [i for i, val in enumerate(raw_Y) if val==1]\n",
        "axs[1].imshow(rgb_tensor[np.random.choice(neg_class,1)[0]])\n",
        "axs[1].set_title('neg frame ' + str(np.random.choice(neg_class,1)[0]))\n",
        "axs[2].imshow(rgb_tensor[np.random.choice(pos_class,1)[0]])\n",
        "axs[2].set_title('pos frame ' + str(np.random.choice(pos_class,1)[0]))\n",
        "plt.tight_layout()"
      ],
      "execution_count": null,
      "outputs": [
        {
          "output_type": "error",
          "ename": "NameError",
          "evalue": "ignored",
          "traceback": [
            "\u001b[0;31m---------------------------------------------------------------------------\u001b[0m",
            "\u001b[0;31mNameError\u001b[0m                                 Traceback (most recent call last)",
            "\u001b[0;32m<ipython-input-81-c902cbaa41a9>\u001b[0m in \u001b[0;36m<module>\u001b[0;34m()\u001b[0m\n\u001b[1;32m      1\u001b[0m \u001b[0;31m# Look at the distribution of classes\u001b[0m\u001b[0;34m\u001b[0m\u001b[0;34m\u001b[0m\u001b[0;34m\u001b[0m\u001b[0m\n\u001b[1;32m      2\u001b[0m \u001b[0mfig\u001b[0m\u001b[0;34m,\u001b[0m \u001b[0maxs\u001b[0m \u001b[0;34m=\u001b[0m \u001b[0mplt\u001b[0m\u001b[0;34m.\u001b[0m\u001b[0msubplots\u001b[0m\u001b[0;34m(\u001b[0m\u001b[0;36m1\u001b[0m\u001b[0;34m,\u001b[0m \u001b[0;36m3\u001b[0m\u001b[0;34m)\u001b[0m\u001b[0;34m\u001b[0m\u001b[0;34m\u001b[0m\u001b[0m\n\u001b[0;32m----> 3\u001b[0;31m \u001b[0maxs\u001b[0m\u001b[0;34m[\u001b[0m\u001b[0;36m0\u001b[0m\u001b[0;34m]\u001b[0m\u001b[0;34m.\u001b[0m\u001b[0mhist\u001b[0m\u001b[0;34m(\u001b[0m\u001b[0mraw_Y\u001b[0m\u001b[0;34m)\u001b[0m\u001b[0;34m\u001b[0m\u001b[0;34m\u001b[0m\u001b[0m\n\u001b[0m\u001b[1;32m      4\u001b[0m \u001b[0maxs\u001b[0m\u001b[0;34m[\u001b[0m\u001b[0;36m0\u001b[0m\u001b[0;34m]\u001b[0m\u001b[0;34m.\u001b[0m\u001b[0mset_title\u001b[0m\u001b[0;34m(\u001b[0m\u001b[0;34m'class distribution'\u001b[0m\u001b[0;34m)\u001b[0m\u001b[0;34m\u001b[0m\u001b[0;34m\u001b[0m\u001b[0m\n\u001b[1;32m      5\u001b[0m \u001b[0maxs\u001b[0m\u001b[0;34m[\u001b[0m\u001b[0;36m0\u001b[0m\u001b[0;34m]\u001b[0m\u001b[0;34m.\u001b[0m\u001b[0mset_xticks\u001b[0m\u001b[0;34m(\u001b[0m\u001b[0;34m[\u001b[0m\u001b[0;36m0\u001b[0m\u001b[0;34m,\u001b[0m\u001b[0;36m1\u001b[0m\u001b[0;34m]\u001b[0m\u001b[0;34m)\u001b[0m\u001b[0;34m\u001b[0m\u001b[0;34m\u001b[0m\u001b[0m\n",
            "\u001b[0;31mNameError\u001b[0m: name 'raw_Y' is not defined"
          ]
        },
        {
          "output_type": "display_data",
          "data": {
            "image/png": "[encoded data removed]",
            "text/plain": [
              "<Figure size 432x288 with 3 Axes>"
            ]
          },
          "metadata": {
            "tags": [],
            "needs_background": "light"
          }
        }
      ]
    },
    {
      "cell_type": "code",
      "metadata": {
        "id": "8LyI6trlu0IN",
        "colab_type": "code",
        "colab": {}
      },
      "source": [
        "# Plot first 25 trials and see what they look like \n",
        "plt.figure(figsize=(10,10))\n",
        "for i in range(25):\n",
        "    plt.subplot(5,5,i+1)\n",
        "    plt.xticks([])\n",
        "    plt.yticks([])\n",
        "    plt.grid(False)\n",
        "    plt.imshow(rgb_tensor[i])\n",
        "    plt.xlabel(str(raw_Y[i]))\n",
        "plt.show()"
      ],
      "execution_count": null,
      "outputs": []
    },
    {
      "cell_type": "markdown",
      "metadata": {
        "id": "nNlmNktD5flN",
        "colab_type": "text"
      },
      "source": [
        "# (DEP) 3) Feature engineering and test/train splits"
      ]
    },
    {
      "cell_type": "code",
      "metadata": {
        "id": "8isaD7QviHex",
        "colab_type": "code",
        "colab": {}
      },
      "source": [
        "#3) Feature engineering and train test split\n",
        "\n",
        "X_train,X_test,Y_train,Y_test = ms.train_test_split(rgb_tensor.numpy(), raw_Y , test_size=0.2)\n",
        "X_train,X_val,Y_train,Y_val= ms.train_test_split(X_train, Y_train, test_size=0.2)\n",
        "\n",
        "print('train = ' + str(X_train.shape[0]))\n",
        "print('test = ' + str(X_val.shape[0]))\n",
        "print('validation = ' + str(X_test.shape[0]))"
      ],
      "execution_count": null,
      "outputs": []
    },
    {
      "cell_type": "code",
      "metadata": {
        "id": "i4w-An99-cWh",
        "colab_type": "code",
        "colab": {
          "base_uri": "https://localhost:8080/",
          "height": 34
        },
        "outputId": "53db5170-18b8-48c6-fc7a-2979c818e6b4"
      },
      "source": [
        "rebalance"
      ],
      "execution_count": null,
      "outputs": [
        {
          "output_type": "execute_result",
          "data": {
            "text/plain": [
              "array([0.65301492, 2.13382757])"
            ]
          },
          "metadata": {
            "tags": []
          },
          "execution_count": 57
        }
      ]
    },
    {
      "cell_type": "code",
      "metadata": {
        "id": "WC-FjSRQnzSz",
        "colab_type": "code",
        "colab": {}
      },
      "source": [
        "# Model prediction\n",
        "\n",
        "prediction = model.predict(X_test)\n"
      ],
      "execution_count": null,
      "outputs": []
    },
    {
      "cell_type": "markdown",
      "metadata": {
        "id": "kDLbRuvJ8mg4",
        "colab_type": "text"
      },
      "source": [
        "# (DEP) 5) Hyperparameter tuning of best base model "
      ]
    },
    {
      "cell_type": "code",
      "metadata": {
        "id": "dCFirRoha_Kj",
        "colab_type": "code",
        "colab": {}
      },
      "source": [
        "# Fine-tuning model by unfreezing layers and allowing them to be trainable\n",
        "\n",
        "model.trainable = True\n",
        "\n",
        "# Let's take a look to see how many layers are in the base model\n",
        "print(\"Number of layers in the base model: \", len(model.layers))\n",
        "\n",
        "# Fine-tune from this layer onwards\n",
        "fine_tune_at = 100\n",
        "\n",
        "# Freeze all the layers before the `fine_tune_at` layer\n",
        "for layer in model.layers[:fine_tune_at]:\n",
        "  layer.trainable =  False\n",
        "\n",
        "# Compile model with specific metrics\n",
        "# Metrics below are for evaluating imbalanced datasets\n",
        "METRICS = [\n",
        "      keras.metrics.TruePositives(name='tp'),\n",
        "      keras.metrics.FalsePositives(name='fp'),\n",
        "      keras.metrics.TrueNegatives(name='tn'),\n",
        "      keras.metrics.FalseNegatives(name='fn'), \n",
        "      keras.metrics.Precision(name='precision'),\n",
        "      keras.metrics.Recall(name='recall'),\n",
        "      keras.metrics.AUC(name = 'auc')\n",
        "]\n",
        "\n",
        "# compile model with a much slower learning rate \n",
        "base_learning_rate = 0.0001\n",
        "model.compile(optimizer=tf.keras.optimizers.RMSprop(lr=base_learning_rate/10),\n",
        "              loss=tf.keras.losses.BinaryCrossentropy(),\n",
        "              metrics=METRICS)\n"
      ],
      "execution_count": null,
      "outputs": []
    },
    {
      "cell_type": "code",
      "metadata": {
        "id": "2vjSTEJRmrmS",
        "colab_type": "code",
        "colab": {}
      },
      "source": [
        "# Fit model with class imbalance weighting\n",
        "\n",
        "rebalance = class_weight.compute_class_weight('balanced',\n",
        "                                  np.unique(Y_train), Y_train.flatten())\n",
        "class_weights = {i : rebalance[i] for i in range(2)}\n",
        "\n",
        "history = model.fit(X_train, Y_train, epochs=10,\n",
        "              validation_data=(X_val, Y_val),\n",
        "              class_weight=class_weights)"
      ],
      "execution_count": null,
      "outputs": []
    },
    {
      "cell_type": "code",
      "metadata": {
        "id": "tpJVra0Tga-Q",
        "colab_type": "code",
        "colab": {}
      },
      "source": [
        "pred_Y = model.predict(rgb_tensor)\n",
        "\n",
        "\n"
      ],
      "execution_count": null,
      "outputs": []
    },
    {
      "cell_type": "code",
      "metadata": {
        "id": "ctihSG49mwz3",
        "colab_type": "code",
        "colab": {}
      },
      "source": [
        "fail_pred = raw_Y == pred_Y\n",
        "# tmp3 = \n",
        "tmp3 = np.argwhere(fail_pred==False)\n",
        "\n",
        "tmp3[:, 0]\n",
        "# print(fail_pred)\n",
        "print(raw_Y[1:10])\n",
        "print(pred_Y[1:10])"
      ],
      "execution_count": null,
      "outputs": []
    },
    {
      "cell_type": "code",
      "metadata": {
        "id": "HT-9itTmptWm",
        "colab_type": "code",
        "colab": {}
      },
      "source": [
        ""
      ],
      "execution_count": null,
      "outputs": []
    },
    {
      "cell_type": "code",
      "metadata": {
        "id": "gdMS2pitI5uM",
        "colab_type": "code",
        "colab": {}
      },
      "source": [
        "import numpy as np\n",
        "\n",
        "num_in_each = [1, 233, 430, 2008, 600, 1, 40]\n",
        "max_batch_size = 600\n",
        "cnt = 0\n",
        "extract_inds = []\n",
        "# num_in_each contains the number of frames in each file I am loading, ie\n",
        "# for trial/file 1 there are 200 frames , trial/file 2 has 215 frames etc\n",
        "for k, elem in enumerate(num_in_each) :\n",
        "  tot_frame_nums = sum(num_in_each[cnt: k+1]) # used to test if the number of frames in \n",
        "  # all these files exceded the \"max_batch_size\" limit \n",
        "  if tot_frame_nums>max_batch_size or len(num_in_each)-1 == k: # condition met, these files together \n",
        "  # meet the max requirment to load together as a batch \n",
        "    print(tot_frame_nums)\n",
        "    print(cnt, k+1)\n",
        "    extract_inds.append([cnt, k+1])\n",
        "    cnt = k+1 # reset to the current iter\n",
        "    if np.diff(extract_inds[-1]) > 1: # if there is more than one file then we want to take off the last file \n",
        "    # because it excedes the set number of frames\n",
        "      extract_inds[-1][-1] = extract_inds[-1][-1]-1\n",
        "      cnt = cnt-1"
      ],
      "execution_count": null,
      "outputs": []
    }
  ]
}