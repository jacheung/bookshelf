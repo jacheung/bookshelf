{
  "nbformat": 4,
  "nbformat_minor": 0,
  "metadata": {
    "colab": {
      "name": "autocurator_CNN_v1_4.ipynb",
      "provenance": [],
      "collapsed_sections": [],
      "toc_visible": true,
      "include_colab_link": true
    },
    "kernelspec": {
      "name": "python3",
      "display_name": "Python 3"
    },
    "accelerator": "GPU"
  },
  "cells": [
    {
      "cell_type": "markdown",
      "metadata": {
        "id": "view-in-github",
        "colab_type": "text"
      },
      "source": [
        "<a href=\"https://colab.research.google.com/github/jacheung/still-learning/blob/master/autocurator_CNN_v1_4.ipynb\" target=\"_parent\"><img src=\"https://colab.research.google.com/assets/colab-badge.svg\" alt=\"Open In Colab\"/></a>"
      ]
    },
    {
      "cell_type": "code",
      "metadata": {
        "id": "WBEOUJuANrQK",
        "colab_type": "code",
        "colab": {
          "base_uri": "https://localhost:8080/",
          "height": 122
        },
        "outputId": "cb273de0-f442-41b6-ba84-1cef8171e9ee"
      },
      "source": [
        "# Import necessary libraries and set up image libraries in Google drive\n",
        "import numpy as np\n",
        "import scipy.io\n",
        "import tensorflow as tf \n",
        "from tensorflow import keras\n",
        "from sklearn.utils import class_weight\n",
        "import sklearn.model_selection as ms\n",
        "\n",
        "from google.colab import drive\n",
        "import glob\n",
        "\n",
        "import matplotlib.pyplot as plt\n",
        "\n",
        "# Mount google drive and grab images and labels names \n",
        "drive.mount('/content/gdrive')\n",
        "base_dir = \"/content/gdrive/My Drive/Colab data/trialFramesNPY/\"\n",
        "T_class = glob.glob(base_dir + \"*touchClass.mat\")\n",
        "frames = glob.glob(base_dir + \"*dataset.mat\")"
      ],
      "execution_count": null,
      "outputs": [
        {
          "output_type": "stream",
          "text": [
            "Go to this URL in a browser: https://accounts.google.com/o/oauth2/auth?client_id=947318989803-6bn6qk8qdgf4n4g3pfee6491hc0brc4i.apps.googleusercontent.com&redirect_uri=urn%3aietf%3awg%3aoauth%3a2.0%3aoob&response_type=code&scope=email%20https%3a%2f%2fwww.googleapis.com%2fauth%2fdocs.test%20https%3a%2f%2fwww.googleapis.com%2fauth%2fdrive%20https%3a%2f%2fwww.googleapis.com%2fauth%2fdrive.photos.readonly%20https%3a%2f%2fwww.googleapis.com%2fauth%2fpeopleapi.readonly\n",
            "\n",
            "Enter your authorization code:\n",
            "··········\n",
            "Mounted at /content/gdrive\n"
          ],
          "name": "stdout"
        }
      ]
    },
    {
      "cell_type": "markdown",
      "metadata": {
        "id": "dJzQ9d1ZzXyX",
        "colab_type": "text"
      },
      "source": [
        "# 1) Data cleaning\n"
      ]
    },
    {
      "cell_type": "markdown",
      "metadata": {
        "id": "d0XkvNfc1-yf",
        "colab_type": "text"
      },
      "source": [
        "## 1.1 Matching frames and labels"
      ]
    },
    {
      "cell_type": "code",
      "metadata": {
        "id": "aXFWPKw6on2f",
        "colab_type": "code",
        "colab": {}
      },
      "source": [
        "# Trim frames and labels names to make the names the same to match them\n",
        "frame_nums = []\n",
        "T_class_nums = []\n",
        "\n",
        "for i in range(len(frames)):\n",
        "  frame_nums.append(frames[i][1:-11])\n",
        "\n",
        "for i in range(len(T_class)):\n",
        "  T_class_nums.append(T_class[i][1:-14])"
      ],
      "execution_count": null,
      "outputs": []
    },
    {
      "cell_type": "code",
      "metadata": {
        "id": "L_JezT3C_6EE",
        "colab_type": "code",
        "colab": {
          "base_uri": "https://localhost:8080/",
          "height": 51
        },
        "outputId": "7267af24-db16-4479-a6e8-174384923417"
      },
      "source": [
        "# Match and reorder all frames and label files\n",
        "indices = []\n",
        "T_class_reordered = []\n",
        "\n",
        "for k in range(len(frame_nums)):\n",
        "  indices.append([i for i, s in enumerate(T_class_nums) if frame_nums[k] in s])\n",
        "\n",
        "indices = [x for x in indices if x != []]\n",
        "\n",
        "for k in range(len(indices)):\n",
        "    T_class_reordered.append(T_class[indices[k][0]])\n",
        "\n",
        "# test that this is matched\n",
        "print(T_class_reordered[-1])\n",
        "print(frames[-1])"
      ],
      "execution_count": null,
      "outputs": [
        {
          "output_type": "stream",
          "text": [
            "/content/gdrive/My Drive/Colab data/trialFramesNPY/AH0000x000000-291_touchClass.mat\n",
            "/content/gdrive/My Drive/Colab data/trialFramesNPY/AH0000x000000-291_dataset.mat\n"
          ],
          "name": "stdout"
        }
      ]
    },
    {
      "cell_type": "code",
      "metadata": {
        "id": "xGem5Qao1cYz",
        "colab_type": "code",
        "colab": {}
      },
      "source": [
        "# load in labels and count how many data points are in each file. \n",
        "# each file represents a trial so for us this could be anywhere between 1 and 4000 data points. \n",
        "# most often somewhere between 200-600\n",
        "\n",
        "raw_Y_set = []\n",
        "frame_num_in_Y_set = []\n",
        "for cnt1 in range(len(frames)):\n",
        "  tmp2 = scipy.io.loadmat(T_class_reordered[cnt1])\n",
        "  raw_Y_set.append(tmp2['touchClass'])\n",
        "  frame_num_in_Y_set.append(len(raw_Y_set[cnt1]))"
      ],
      "execution_count": null,
      "outputs": []
    },
    {
      "cell_type": "markdown",
      "metadata": {
        "id": "nX1TKm3-yQrB",
        "colab_type": "text"
      },
      "source": [
        "## 1.2 Build Keras Image Generator \n",
        " "
      ]
    },
    {
      "cell_type": "code",
      "metadata": {
        "id": "Ls0klmrRNy0r",
        "colab_type": "code",
        "colab": {}
      },
      "source": [
        "# Function to generate an image tensor and corresponding label array\n",
        "from psutil import virtual_memory\n",
        "import sys\n",
        "import time\n",
        "\n",
        "def build_data( x_files, y_files) :\n",
        "  to_del = 0\n",
        "  start = time.time()\n",
        "\n",
        "  cnt1 = -1;\n",
        "  mem_free = 9999\n",
        "\n",
        "  for k in range(len(y_files)):\n",
        "    cnt1 = cnt1 + 1\n",
        "    tmp1 = scipy.io.loadmat(x_files[cnt1])\n",
        "    tmp2 = scipy.io.loadmat(y_files[cnt1])\n",
        "\n",
        "    Xtmp = tmp1['finalMat']\n",
        "    Ytmp = tmp2['touchClass']\n",
        "    if cnt1==0:\n",
        "      raw_X = Xtmp\n",
        "      raw_Y = Ytmp\n",
        "    else:\n",
        "      \n",
        "      # print(raw_Y.shape)\n",
        "      # print(\"\\r\")\n",
        "      raw_X = np.concatenate((raw_X,Xtmp), axis=0)\n",
        "      raw_Y = np.concatenate((raw_Y,Ytmp), axis=0)\n",
        "    if ((time.time() - start) > 2) or cnt1>=len(x_files)-1:# update every 2 seconds or when loop ends\n",
        "      mem = virtual_memory()\n",
        "      mem_free = mem.free/1024**3;\n",
        "      start = time.time()\n",
        "\n",
        "      # print('\\b'* (to_del+2))\n",
        "      # to_print = (\"X shape = \" + str(raw_X.shape)+'\\n'+\n",
        "      #             \"Y shape = \" + str(raw_Y.shape)+'\\n'+\n",
        "      #             str(round(mem_free, 2)) + \"GB free\"+'\\n'+\n",
        "      #            \"iter \" + str(cnt1+1) + ' of ' + str(len(y_files)))\n",
        "      # print(to_print)\n",
        "      # to_del = len(to_print)\n",
        "  return raw_X, raw_Y\n",
        "\n"
      ],
      "execution_count": null,
      "outputs": []
    },
    {
      "cell_type": "markdown",
      "metadata": {
        "id": "Qasu3Qg73pcL",
        "colab_type": "text"
      },
      "source": [
        "make a custom class to help load in the data to prevent crashing due to over using RAM \n",
        "This class will \n",
        "- chunk the files based on the total frames contained in them based on \"batch_size\" variable \n"
      ]
    },
    {
      "cell_type": "code",
      "metadata": {
        "id": "OkN3VJIA5XEV",
        "colab_type": "code",
        "colab": {}
      },
      "source": [
        "class My_Custom_Generator(keras.utils.Sequence) :\n",
        "  \n",
        "  def __init__(self, file_trial_list, file_Y_list, num_in_each, batch_size) :\n",
        "    cnt = 0\n",
        "    extract_inds = []\n",
        "    # num_in_each contains the number of frames in each file I am loading, ie\n",
        "    # for trial/file 1 there are 200 frames , trial/file 2 has 215 frames etc\n",
        "    for k, elem in enumerate(num_in_each) :\n",
        "      tot_frame_nums = sum(num_in_each[cnt: k+1]) # used to test if the number of frames in \n",
        "      # all these files exceded the \"batch_size\" limit \n",
        "      if tot_frame_nums>batch_size or len(num_in_each)-1 == k: # condition met, these files together \n",
        "      # meet the max requirment to load together as a batch \n",
        "        extract_inds.append([cnt, k+1])\n",
        "        cnt = k+1 # reset to the current iter\n",
        "        if np.diff(extract_inds[-1]) > 1: # if there is more than one file then we want to take off the last file \n",
        "        # because it excedes the set number of frames\n",
        "          extract_inds[-1][-1] = extract_inds[-1][-1]-1\n",
        "          cnt = cnt-1\n",
        "    \n",
        "    file_list_chunks = []\n",
        "    file_Y_list_chunks = []\n",
        "    for i, ii in enumerate(extract_inds):\n",
        "      file_list_chunks.append(file_trial_list[ii[0]:ii[1]])\n",
        "      file_Y_list_chunks.append(file_Y_list[ii[0]:ii[1]])\n",
        "\n",
        "\n",
        "    self.file_trial_list = file_trial_list\n",
        "    self.file_Y_list = file_Y_list\n",
        "    self.batch_size = batch_size\n",
        "    self.extract_inds = extract_inds\n",
        "    self.num_in_each = num_in_each\n",
        "    self.file_list_chunks = file_list_chunks\n",
        "    self.file_Y_list_chunks = file_Y_list_chunks\n",
        "    \n",
        "    \n",
        "    # for i, ii in enumerate(extract_inds):\n",
        "    #   file_list_chunks.append(self.file_trial_list[ii[0]:ii[1]])\n",
        "    #   file_Y_list_chunks.append(self.file_Y_list[ii[0]:ii[1]])\n",
        "    \n",
        "\n",
        "  # def print_ind_frame_info(self) :\n",
        "\n",
        "  #   for i, ii in enumerate(self.extract_inds):\n",
        "  #       # num_in_each[extract_inds[i][1]:extract_inds[i][-1]]\n",
        "  #       tmp1 = self.num_in_each[self.extract_inds[i][0]: self.extract_inds[i][-1]]\n",
        "  #       print('frames in EACH of these '+str(len(tmp1)) + ' files are '+str(tmp1))\n",
        "  #       print('   frames in all of these '+ str(len(tmp1)) + ' of these files = ' + \n",
        "  #             str(sum(tmp1)) + ' which is less than batch limit of '+str(self.batch_size)+\n",
        "  #             ' unless a single files exedes this limit ')  \n",
        "    \n",
        "  def __len__(self) :\n",
        "    return len(self.extract_inds)\n",
        "  \n",
        "  # def unbunch_files(self, num_2_extract) :\n",
        "  #   xout2, yout2 = build_data(self.file_list_chunks[num_2_extract], \n",
        "  #                         self.file_Y_list_chunks[num_2_extract])\n",
        "  #   return xout2, yout2\n",
        "  def __getitem__(self, num_2_extract) :\n",
        "    raw_X, raw_Y = build_data(self.file_list_chunks[num_2_extract], \n",
        "                          self.file_Y_list_chunks[num_2_extract])\n",
        "    # return xout2, yout2\n",
        "\n",
        "    rgb_batch = np.repeat(raw_X[..., np.newaxis], 3, -1)\n",
        "    IMG_SIZE = 96 # All images will be resized to 160x160. This is the size of MobileNetV2 input sizes\n",
        "\n",
        "    rgb_tensor = tf.cast(rgb_batch, tf.float32) # convert to tf tensor with float32 dtypes\n",
        "    # rgb_tensor = (rgb_tensor/255) # use this for plotting\n",
        "    rgb_tensor = (rgb_tensor/127.5) - 1 # /127.5 = 0:2, -1 = -1:1 requirement for mobilenetV2\n",
        "    rgb_tensor = tf.image.resize(rgb_tensor, (IMG_SIZE, IMG_SIZE)) # resizing\n",
        "\n",
        "    self.IMG_SHAPE = (IMG_SIZE, IMG_SIZE, 3)\n",
        "\n",
        "    return rgb_tensor, raw_Y\n",
        "    # batch_x = self.image_filenames[idx * self.batch_size : (idx+1) * self.batch_size]\n",
        "    # batch_y = self.labels[idx * self.batch_size : (idx+1) * self.batch_size]\n",
        "    \n",
        "    # return np.array([\n",
        "    #         resize(imread('/content/all_images/' + str(file_name)), (80, 80, 3))\n",
        "    #            for file_name in batch_x])/255.0, np.array(batch_y)"
      ],
      "execution_count": 160,
      "outputs": []
    },
    {
      "cell_type": "code",
      "metadata": {
        "id": "Qa2BV1BoRDJM",
        "colab_type": "code",
        "colab": {}
      },
      "source": [
        "# Data splits to train/test/validation sets \n",
        "\n",
        "# *** need to get actual data split here\n",
        "batch_size = 2000\n",
        "validate_fraction = .3\n",
        "\n",
        "# for now we will split based on num files not number of frames becasue its easier and shouldnt make\n",
        "#  too much of a difference -- can fix later if we care to \n",
        "mixed_inds = np.random.choice(len(frames), len(frames), replace=False)\n",
        "validate_count = round(validate_fraction*len(frames))\n",
        "\n",
        "\n",
        "my_training_batch_generator = My_Custom_Generator(frames[validate_count+1:-1], T_class_reordered[validate_count+1:-1], frame_num_in_Y_set[validate_count+1:-1],  batch_size)\n",
        "my_validation_batch_generator = My_Custom_Generator(frames[0:validate_count], T_class_reordered[0:validate_count], frame_num_in_Y_set[0:validate_count],  batch_size)\n"
      ],
      "execution_count": 161,
      "outputs": []
    },
    {
      "cell_type": "markdown",
      "metadata": {
        "id": "uAQfCvkC2uPD",
        "colab_type": "text"
      },
      "source": [
        "#2) Exploratory Data Analysis "
      ]
    },
    {
      "cell_type": "code",
      "metadata": {
        "id": "mZgvKS5GQtAi",
        "colab_type": "code",
        "colab": {
          "base_uri": "https://localhost:8080/",
          "height": 789
        },
        "outputId": "933cd923-90ea-4aed-fff5-6d4f6b1df8de"
      },
      "source": [
        "batch_num = np.random.choice(np.arange(0,len(my_training_batch_generator.file_list_chunks)))\n",
        "\n",
        "samp_x, samp_y = my_training_batch_generator.__getitem__(batch_num)\n",
        "\n",
        "# Look at the distribution of classes\n",
        "fig, axs = plt.subplots(1, 1)\n",
        "plt.hist(samp_y)\n",
        "plt.title('class distribution from batch ' + str(batch_num))\n",
        "plt.xticks([0,1],['neg class', 'pos class'])\n",
        "plt.ylabel('number of examples')\n",
        "\n",
        "plt.show()\n",
        "\n",
        "neg_class = [i for i, val in enumerate(samp_y) if val==0]\n",
        "pos_class = [i for i, val in enumerate(samp_y) if val==1]\n",
        "\n",
        "images_to_sample = 20\n",
        "neg_index = np.random.choice(neg_class,images_to_sample)\n",
        "pos_index = np.random.choice(pos_class,images_to_sample)\n",
        "\n",
        "plt.figure(figsize=(10,10))\n",
        "for i in range(images_to_sample):\n",
        "    plt.subplot(5,10,i+1)\n",
        "    plt.xticks([])\n",
        "    plt.yticks([])\n",
        "    plt.grid(False)\n",
        "    _ = plt.imshow(samp_x[neg_index[i]])\n",
        "    plt.xlabel('0')\n",
        "\n",
        "    plt.subplot(5,10,images_to_sample+i+1)\n",
        "    plt.xticks([])\n",
        "    plt.yticks([])\n",
        "    plt.grid(False)\n",
        "    plt.imshow(samp_x[pos_index[i]])\n",
        "    plt.xlabel('1')\n",
        "\n",
        "\n",
        "plt.suptitle('sample images from batch  ' + str(batch_num))\n",
        "plt.show()"
      ],
      "execution_count": 163,
      "outputs": [
        {
          "output_type": "display_data",
          "data": {
            "image/png": "[encoded data removed]",
            "text/plain": [
              "<Figure size 432x288 with 1 Axes>"
            ]
          },
          "metadata": {
            "tags": [],
            "needs_background": "light"
          }
        },
        {
          "output_type": "display_data",
          "data": {
            "image/png": "[encoded data removed]",
            "text/plain": [
              "<Figure size 720x720 with 40 Axes>"
            ]
          },
          "metadata": {
            "tags": []
          }
        }
      ]
    },
    {
      "cell_type": "markdown",
      "metadata": {
        "id": "TQKE1y9YBVyQ",
        "colab_type": "text"
      },
      "source": [
        "# 3) Feature engineering\n"
      ]
    },
    {
      "cell_type": "code",
      "metadata": {
        "id": "L0LNCqs96cO2",
        "colab_type": "code",
        "colab": {}
      },
      "source": [
        "# Y vectorization and class weight calculation \n",
        "to_del = 0\n",
        "start = time.time()\n",
        "\n",
        "cnt1 = -1;\n",
        "mem_free = 9999\n",
        "y_files = my_training_batch_generator.file_Y_list\n",
        "for k in range(len(y_files)):\n",
        "  cnt1 = cnt1 + 1\n",
        "  tmp2 = scipy.io.loadmat(y_files[cnt1])\n",
        "\n",
        "  Ytmp = tmp2['touchClass']\n",
        "  if cnt1==0:\n",
        "    raw_Y_2 = Ytmp\n",
        "  else:\n",
        "    raw_Y_2 = np.concatenate((raw_Y_2,Ytmp), axis=0)\n"
      ],
      "execution_count": null,
      "outputs": []
    },
    {
      "cell_type": "markdown",
      "metadata": {
        "id": "JIWvXzxw37a7",
        "colab_type": "text"
      },
      "source": [
        "# 4) Deploy and selection of base model\n",
        "In this section we're going to use MobileNetV2 as the base model.\n",
        "We're going to run two variations of the model.  \n",
        "a. basemodel with frozen layers and output classifer changes   \n",
        "b. basemodel with final 100 layers unfrozen to optimize prediction \n"
      ]
    },
    {
      "cell_type": "code",
      "metadata": {
        "id": "xOfFjdZbqXoS",
        "colab_type": "code",
        "colab": {
          "base_uri": "https://localhost:8080/",
          "height": 377
        },
        "outputId": "612a46df-b58b-4c15-8b3d-7d74b9903567"
      },
      "source": [
        "# Create base model \n",
        "\n",
        "# First, instantiate a MobileNet V2 model pre-loaded with weights trained on ImageNet. By specifying the include_top=False argument, \n",
        "# you load a network that doesn't include the classification layers at the top, which is ideal for feature extraction\n",
        "\n",
        "# Create the base model from the pre-trained model MobileNet V2\n",
        "IMG_SIZE = 96 # All images will be resized to 160x160. This is the size of MobileNetV2 input sizes\n",
        "IMG_SHAPE = (IMG_SIZE, IMG_SIZE, 3)\n",
        "\n",
        "base_model = tf.keras.applications.MobileNetV2(input_shape=IMG_SHAPE,\n",
        "                                               include_top=False,\n",
        "                                               weights='imagenet')\n",
        "\n",
        "base_model.trainable = False\n",
        "\n",
        "feature_batch = base_model.output\n",
        "print(feature_batch.shape)\n",
        "\n",
        "# Adding Classification head\n",
        "global_average_layer = tf.keras.layers.GlobalAveragePooling2D()\n",
        "feature_batch_average = global_average_layer(feature_batch)\n",
        "print(feature_batch_average.shape)\n",
        "\n",
        "prediction_layer = tf.keras.layers.Dense(1, activation='sigmoid')\n",
        "prediction_batch = prediction_layer(feature_batch_average)\n",
        "print(prediction_batch.shape)\n",
        "\n",
        "# Model Stacking\n",
        "model = tf.keras.Sequential([\n",
        "  base_model,\n",
        "  global_average_layer,\n",
        "  prediction_layer\n",
        "])\n",
        "\n",
        "print(model.summary())\n",
        "\n",
        "# Compile model with specific metrics\n",
        "# Metrics below are for evaluating imbalanced datasets\n",
        "METRICS = [\n",
        "      keras.metrics.TruePositives(name='tp'),\n",
        "      keras.metrics.FalsePositives(name='fp'),\n",
        "      keras.metrics.TrueNegatives(name='tn'),\n",
        "      keras.metrics.FalseNegatives(name='fn'), \n",
        "      keras.metrics.Precision(name='precision'),\n",
        "      keras.metrics.Recall(name='recall'),\n",
        "      keras.metrics.AUC(name = 'auc')\n",
        "]\n",
        "\n",
        "base_learning_rate = 0.0001\n",
        "model.compile(optimizer=tf.keras.optimizers.RMSprop(lr=base_learning_rate),\n",
        "              loss=tf.keras.losses.BinaryCrossentropy(),\n",
        "              metrics=METRICS)"
      ],
      "execution_count": null,
      "outputs": [
        {
          "output_type": "stream",
          "text": [
            "Downloading data from https://storage.googleapis.com/tensorflow/keras-applications/mobilenet_v2/mobilenet_v2_weights_tf_dim_ordering_tf_kernels_1.0_96_no_top.h5\n",
            "9412608/9406464 [==============================] - 0s 0us/step\n",
            "(None, 3, 3, 1280)\n",
            "(None, 1280)\n",
            "(None, 1)\n",
            "Model: \"sequential\"\n",
            "_________________________________________________________________\n",
            "Layer (type)                 Output Shape              Param #   \n",
            "=================================================================\n",
            "mobilenetv2_1.00_96 (Model)  (None, 3, 3, 1280)        2257984   \n",
            "_________________________________________________________________\n",
            "global_average_pooling2d (Gl (None, 1280)              0         \n",
            "_________________________________________________________________\n",
            "dense (Dense)                (None, 1)                 1281      \n",
            "=================================================================\n",
            "Total params: 2,259,265\n",
            "Trainable params: 1,281\n",
            "Non-trainable params: 2,257,984\n",
            "_________________________________________________________________\n",
            "None\n"
          ],
          "name": "stdout"
        }
      ]
    },
    {
      "cell_type": "code",
      "metadata": {
        "colab_type": "code",
        "id": "gt0G74FsB6_i",
        "colab": {
          "base_uri": "https://localhost:8080/",
          "height": 717
        },
        "outputId": "005ca312-10d6-4fcd-f861-ac86aee2a611"
      },
      "source": [
        "import time \n",
        "start = time.time()\n",
        "\n",
        "# Fit model with a couple parameters\n",
        "EPOCHS = 20\n",
        "\n",
        "# Class imbalance weighting\n",
        "rebalance = class_weight.compute_class_weight('balanced',\n",
        "                                  [0, 1], raw_Y_2.flatten())\n",
        "class_weights = {i : rebalance[i] for i in range(2)}\n",
        "\n",
        "# Early stopping \n",
        "callbacks = [keras.callbacks.EarlyStopping (monitor = 'val_loss',\n",
        "                                            patience = 2)]\n",
        "\n",
        "history = model.fit(my_training_batch_generator, epochs=EPOCHS,\n",
        "              validation_data= my_validation_batch_generator,\n",
        "              callbacks = callbacks,\n",
        "              class_weight = class_weights)\n",
        "\n",
        "\n",
        "total_seconds = time.time() - start\n",
        "print('total time tooke ' + str(round(total_seconds/60)), ' minutes')\n",
        "\n"
      ],
      "execution_count": null,
      "outputs": [
        {
          "output_type": "stream",
          "text": [
            "Epoch 1/20\n",
            "38/38 [==============================] - 166s 4s/step - loss: 0.7749 - tp: 2930.0000 - fp: 4689.0000 - tn: 49169.0000 - fn: 13370.0000 - precision: 0.3846 - recall: 0.1798 - auc: 0.5337 - val_loss: 0.6266 - val_tp: 1770.0000 - val_fp: 2210.0000 - val_tn: 11206.0000 - val_fn: 3502.0000 - val_precision: 0.4447 - val_recall: 0.3357 - val_auc: 0.5687\n",
            "Epoch 2/20\n",
            "38/38 [==============================] - 23s 613ms/step - loss: 0.6631 - tp: 8418.0000 - fp: 12940.0000 - tn: 40918.0000 - fn: 7882.0000 - precision: 0.3941 - recall: 0.5164 - auc: 0.6694 - val_loss: 0.5823 - val_tp: 2636.0000 - val_fp: 1900.0000 - val_tn: 11516.0000 - val_fn: 2636.0000 - val_precision: 0.5811 - val_recall: 0.5000 - val_auc: 0.7339\n",
            "Epoch 3/20\n",
            "38/38 [==============================] - 23s 617ms/step - loss: 0.5973 - tp: 11210.0000 - fp: 14285.0000 - tn: 39573.0000 - fn: 5090.0000 - precision: 0.4397 - recall: 0.6877 - auc: 0.7837 - val_loss: 0.5223 - val_tp: 3305.0000 - val_fp: 1174.0000 - val_tn: 12242.0000 - val_fn: 1967.0000 - val_precision: 0.7379 - val_recall: 0.6269 - val_auc: 0.8703\n",
            "Epoch 4/20\n",
            "38/38 [==============================] - 23s 615ms/step - loss: 0.5413 - tp: 12975.0000 - fp: 12963.0000 - tn: 40895.0000 - fn: 3325.0000 - precision: 0.5002 - recall: 0.7960 - auc: 0.8545 - val_loss: 0.4498 - val_tp: 3171.0000 - val_fp: 671.0000 - val_tn: 12745.0000 - val_fn: 2101.0000 - val_precision: 0.8254 - val_recall: 0.6015 - val_auc: 0.9323\n",
            "Epoch 5/20\n",
            "38/38 [==============================] - 23s 611ms/step - loss: 0.4948 - tp: 13429.0000 - fp: 9489.0000 - tn: 44369.0000 - fn: 2871.0000 - precision: 0.5860 - recall: 0.8239 - auc: 0.8973 - val_loss: 0.4092 - val_tp: 3870.0000 - val_fp: 709.0000 - val_tn: 12707.0000 - val_fn: 1402.0000 - val_precision: 0.8452 - val_recall: 0.7341 - val_auc: 0.9575\n",
            "Epoch 6/20\n",
            "38/38 [==============================] - 23s 607ms/step - loss: 0.4549 - tp: 13673.0000 - fp: 6787.0000 - tn: 47071.0000 - fn: 2627.0000 - precision: 0.6683 - recall: 0.8388 - auc: 0.9216 - val_loss: 0.3834 - val_tp: 4610.0000 - val_fp: 859.0000 - val_tn: 12557.0000 - val_fn: 662.0000 - val_precision: 0.8429 - val_recall: 0.8744 - val_auc: 0.9677\n",
            "Epoch 7/20\n",
            "38/38 [==============================] - 23s 614ms/step - loss: 0.4212 - tp: 14467.0000 - fp: 7693.0000 - tn: 46165.0000 - fn: 1833.0000 - precision: 0.6528 - recall: 0.8875 - auc: 0.9359 - val_loss: 0.3490 - val_tp: 4787.0000 - val_fp: 849.0000 - val_tn: 12567.0000 - val_fn: 485.0000 - val_precision: 0.8494 - val_recall: 0.9080 - val_auc: 0.9727\n",
            "Epoch 8/20\n",
            "38/38 [==============================] - 23s 613ms/step - loss: 0.3910 - tp: 14513.0000 - fp: 6436.0000 - tn: 47422.0000 - fn: 1787.0000 - precision: 0.6928 - recall: 0.8904 - auc: 0.9442 - val_loss: 0.3164 - val_tp: 4826.0000 - val_fp: 784.0000 - val_tn: 12632.0000 - val_fn: 446.0000 - val_precision: 0.8602 - val_recall: 0.9154 - val_auc: 0.9756\n",
            "Epoch 9/20\n",
            "38/38 [==============================] - 23s 617ms/step - loss: 0.3682 - tp: 14809.0000 - fp: 6330.0000 - tn: 47528.0000 - fn: 1491.0000 - precision: 0.7006 - recall: 0.9085 - auc: 0.9502 - val_loss: 0.2911 - val_tp: 4867.0000 - val_fp: 737.0000 - val_tn: 12679.0000 - val_fn: 405.0000 - val_precision: 0.8685 - val_recall: 0.9232 - val_auc: 0.9775\n",
            "Epoch 10/20\n",
            "38/38 [==============================] - 23s 613ms/step - loss: 0.3470 - tp: 14880.0000 - fp: 5685.0000 - tn: 48173.0000 - fn: 1420.0000 - precision: 0.7236 - recall: 0.9129 - auc: 0.9551 - val_loss: 0.2727 - val_tp: 4924.0000 - val_fp: 750.0000 - val_tn: 12666.0000 - val_fn: 348.0000 - val_precision: 0.8678 - val_recall: 0.9340 - val_auc: 0.9789\n",
            "Epoch 11/20\n",
            "38/38 [==============================] - 23s 604ms/step - loss: 0.3262 - tp: 15159.0000 - fp: 5536.0000 - tn: 48322.0000 - fn: 1141.0000 - precision: 0.7325 - recall: 0.9300 - auc: 0.9596 - val_loss: 0.2581 - val_tp: 5009.0000 - val_fp: 802.0000 - val_tn: 12614.0000 - val_fn: 263.0000 - val_precision: 0.8620 - val_recall: 0.9501 - val_auc: 0.9800\n",
            "Epoch 12/20\n",
            "38/38 [==============================] - 23s 608ms/step - loss: 0.3108 - tp: 15155.0000 - fp: 5197.0000 - tn: 48661.0000 - fn: 1145.0000 - precision: 0.7446 - recall: 0.9298 - auc: 0.9617 - val_loss: 0.2510 - val_tp: 5095.0000 - val_fp: 922.0000 - val_tn: 12494.0000 - val_fn: 177.0000 - val_precision: 0.8468 - val_recall: 0.9664 - val_auc: 0.9808\n",
            "Epoch 13/20\n",
            "38/38 [==============================] - 23s 607ms/step - loss: 0.3006 - tp: 15379.0000 - fp: 5674.0000 - tn: 48184.0000 - fn: 921.0000 - precision: 0.7305 - recall: 0.9435 - auc: 0.9633 - val_loss: 0.2352 - val_tp: 5082.0000 - val_fp: 873.0000 - val_tn: 12543.0000 - val_fn: 190.0000 - val_precision: 0.8534 - val_recall: 0.9640 - val_auc: 0.9814\n",
            "Epoch 14/20\n",
            "38/38 [==============================] - 24s 619ms/step - loss: 0.2866 - tp: 15494.0000 - fp: 5578.0000 - tn: 48280.0000 - fn: 806.0000 - precision: 0.7353 - recall: 0.9506 - auc: 0.9659 - val_loss: 0.2189 - val_tp: 5019.0000 - val_fp: 762.0000 - val_tn: 12654.0000 - val_fn: 253.0000 - val_precision: 0.8682 - val_recall: 0.9520 - val_auc: 0.9819\n",
            "Epoch 15/20\n",
            "38/38 [==============================] - 24s 620ms/step - loss: 0.2769 - tp: 15386.0000 - fp: 5271.0000 - tn: 48587.0000 - fn: 914.0000 - precision: 0.7448 - recall: 0.9439 - auc: 0.9672 - val_loss: 0.2105 - val_tp: 5038.0000 - val_fp: 777.0000 - val_tn: 12639.0000 - val_fn: 234.0000 - val_precision: 0.8664 - val_recall: 0.9556 - val_auc: 0.9823\n",
            "Epoch 16/20\n",
            "38/38 [==============================] - 23s 607ms/step - loss: 0.2669 - tp: 15340.0000 - fp: 4964.0000 - tn: 48894.0000 - fn: 960.0000 - precision: 0.7555 - recall: 0.9411 - auc: 0.9682 - val_loss: 0.2060 - val_tp: 5095.0000 - val_fp: 832.0000 - val_tn: 12584.0000 - val_fn: 177.0000 - val_precision: 0.8596 - val_recall: 0.9664 - val_auc: 0.9827\n",
            "Epoch 17/20\n",
            "38/38 [==============================] - 23s 611ms/step - loss: 0.2601 - tp: 15584.0000 - fp: 5442.0000 - tn: 48416.0000 - fn: 716.0000 - precision: 0.7412 - recall: 0.9561 - auc: 0.9700 - val_loss: 0.1951 - val_tp: 5043.0000 - val_fp: 757.0000 - val_tn: 12659.0000 - val_fn: 229.0000 - val_precision: 0.8695 - val_recall: 0.9566 - val_auc: 0.9829\n",
            "Epoch 18/20\n",
            "38/38 [==============================] - 23s 617ms/step - loss: 0.2528 - tp: 15452.0000 - fp: 4959.0000 - tn: 48899.0000 - fn: 848.0000 - precision: 0.7570 - recall: 0.9480 - auc: 0.9701 - val_loss: 0.1918 - val_tp: 5095.0000 - val_fp: 810.0000 - val_tn: 12606.0000 - val_fn: 177.0000 - val_precision: 0.8628 - val_recall: 0.9664 - val_auc: 0.9832\n",
            "Epoch 19/20\n",
            "38/38 [==============================] - 23s 614ms/step - loss: 0.2452 - tp: 15531.0000 - fp: 4984.0000 - tn: 48874.0000 - fn: 769.0000 - precision: 0.7571 - recall: 0.9528 - auc: 0.9713 - val_loss: 0.1878 - val_tp: 5110.0000 - val_fp: 825.0000 - val_tn: 12591.0000 - val_fn: 162.0000 - val_precision: 0.8610 - val_recall: 0.9693 - val_auc: 0.9834\n",
            "Epoch 20/20\n",
            "38/38 [==============================] - 23s 610ms/step - loss: 0.2388 - tp: 15530.0000 - fp: 5018.0000 - tn: 48840.0000 - fn: 770.0000 - precision: 0.7558 - recall: 0.9528 - auc: 0.9727 - val_loss: 0.1822 - val_tp: 5104.0000 - val_fp: 812.0000 - val_tn: 12604.0000 - val_fn: 168.0000 - val_precision: 0.8627 - val_recall: 0.9681 - val_auc: 0.9836\n"
          ],
          "name": "stdout"
        }
      ]
    },
    {
      "cell_type": "code",
      "metadata": {
        "id": "TMGd5RW2VDaz",
        "colab_type": "code",
        "colab": {
          "base_uri": "https://localhost:8080/",
          "height": 297
        },
        "outputId": "a80079a4-c7fe-4305-88b6-0c538f183629"
      },
      "source": [
        "# Model evaluation\n",
        "colors = plt.rcParams['axes.prop_cycle'].by_key()['color']\n",
        "def plot_metrics(history):\n",
        "  metrics =  ['loss', 'auc', 'precision', 'recall']\n",
        "  for n, metric in enumerate(metrics):\n",
        "    name = metric.replace(\"_\",\" \").capitalize()\n",
        "    plt.subplot(2,2,n+1)\n",
        "    plt.plot(history.epoch,  history.history[metric], color=colors[0], label='Train')\n",
        "    plt.plot(history.epoch, history.history['val_'+metric],\n",
        "             color=colors[0], linestyle=\"--\", label='Val')\n",
        "    plt.xlabel('Epoch')\n",
        "    plt.ylabel(name)\n",
        "    if metric == 'loss':\n",
        "      plt.ylim([0, plt.ylim()[1]])\n",
        "    elif metric == 'auc':\n",
        "      plt.ylim([0.8,1])\n",
        "    else:\n",
        "      plt.ylim([0,1.1])\n",
        "\n",
        "    plt.legend()\n",
        "    plt.tight_layout()\n",
        "\n",
        "plot_metrics(history)"
      ],
      "execution_count": null,
      "outputs": [
        {
          "output_type": "display_data",
          "data": {
            "image/png": "[encoded data removed]",
            "text/plain": [
              "<Figure size 432x288 with 4 Axes>"
            ]
          },
          "metadata": {
            "tags": [],
            "needs_background": "light"
          }
        }
      ]
    },
    {
      "cell_type": "markdown",
      "metadata": {
        "id": "C4qjuZs-T_9Z",
        "colab_type": "text"
      },
      "source": [
        "## 4.1) Model evaluation of failed images"
      ]
    },
    {
      "cell_type": "code",
      "metadata": {
        "id": "ZvyS7RL2T-VZ",
        "colab_type": "code",
        "colab": {}
      },
      "source": [
        ""
      ],
      "execution_count": null,
      "outputs": []
    },
    {
      "cell_type": "markdown",
      "metadata": {
        "id": "FEIdWwHA5ELy",
        "colab_type": "text"
      },
      "source": [
        "# 5) Hyperparameter tuning \n",
        " Here we'll loosen up a couple of the top layers for training to see if we can boost performance \n",
        "\n",
        "\"In most convolutional networks, the higher up a layer is, the more specialized it is. The first few layers learn very simple and generic features that generalize to almost all types of images. As you go higher up, the features are increasingly more specific to the dataset on which the model was trained. The goal of fine-tuning is to adapt these specialized features to work with the new dataset, rather than overwrite the generic learning\""
      ]
    },
    {
      "cell_type": "code",
      "metadata": {
        "colab_type": "code",
        "id": "gHqPAt_944CI",
        "colab": {
          "base_uri": "https://localhost:8080/",
          "height": 232
        },
        "outputId": "d9a3fdd0-637e-467b-e67e-5c0d46acea7e"
      },
      "source": [
        "# Fine-tuning model by unfreezing layers and allowing them to be trainable\n",
        "\n",
        "model.trainable = True\n",
        "\n",
        "# Let's take a look to see how many layers are in the base model\n",
        "print(\"Number of layers in the base model: \", len(model.layers))\n",
        "\n",
        "# Fine-tune from this layer onwards\n",
        "fine_tune_at = 50\n",
        "\n",
        "# Freeze all the layers before the `fine_tune_at` layer\n",
        "for layer in model.layers[:fine_tune_at]:\n",
        "  layer.trainable =  False\n",
        "\n",
        "# Compile model with specific metrics\n",
        "# Metrics below are for evaluating imbalanced datasets\n",
        "METRICS = [\n",
        "      keras.metrics.TruePositives(name='tp'),\n",
        "      keras.metrics.FalsePositives(name='fp'),\n",
        "      keras.metrics.TrueNegatives(name='tn'),\n",
        "      keras.metrics.FalseNegatives(name='fn'), \n",
        "      keras.metrics.Precision(name='precision'),\n",
        "      keras.metrics.Recall(name='recall'),\n",
        "      keras.metrics.AUC(name = 'auc')\n",
        "]\n",
        "\n",
        "# compile model with a much slower learning rate \n",
        "base_learning_rate = 0.0001\n",
        "model.compile(optimizer=tf.keras.optimizers.RMSprop(lr=base_learning_rate/10),\n",
        "              loss=tf.keras.losses.BinaryCrossentropy(),\n",
        "              metrics=METRICS)\n"
      ],
      "execution_count": null,
      "outputs": [
        {
          "output_type": "error",
          "ename": "NameError",
          "evalue": "ignored",
          "traceback": [
            "\u001b[0;31m---------------------------------------------------------------------------\u001b[0m",
            "\u001b[0;31mNameError\u001b[0m                                 Traceback (most recent call last)",
            "\u001b[0;32m<ipython-input-84-c6fc842c7c0b>\u001b[0m in \u001b[0;36m<module>\u001b[0;34m()\u001b[0m\n\u001b[1;32m      1\u001b[0m \u001b[0;31m# Fine-tuning model by unfreezing layers and allowing them to be trainable\u001b[0m\u001b[0;34m\u001b[0m\u001b[0;34m\u001b[0m\u001b[0;34m\u001b[0m\u001b[0m\n\u001b[1;32m      2\u001b[0m \u001b[0;34m\u001b[0m\u001b[0m\n\u001b[0;32m----> 3\u001b[0;31m \u001b[0mmodel\u001b[0m\u001b[0;34m.\u001b[0m\u001b[0mtrainable\u001b[0m \u001b[0;34m=\u001b[0m \u001b[0;32mTrue\u001b[0m\u001b[0;34m\u001b[0m\u001b[0;34m\u001b[0m\u001b[0m\n\u001b[0m\u001b[1;32m      4\u001b[0m \u001b[0;34m\u001b[0m\u001b[0m\n\u001b[1;32m      5\u001b[0m \u001b[0;31m# Let's take a look to see how many layers are in the base model\u001b[0m\u001b[0;34m\u001b[0m\u001b[0;34m\u001b[0m\u001b[0;34m\u001b[0m\u001b[0m\n",
            "\u001b[0;31mNameError\u001b[0m: name 'model' is not defined"
          ]
        }
      ]
    },
    {
      "cell_type": "code",
      "metadata": {
        "colab_type": "code",
        "id": "7mTLXuRr44CO",
        "colab": {
          "base_uri": "https://localhost:8080/",
          "height": 156
        },
        "outputId": "043e7688-9ca9-435b-d191-0403fd06f92c"
      },
      "source": [
        "start = time.time()\n",
        "\n",
        "# Fit model with a couple parameters\n",
        "EPOCHS = 20\n",
        "\n",
        "# Class imbalance weighting\n",
        "rebalance = class_weight.compute_class_weight('balanced',\n",
        "                                  [0, 1], raw_Y_2.flatten())\n",
        "class_weights = {i : rebalance[i] for i in range(2)}\n",
        "\n",
        "# Early stopping \n",
        "callbacks = [keras.callbacks.EarlyStopping (monitor = 'val_loss',\n",
        "                                            patience = 2)]\n",
        "\n",
        "history = model.fit(my_training_batch_generator, epochs=EPOCHS,\n",
        "              validation_data= my_validation_batch_generator,\n",
        "              callbacks = callbacks,\n",
        "              class_weight = class_weights)\n",
        "\n",
        "total_seconds = time.time() - start\n",
        "print('total time took ' + str(round(total_seconds/60)), ' minutes')"
      ],
      "execution_count": null,
      "outputs": [
        {
          "output_type": "stream",
          "text": [
            "Epoch 1/20\n",
            "38/38 [==============================] - 25s 656ms/step - loss: 0.2337 - tp: 15596.0000 - fp: 4986.0000 - tn: 48872.0000 - fn: 704.0000 - precision: 0.7577 - recall: 0.9568 - auc: 0.9738 - val_loss: 0.1822 - val_tp: 5104.0000 - val_fp: 812.0000 - val_tn: 12604.0000 - val_fn: 168.0000 - val_precision: 0.8627 - val_recall: 0.9681 - val_auc: 0.9836\n",
            "Epoch 2/20\n",
            "38/38 [==============================] - 23s 610ms/step - loss: 0.2337 - tp: 15596.0000 - fp: 4986.0000 - tn: 48872.0000 - fn: 704.0000 - precision: 0.7577 - recall: 0.9568 - auc: 0.9738 - val_loss: 0.1822 - val_tp: 5104.0000 - val_fp: 812.0000 - val_tn: 12604.0000 - val_fn: 168.0000 - val_precision: 0.8627 - val_recall: 0.9681 - val_auc: 0.9836\n",
            "Epoch 3/20\n",
            "38/38 [==============================] - 23s 607ms/step - loss: 0.2337 - tp: 15596.0000 - fp: 4986.0000 - tn: 48872.0000 - fn: 704.0000 - precision: 0.7577 - recall: 0.9568 - auc: 0.9738 - val_loss: 0.1822 - val_tp: 5104.0000 - val_fp: 812.0000 - val_tn: 12604.0000 - val_fn: 168.0000 - val_precision: 0.8627 - val_recall: 0.9681 - val_auc: 0.9836\n",
            "total time tooke 1  minutes\n"
          ],
          "name": "stdout"
        }
      ]
    },
    {
      "cell_type": "markdown",
      "metadata": {
        "id": "fR4oHmidBh-X",
        "colab_type": "text"
      },
      "source": [
        "# ---- DONE ---- "
      ]
    },
    {
      "cell_type": "code",
      "metadata": {
        "id": "cUWWopCdN6mv",
        "colab_type": "code",
        "colab": {}
      },
      "source": [
        "dmatx,true_y = my_validation_batch_generator.__getitem__(1)\n",
        "\n",
        "pred_y = model.predict(dmatx)"
      ],
      "execution_count": null,
      "outputs": []
    },
    {
      "cell_type": "code",
      "metadata": {
        "id": "haPmWYjSOT7M",
        "colab_type": "code",
        "colab": {}
      },
      "source": [
        "from sklearn.metrics import confusion_matrix as cm\n",
        "\n",
        "cm2 = cm(true_y, pred_y>.5)\n",
        "# TN FN TP FP "
      ],
      "execution_count": null,
      "outputs": []
    },
    {
      "cell_type": "markdown",
      "metadata": {
        "id": "PuyDVv3x4yIf",
        "colab_type": "text"
      },
      "source": [
        "# (DEP) 1) Data cleaning  \n",
        "In this section we're going to convert the images to the right channels and dimensions for MobileNetV2. \n",
        "\n",
        "a. many of the pre-trained models require 3 channels instead of 1  \n",
        "b. many of the pre-trained models also require specific image dimensions "
      ]
    },
    {
      "cell_type": "code",
      "metadata": {
        "id": "bYb1wnarMHNC",
        "colab_type": "code",
        "colab": {}
      },
      "source": [
        "# a. 3 channel conversion - convert grayscale image (1 channel) to rgb image (3 channel) for pretrained networks\n",
        "# # REDUCING SIZE OF IMAGE TENSOR AND OTHER ARRAY TO PREVENT CRASHING FOR NOW\n",
        "\n",
        "\n",
        "# # raw_X = raw_X[0:999, :, :]\n",
        "# # raw_Y = raw_Y[0:999, :]\n",
        "# print('raw image size = ' + str(raw_X.shape))  # (64, 224, 224)\n",
        "# rgb_batch = np.repeat(raw_X[..., np.newaxis], 3, -1)\n",
        "# print('converted rgb image size = ' + str(rgb_batch.shape))"
      ],
      "execution_count": null,
      "outputs": []
    },
    {
      "cell_type": "code",
      "metadata": {
        "id": "QeIVhHvshlpz",
        "colab_type": "code",
        "colab": {}
      },
      "source": [
        "# rgb_batch = np.repeat(raw_X[..., np.newaxis], 3, -1)\n",
        "# IMG_SIZE = 96 # All images will be resized to 160x160. This is the size of MobileNetV2 input sizes\n",
        "\n",
        "# rgb_tensor = tf.cast(rgb_batch, tf.float32) # convert to tf tensor with float32 dtypes\n",
        "# rgb_tensor = (rgb_tensor/127.5) - 1 # /127.5 = 0:2, -1 = -1:1 requirement for mobilenetV2\n",
        "# rgb_tensor = tf.image.resize(rgb_tensor, (IMG_SIZE, IMG_SIZE)) # resizing\n",
        "\n",
        "# IMG_SHAPE = (IMG_SIZE, IMG_SIZE, 3)\n",
        "\n"
      ],
      "execution_count": null,
      "outputs": []
    },
    {
      "cell_type": "markdown",
      "metadata": {
        "id": "JxN3zAwg3yL8",
        "colab_type": "text"
      },
      "source": [
        "#(DEP) 2) Basic EDA  \n",
        "We're going to verify that the data looks good by eye. \n",
        "\n"
      ]
    },
    {
      "cell_type": "code",
      "metadata": {
        "id": "fWvMd5Mpe2t3",
        "colab_type": "code",
        "colab": {
          "base_uri": "https://localhost:8080/",
          "height": 484
        },
        "outputId": "b14480ae-a592-4674-bf44-5f3470097892"
      },
      "source": [
        "# Look at the distribution of classes\n",
        "fig, axs = plt.subplots(1, 3)\n",
        "axs[0].hist(raw_Y)\n",
        "axs[0].set_title('class distribution')\n",
        "axs[0].set_xticks([0,1])\n",
        "axs[0].set_xticklabels(['neg class', 'pos class'])\n",
        "axs[0].set_ylabel('number of examples')\n",
        "\n",
        "# Look at some images of positive and negative\n",
        "neg_class = [i for i, val in enumerate(raw_Y) if val==0]\n",
        "pos_class = [i for i, val in enumerate(raw_Y) if val==1]\n",
        "axs[1].imshow(rgb_tensor[np.random.choice(neg_class,1)[0]])\n",
        "axs[1].set_title('neg frame ' + str(np.random.choice(neg_class,1)[0]))\n",
        "axs[2].imshow(rgb_tensor[np.random.choice(pos_class,1)[0]])\n",
        "axs[2].set_title('pos frame ' + str(np.random.choice(pos_class,1)[0]))\n",
        "plt.tight_layout()"
      ],
      "execution_count": null,
      "outputs": [
        {
          "output_type": "error",
          "ename": "NameError",
          "evalue": "ignored",
          "traceback": [
            "\u001b[0;31m---------------------------------------------------------------------------\u001b[0m",
            "\u001b[0;31mNameError\u001b[0m                                 Traceback (most recent call last)",
            "\u001b[0;32m<ipython-input-81-c902cbaa41a9>\u001b[0m in \u001b[0;36m<module>\u001b[0;34m()\u001b[0m\n\u001b[1;32m      1\u001b[0m \u001b[0;31m# Look at the distribution of classes\u001b[0m\u001b[0;34m\u001b[0m\u001b[0;34m\u001b[0m\u001b[0;34m\u001b[0m\u001b[0m\n\u001b[1;32m      2\u001b[0m \u001b[0mfig\u001b[0m\u001b[0;34m,\u001b[0m \u001b[0maxs\u001b[0m \u001b[0;34m=\u001b[0m \u001b[0mplt\u001b[0m\u001b[0;34m.\u001b[0m\u001b[0msubplots\u001b[0m\u001b[0;34m(\u001b[0m\u001b[0;36m1\u001b[0m\u001b[0;34m,\u001b[0m \u001b[0;36m3\u001b[0m\u001b[0;34m)\u001b[0m\u001b[0;34m\u001b[0m\u001b[0;34m\u001b[0m\u001b[0m\n\u001b[0;32m----> 3\u001b[0;31m \u001b[0maxs\u001b[0m\u001b[0;34m[\u001b[0m\u001b[0;36m0\u001b[0m\u001b[0;34m]\u001b[0m\u001b[0;34m.\u001b[0m\u001b[0mhist\u001b[0m\u001b[0;34m(\u001b[0m\u001b[0mraw_Y\u001b[0m\u001b[0;34m)\u001b[0m\u001b[0;34m\u001b[0m\u001b[0;34m\u001b[0m\u001b[0m\n\u001b[0m\u001b[1;32m      4\u001b[0m \u001b[0maxs\u001b[0m\u001b[0;34m[\u001b[0m\u001b[0;36m0\u001b[0m\u001b[0;34m]\u001b[0m\u001b[0;34m.\u001b[0m\u001b[0mset_title\u001b[0m\u001b[0;34m(\u001b[0m\u001b[0;34m'class distribution'\u001b[0m\u001b[0;34m)\u001b[0m\u001b[0;34m\u001b[0m\u001b[0;34m\u001b[0m\u001b[0m\n\u001b[1;32m      5\u001b[0m \u001b[0maxs\u001b[0m\u001b[0;34m[\u001b[0m\u001b[0;36m0\u001b[0m\u001b[0;34m]\u001b[0m\u001b[0;34m.\u001b[0m\u001b[0mset_xticks\u001b[0m\u001b[0;34m(\u001b[0m\u001b[0;34m[\u001b[0m\u001b[0;36m0\u001b[0m\u001b[0;34m,\u001b[0m\u001b[0;36m1\u001b[0m\u001b[0;34m]\u001b[0m\u001b[0;34m)\u001b[0m\u001b[0;34m\u001b[0m\u001b[0;34m\u001b[0m\u001b[0m\n",
            "\u001b[0;31mNameError\u001b[0m: name 'raw_Y' is not defined"
          ]
        },
        {
          "output_type": "display_data",
          "data": {
            "image/png": "[encoded data removed]",
            "text/plain": [
              "<Figure size 432x288 with 3 Axes>"
            ]
          },
          "metadata": {
            "tags": [],
            "needs_background": "light"
          }
        }
      ]
    },
    {
      "cell_type": "code",
      "metadata": {
        "id": "8LyI6trlu0IN",
        "colab_type": "code",
        "colab": {}
      },
      "source": [
        "# Plot first 25 trials and see what they look like \n",
        "plt.figure(figsize=(10,10))\n",
        "for i in range(25):\n",
        "    plt.subplot(5,5,i+1)\n",
        "    plt.xticks([])\n",
        "    plt.yticks([])\n",
        "    plt.grid(False)\n",
        "    plt.imshow(rgb_tensor[i])\n",
        "    plt.xlabel(str(raw_Y[i]))\n",
        "plt.show()"
      ],
      "execution_count": null,
      "outputs": []
    },
    {
      "cell_type": "markdown",
      "metadata": {
        "id": "nNlmNktD5flN",
        "colab_type": "text"
      },
      "source": [
        "# (DEP) 3) Feature engineering and test/train splits"
      ]
    },
    {
      "cell_type": "code",
      "metadata": {
        "id": "8isaD7QviHex",
        "colab_type": "code",
        "colab": {}
      },
      "source": [
        "#3) Feature engineering and train test split\n",
        "\n",
        "X_train,X_test,Y_train,Y_test = ms.train_test_split(rgb_tensor.numpy(), raw_Y , test_size=0.2)\n",
        "X_train,X_val,Y_train,Y_val= ms.train_test_split(X_train, Y_train, test_size=0.2)\n",
        "\n",
        "print('train = ' + str(X_train.shape[0]))\n",
        "print('test = ' + str(X_val.shape[0]))\n",
        "print('validation = ' + str(X_test.shape[0]))"
      ],
      "execution_count": null,
      "outputs": []
    },
    {
      "cell_type": "code",
      "metadata": {
        "id": "i4w-An99-cWh",
        "colab_type": "code",
        "colab": {
          "base_uri": "https://localhost:8080/",
          "height": 34
        },
        "outputId": "53db5170-18b8-48c6-fc7a-2979c818e6b4"
      },
      "source": [
        "rebalance"
      ],
      "execution_count": null,
      "outputs": [
        {
          "output_type": "execute_result",
          "data": {
            "text/plain": [
              "array([0.65301492, 2.13382757])"
            ]
          },
          "metadata": {
            "tags": []
          },
          "execution_count": 57
        }
      ]
    },
    {
      "cell_type": "code",
      "metadata": {
        "id": "WC-FjSRQnzSz",
        "colab_type": "code",
        "colab": {}
      },
      "source": [
        "# Model prediction\n",
        "\n",
        "prediction = model.predict(X_test)\n"
      ],
      "execution_count": null,
      "outputs": []
    },
    {
      "cell_type": "markdown",
      "metadata": {
        "id": "kDLbRuvJ8mg4",
        "colab_type": "text"
      },
      "source": [
        "# (DEP) 5) Hyperparameter tuning of best base model "
      ]
    },
    {
      "cell_type": "code",
      "metadata": {
        "id": "dCFirRoha_Kj",
        "colab_type": "code",
        "colab": {}
      },
      "source": [
        "# Fine-tuning model by unfreezing layers and allowing them to be trainable\n",
        "\n",
        "model.trainable = True\n",
        "\n",
        "# Let's take a look to see how many layers are in the base model\n",
        "print(\"Number of layers in the base model: \", len(model.layers))\n",
        "\n",
        "# Fine-tune from this layer onwards\n",
        "fine_tune_at = 100\n",
        "\n",
        "# Freeze all the layers before the `fine_tune_at` layer\n",
        "for layer in model.layers[:fine_tune_at]:\n",
        "  layer.trainable =  False\n",
        "\n",
        "# Compile model with specific metrics\n",
        "# Metrics below are for evaluating imbalanced datasets\n",
        "METRICS = [\n",
        "      keras.metrics.TruePositives(name='tp'),\n",
        "      keras.metrics.FalsePositives(name='fp'),\n",
        "      keras.metrics.TrueNegatives(name='tn'),\n",
        "      keras.metrics.FalseNegatives(name='fn'), \n",
        "      keras.metrics.Precision(name='precision'),\n",
        "      keras.metrics.Recall(name='recall'),\n",
        "      keras.metrics.AUC(name = 'auc')\n",
        "]\n",
        "\n",
        "# compile model with a much slower learning rate \n",
        "base_learning_rate = 0.0001\n",
        "model.compile(optimizer=tf.keras.optimizers.RMSprop(lr=base_learning_rate/10),\n",
        "              loss=tf.keras.losses.BinaryCrossentropy(),\n",
        "              metrics=METRICS)\n"
      ],
      "execution_count": null,
      "outputs": []
    },
    {
      "cell_type": "code",
      "metadata": {
        "id": "2vjSTEJRmrmS",
        "colab_type": "code",
        "colab": {}
      },
      "source": [
        "# Fit model with class imbalance weighting\n",
        "\n",
        "rebalance = class_weight.compute_class_weight('balanced',\n",
        "                                  np.unique(Y_train), Y_train.flatten())\n",
        "class_weights = {i : rebalance[i] for i in range(2)}\n",
        "\n",
        "history = model.fit(X_train, Y_train, epochs=10,\n",
        "              validation_data=(X_val, Y_val),\n",
        "              class_weight=class_weights)"
      ],
      "execution_count": null,
      "outputs": []
    },
    {
      "cell_type": "code",
      "metadata": {
        "id": "tpJVra0Tga-Q",
        "colab_type": "code",
        "colab": {}
      },
      "source": [
        "pred_Y = model.predict(rgb_tensor)\n",
        "\n",
        "\n"
      ],
      "execution_count": null,
      "outputs": []
    },
    {
      "cell_type": "code",
      "metadata": {
        "id": "ctihSG49mwz3",
        "colab_type": "code",
        "colab": {}
      },
      "source": [
        "fail_pred = raw_Y == pred_Y\n",
        "# tmp3 = \n",
        "tmp3 = np.argwhere(fail_pred==False)\n",
        "\n",
        "tmp3[:, 0]\n",
        "# print(fail_pred)\n",
        "print(raw_Y[1:10])\n",
        "print(pred_Y[1:10])"
      ],
      "execution_count": null,
      "outputs": []
    },
    {
      "cell_type": "code",
      "metadata": {
        "id": "HT-9itTmptWm",
        "colab_type": "code",
        "colab": {}
      },
      "source": [
        ""
      ],
      "execution_count": null,
      "outputs": []
    },
    {
      "cell_type": "code",
      "metadata": {
        "id": "gdMS2pitI5uM",
        "colab_type": "code",
        "colab": {}
      },
      "source": [
        "import numpy as np\n",
        "\n",
        "num_in_each = [1, 233, 430, 2008, 600, 1, 40]\n",
        "max_batch_size = 600\n",
        "cnt = 0\n",
        "extract_inds = []\n",
        "# num_in_each contains the number of frames in each file I am loading, ie\n",
        "# for trial/file 1 there are 200 frames , trial/file 2 has 215 frames etc\n",
        "for k, elem in enumerate(num_in_each) :\n",
        "  tot_frame_nums = sum(num_in_each[cnt: k+1]) # used to test if the number of frames in \n",
        "  # all these files exceded the \"max_batch_size\" limit \n",
        "  if tot_frame_nums>max_batch_size or len(num_in_each)-1 == k: # condition met, these files together \n",
        "  # meet the max requirment to load together as a batch \n",
        "    print(tot_frame_nums)\n",
        "    print(cnt, k+1)\n",
        "    extract_inds.append([cnt, k+1])\n",
        "    cnt = k+1 # reset to the current iter\n",
        "    if np.diff(extract_inds[-1]) > 1: # if there is more than one file then we want to take off the last file \n",
        "    # because it excedes the set number of frames\n",
        "      extract_inds[-1][-1] = extract_inds[-1][-1]-1\n",
        "      cnt = cnt-1"
      ],
      "execution_count": null,
      "outputs": []
    }
  ]
}