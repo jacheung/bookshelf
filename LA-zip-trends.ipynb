{
 "cells": [
  {
   "cell_type": "code",
   "execution_count": null,
   "metadata": {
    "scrolled": true
   },
   "outputs": [],
   "source": [
    "# if you're missing any of the below libraries, install here. \n",
    "import sys\n",
    "!{sys.executable} -m pip install jupyter_dash\n"
   ]
  },
  {
   "cell_type": "code",
   "execution_count": 1,
   "metadata": {},
   "outputs": [],
   "source": [
    "import pandas as pd\n",
    "import numpy as np\n",
    "import matplotlib.pyplot as plt\n",
    "from datetime import datetime as dt\n",
    "import pgeocode\n",
    "import quandl"
   ]
  },
  {
   "cell_type": "code",
   "execution_count": null,
   "metadata": {},
   "outputs": [],
   "source": []
  },
  {
   "cell_type": "code",
   "execution_count": 2,
   "metadata": {},
   "outputs": [],
   "source": [
    "# import reference df for regions\n",
    "# region_df = pd.read_csv(r'C:\\Users\\jacheung\\Dropbox\\Datasets\\Zillow\\ZILLOW-REGIONS.csv')\n",
    "# indicators_df = pd.read_csv(r'C:\\Users\\jacheung\\Dropbox\\Datasets\\Zillow\\ZILLOW_INDICATORS.csv')\n",
    "\n",
    "region_df = pd.read_csv(r'/Users/jonathancheung/Dropbox/Datasets/Zillow/ZILLOW-REGIONS.csv')\n",
    "indicators_df = pd.read_csv(r'/Users/jonathancheung/Dropbox/Datasets/Zillow/ZILLOW_INDICATORS.csv')\n",
    "\n",
    "\n",
    "la_region_id = region_df[region_df['region'].str.contains('Los Angeles', regex=False)]\n",
    "la_region_id.reset_index(drop=True,inplace=True)\n"
   ]
  },
  {
   "cell_type": "code",
   "execution_count": 3,
   "metadata": {},
   "outputs": [],
   "source": [
    "# build a look up table for los angeles\n",
    "# extract out zip codes\n",
    "zipcode = [k.split(';')[0] for k in la_region_id['region'] if k.split(';')[0].isdigit()]\n",
    "idx = [idx for idx,k in enumerate(la_region_id['region']) if k.split(';')[0].isdigit()]\n",
    "la_lookup = la_region_id.loc[idx]\n",
    "la_lookup['zipcode'] = zipcode\n",
    "\n",
    "# transform zip codes to lat long\n",
    "nomi = pgeocode.Nominatim('us')\n",
    "def get_lat_long(zipcode):\n",
    "    vals = nomi.query_postal_code(zipcode)\n",
    "    return vals['latitude'], vals['longitude']\n",
    "\n",
    "lat_long_raw = [get_lat_long(k) for k in la_lookup['zipcode']]\n",
    "lat_long_insert =np.array([np.array(xi) for xi in lat_long_raw])\n",
    "\n",
    "la_lookup['latitude'] = lat_long_insert[:,0]\n",
    "la_lookup['longitude'] = lat_long_insert[:,1]\n"
   ]
  },
  {
   "cell_type": "code",
   "execution_count": null,
   "metadata": {},
   "outputs": [],
   "source": [
    "# build median home values across all zip codes using quandl API\n",
    "quandl.ApiConfig.api_key = 'wX4VKujcwjcKqguwo1hR'\n",
    "df = pd.DataFrame()\n",
    "for region_id, zipcode in zip(la_lookup['region_id'],la_lookup['zipcode']):\n",
    "    data = quandl.get_table('ZILLOW/DATA', indicator_id='ZSFH', region_id=str(region_id))\n",
    "    data['date'] = data['date'].astype('datetime64[M]')\n",
    "    data['value'] = data['value']/10**6\n",
    "    group_data = data.groupby(by=['date']).aggregate('median').rename(columns = {'value':zipcode})\n",
    "    df = pd.concat([df, group_data], axis=1)\n",
    "    \n",
    "df.reset_index(inplace=True)\n",
    "\n",
    "pct_df = df.loc[:,(df.columns != 'date')].pct_change(axis=0,periods=12)\n",
    "pct_df = pd.concat([pct_df,df['date']],axis=1)\n"
   ]
  },
  {
   "cell_type": "code",
   "execution_count": null,
   "metadata": {},
   "outputs": [],
   "source": [
    "# bokeh plotting \n",
    "from bokeh.plotting import figure\n",
    "from bokeh.io import output_file,show\n",
    "from bokeh.models import HoverTool, CategoricalColorMapper, ColumnDataSource\n",
    "from bokeh.models.widgets import Tabs, Panel\n",
    "\n",
    "source = ColumnDataSource(df)\n",
    "\n",
    "p = figure(title = 'SFH house price', x_axis_type = 'datetime', \n",
    "           x_axis_label = 'Date', y_axis_label = 'House price in millions (USD)')\n",
    "\n",
    "p.circle('date', '90047', source=source, size =3, color = 'red', legend_label='Westmont')\n",
    "p.circle('date', '90010', source=source, size =3,color = 'blue')\n",
    "p.circle('date', '90005', source=source, size =3,color = 'blue')\n",
    "p.circle('date', '90007', source=source, size =3,color = 'green', legend_label='North USC')\n",
    "p.circle('date', '90006', source=source, size =3,color = 'blue', legend_label='Koreatown')\n",
    "p.legend.location = \"top_left\"\n",
    "\n",
    "source = ColumnDataSource(pct_df)\n",
    "p1 = figure(title = 'SFH house price', x_axis_type = 'datetime', \n",
    "           x_axis_label = 'Date', y_axis_label = 'Yearly percent change in house price')\n",
    "p1.circle('date', '90047', source=source, size =3, color = 'red', legend_label = 'Westmont')\n",
    "p1.circle('date', '90010', source=source, size =3,color = 'blue')\n",
    "p1.circle('date', '90005', source=source, size =3,color = 'blue')\n",
    "p1.circle('date', '90007', source=source, size =3,color = 'green', legend_label='North USC')\n",
    "p1.circle('date', '90006', source=source, size =3,color = 'blue', legend_label = 'Koreatown')\n",
    "p1.legend.location = \"top_left\"\n",
    "\n",
    "tab1 = Panel(child=p, title='Median home values')\n",
    "tab2 = Panel(child=p1, title='Yearly percent change')\n",
    "\n",
    "# Create a Tabs layout: layout\n",
    "layout = Tabs(tabs=[tab1, tab2])\n",
    "show(layout)"
   ]
  },
  {
   "cell_type": "code",
   "execution_count": 17,
   "metadata": {},
   "outputs": [],
   "source": [
    "from bokeh.plotting import figure\n",
    "from bokeh.io import output_file,show\n",
    "from bokeh.models import HoverTool, ColumnDataSource, CustomJS\n",
    "from bokeh.models.widgets import Tabs, Panel\n",
    "from bokeh.layouts import row\n",
    "\n",
    "s1 = ColumnDataSource(la_lookup)\n",
    "p1 = figure(x_axis_label = 'latitude', y_axis_label = 'longitude',tools=\"lasso_select\")\n",
    "p1.circle('latitude','longitude',source=s1,size=2)\n",
    "\n",
    "s2 = ColumnDataSource(data=dict(x=[], y=[]))\n",
    "p2 = figure(x_axis_label = 'test')\n",
    "p2.circle('x', 'y', source=s2, alpha=0.6)\n",
    "s1.selected.js_on_change('indices', CustomJS(args=dict(s1=s1, s2=s2), code=\"\"\"\n",
    "        var inds = cb_obj.indices;\n",
    "        var d1 = s1.data;\n",
    "        var d2 = s2.data;\n",
    "        d2['x'] = []\n",
    "        d2['y'] = []\n",
    "        for (var i = 0; i < inds.length; i++) {\n",
    "            d2['x'].push(d1['x'][inds[i]])\n",
    "            d2['y'].push(d1['y'][inds[i]])\n",
    "        }\n",
    "        s2.change.emit();\n",
    "    \"\"\")\n",
    ")\n",
    "\n",
    "layout = row(p1, p2)\n",
    "\n",
    "show(layout)"
   ]
  },
  {
   "cell_type": "code",
   "execution_count": 10,
   "metadata": {
    "scrolled": true
   },
   "outputs": [
    {
     "data": {
      "text/plain": [
       "(361, 6)"
      ]
     },
     "execution_count": 10,
     "metadata": {},
     "output_type": "execute_result"
    }
   ],
   "source": []
  },
  {
   "cell_type": "code",
   "execution_count": null,
   "metadata": {
    "scrolled": false
   },
   "outputs": [],
   "source": [
    "import dash\n",
    "from jupyter_dash import JupyterDash\n",
    "import dash_core_components as dcc\n",
    "import dash_html_components as html\n",
    "from dash.dependencies import Input, Output\n",
    "\n",
    "scatter_df = df.set_index('date').transpose()\n",
    "scatter_df = pd.concat([scatter_df, la_lookup.set_index('zipcode')], axis=1, sort=False)\n",
    "scatter_df.drop(columns = ['region_id', 'region_type','region'], inplace=True)\n",
    "\n",
    "time_idx = [idx for idx, k in enumerate(scatter_df.columns) if type(k) == type(pd.to_datetime(dt.now()))]\n",
    "sel_dates = scatter_df.columns[time_idx]\n",
    "keys = [val for idx, val in enumerate(sel_dates) if ((idx+1)/6).is_integer()]\n",
    "values = [str(val.month) + '/' + str(val.year) for val in keys]\n",
    "res = {keys[i]: values[i] for i in range(len(keys))} \n",
    "\n",
    "\n",
    "slim_df = scatter_df[res.keys()]\n",
    "slim_df = pd.concat([slim_df, la_lookup.set_index('zipcode')], axis=1, sort=False)\n",
    "slim_df.drop(columns = ['region_id', 'region_type','region'], inplace=True)\n",
    "slim_df = slim_df.rename(columns = res)\n",
    "res = {values[i]: values[i] for i in range(len(values))} \n",
    "\n",
    "app = JupyterDash(__name__)\n",
    "# app = dash.Dash(__name__)\n",
    "\n",
    "app.layout = html.Div([\n",
    "    dcc.Slider(\n",
    "        id='year-slider',\n",
    "        min=values[0],\n",
    "        max=values[-1],\n",
    "        value=values[0],\n",
    "        step=None,\n",
    "        marks=res),\n",
    "    dcc.Graph(id='graph-with-slider')\n",
    "\n",
    "])\n",
    "\n",
    "@app.callback(\n",
    "    Output('graph-with-slider', 'figure'),\n",
    "    [Input('year-slider', 'value')])\n",
    "def update_figure(selected_year):\n",
    "    year = str(selected_year)\n",
    "#     year = pd.to_datetime(selected_year)\n",
    "#     selected_df = scatter_df[[year,'latitude','longitude']].dropna()\n",
    "#     selected_df[year] = selected_df[year]/10\n",
    "    selected_df = slim_df[[year,'latitude','longitude']].dropna()\n",
    "    selected_df[year] = selected_df[year]/10\n",
    "    fig = px.scatter_mapbox(selected_df, lat=\"latitude\", \n",
    "                            lon=\"longitude\", \n",
    "                            hover_data=[selected_df.index],\n",
    "                            size = year)\n",
    "\n",
    "    fig.update_layout(mapbox_style='open-street-map',transition_duration=500)\n",
    "    \n",
    "    return fig\n",
    "# \n",
    "# app.run_server(debug=True)\n",
    "app.run_server(mode='inline')"
   ]
  },
  {
   "cell_type": "code",
   "execution_count": null,
   "metadata": {},
   "outputs": [],
   "source": [
    "slim_df['6/1996']"
   ]
  },
  {
   "cell_type": "code",
   "execution_count": null,
   "metadata": {},
   "outputs": [],
   "source": [
    "\n",
    "import dash\n",
    "import dash_core_components as dcc\n",
    "import dash_html_components as html\n",
    "from dash.dependencies import Input, Output\n",
    "\n",
    "\n",
    "time_idx = [idx for idx, k in enumerate(scatter_df.columns) if type(k) == type(pd.to_datetime(dt.now()))]\n",
    "sel_dates = scatter_df.columns[time_idx]\n",
    "\n",
    "external_stylesheets = ['https://codepen.io/chriddyp/pen/bWLwgP.css']\n",
    "\n",
    "app = dash.Dash(__name__, external_stylesheets=external_stylesheets)\n",
    "\n",
    "\n",
    "app.layout = html.Div([\n",
    "    dcc.Graph(id='graph-with-slider'),\n",
    "    dcc.Slider(\n",
    "        id='year-slider',\n",
    "        min=sel_dates.min(),\n",
    "        max=sel_dates.max(),\n",
    "        value=sel_dates.min(),\n",
    "        marks={str(year): str(year) for year in sel_dates.unique()},\n",
    "        step=None\n",
    "    )\n",
    "])\n",
    "\n",
    "\n",
    "@app.callback(\n",
    "    Output('graph-with-slider', 'figure'),\n",
    "    [Input('year-slider', 'value')])\n",
    "\n",
    "def update_figure(selected_year):\n",
    "    \n",
    "    fig = px.scatter_mapbox(scatter_df, lat=\"latitude\", lon=\"longitude\", hover_data=[scatter_df.index], size =selected_year)\n",
    "    fig.update_layout(mapbox_style='open-street-map',transition_duration=500)\n",
    "    \n",
    "    return fig\n",
    "\n",
    "\n",
    "app.run_server(debug=True)"
   ]
  },
  {
   "cell_type": "code",
   "execution_count": null,
   "metadata": {},
   "outputs": [],
   "source": [
    "{str(year): str(year) for year in sel_dates.unique()}"
   ]
  },
  {
   "cell_type": "markdown",
   "metadata": {},
   "source": [
    "# Plotting"
   ]
  },
  {
   "cell_type": "code",
   "execution_count": null,
   "metadata": {},
   "outputs": [],
   "source": []
  },
  {
   "cell_type": "code",
   "execution_count": null,
   "metadata": {},
   "outputs": [],
   "source": []
  },
  {
   "cell_type": "code",
   "execution_count": null,
   "metadata": {},
   "outputs": [],
   "source": []
  }
 ],
 "metadata": {
  "kernelspec": {
   "display_name": "Python 3",
   "language": "python",
   "name": "python3"
  },
  "language_info": {
   "codemirror_mode": {
    "name": "ipython",
    "version": 3
   },
   "file_extension": ".py",
   "mimetype": "text/x-python",
   "name": "python",
   "nbconvert_exporter": "python",
   "pygments_lexer": "ipython3",
   "version": "3.7.6"
  }
 },
 "nbformat": 4,
 "nbformat_minor": 4
}
