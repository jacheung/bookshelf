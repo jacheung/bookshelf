{
 "cells": [
  {
   "cell_type": "markdown",
   "metadata": {},
   "source": [
    "## Building an ARIMA model \n"
   ]
  },
  {
   "cell_type": "code",
   "execution_count": null,
   "metadata": {},
   "outputs": [],
   "source": [
    "import pandas as pd\n",
    "import os\n",
    "import numpy as np\n",
    "import seaborn as sns\n",
    "import matplotlib.pyplot as plt\n",
    "from matplotlib.gridspec import GridSpec\n",
    "\n",
    "from statsmodels.tsa.arima.model import ARIMA\n",
    "from statsmodels.tsa.statespace.sarimax import SARIMAX\n",
    "import pmdarima as pm\n",
    "from statsmodels.tsa import stattools"
   ]
  },
  {
   "cell_type": "code",
   "execution_count": null,
   "metadata": {},
   "outputs": [],
   "source": [
    "# load your dataset\n",
    "data_dir = os.path.join(os.getcwd(), 'data_files')\n",
    "\n",
    "target_df = pd.read_csv(os.path.join(data_dir, 'targets.csv'), parse_dates=['USAGE_DATE'], index_col='USAGE_DATE')\n",
    "predictor_df = pd.read_csv(os.path.join(data_dir, 'predictors.csv'), parse_dates=['USAGE_DATE'], index_col='USAGE_DATE')\n",
    "predictor_df['Holiday'] = predictor_df['Holiday'].astype(int)\n",
    "\n",
    "df = target_df.join(predictor_df).sort_index(ascending=True)"
   ]
  },
  {
   "cell_type": "code",
   "execution_count": null,
   "metadata": {},
   "outputs": [],
   "source": [
    "# identify whether target series is stationary by checking acf plot\n",
    "def acf_plots(data, nlags, seasonal_m):\n",
    "    acf_values = []\n",
    "    for k in np.arange(0,nlags+1):\n",
    "        acf_values.append(data.diff(seasonal_m).dropna().autocorr(lag=k))\n",
    "    acf_5cv = 1.96/np.sqrt(len(df['SoCal_TOTAL']) - np.arange(0, nlags+1))\n",
    "    pacf_values = stattools.pacf(data, nlags=nlags)\n",
    "    \n",
    "    print(len(acf_values), len(pacf_values))\n",
    "    \n",
    "    fig = plt.figure(figsize=(10, 8))\n",
    "    gs = GridSpec(2, 2, figure=fig)\n",
    "    ax1 = fig.add_subplot(gs[0, :])\n",
    "    ax2 = fig.add_subplot(gs[1, 0])\n",
    "    ax3 = fig.add_subplot(gs[1, 1])\n",
    "\n",
    "    sns.lineplot(data=data, ax=ax1)\n",
    "\n",
    "    pd.plotting.autocorrelation_plot(data, ax=ax2)\n",
    "    ax2.set_title('Original ACF'), ax2.set_ylim([-1, 1]), ax2.set_xlim([0, nlags])\n",
    "\n",
    "    sns.lineplot(data=pacf_values, ax=ax3)\n",
    "    ax3.plot(np.arange(0, nlags+1), acf_5cv, 'k--')\n",
    "    ax3.plot(np.arange(0, nlags+1), acf_5cv*-1, 'k--')\n",
    "    ax3.set_title('PACF'), ax3.set_xlabel('Lag'), ax3.set_xlim([0, nlags])\n",
    "\n",
    "    plt.tight_layout(), plt.show()\n",
    "    \n",
    "    marks_df = pd.DataFrame({'ACF': acf_values,\n",
    "                             'PACF': pacf_values,\n",
    "                             '5CV': acf_5cv,})\n",
    "    \n",
    "    adf_p = stattools.adfuller(data)[1]\n",
    "    print('stationary if sig:', adf_p)\n",
    "    return marks_df"
   ]
  },
  {
   "cell_type": "code",
   "execution_count": null,
   "metadata": {},
   "outputs": [],
   "source": [
    "acf_plots(df['SoCal_TOTAL'], nlags=100, seasonal_m=365) #not sig\n",
    "seasonal_diff =df['SoCal_TOTAL'].diff(365).dropna()\n",
    "marks_df = acf_plots(seasonal_diff, nlags=100, seasonal_m=365) #sig"
   ]
  },
  {
   "cell_type": "code",
   "execution_count": null,
   "metadata": {
    "scrolled": true
   },
   "outputs": [],
   "source": [
    "np.diff(marks_df.index[marks_df['PACF']>marks_df['5CV']]).cumsum()"
   ]
  },
  {
   "cell_type": "code",
   "execution_count": null,
   "metadata": {},
   "outputs": [],
   "source": [
    "# find D via Canova Hanson test to minimize search params for auto_arima seasonal component\n",
    "pm.arima.utils.nsdiffs(df['SoCal_TOTAL'], \n",
    "                      m=365,\n",
    "                      max_D=12,\n",
    "                      test='ch')"
   ]
  },
  {
   "cell_type": "code",
   "execution_count": null,
   "metadata": {
    "scrolled": true
   },
   "outputs": [],
   "source": [
    "# NOTE: Seasonal order cannot exceed 200. For daily data with yearly seasonality (i.e. m=365) \n",
    "# seasonality needs to be resolve via FFT added on top of an ARIMA process\n",
    "# see note in https://robjhyndman.com/hyndsight/longseasonality/\n",
    "\n",
    "df_test = df[df.index >= pd.to_datetime('4/15/21')] \n",
    "df_train = df[df.index < pd.to_datetime('4/15/21')]\n",
    "arima_fit = pm.auto_arima(df_train['SoCal_TOTAL'], \n",
    "                          start_p=25, max_p=33,\n",
    "                          d=0, \n",
    "                          seasonal=True, m=30,\n",
    "                          start_P=3, max_P=7,\n",
    "                          D=1, \n",
    "                          stepwise=True)\n",
    "arima_fit.summary()"
   ]
  },
  {
   "cell_type": "code",
   "execution_count": null,
   "metadata": {},
   "outputs": [],
   "source": [
    "days_to_forecast = pd.date_range(start=df_train.index.max(), end = df_train.index.max() + pd.DateOffset(months=6), freq='1d')\n",
    "predictions = pd.DataFrame({'ARIMA_predict': arima_fit.predict(len(days_to_forecast))})\n",
    "predictions.index=days_to_forecast\n",
    "\n",
    "compare_df = pd.concat([df_test['SoCal_TOTAL'], predictions], axis=1).rename(columns={'SoCal_TOTAL': 'Test'})\n",
    "sns.lineplot(data=df_train['SoCal_TOTAL'], color='k', label='Train')\n",
    "sns.lineplot(data=compare_df, )\n",
    "plt.xlim([df_train.index.max() - pd.DateOffset(months=1), predictions.index.max()])\n",
    "plt.show()"
   ]
  },
  {
   "cell_type": "code",
   "execution_count": null,
   "metadata": {},
   "outputs": [],
   "source": [
    "# transform target data to stationary\n",
    "\n",
    "lb_test = sm.stats.acorr_ljungbox(df[forecast_column+'_residuals'], lags=[27])\n",
    "\n",
    "df['SoCal_TOTAL']"
   ]
  }
 ],
 "metadata": {
  "kernelspec": {
   "display_name": "Python 3",
   "language": "python",
   "name": "python3"
  },
  "language_info": {
   "codemirror_mode": {
    "name": "ipython",
    "version": 3
   },
   "file_extension": ".py",
   "mimetype": "text/x-python",
   "name": "python",
   "nbconvert_exporter": "python",
   "pygments_lexer": "ipython3",
   "version": "3.8.5"
  }
 },
 "nbformat": 4,
 "nbformat_minor": 4
}
