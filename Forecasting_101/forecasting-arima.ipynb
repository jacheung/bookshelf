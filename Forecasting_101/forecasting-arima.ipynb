{
 "cells": [
  {
   "cell_type": "markdown",
   "metadata": {},
   "source": [
    "## Building an ARIMA model \n",
    "General steps for forecasting using ARMA models:\n",
    "- Plot the data and identify any unusual observations.\n",
    "- If necessary, transform the data (using a Box-Cox transformation) to stabilise the variance.\n",
    "- If the data are non-stationary, take first differences of the data until the data are stationary.\n",
    "- Examine the ACF/PACF: is an ARIMA (p,d,0) or ARIMA (0,d,q) model appropriate? \n",
    "- Try chosen model(s), and use the AICc to search for a better mdoel\n",
    "- Check residuals from chosen model by plotting the ACF of the residuals, and doing a portmanteau test of the residuals. If they do not look like white noise, try modified model\n",
    "- Once residuals look like white noise, calculate forecasts. "
   ]
  },
  {
   "cell_type": "code",
   "execution_count": 1,
   "metadata": {},
   "outputs": [],
   "source": [
    "import pandas as pd\n",
    "import os\n",
    "import numpy as np\n",
    "import seaborn as sns\n",
    "import matplotlib.pyplot as plt\n",
    "from matplotlib.gridspec import GridSpec\n",
    "\n",
    "from statsmodels.tsa.arima.model import ARIMA\n",
    "from statsmodels.tsa.statespace.sarimax import SARIMAX\n",
    "import pmdarima as pm\n",
    "from statsmodels.tsa import stattools"
   ]
  },
  {
   "cell_type": "code",
   "execution_count": 2,
   "metadata": {},
   "outputs": [],
   "source": [
    "def patch_missing_dates(df):\n",
    "    missing = pd.date_range(start=df.index.min(),  end=df.index.max()).difference(df.index)\n",
    "    df = df.reindex(pd.date_range(start=df.index.min(), end=df.index.max()),method='ffill')\n",
    "    if not missing.empty:\n",
    "        print('dates missing:', missing)\n",
    "        print('filling with forward fill - propagating last valid observation to next')\n",
    "    return df \n"
   ]
  },
  {
   "cell_type": "code",
   "execution_count": 5,
   "metadata": {},
   "outputs": [],
   "source": [
    "# load your dataset\n",
    "data_dir = os.path.join(os.getcwd(), 'data_files')\n",
    "\n",
    "target_df = pd.read_csv(os.path.join(data_dir, 'targets.csv'), parse_dates=['USAGE_DATE'], index_col='USAGE_DATE')\n",
    "predictor_df = pd.read_csv(os.path.join(data_dir, 'predictors.csv'), parse_dates=['USAGE_DATE'], index_col='USAGE_DATE')\n",
    "predictor_df['Holiday'] = predictor_df['Holiday'].astype(int)\n",
    "\n",
    "df = pd.DataFrame(target_df['SoCal_TOTAL']).join(predictor_df).sort_index(ascending=True)\n",
    "train_df = df[df.index<pd.to_datetime('3/1/21')]\n",
    "test_df = df[df.index>=pd.to_datetime('3/1/21')]"
   ]
  },
  {
   "cell_type": "code",
   "execution_count": 6,
   "metadata": {},
   "outputs": [
    {
     "name": "stdout",
     "output_type": "stream",
     "text": [
      "dates missing: DatetimeIndex(['2017-04-12', '2018-08-08'], dtype='datetime64[ns]', freq=None)\n",
      "filling with forward fill - propagating last valid observation to next\n"
     ]
    }
   ],
   "source": [
    "region = 'SoCal' # can be SD or SoCal\n",
    "# recapitulating vbDLFM with lags\n",
    "targets_train = train_df[region+ '_TOTAL']\n",
    "targets_test = test_df[region+ '_TOTAL']\n",
    "predictors_train = train_df[[region + '_HDD',region + '_t-1_HDD', region + '_t-2_HDD',region + '_t-3_HDD',\n",
    "                 region + '_CDD',region + '_t-1_CDD', \n",
    "                 region+'_HDD_7', region + '_t-1_HDD_7','Holiday']]\n",
    "\n",
    "predictors_test = test_df[[region + '_HDD',region + '_t-1_HDD', region + '_t-2_HDD',region + '_t-3_HDD',\n",
    "                 region + '_CDD',region + '_t-1_CDD', \n",
    "                 region+'_HDD_7', region + '_t-1_HDD_7','Holiday']]\n",
    "\n",
    "# fixnan dates\n",
    "predictors_train = patch_missing_dates(predictors_train.dropna()).asfreq('D')\n",
    "predictors_test = patch_missing_dates(predictors_test.dropna().asfreq('D'))\n"
   ]
  },
  {
   "cell_type": "code",
   "execution_count": 21,
   "metadata": {
    "scrolled": false
   },
   "outputs": [
    {
     "data": {
      "text/html": [
       "<table class=\"simpletable\">\n",
       "<caption>SARIMAX Results</caption>\n",
       "<tr>\n",
       "  <th>Dep. Variable:</th>      <td>SoCal_TOTAL</td>   <th>  No. Observations:  </th>   <td>1765</td>   \n",
       "</tr>\n",
       "<tr>\n",
       "  <th>Model:</th>           <td>SARIMAX(1, 0, 0)</td> <th>  Log Likelihood     </th> <td>-9322.420</td>\n",
       "</tr>\n",
       "<tr>\n",
       "  <th>Date:</th>            <td>Fri, 06 Aug 2021</td> <th>  AIC                </th> <td>18666.839</td>\n",
       "</tr>\n",
       "<tr>\n",
       "  <th>Time:</th>                <td>13:36:07</td>     <th>  BIC                </th> <td>18727.074</td>\n",
       "</tr>\n",
       "<tr>\n",
       "  <th>Sample:</th>             <td>05-01-2016</td>    <th>  HQIC               </th> <td>18689.096</td>\n",
       "</tr>\n",
       "<tr>\n",
       "  <th></th>                   <td>- 02-28-2021</td>   <th>                     </th>     <td> </td>    \n",
       "</tr>\n",
       "<tr>\n",
       "  <th>Covariance Type:</th>        <td>opg</td>       <th>                     </th>     <td> </td>    \n",
       "</tr>\n",
       "</table>\n",
       "<table class=\"simpletable\">\n",
       "<tr>\n",
       "         <td></td>            <th>coef</th>     <th>std err</th>      <th>z</th>      <th>P>|z|</th>  <th>[0.025</th>    <th>0.975]</th>  \n",
       "</tr>\n",
       "<tr>\n",
       "  <th>SoCal_HDD</th>       <td>   26.1753</td> <td>    0.704</td> <td>   37.207</td> <td> 0.000</td> <td>   24.796</td> <td>   27.554</td>\n",
       "</tr>\n",
       "<tr>\n",
       "  <th>SoCal_t-1_HDD</th>   <td>   15.6043</td> <td>    0.803</td> <td>   19.428</td> <td> 0.000</td> <td>   14.030</td> <td>   17.178</td>\n",
       "</tr>\n",
       "<tr>\n",
       "  <th>SoCal_t-2_HDD</th>   <td>    3.8372</td> <td>    0.474</td> <td>    8.100</td> <td> 0.000</td> <td>    2.909</td> <td>    4.766</td>\n",
       "</tr>\n",
       "<tr>\n",
       "  <th>SoCal_t-3_HDD</th>   <td>    1.0361</td> <td>    0.472</td> <td>    2.196</td> <td> 0.028</td> <td>    0.112</td> <td>    1.961</td>\n",
       "</tr>\n",
       "<tr>\n",
       "  <th>SoCal_CDD</th>       <td>   -3.4895</td> <td>    1.152</td> <td>   -3.028</td> <td> 0.002</td> <td>   -5.748</td> <td>   -1.231</td>\n",
       "</tr>\n",
       "<tr>\n",
       "  <th>SoCal_t-1_CDD</th>   <td>   -2.1150</td> <td>    1.230</td> <td>   -1.719</td> <td> 0.086</td> <td>   -4.526</td> <td>    0.296</td>\n",
       "</tr>\n",
       "<tr>\n",
       "  <th>SoCal_HDD_7</th>     <td>   24.3958</td> <td>    1.064</td> <td>   22.931</td> <td> 0.000</td> <td>   22.311</td> <td>   26.481</td>\n",
       "</tr>\n",
       "<tr>\n",
       "  <th>SoCal_t-1_HDD_7</th> <td>   -0.2288</td> <td>    1.180</td> <td>   -0.194</td> <td> 0.846</td> <td>   -2.542</td> <td>    2.085</td>\n",
       "</tr>\n",
       "<tr>\n",
       "  <th>Holiday</th>         <td>    5.9776</td> <td>    3.581</td> <td>    1.669</td> <td> 0.095</td> <td>   -1.041</td> <td>   12.996</td>\n",
       "</tr>\n",
       "<tr>\n",
       "  <th>ar.L1</th>           <td>    0.9979</td> <td>    0.001</td> <td>  760.607</td> <td> 0.000</td> <td>    0.995</td> <td>    1.001</td>\n",
       "</tr>\n",
       "<tr>\n",
       "  <th>sigma2</th>          <td> 2258.8795</td> <td>   38.830</td> <td>   58.174</td> <td> 0.000</td> <td> 2182.775</td> <td> 2334.984</td>\n",
       "</tr>\n",
       "</table>\n",
       "<table class=\"simpletable\">\n",
       "<tr>\n",
       "  <th>Ljung-Box (L1) (Q):</th>     <td>31.19</td> <th>  Jarque-Bera (JB):  </th> <td>3636.81</td>\n",
       "</tr>\n",
       "<tr>\n",
       "  <th>Prob(Q):</th>                <td>0.00</td>  <th>  Prob(JB):          </th>  <td>0.00</td>  \n",
       "</tr>\n",
       "<tr>\n",
       "  <th>Heteroskedasticity (H):</th> <td>1.47</td>  <th>  Skew:              </th>  <td>0.40</td>  \n",
       "</tr>\n",
       "<tr>\n",
       "  <th>Prob(H) (two-sided):</th>    <td>0.00</td>  <th>  Kurtosis:          </th>  <td>9.99</td>  \n",
       "</tr>\n",
       "</table><br/><br/>Warnings:<br/>[1] Covariance matrix calculated using the outer product of gradients (complex-step)."
      ],
      "text/plain": [
       "<class 'statsmodels.iolib.summary.Summary'>\n",
       "\"\"\"\n",
       "                               SARIMAX Results                                \n",
       "==============================================================================\n",
       "Dep. Variable:            SoCal_TOTAL   No. Observations:                 1765\n",
       "Model:               SARIMAX(1, 0, 0)   Log Likelihood               -9322.420\n",
       "Date:                Fri, 06 Aug 2021   AIC                          18666.839\n",
       "Time:                        13:36:07   BIC                          18727.074\n",
       "Sample:                    05-01-2016   HQIC                         18689.096\n",
       "                         - 02-28-2021                                         \n",
       "Covariance Type:                  opg                                         \n",
       "===================================================================================\n",
       "                      coef    std err          z      P>|z|      [0.025      0.975]\n",
       "-----------------------------------------------------------------------------------\n",
       "SoCal_HDD          26.1753      0.704     37.207      0.000      24.796      27.554\n",
       "SoCal_t-1_HDD      15.6043      0.803     19.428      0.000      14.030      17.178\n",
       "SoCal_t-2_HDD       3.8372      0.474      8.100      0.000       2.909       4.766\n",
       "SoCal_t-3_HDD       1.0361      0.472      2.196      0.028       0.112       1.961\n",
       "SoCal_CDD          -3.4895      1.152     -3.028      0.002      -5.748      -1.231\n",
       "SoCal_t-1_CDD      -2.1150      1.230     -1.719      0.086      -4.526       0.296\n",
       "SoCal_HDD_7        24.3958      1.064     22.931      0.000      22.311      26.481\n",
       "SoCal_t-1_HDD_7    -0.2288      1.180     -0.194      0.846      -2.542       2.085\n",
       "Holiday             5.9776      3.581      1.669      0.095      -1.041      12.996\n",
       "ar.L1               0.9979      0.001    760.607      0.000       0.995       1.001\n",
       "sigma2           2258.8795     38.830     58.174      0.000    2182.775    2334.984\n",
       "===================================================================================\n",
       "Ljung-Box (L1) (Q):                  31.19   Jarque-Bera (JB):              3636.81\n",
       "Prob(Q):                              0.00   Prob(JB):                         0.00\n",
       "Heteroskedasticity (H):               1.47   Skew:                             0.40\n",
       "Prob(H) (two-sided):                  0.00   Kurtosis:                         9.99\n",
       "===================================================================================\n",
       "\n",
       "Warnings:\n",
       "[1] Covariance matrix calculated using the outer product of gradients (complex-step).\n",
       "\"\"\""
      ]
     },
     "execution_count": 21,
     "metadata": {},
     "output_type": "execute_result"
    }
   ],
   "source": [
    "# smax = SARIMAX(endog=targets_train, exog=predictors_train, freq='D', \n",
    "#                order=(2, 1, 1), seasonal_order=(0,0,0,0),\n",
    "#               mle_regression=True).fit(maxiter=200)\n",
    "smax = SARIMAX(endog=targets_train, exog=predictors_train, freq='D', \n",
    "              mle_regression=True).fit(maxiter=200)\n",
    "smax.summary()"
   ]
  },
  {
   "cell_type": "code",
   "execution_count": 22,
   "metadata": {},
   "outputs": [
    {
     "data": {
      "text/plain": [
       "{'fopt': 5.281824111402651,\n",
       " 'gopt': array([ 4.97060171e-06,  1.97974970e-06, -6.67643718e-07,  6.35047570e-08,\n",
       "        -3.42899042e-06,  2.33999486e-06,  2.03970174e-06,  3.16777715e-06,\n",
       "        -1.22852839e-06,  9.22151244e-06, -7.68540786e-07]),\n",
       " 'fcalls': 372,\n",
       " 'warnflag': 0,\n",
       " 'converged': True,\n",
       " 'iterations': 24}"
      ]
     },
     "execution_count": 22,
     "metadata": {},
     "output_type": "execute_result"
    }
   ],
   "source": [
    "smax.mle_retvals"
   ]
  },
  {
   "cell_type": "code",
   "execution_count": 9,
   "metadata": {},
   "outputs": [
    {
     "data": {
      "text/html": [
       "<table class=\"simpletable\">\n",
       "<caption>SARIMAX Results</caption>\n",
       "<tr>\n",
       "  <th>Dep. Variable:</th>           <td>y</td>        <th>  No. Observations:  </th>   <td>1765</td>   \n",
       "</tr>\n",
       "<tr>\n",
       "  <th>Model:</th>           <td>SARIMAX(2, 1, 1)</td> <th>  Log Likelihood     </th> <td>-9168.397</td>\n",
       "</tr>\n",
       "<tr>\n",
       "  <th>Date:</th>            <td>Fri, 06 Aug 2021</td> <th>  AIC                </th> <td>18362.795</td>\n",
       "</tr>\n",
       "<tr>\n",
       "  <th>Time:</th>                <td>13:28:18</td>     <th>  BIC                </th> <td>18433.974</td>\n",
       "</tr>\n",
       "<tr>\n",
       "  <th>Sample:</th>             <td>05-01-2016</td>    <th>  HQIC               </th> <td>18389.097</td>\n",
       "</tr>\n",
       "<tr>\n",
       "  <th></th>                   <td>- 02-28-2021</td>   <th>                     </th>     <td> </td>    \n",
       "</tr>\n",
       "<tr>\n",
       "  <th>Covariance Type:</th>        <td>opg</td>       <th>                     </th>     <td> </td>    \n",
       "</tr>\n",
       "</table>\n",
       "<table class=\"simpletable\">\n",
       "<tr>\n",
       "         <td></td>            <th>coef</th>     <th>std err</th>      <th>z</th>      <th>P>|z|</th>  <th>[0.025</th>    <th>0.975]</th>  \n",
       "</tr>\n",
       "<tr>\n",
       "  <th>SoCal_HDD</th>       <td>   26.9956</td> <td>    0.680</td> <td>   39.672</td> <td> 0.000</td> <td>   25.662</td> <td>   28.329</td>\n",
       "</tr>\n",
       "<tr>\n",
       "  <th>SoCal_t-1_HDD</th>   <td>   16.1481</td> <td>    0.823</td> <td>   19.620</td> <td> 0.000</td> <td>   14.535</td> <td>   17.761</td>\n",
       "</tr>\n",
       "<tr>\n",
       "  <th>SoCal_t-2_HDD</th>   <td>    5.0159</td> <td>    0.474</td> <td>   10.575</td> <td> 0.000</td> <td>    4.086</td> <td>    5.946</td>\n",
       "</tr>\n",
       "<tr>\n",
       "  <th>SoCal_t-3_HDD</th>   <td>    2.4769</td> <td>    0.460</td> <td>    5.380</td> <td> 0.000</td> <td>    1.574</td> <td>    3.379</td>\n",
       "</tr>\n",
       "<tr>\n",
       "  <th>SoCal_CDD</th>       <td>   -3.7576</td> <td>    1.321</td> <td>   -2.844</td> <td> 0.004</td> <td>   -6.347</td> <td>   -1.168</td>\n",
       "</tr>\n",
       "<tr>\n",
       "  <th>SoCal_t-1_CDD</th>   <td>   -2.4159</td> <td>    0.989</td> <td>   -2.444</td> <td> 0.015</td> <td>   -4.353</td> <td>   -0.478</td>\n",
       "</tr>\n",
       "<tr>\n",
       "  <th>SoCal_HDD_7</th>     <td>   24.6795</td> <td>    1.067</td> <td>   23.126</td> <td> 0.000</td> <td>   22.588</td> <td>   26.771</td>\n",
       "</tr>\n",
       "<tr>\n",
       "  <th>SoCal_t-1_HDD_7</th> <td>    0.7454</td> <td>    1.192</td> <td>    0.625</td> <td> 0.532</td> <td>   -1.592</td> <td>    3.082</td>\n",
       "</tr>\n",
       "<tr>\n",
       "  <th>Holiday</th>         <td>    5.7090</td> <td>    3.979</td> <td>    1.435</td> <td> 0.151</td> <td>   -2.090</td> <td>   13.508</td>\n",
       "</tr>\n",
       "<tr>\n",
       "  <th>ar.L1</th>           <td>    0.5360</td> <td>    0.022</td> <td>   24.893</td> <td> 0.000</td> <td>    0.494</td> <td>    0.578</td>\n",
       "</tr>\n",
       "<tr>\n",
       "  <th>ar.L2</th>           <td>   -0.1522</td> <td>    0.018</td> <td>   -8.621</td> <td> 0.000</td> <td>   -0.187</td> <td>   -0.118</td>\n",
       "</tr>\n",
       "<tr>\n",
       "  <th>ma.L1</th>           <td>   -0.8212</td> <td>    0.018</td> <td>  -46.676</td> <td> 0.000</td> <td>   -0.856</td> <td>   -0.787</td>\n",
       "</tr>\n",
       "<tr>\n",
       "  <th>sigma2</th>          <td> 1905.5387</td> <td>   33.518</td> <td>   56.852</td> <td> 0.000</td> <td> 1839.845</td> <td> 1971.232</td>\n",
       "</tr>\n",
       "</table>\n",
       "<table class=\"simpletable\">\n",
       "<tr>\n",
       "  <th>Ljung-Box (L1) (Q):</th>     <td>0.01</td> <th>  Jarque-Bera (JB):  </th> <td>3062.74</td>\n",
       "</tr>\n",
       "<tr>\n",
       "  <th>Prob(Q):</th>                <td>0.91</td> <th>  Prob(JB):          </th>  <td>0.00</td>  \n",
       "</tr>\n",
       "<tr>\n",
       "  <th>Heteroskedasticity (H):</th> <td>1.41</td> <th>  Skew:              </th>  <td>0.37</td>  \n",
       "</tr>\n",
       "<tr>\n",
       "  <th>Prob(H) (two-sided):</th>    <td>0.00</td> <th>  Kurtosis:          </th>  <td>9.41</td>  \n",
       "</tr>\n",
       "</table><br/><br/>Warnings:<br/>[1] Covariance matrix calculated using the outer product of gradients (complex-step)."
      ],
      "text/plain": [
       "<class 'statsmodels.iolib.summary.Summary'>\n",
       "\"\"\"\n",
       "                               SARIMAX Results                                \n",
       "==============================================================================\n",
       "Dep. Variable:                      y   No. Observations:                 1765\n",
       "Model:               SARIMAX(2, 1, 1)   Log Likelihood               -9168.397\n",
       "Date:                Fri, 06 Aug 2021   AIC                          18362.795\n",
       "Time:                        13:28:18   BIC                          18433.974\n",
       "Sample:                    05-01-2016   HQIC                         18389.097\n",
       "                         - 02-28-2021                                         \n",
       "Covariance Type:                  opg                                         \n",
       "===================================================================================\n",
       "                      coef    std err          z      P>|z|      [0.025      0.975]\n",
       "-----------------------------------------------------------------------------------\n",
       "SoCal_HDD          26.9956      0.680     39.672      0.000      25.662      28.329\n",
       "SoCal_t-1_HDD      16.1481      0.823     19.620      0.000      14.535      17.761\n",
       "SoCal_t-2_HDD       5.0159      0.474     10.575      0.000       4.086       5.946\n",
       "SoCal_t-3_HDD       2.4769      0.460      5.380      0.000       1.574       3.379\n",
       "SoCal_CDD          -3.7576      1.321     -2.844      0.004      -6.347      -1.168\n",
       "SoCal_t-1_CDD      -2.4159      0.989     -2.444      0.015      -4.353      -0.478\n",
       "SoCal_HDD_7        24.6795      1.067     23.126      0.000      22.588      26.771\n",
       "SoCal_t-1_HDD_7     0.7454      1.192      0.625      0.532      -1.592       3.082\n",
       "Holiday             5.7090      3.979      1.435      0.151      -2.090      13.508\n",
       "ar.L1               0.5360      0.022     24.893      0.000       0.494       0.578\n",
       "ar.L2              -0.1522      0.018     -8.621      0.000      -0.187      -0.118\n",
       "ma.L1              -0.8212      0.018    -46.676      0.000      -0.856      -0.787\n",
       "sigma2           1905.5387     33.518     56.852      0.000    1839.845    1971.232\n",
       "===================================================================================\n",
       "Ljung-Box (L1) (Q):                   0.01   Jarque-Bera (JB):              3062.74\n",
       "Prob(Q):                              0.91   Prob(JB):                         0.00\n",
       "Heteroskedasticity (H):               1.41   Skew:                             0.37\n",
       "Prob(H) (two-sided):                  0.00   Kurtosis:                         9.41\n",
       "===================================================================================\n",
       "\n",
       "Warnings:\n",
       "[1] Covariance matrix calculated using the outer product of gradients (complex-step).\n",
       "\"\"\""
      ]
     },
     "execution_count": 9,
     "metadata": {},
     "output_type": "execute_result"
    }
   ],
   "source": [
    "arima_fit = pm.auto_arima(y=targets_train, X=predictors_train, seasonal=True)\n",
    "arima_fit.summary()"
   ]
  },
  {
   "cell_type": "code",
   "execution_count": 23,
   "metadata": {},
   "outputs": [
    {
     "data": {
      "image/png": "[encoded data removed]",
      "text/plain": [
       "<Figure size 864x576 with 1 Axes>"
      ]
     },
     "metadata": {
      "needs_background": "light"
     },
     "output_type": "display_data"
    }
   ],
   "source": [
    "pred_means =smax.predict(test_df.index.min(), test_df.index.max(), exog=predictors_test, full_results=True, alpha=0.05)\n",
    "\n",
    "# You can then plot it (import matplotlib first)\n",
    "fig = plt.figure(figsize=(12, 8))\n",
    "ax = fig.add_subplot(1,1,1)\n",
    "#Actual data\n",
    "ax.plot(test_df['SoCal_TOTAL'].astype('float64'), '--', color=\"blue\", label='data')\n",
    "# Means\n",
    "ax.plot(pred_means, lw=1, color=\"black\", alpha=0.5, label='SARIMAX')\n",
    "ax.legend(loc='upper right')\n",
    "plt.draw()"
   ]
  },
  {
   "cell_type": "code",
   "execution_count": null,
   "metadata": {},
   "outputs": [],
   "source": [
    "pct_errors = (1-(pred_means/test_df['SoCal_TOTAL']))*100\n",
    "\n"
   ]
  },
  {
   "cell_type": "code",
   "execution_count": null,
   "metadata": {},
   "outputs": [],
   "source": [
    "# identify whether target series is stationary by checking acf plot\n",
    "def acf_plots(data, nlags, seasonal_m):\n",
    "    acf_values = []\n",
    "    for k in np.arange(0,nlags+1):\n",
    "        acf_values.append(data.diff(seasonal_m).dropna().autocorr(lag=k))\n",
    "    acf_5cv = 1.96/np.sqrt(len(df['SoCal_TOTAL']) - np.arange(0, nlags+1))\n",
    "    pacf_values = stattools.pacf(data, nlags=nlags)\n",
    "    \n",
    "    print(len(acf_values), len(pacf_values))\n",
    "    \n",
    "    fig = plt.figure(figsize=(10, 8))\n",
    "    gs = GridSpec(2, 2, figure=fig)\n",
    "    ax1 = fig.add_subplot(gs[0, :])\n",
    "    ax2 = fig.add_subplot(gs[1, 0])\n",
    "    ax3 = fig.add_subplot(gs[1, 1])\n",
    "\n",
    "    sns.lineplot(data=data, ax=ax1)\n",
    "\n",
    "    pd.plotting.autocorrelation_plot(data, ax=ax2)\n",
    "    ax2.set_title('Original ACF'), ax2.set_ylim([-1, 1]), ax2.set_xlim([0, nlags])\n",
    "\n",
    "    sns.lineplot(data=pacf_values, ax=ax3)\n",
    "    ax3.plot(np.arange(0, nlags+1), acf_5cv, 'k--')\n",
    "    ax3.plot(np.arange(0, nlags+1), acf_5cv*-1, 'k--')\n",
    "    ax3.set_title('PACF'), ax3.set_xlabel('Lag'), ax3.set_xlim([0, nlags])\n",
    "\n",
    "    plt.tight_layout(), plt.show()\n",
    "    \n",
    "    marks_df = pd.DataFrame({'ACF': acf_values,\n",
    "                             'PACF': pacf_values,\n",
    "                             '5CV': acf_5cv,})\n",
    "    \n",
    "    adf_p = stattools.adfuller(data)[1]\n",
    "    print('stationary if sig:', adf_p)\n",
    "    return marks_df"
   ]
  },
  {
   "cell_type": "code",
   "execution_count": null,
   "metadata": {},
   "outputs": [],
   "source": [
    "acf_plots(df['SoCal_TOTAL'], nlags=100, seasonal_m=365) #not sig\n",
    "seasonal_diff =df['SoCal_TOTAL'].diff(365).dropna()\n",
    "marks_df = acf_plots(seasonal_diff, nlags=100, seasonal_m=365) #sig"
   ]
  },
  {
   "cell_type": "code",
   "execution_count": null,
   "metadata": {
    "scrolled": true
   },
   "outputs": [],
   "source": [
    "np.diff(marks_df.index[marks_df['PACF']>marks_df['5CV']]).cumsum()"
   ]
  },
  {
   "cell_type": "code",
   "execution_count": null,
   "metadata": {},
   "outputs": [],
   "source": [
    "# find D via Canova Hanson test to minimize search params for auto_arima seasonal component\n",
    "pm.arima.utils.nsdiffs(df['SoCal_TOTAL'], \n",
    "                      m=365,\n",
    "                      max_D=12,\n",
    "                      test='ch')"
   ]
  },
  {
   "cell_type": "code",
   "execution_count": null,
   "metadata": {
    "scrolled": true
   },
   "outputs": [],
   "source": [
    "# NOTE: Seasonal order cannot exceed 200. For daily data with yearly seasonality (i.e. m=365) \n",
    "# seasonality needs to be resolve via FFT added on top of an ARIMA process\n",
    "# see note in https://robjhyndman.com/hyndsight/longseasonality/\n",
    "\n",
    "df_test = df[df.index >= pd.to_datetime('4/15/21')] \n",
    "df_train = df[df.index < pd.to_datetime('4/15/21')]\n",
    "arima_fit = pm.auto_arima(df_train['SoCal_TOTAL'], \n",
    "                          start_p=25, max_p=33,\n",
    "                          d=0, \n",
    "                          seasonal=True, m=30,\n",
    "                          start_P=3, max_P=7,\n",
    "                          D=1, \n",
    "                          stepwise=True)\n",
    "arima_fit.summary()"
   ]
  },
  {
   "cell_type": "code",
   "execution_count": null,
   "metadata": {},
   "outputs": [],
   "source": [
    "days_to_forecast = pd.date_range(start=df_train.index.max(), end = df_train.index.max() + pd.DateOffset(months=6), freq='1d')\n",
    "predictions = pd.DataFrame({'ARIMA_predict': arima_fit.predict(len(days_to_forecast))})\n",
    "predictions.index=days_to_forecast\n",
    "\n",
    "compare_df = pd.concat([df_test['SoCal_TOTAL'], predictions], axis=1).rename(columns={'SoCal_TOTAL': 'Test'})\n",
    "sns.lineplot(data=df_train['SoCal_TOTAL'], color='k', label='Train')\n",
    "sns.lineplot(data=compare_df, )\n",
    "plt.xlim([df_train.index.max() - pd.DateOffset(months=1), predictions.index.max()])\n",
    "plt.show()"
   ]
  },
  {
   "cell_type": "code",
   "execution_count": null,
   "metadata": {},
   "outputs": [],
   "source": [
    "# transform target data to stationary\n",
    "\n",
    "lb_test = sm.stats.acorr_ljungbox(df[forecast_column+'_residuals'], lags=[27])\n",
    "\n",
    "df['SoCal_TOTAL']"
   ]
  }
 ],
 "metadata": {
  "kernelspec": {
   "display_name": "Python 3",
   "language": "python",
   "name": "python3"
  },
  "language_info": {
   "codemirror_mode": {
    "name": "ipython",
    "version": 3
   },
   "file_extension": ".py",
   "mimetype": "text/x-python",
   "name": "python",
   "nbconvert_exporter": "python",
   "pygments_lexer": "ipython3",
   "version": "3.8.5"
  }
 },
 "nbformat": 4,
 "nbformat_minor": 4
}
